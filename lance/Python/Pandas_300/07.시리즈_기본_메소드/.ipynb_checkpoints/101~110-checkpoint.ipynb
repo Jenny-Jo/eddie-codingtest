{
 "cells": [
  {
   "cell_type": "code",
   "execution_count": 1,
   "id": "ad4e9656",
   "metadata": {},
   "outputs": [],
   "source": [
    "import pandas as pd\n",
    "from pandas import Series"
   ]
  },
  {
   "cell_type": "markdown",
   "id": "88b4f7ae",
   "metadata": {},
   "source": [
    "### 101. 시리즈 sum 메소드"
   ]
  },
  {
   "cell_type": "markdown",
   "id": "2062e311",
   "metadata": {},
   "source": [
    "삼성전자의 종가 시리즈를 사용해서 종가의 합을 출력하세요.\n",
    "\n",
    "from pandas import Series \n",
    "\n",
    "data = {  \n",
    "    \"2020-12-11\": 73400,  \n",
    "    \"2020-12-10\": 72900,  \n",
    "    \"2020-12-09\": 73900,  \n",
    "    \"2020-12-08\": 71700,  \n",
    "    \"2020-12-07\": 72900  \n",
    "}  \n",
    "s = Series(data)  "
   ]
  },
  {
   "cell_type": "code",
   "execution_count": 2,
   "id": "2ec09eaf",
   "metadata": {},
   "outputs": [
    {
     "data": {
      "text/plain": [
       "364800"
      ]
     },
     "execution_count": 2,
     "metadata": {},
     "output_type": "execute_result"
    }
   ],
   "source": [
    "data = {\n",
    "    \"2020-12-11\": 73400,\n",
    "    \"2020-12-10\": 72900,\n",
    "    \"2020-12-09\": 73900,\n",
    "    \"2020-12-08\": 71700,\n",
    "    \"2020-12-07\": 72900\n",
    "}\n",
    "s = Series(data)\n",
    "s.sum()"
   ]
  },
  {
   "cell_type": "markdown",
   "id": "d2c4f0d7",
   "metadata": {},
   "source": [
    "### 102. 시리즈 mean 메소드"
   ]
  },
  {
   "cell_type": "markdown",
   "id": "7fae3eda",
   "metadata": {},
   "source": [
    "삼성전자의 종가의 평균을 시리즈로 출력하세요.\n",
    "\n",
    "from pandas import Series \n",
    "\n",
    "data = {  \n",
    "    \"2020-12-11\": 73400,  \n",
    "    \"2020-12-10\": 72900,  \n",
    "    \"2020-12-09\": 73900,  \n",
    "    \"2020-12-08\": 71700,  \n",
    "    \"2020-12-07\": 72900  \n",
    "}  \n",
    "s = Series(data)"
   ]
  },
  {
   "cell_type": "code",
   "execution_count": 3,
   "id": "cec868c6",
   "metadata": {},
   "outputs": [
    {
     "data": {
      "text/plain": [
       "72960.0"
      ]
     },
     "execution_count": 3,
     "metadata": {},
     "output_type": "execute_result"
    }
   ],
   "source": [
    "data = {\n",
    "    \"2020-12-11\": 73400,\n",
    "    \"2020-12-10\": 72900,\n",
    "    \"2020-12-09\": 73900,\n",
    "    \"2020-12-08\": 71700,\n",
    "    \"2020-12-07\": 72900\n",
    "}\n",
    "s = Series(data)\n",
    "s.mean()"
   ]
  },
  {
   "cell_type": "markdown",
   "id": "426b256b",
   "metadata": {},
   "source": [
    "### 103. 시리즈 min/max 메소드"
   ]
  },
  {
   "cell_type": "markdown",
   "id": "18457f72",
   "metadata": {},
   "source": [
    "다음은 삼성전자의 종가 데이터입니다.\n",
    "\n",
    "from pandas import Series \n",
    "\n",
    "data = {  \n",
    "    \"2020-12-11\": 73400,  \n",
    "    \"2020-12-10\": 72900,  \n",
    "    \"2020-12-09\": 73900,  \n",
    "    \"2020-12-08\": 71700,  \n",
    "    \"2020-12-07\": 72900  \n",
    "}\n",
    "\n",
    "s = Series(data)  \n",
    "삼성전자 종가 데이터의 최댓값과 최솟값을 출력하세요."
   ]
  },
  {
   "cell_type": "code",
   "execution_count": 4,
   "id": "0d73aa43",
   "metadata": {},
   "outputs": [
    {
     "name": "stdout",
     "output_type": "stream",
     "text": [
      "71700\n",
      "73900\n"
     ]
    }
   ],
   "source": [
    "data = {\n",
    "    \"2020-12-11\": 73400,\n",
    "    \"2020-12-10\": 72900,\n",
    "    \"2020-12-09\": 73900,\n",
    "    \"2020-12-08\": 71700,\n",
    "    \"2020-12-07\": 72900\n",
    "}\n",
    "\n",
    "s = Series(data)\n",
    "print(s.min())\n",
    "print(s.max())"
   ]
  },
  {
   "cell_type": "code",
   "execution_count": 5,
   "id": "83c706b7",
   "metadata": {},
   "outputs": [
    {
     "data": {
      "text/plain": [
       "2020-12-11    73400\n",
       "2020-12-10    72900\n",
       "2020-12-09    73900\n",
       "2020-12-08    71700\n",
       "2020-12-07    72900\n",
       "dtype: int64"
      ]
     },
     "execution_count": 5,
     "metadata": {},
     "output_type": "execute_result"
    }
   ],
   "source": [
    "s"
   ]
  },
  {
   "cell_type": "code",
   "execution_count": 6,
   "id": "aefe5ced",
   "metadata": {},
   "outputs": [
    {
     "data": {
      "text/plain": [
       "Index(['2020-12-11', '2020-12-10', '2020-12-09', '2020-12-08', '2020-12-07'], dtype='object')"
      ]
     },
     "execution_count": 6,
     "metadata": {},
     "output_type": "execute_result"
    }
   ],
   "source": [
    "s.index"
   ]
  },
  {
   "cell_type": "markdown",
   "id": "1b0bde68",
   "metadata": {},
   "source": [
    "### 104. 시리즈 pct_change"
   ]
  },
  {
   "cell_type": "markdown",
   "id": "b74cbcd9",
   "metadata": {},
   "source": [
    "삼성전자의 종가 데이터로 일별 상승률을 시리즈로 출력하세요.\n",
    "\n",
    "from pandas import Series \n",
    "\n",
    "data = {  \n",
    "    \"2020-12-11\": 73400,  \n",
    "    \"2020-12-10\": 72900,  \n",
    "    \"2020-12-09\": 73900,  \n",
    "    \"2020-12-08\": 71700,  \n",
    "    \"2020-12-07\": 72900  \n",
    "}\n",
    "\n",
    "s = Series(data)"
   ]
  },
  {
   "cell_type": "code",
   "execution_count": 7,
   "id": "e15d85eb",
   "metadata": {},
   "outputs": [
    {
     "data": {
      "text/plain": [
       "2020-12-11         NaN\n",
       "2020-12-10   -0.006812\n",
       "2020-12-09    0.013717\n",
       "2020-12-08   -0.029770\n",
       "2020-12-07    0.016736\n",
       "dtype: float64"
      ]
     },
     "execution_count": 7,
     "metadata": {},
     "output_type": "execute_result"
    }
   ],
   "source": [
    "data = {\n",
    "    \"2020-12-11\": 73400,\n",
    "    \"2020-12-10\": 72900,\n",
    "    \"2020-12-09\": 73900,\n",
    "    \"2020-12-08\": 71700,\n",
    "    \"2020-12-07\": 72900\n",
    "}\n",
    "\n",
    "s = Series(data)\n",
    "\n",
    "s.pct_change()"
   ]
  },
  {
   "cell_type": "code",
   "execution_count": 8,
   "id": "751d857d",
   "metadata": {},
   "outputs": [
    {
     "data": {
      "text/plain": [
       "2020-12-11         NaN\n",
       "2020-12-10   -0.006812\n",
       "2020-12-09    0.013717\n",
       "2020-12-08   -0.029770\n",
       "2020-12-07    0.016736\n",
       "dtype: float64"
      ]
     },
     "execution_count": 8,
     "metadata": {},
     "output_type": "execute_result"
    }
   ],
   "source": [
    "s / s.shift(1) - 1"
   ]
  },
  {
   "cell_type": "markdown",
   "id": "4dcc93b2",
   "metadata": {},
   "source": [
    "### 105. 시리즈 product 메소드"
   ]
  },
  {
   "cell_type": "markdown",
   "id": "f9768e8d",
   "metadata": {},
   "source": [
    "다음은 일별 수익률을 배(ratio)율로 표현한 데이터입니다. 각 거래일의 수익률을 모두 곱한 값을 출력하세요.\n",
    "\n",
    "날짜\t수익률  \n",
    "2020-12-11\t1.01  \n",
    "2020-12-10\t0.99  \n",
    "2020-12-09\t1.03  \n",
    "2020-12-08\t1.02  \n",
    "2020-12-07\t1  "
   ]
  },
  {
   "cell_type": "code",
   "execution_count": 10,
   "id": "4a74b515",
   "metadata": {
    "scrolled": true
   },
   "outputs": [
    {
     "name": "stdout",
     "output_type": "stream",
     "text": [
      "1.05049494\n"
     ]
    }
   ],
   "source": [
    "data = {\n",
    "    \"2020-12-11\": 1.01,\n",
    "    \"2020-12-10\": 0.99,\n",
    "    \"2020-12-09\": 1.03,\n",
    "    \"2020-12-08\": 1.02,\n",
    "    \"2020-12-07\": 1\n",
    "}\n",
    "\n",
    "s = Series(data)\n",
    "print(s.product())"
   ]
  },
  {
   "cell_type": "markdown",
   "id": "63855020",
   "metadata": {},
   "source": [
    "### 106. 시리즈 cummax/cummin"
   ]
  },
  {
   "cell_type": "code",
   "execution_count": 15,
   "id": "84db0c90",
   "metadata": {},
   "outputs": [
    {
     "data": {
      "text/plain": [
       "2020-12-11    1.01\n",
       "2020-12-10    0.99\n",
       "2020-12-09    1.03\n",
       "2020-12-08    1.02\n",
       "2020-12-07    1.00\n",
       "dtype: float64"
      ]
     },
     "execution_count": 15,
     "metadata": {},
     "output_type": "execute_result"
    }
   ],
   "source": [
    "s"
   ]
  },
  {
   "cell_type": "code",
   "execution_count": 11,
   "id": "158a9b1d",
   "metadata": {},
   "outputs": [
    {
     "data": {
      "text/plain": [
       "2020-12-11    1.01\n",
       "2020-12-10    1.01\n",
       "2020-12-09    1.03\n",
       "2020-12-08    1.03\n",
       "2020-12-07    1.03\n",
       "dtype: float64"
      ]
     },
     "execution_count": 11,
     "metadata": {},
     "output_type": "execute_result"
    }
   ],
   "source": [
    "s.cummax()"
   ]
  },
  {
   "cell_type": "code",
   "execution_count": 12,
   "id": "77c0c086",
   "metadata": {},
   "outputs": [
    {
     "data": {
      "text/plain": [
       "2020-12-11    1.01\n",
       "2020-12-10    0.99\n",
       "2020-12-09    0.99\n",
       "2020-12-08    0.99\n",
       "2020-12-07    0.99\n",
       "dtype: float64"
      ]
     },
     "execution_count": 12,
     "metadata": {},
     "output_type": "execute_result"
    }
   ],
   "source": [
    "s.cummin()"
   ]
  },
  {
   "cell_type": "markdown",
   "id": "1e5ec350",
   "metadata": {},
   "source": [
    "### 107. 시리즈 cumprod"
   ]
  },
  {
   "cell_type": "code",
   "execution_count": 16,
   "id": "ab24598d",
   "metadata": {},
   "outputs": [
    {
     "data": {
      "text/plain": [
       "2020-12-11    1.01\n",
       "2020-12-10    0.99\n",
       "2020-12-09    1.03\n",
       "2020-12-08    1.02\n",
       "2020-12-07    1.00\n",
       "dtype: float64"
      ]
     },
     "execution_count": 16,
     "metadata": {},
     "output_type": "execute_result"
    }
   ],
   "source": [
    "s"
   ]
  },
  {
   "cell_type": "code",
   "execution_count": 14,
   "id": "e4517058",
   "metadata": {},
   "outputs": [
    {
     "data": {
      "text/plain": [
       "2020-12-11    1.010000\n",
       "2020-12-10    0.999900\n",
       "2020-12-09    1.029897\n",
       "2020-12-08    1.050495\n",
       "2020-12-07    1.050495\n",
       "dtype: float64"
      ]
     },
     "execution_count": 14,
     "metadata": {},
     "output_type": "execute_result"
    }
   ],
   "source": [
    "s.cumprod()"
   ]
  },
  {
   "cell_type": "markdown",
   "id": "a68a93fd",
   "metadata": {},
   "source": [
    "### 108. 시리즈 rolling"
   ]
  },
  {
   "cell_type": "code",
   "execution_count": 17,
   "id": "2dae5979",
   "metadata": {},
   "outputs": [
    {
     "data": {
      "text/plain": [
       "2020-12-11    1.01\n",
       "2020-12-10    0.99\n",
       "2020-12-09    1.03\n",
       "2020-12-08    1.02\n",
       "2020-12-07    1.00\n",
       "dtype: float64"
      ]
     },
     "execution_count": 17,
     "metadata": {},
     "output_type": "execute_result"
    }
   ],
   "source": [
    "s"
   ]
  },
  {
   "cell_type": "code",
   "execution_count": 25,
   "id": "1c02d2bb",
   "metadata": {},
   "outputs": [
    {
     "data": {
      "text/plain": [
       "2020-12-11     NaN\n",
       "2020-12-10    2.00\n",
       "2020-12-09    2.02\n",
       "2020-12-08    2.05\n",
       "2020-12-07    2.02\n",
       "dtype: float64"
      ]
     },
     "execution_count": 25,
     "metadata": {},
     "output_type": "execute_result"
    }
   ],
   "source": [
    "s.rolling(window=2).sum()"
   ]
  }
 ],
 "metadata": {
  "kernelspec": {
   "display_name": "Python 3 (ipykernel)",
   "language": "python",
   "name": "python3"
  },
  "language_info": {
   "codemirror_mode": {
    "name": "ipython",
    "version": 3
   },
   "file_extension": ".py",
   "mimetype": "text/x-python",
   "name": "python",
   "nbconvert_exporter": "python",
   "pygments_lexer": "ipython3",
   "version": "3.10.9"
  }
 },
 "nbformat": 4,
 "nbformat_minor": 5
}
