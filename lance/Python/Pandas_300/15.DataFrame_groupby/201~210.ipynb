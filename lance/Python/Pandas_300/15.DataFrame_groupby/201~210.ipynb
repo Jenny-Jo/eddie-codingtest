{
 "cells": [
  {
   "cell_type": "code",
   "execution_count": 1,
   "id": "6eea3282",
   "metadata": {},
   "outputs": [],
   "source": [
    "import pandas as pd\n",
    "import numpy as np\n",
    "from pandas import DataFrame"
   ]
  },
  {
   "cell_type": "markdown",
   "id": "564cba73",
   "metadata": {},
   "source": [
    "### 201. DataFrame.groupby mean"
   ]
  },
  {
   "cell_type": "markdown",
   "id": "719227ae",
   "metadata": {},
   "source": [
    "다음 데이터프레임에서 테마별 PER, PBR의 평균을 계산하세요.\n",
    "\n",
    "data = [  \n",
    "    [\"2차전지(생산)\", \"SK이노베이션\", 10.19, 1.29],  \n",
    "    [\"해운\", \"팬오션\", 21.23, 0.95],  \n",
    "    [\"시스템반도체\", \"티엘아이\", 35.97, 1.12],  \n",
    "    [\"해운\", \"HMM\", 21.52, 3.20],  \n",
    "    [\"시스템반도체\", \"아이에이\", 37.32, 3.55],  \n",
    "    [\"2차전지(생산)\", \"LG화학\", 83.06, 3.75]  \n",
    "]  \n",
    "\n",
    "columns = [\"테마\", \"종목명\", \"PER\", \"PBR\"]  \n",
    "df = pd.DataFrame(data=data, columns=columns)  "
   ]
  },
  {
   "cell_type": "code",
   "execution_count": 4,
   "id": "64e60157",
   "metadata": {},
   "outputs": [
    {
     "name": "stderr",
     "output_type": "stream",
     "text": [
      "/var/folders/lm/0qgrycpj4y52760rt_gw40q00000gn/T/ipykernel_36436/559569964.py:13: FutureWarning: The default value of numeric_only in DataFrameGroupBy.mean is deprecated. In a future version, numeric_only will default to False. Either specify numeric_only or select only columns which should be valid for the function.\n",
      "  df.groupby('테마').mean()\n"
     ]
    },
    {
     "data": {
      "text/html": [
       "<div>\n",
       "<style scoped>\n",
       "    .dataframe tbody tr th:only-of-type {\n",
       "        vertical-align: middle;\n",
       "    }\n",
       "\n",
       "    .dataframe tbody tr th {\n",
       "        vertical-align: top;\n",
       "    }\n",
       "\n",
       "    .dataframe thead th {\n",
       "        text-align: right;\n",
       "    }\n",
       "</style>\n",
       "<table border=\"1\" class=\"dataframe\">\n",
       "  <thead>\n",
       "    <tr style=\"text-align: right;\">\n",
       "      <th></th>\n",
       "      <th>PER</th>\n",
       "      <th>PBR</th>\n",
       "    </tr>\n",
       "    <tr>\n",
       "      <th>테마</th>\n",
       "      <th></th>\n",
       "      <th></th>\n",
       "    </tr>\n",
       "  </thead>\n",
       "  <tbody>\n",
       "    <tr>\n",
       "      <th>2차전지(생산)</th>\n",
       "      <td>46.625</td>\n",
       "      <td>2.520</td>\n",
       "    </tr>\n",
       "    <tr>\n",
       "      <th>시스템반도체</th>\n",
       "      <td>36.645</td>\n",
       "      <td>2.335</td>\n",
       "    </tr>\n",
       "    <tr>\n",
       "      <th>해운</th>\n",
       "      <td>21.375</td>\n",
       "      <td>2.075</td>\n",
       "    </tr>\n",
       "  </tbody>\n",
       "</table>\n",
       "</div>"
      ],
      "text/plain": [
       "             PER    PBR\n",
       "테마                     \n",
       "2차전지(생산)  46.625  2.520\n",
       "시스템반도체    36.645  2.335\n",
       "해운        21.375  2.075"
      ]
     },
     "execution_count": 4,
     "metadata": {},
     "output_type": "execute_result"
    }
   ],
   "source": [
    "data = [\n",
    "    [\"2차전지(생산)\", \"SK이노베이션\", 10.19, 1.29],\n",
    "    [\"해운\", \"팬오션\", 21.23, 0.95],\n",
    "    [\"시스템반도체\", \"티엘아이\", 35.97, 1.12],\n",
    "    [\"해운\", \"HMM\", 21.52, 3.20],\n",
    "    [\"시스템반도체\", \"아이에이\", 37.32, 3.55],\n",
    "    [\"2차전지(생산)\", \"LG화학\", 83.06, 3.75]\n",
    "]\n",
    "\n",
    "columns = [\"테마\", \"종목명\", \"PER\", \"PBR\"]\n",
    "df = pd.DataFrame(data=data, columns=columns)\n",
    "\n",
    "df.groupby('테마').mean()"
   ]
  },
  {
   "cell_type": "markdown",
   "id": "1a36b815",
   "metadata": {},
   "source": [
    "### 202. DataFrame.groupby max, min"
   ]
  },
  {
   "cell_type": "markdown",
   "id": "bad44d52",
   "metadata": {},
   "source": [
    "위 데이터프레임에서 테마별 PER, PBR의 최대, 최소값을 계산하세요.\n",
    "\n",
    "data = [  \n",
    "    [\"2차전지(생산)\", \"SK이노베이션\", 10.19, 1.29],  \n",
    "    [\"해운\", \"팬오션\", 21.23, 0.95],  \n",
    "    [\"시스템반도체\", \"티엘아이\", 35.97, 1.12],  \n",
    "    [\"해운\", \"HMM\", 21.52, 3.20],  \n",
    "    [\"시스템반도체\", \"아이에이\", 37.32, 3.55],  \n",
    "    [\"2차전지(생산)\", \"LG화학\", 83.06, 3.75]  \n",
    "]  \n",
    "\n",
    "columns = [\"테마\", \"종목명\", \"PER\", \"PBR\"]  \n",
    "df = pd.DataFrame(data=data, columns=columns)"
   ]
  },
  {
   "cell_type": "code",
   "execution_count": 6,
   "id": "12b3ad2b",
   "metadata": {},
   "outputs": [
    {
     "data": {
      "text/html": [
       "<div>\n",
       "<style scoped>\n",
       "    .dataframe tbody tr th:only-of-type {\n",
       "        vertical-align: middle;\n",
       "    }\n",
       "\n",
       "    .dataframe tbody tr th {\n",
       "        vertical-align: top;\n",
       "    }\n",
       "\n",
       "    .dataframe thead th {\n",
       "        text-align: right;\n",
       "    }\n",
       "</style>\n",
       "<table border=\"1\" class=\"dataframe\">\n",
       "  <thead>\n",
       "    <tr style=\"text-align: right;\">\n",
       "      <th></th>\n",
       "      <th>PER</th>\n",
       "      <th>PBR</th>\n",
       "    </tr>\n",
       "    <tr>\n",
       "      <th>테마</th>\n",
       "      <th></th>\n",
       "      <th></th>\n",
       "    </tr>\n",
       "  </thead>\n",
       "  <tbody>\n",
       "    <tr>\n",
       "      <th>2차전지(생산)</th>\n",
       "      <td>10.19</td>\n",
       "      <td>1.29</td>\n",
       "    </tr>\n",
       "    <tr>\n",
       "      <th>시스템반도체</th>\n",
       "      <td>35.97</td>\n",
       "      <td>1.12</td>\n",
       "    </tr>\n",
       "    <tr>\n",
       "      <th>해운</th>\n",
       "      <td>21.23</td>\n",
       "      <td>0.95</td>\n",
       "    </tr>\n",
       "  </tbody>\n",
       "</table>\n",
       "</div>"
      ],
      "text/plain": [
       "            PER   PBR\n",
       "테마                   \n",
       "2차전지(생산)  10.19  1.29\n",
       "시스템반도체    35.97  1.12\n",
       "해운        21.23  0.95"
      ]
     },
     "execution_count": 6,
     "metadata": {},
     "output_type": "execute_result"
    }
   ],
   "source": [
    "data = [\n",
    "    [\"2차전지(생산)\", \"SK이노베이션\", 10.19, 1.29],\n",
    "    [\"해운\", \"팬오션\", 21.23, 0.95],\n",
    "    [\"시스템반도체\", \"티엘아이\", 35.97, 1.12],\n",
    "    [\"해운\", \"HMM\", 21.52, 3.20],\n",
    "    [\"시스템반도체\", \"아이에이\", 37.32, 3.55],\n",
    "    [\"2차전지(생산)\", \"LG화학\", 83.06, 3.75]\n",
    "]\n",
    "\n",
    "columns = [\"테마\", \"종목명\", \"PER\", \"PBR\"]\n",
    "df = pd.DataFrame(data=data, columns=columns)\n",
    "\n",
    "df.groupby('테마').min('PER')"
   ]
  },
  {
   "cell_type": "code",
   "execution_count": 7,
   "id": "f6517b0c",
   "metadata": {},
   "outputs": [
    {
     "data": {
      "text/html": [
       "<div>\n",
       "<style scoped>\n",
       "    .dataframe tbody tr th:only-of-type {\n",
       "        vertical-align: middle;\n",
       "    }\n",
       "\n",
       "    .dataframe tbody tr th {\n",
       "        vertical-align: top;\n",
       "    }\n",
       "\n",
       "    .dataframe thead th {\n",
       "        text-align: right;\n",
       "    }\n",
       "</style>\n",
       "<table border=\"1\" class=\"dataframe\">\n",
       "  <thead>\n",
       "    <tr style=\"text-align: right;\">\n",
       "      <th></th>\n",
       "      <th>PER</th>\n",
       "      <th>PBR</th>\n",
       "    </tr>\n",
       "    <tr>\n",
       "      <th>테마</th>\n",
       "      <th></th>\n",
       "      <th></th>\n",
       "    </tr>\n",
       "  </thead>\n",
       "  <tbody>\n",
       "    <tr>\n",
       "      <th>2차전지(생산)</th>\n",
       "      <td>83.06</td>\n",
       "      <td>3.75</td>\n",
       "    </tr>\n",
       "    <tr>\n",
       "      <th>시스템반도체</th>\n",
       "      <td>37.32</td>\n",
       "      <td>3.55</td>\n",
       "    </tr>\n",
       "    <tr>\n",
       "      <th>해운</th>\n",
       "      <td>21.52</td>\n",
       "      <td>3.20</td>\n",
       "    </tr>\n",
       "  </tbody>\n",
       "</table>\n",
       "</div>"
      ],
      "text/plain": [
       "            PER   PBR\n",
       "테마                   \n",
       "2차전지(생산)  83.06  3.75\n",
       "시스템반도체    37.32  3.55\n",
       "해운        21.52  3.20"
      ]
     },
     "execution_count": 7,
     "metadata": {},
     "output_type": "execute_result"
    }
   ],
   "source": [
    "df.groupby('테마').max('PER')"
   ]
  },
  {
   "cell_type": "markdown",
   "id": "f6bc7db8",
   "metadata": {},
   "source": [
    "### 203. DataFrame.groupby size"
   ]
  },
  {
   "cell_type": "markdown",
   "id": "3630bf43",
   "metadata": {},
   "source": [
    "위 데이터프레임에서 테마별 종목의 개수를 계산하세요."
   ]
  },
  {
   "cell_type": "code",
   "execution_count": 10,
   "id": "878d3754",
   "metadata": {},
   "outputs": [
    {
     "data": {
      "text/plain": [
       "테마\n",
       "2차전지(생산)    2\n",
       "시스템반도체      2\n",
       "해운          2\n",
       "dtype: int64"
      ]
     },
     "execution_count": 10,
     "metadata": {},
     "output_type": "execute_result"
    }
   ],
   "source": [
    "df.groupby('테마').size()"
   ]
  },
  {
   "cell_type": "code",
   "execution_count": 11,
   "id": "f53a813b",
   "metadata": {},
   "outputs": [
    {
     "data": {
      "text/html": [
       "<div>\n",
       "<style scoped>\n",
       "    .dataframe tbody tr th:only-of-type {\n",
       "        vertical-align: middle;\n",
       "    }\n",
       "\n",
       "    .dataframe tbody tr th {\n",
       "        vertical-align: top;\n",
       "    }\n",
       "\n",
       "    .dataframe thead th {\n",
       "        text-align: right;\n",
       "    }\n",
       "</style>\n",
       "<table border=\"1\" class=\"dataframe\">\n",
       "  <thead>\n",
       "    <tr style=\"text-align: right;\">\n",
       "      <th></th>\n",
       "      <th>종목명</th>\n",
       "      <th>PER</th>\n",
       "      <th>PBR</th>\n",
       "    </tr>\n",
       "    <tr>\n",
       "      <th>테마</th>\n",
       "      <th></th>\n",
       "      <th></th>\n",
       "      <th></th>\n",
       "    </tr>\n",
       "  </thead>\n",
       "  <tbody>\n",
       "    <tr>\n",
       "      <th>2차전지(생산)</th>\n",
       "      <td>2</td>\n",
       "      <td>2</td>\n",
       "      <td>2</td>\n",
       "    </tr>\n",
       "    <tr>\n",
       "      <th>시스템반도체</th>\n",
       "      <td>2</td>\n",
       "      <td>2</td>\n",
       "      <td>2</td>\n",
       "    </tr>\n",
       "    <tr>\n",
       "      <th>해운</th>\n",
       "      <td>2</td>\n",
       "      <td>2</td>\n",
       "      <td>2</td>\n",
       "    </tr>\n",
       "  </tbody>\n",
       "</table>\n",
       "</div>"
      ],
      "text/plain": [
       "          종목명  PER  PBR\n",
       "테마                     \n",
       "2차전지(생산)    2    2    2\n",
       "시스템반도체      2    2    2\n",
       "해운          2    2    2"
      ]
     },
     "execution_count": 11,
     "metadata": {},
     "output_type": "execute_result"
    }
   ],
   "source": [
    "df.groupby('테마').count()"
   ]
  },
  {
   "cell_type": "markdown",
   "id": "57dc2bf7",
   "metadata": {},
   "source": [
    "### 204. DataFrame.groupby get_group"
   ]
  },
  {
   "cell_type": "markdown",
   "id": "f6ce9f59",
   "metadata": {},
   "source": [
    "위 데이터프레임을 '테마' 컬럼으로 그룹핑한 후 '2차전지(생산)' 그룹만 가져오세요"
   ]
  },
  {
   "cell_type": "code",
   "execution_count": 12,
   "id": "53a4e863",
   "metadata": {},
   "outputs": [
    {
     "data": {
      "text/html": [
       "<div>\n",
       "<style scoped>\n",
       "    .dataframe tbody tr th:only-of-type {\n",
       "        vertical-align: middle;\n",
       "    }\n",
       "\n",
       "    .dataframe tbody tr th {\n",
       "        vertical-align: top;\n",
       "    }\n",
       "\n",
       "    .dataframe thead th {\n",
       "        text-align: right;\n",
       "    }\n",
       "</style>\n",
       "<table border=\"1\" class=\"dataframe\">\n",
       "  <thead>\n",
       "    <tr style=\"text-align: right;\">\n",
       "      <th></th>\n",
       "      <th>테마</th>\n",
       "      <th>종목명</th>\n",
       "      <th>PER</th>\n",
       "      <th>PBR</th>\n",
       "    </tr>\n",
       "  </thead>\n",
       "  <tbody>\n",
       "    <tr>\n",
       "      <th>0</th>\n",
       "      <td>2차전지(생산)</td>\n",
       "      <td>SK이노베이션</td>\n",
       "      <td>10.19</td>\n",
       "      <td>1.29</td>\n",
       "    </tr>\n",
       "    <tr>\n",
       "      <th>5</th>\n",
       "      <td>2차전지(생산)</td>\n",
       "      <td>LG화학</td>\n",
       "      <td>83.06</td>\n",
       "      <td>3.75</td>\n",
       "    </tr>\n",
       "  </tbody>\n",
       "</table>\n",
       "</div>"
      ],
      "text/plain": [
       "         테마      종목명    PER   PBR\n",
       "0  2차전지(생산)  SK이노베이션  10.19  1.29\n",
       "5  2차전지(생산)     LG화학  83.06  3.75"
      ]
     },
     "execution_count": 12,
     "metadata": {},
     "output_type": "execute_result"
    }
   ],
   "source": [
    "df.groupby('테마').get_group('2차전지(생산)')"
   ]
  },
  {
   "cell_type": "markdown",
   "id": "54c2cba0",
   "metadata": {},
   "source": [
    "### 205. DataFrame groupby"
   ]
  },
  {
   "cell_type": "markdown",
   "id": "a8eff6a1",
   "metadata": {},
   "source": [
    "위 데이터프레임에서 테마별 PER의 평균을 계산하세요"
   ]
  },
  {
   "cell_type": "code",
   "execution_count": 18,
   "id": "22a7631a",
   "metadata": {},
   "outputs": [
    {
     "name": "stderr",
     "output_type": "stream",
     "text": [
      "/var/folders/lm/0qgrycpj4y52760rt_gw40q00000gn/T/ipykernel_36436/1353094585.py:1: FutureWarning: The default value of numeric_only in DataFrameGroupBy.mean is deprecated. In a future version, numeric_only will default to False. Either specify numeric_only or select only columns which should be valid for the function.\n",
      "  df.groupby('테마').mean()[['PER']]\n"
     ]
    },
    {
     "data": {
      "text/html": [
       "<div>\n",
       "<style scoped>\n",
       "    .dataframe tbody tr th:only-of-type {\n",
       "        vertical-align: middle;\n",
       "    }\n",
       "\n",
       "    .dataframe tbody tr th {\n",
       "        vertical-align: top;\n",
       "    }\n",
       "\n",
       "    .dataframe thead th {\n",
       "        text-align: right;\n",
       "    }\n",
       "</style>\n",
       "<table border=\"1\" class=\"dataframe\">\n",
       "  <thead>\n",
       "    <tr style=\"text-align: right;\">\n",
       "      <th></th>\n",
       "      <th>PER</th>\n",
       "    </tr>\n",
       "    <tr>\n",
       "      <th>테마</th>\n",
       "      <th></th>\n",
       "    </tr>\n",
       "  </thead>\n",
       "  <tbody>\n",
       "    <tr>\n",
       "      <th>2차전지(생산)</th>\n",
       "      <td>46.625</td>\n",
       "    </tr>\n",
       "    <tr>\n",
       "      <th>시스템반도체</th>\n",
       "      <td>36.645</td>\n",
       "    </tr>\n",
       "    <tr>\n",
       "      <th>해운</th>\n",
       "      <td>21.375</td>\n",
       "    </tr>\n",
       "  </tbody>\n",
       "</table>\n",
       "</div>"
      ],
      "text/plain": [
       "             PER\n",
       "테마              \n",
       "2차전지(생산)  46.625\n",
       "시스템반도체    36.645\n",
       "해운        21.375"
      ]
     },
     "execution_count": 18,
     "metadata": {},
     "output_type": "execute_result"
    }
   ],
   "source": [
    "df.groupby('테마').mean()[['PER']]"
   ]
  },
  {
   "cell_type": "markdown",
   "id": "69ed8a02",
   "metadata": {},
   "source": [
    "### 206. DataFrame.groupby 슬라이싱"
   ]
  },
  {
   "cell_type": "markdown",
   "id": "90748bda",
   "metadata": {},
   "source": [
    "위 데이터프레임에 대해 테마로 그룹화한 후 PER, PBR 컬럼을 슬라이싱하세요. 그 다음 두 컬럼에 대한 평균을 계산하세요."
   ]
  },
  {
   "cell_type": "code",
   "execution_count": 19,
   "id": "7d46aea4",
   "metadata": {},
   "outputs": [
    {
     "name": "stderr",
     "output_type": "stream",
     "text": [
      "/var/folders/lm/0qgrycpj4y52760rt_gw40q00000gn/T/ipykernel_36436/281089447.py:1: FutureWarning: The default value of numeric_only in DataFrameGroupBy.mean is deprecated. In a future version, numeric_only will default to False. Either specify numeric_only or select only columns which should be valid for the function.\n",
      "  df.groupby('테마').mean()[['PER', 'PBR']]\n"
     ]
    },
    {
     "data": {
      "text/html": [
       "<div>\n",
       "<style scoped>\n",
       "    .dataframe tbody tr th:only-of-type {\n",
       "        vertical-align: middle;\n",
       "    }\n",
       "\n",
       "    .dataframe tbody tr th {\n",
       "        vertical-align: top;\n",
       "    }\n",
       "\n",
       "    .dataframe thead th {\n",
       "        text-align: right;\n",
       "    }\n",
       "</style>\n",
       "<table border=\"1\" class=\"dataframe\">\n",
       "  <thead>\n",
       "    <tr style=\"text-align: right;\">\n",
       "      <th></th>\n",
       "      <th>PER</th>\n",
       "      <th>PBR</th>\n",
       "    </tr>\n",
       "    <tr>\n",
       "      <th>테마</th>\n",
       "      <th></th>\n",
       "      <th></th>\n",
       "    </tr>\n",
       "  </thead>\n",
       "  <tbody>\n",
       "    <tr>\n",
       "      <th>2차전지(생산)</th>\n",
       "      <td>46.625</td>\n",
       "      <td>2.520</td>\n",
       "    </tr>\n",
       "    <tr>\n",
       "      <th>시스템반도체</th>\n",
       "      <td>36.645</td>\n",
       "      <td>2.335</td>\n",
       "    </tr>\n",
       "    <tr>\n",
       "      <th>해운</th>\n",
       "      <td>21.375</td>\n",
       "      <td>2.075</td>\n",
       "    </tr>\n",
       "  </tbody>\n",
       "</table>\n",
       "</div>"
      ],
      "text/plain": [
       "             PER    PBR\n",
       "테마                     \n",
       "2차전지(생산)  46.625  2.520\n",
       "시스템반도체    36.645  2.335\n",
       "해운        21.375  2.075"
      ]
     },
     "execution_count": 19,
     "metadata": {},
     "output_type": "execute_result"
    }
   ],
   "source": [
    "df.groupby('테마').mean()[['PER', 'PBR']]"
   ]
  },
  {
   "cell_type": "markdown",
   "id": "96ab679b",
   "metadata": {},
   "source": [
    "### 207. DataFrame.groupby agg"
   ]
  },
  {
   "cell_type": "markdown",
   "id": "05e6afc4",
   "metadata": {},
   "source": [
    "위 데이터프레임에 대해서 '테마' 컬럼으로 그룹화한 후 max 함수를 적용하세요."
   ]
  },
  {
   "cell_type": "code",
   "execution_count": 21,
   "id": "089c55c4",
   "metadata": {},
   "outputs": [
    {
     "data": {
      "text/html": [
       "<div>\n",
       "<style scoped>\n",
       "    .dataframe tbody tr th:only-of-type {\n",
       "        vertical-align: middle;\n",
       "    }\n",
       "\n",
       "    .dataframe tbody tr th {\n",
       "        vertical-align: top;\n",
       "    }\n",
       "\n",
       "    .dataframe thead th {\n",
       "        text-align: right;\n",
       "    }\n",
       "</style>\n",
       "<table border=\"1\" class=\"dataframe\">\n",
       "  <thead>\n",
       "    <tr style=\"text-align: right;\">\n",
       "      <th></th>\n",
       "      <th>종목명</th>\n",
       "      <th>PER</th>\n",
       "      <th>PBR</th>\n",
       "    </tr>\n",
       "    <tr>\n",
       "      <th>테마</th>\n",
       "      <th></th>\n",
       "      <th></th>\n",
       "      <th></th>\n",
       "    </tr>\n",
       "  </thead>\n",
       "  <tbody>\n",
       "    <tr>\n",
       "      <th>2차전지(생산)</th>\n",
       "      <td>SK이노베이션</td>\n",
       "      <td>83.06</td>\n",
       "      <td>3.75</td>\n",
       "    </tr>\n",
       "    <tr>\n",
       "      <th>시스템반도체</th>\n",
       "      <td>티엘아이</td>\n",
       "      <td>37.32</td>\n",
       "      <td>3.55</td>\n",
       "    </tr>\n",
       "    <tr>\n",
       "      <th>해운</th>\n",
       "      <td>팬오션</td>\n",
       "      <td>21.52</td>\n",
       "      <td>3.20</td>\n",
       "    </tr>\n",
       "  </tbody>\n",
       "</table>\n",
       "</div>"
      ],
      "text/plain": [
       "              종목명    PER   PBR\n",
       "테마                            \n",
       "2차전지(생산)  SK이노베이션  83.06  3.75\n",
       "시스템반도체       티엘아이  37.32  3.55\n",
       "해운            팬오션  21.52  3.20"
      ]
     },
     "execution_count": 21,
     "metadata": {},
     "output_type": "execute_result"
    }
   ],
   "source": [
    "df.groupby('테마').agg('max')"
   ]
  },
  {
   "cell_type": "code",
   "execution_count": 22,
   "id": "443556cf",
   "metadata": {},
   "outputs": [
    {
     "data": {
      "text/html": [
       "<div>\n",
       "<style scoped>\n",
       "    .dataframe tbody tr th:only-of-type {\n",
       "        vertical-align: middle;\n",
       "    }\n",
       "\n",
       "    .dataframe tbody tr th {\n",
       "        vertical-align: top;\n",
       "    }\n",
       "\n",
       "    .dataframe thead th {\n",
       "        text-align: right;\n",
       "    }\n",
       "</style>\n",
       "<table border=\"1\" class=\"dataframe\">\n",
       "  <thead>\n",
       "    <tr style=\"text-align: right;\">\n",
       "      <th></th>\n",
       "      <th>종목명</th>\n",
       "      <th>PER</th>\n",
       "      <th>PBR</th>\n",
       "    </tr>\n",
       "    <tr>\n",
       "      <th>테마</th>\n",
       "      <th></th>\n",
       "      <th></th>\n",
       "      <th></th>\n",
       "    </tr>\n",
       "  </thead>\n",
       "  <tbody>\n",
       "    <tr>\n",
       "      <th>2차전지(생산)</th>\n",
       "      <td>SK이노베이션</td>\n",
       "      <td>83.06</td>\n",
       "      <td>3.75</td>\n",
       "    </tr>\n",
       "    <tr>\n",
       "      <th>시스템반도체</th>\n",
       "      <td>티엘아이</td>\n",
       "      <td>37.32</td>\n",
       "      <td>3.55</td>\n",
       "    </tr>\n",
       "    <tr>\n",
       "      <th>해운</th>\n",
       "      <td>팬오션</td>\n",
       "      <td>21.52</td>\n",
       "      <td>3.20</td>\n",
       "    </tr>\n",
       "  </tbody>\n",
       "</table>\n",
       "</div>"
      ],
      "text/plain": [
       "              종목명    PER   PBR\n",
       "테마                            \n",
       "2차전지(생산)  SK이노베이션  83.06  3.75\n",
       "시스템반도체       티엘아이  37.32  3.55\n",
       "해운            팬오션  21.52  3.20"
      ]
     },
     "execution_count": 22,
     "metadata": {},
     "output_type": "execute_result"
    }
   ],
   "source": [
    "df.groupby('테마').max()"
   ]
  },
  {
   "cell_type": "markdown",
   "id": "400e8df0",
   "metadata": {},
   "source": [
    "### 208. DataFrame.groupby agg"
   ]
  },
  {
   "cell_type": "markdown",
   "id": "982bda8b",
   "metadata": {},
   "source": [
    "위 데이터프레임에 대해서 '테마' 컬럼으로 그룹화한 후 PER 컬럼은 max, PBR 컬럼은 min 함수를 적용해보세요."
   ]
  },
  {
   "cell_type": "code",
   "execution_count": 23,
   "id": "13d6ba1f",
   "metadata": {},
   "outputs": [
    {
     "data": {
      "text/html": [
       "<div>\n",
       "<style scoped>\n",
       "    .dataframe tbody tr th:only-of-type {\n",
       "        vertical-align: middle;\n",
       "    }\n",
       "\n",
       "    .dataframe tbody tr th {\n",
       "        vertical-align: top;\n",
       "    }\n",
       "\n",
       "    .dataframe thead th {\n",
       "        text-align: right;\n",
       "    }\n",
       "</style>\n",
       "<table border=\"1\" class=\"dataframe\">\n",
       "  <thead>\n",
       "    <tr style=\"text-align: right;\">\n",
       "      <th></th>\n",
       "      <th>PER</th>\n",
       "      <th>PBR</th>\n",
       "    </tr>\n",
       "    <tr>\n",
       "      <th>테마</th>\n",
       "      <th></th>\n",
       "      <th></th>\n",
       "    </tr>\n",
       "  </thead>\n",
       "  <tbody>\n",
       "    <tr>\n",
       "      <th>2차전지(생산)</th>\n",
       "      <td>83.06</td>\n",
       "      <td>1.29</td>\n",
       "    </tr>\n",
       "    <tr>\n",
       "      <th>시스템반도체</th>\n",
       "      <td>37.32</td>\n",
       "      <td>1.12</td>\n",
       "    </tr>\n",
       "    <tr>\n",
       "      <th>해운</th>\n",
       "      <td>21.52</td>\n",
       "      <td>0.95</td>\n",
       "    </tr>\n",
       "  </tbody>\n",
       "</table>\n",
       "</div>"
      ],
      "text/plain": [
       "            PER   PBR\n",
       "테마                   \n",
       "2차전지(생산)  83.06  1.29\n",
       "시스템반도체    37.32  1.12\n",
       "해운        21.52  0.95"
      ]
     },
     "execution_count": 23,
     "metadata": {},
     "output_type": "execute_result"
    }
   ],
   "source": [
    "df.groupby('테마').agg({'PER':'max', 'PBR':'min'})"
   ]
  },
  {
   "cell_type": "markdown",
   "id": "d5db44cb",
   "metadata": {},
   "source": [
    "### 209. Group 순회"
   ]
  },
  {
   "cell_type": "markdown",
   "id": "727cc01e",
   "metadata": {},
   "source": [
    "위 데이터프레임에 대해 '테마'로 그룹화 한 후 순회하는 다음 코드를 실행하고 결과를 확인하세요.\n",
    "\n",
    "for name, group in df.groupby(\"테마\"):  \n",
    "    print(name)  \n",
    "    print(group)  "
   ]
  },
  {
   "cell_type": "code",
   "execution_count": 24,
   "id": "337534ae",
   "metadata": {},
   "outputs": [
    {
     "name": "stdout",
     "output_type": "stream",
     "text": [
      "2차전지(생산)\n",
      "         테마      종목명    PER   PBR\n",
      "0  2차전지(생산)  SK이노베이션  10.19  1.29\n",
      "5  2차전지(생산)     LG화학  83.06  3.75\n",
      "시스템반도체\n",
      "       테마   종목명    PER   PBR\n",
      "2  시스템반도체  티엘아이  35.97  1.12\n",
      "4  시스템반도체  아이에이  37.32  3.55\n",
      "해운\n",
      "   테마  종목명    PER   PBR\n",
      "1  해운  팬오션  21.23  0.95\n",
      "3  해운  HMM  21.52  3.20\n"
     ]
    }
   ],
   "source": [
    "for name, group in df.groupby(\"테마\"):\n",
    "    print(name)\n",
    "    print(group)"
   ]
  },
  {
   "cell_type": "markdown",
   "id": "2739a9f5",
   "metadata": {},
   "source": [
    "### 210. groupby agg"
   ]
  },
  {
   "cell_type": "markdown",
   "id": "65189b1b",
   "metadata": {},
   "source": [
    "위 데이터프레임에 대해서 '테마' 컬럼으로 그룹화한 후 PER, PBR 컬럼에 np.mean과 np.std 함수를 적용하세요."
   ]
  },
  {
   "cell_type": "code",
   "execution_count": 26,
   "id": "3c313801",
   "metadata": {},
   "outputs": [
    {
     "data": {
      "text/html": [
       "<div>\n",
       "<style scoped>\n",
       "    .dataframe tbody tr th:only-of-type {\n",
       "        vertical-align: middle;\n",
       "    }\n",
       "\n",
       "    .dataframe tbody tr th {\n",
       "        vertical-align: top;\n",
       "    }\n",
       "\n",
       "    .dataframe thead th {\n",
       "        text-align: right;\n",
       "    }\n",
       "</style>\n",
       "<table border=\"1\" class=\"dataframe\">\n",
       "  <thead>\n",
       "    <tr style=\"text-align: right;\">\n",
       "      <th></th>\n",
       "      <th>PER</th>\n",
       "      <th>PBR</th>\n",
       "    </tr>\n",
       "    <tr>\n",
       "      <th>테마</th>\n",
       "      <th></th>\n",
       "      <th></th>\n",
       "    </tr>\n",
       "  </thead>\n",
       "  <tbody>\n",
       "    <tr>\n",
       "      <th>2차전지(생산)</th>\n",
       "      <td>46.625</td>\n",
       "      <td>1.739483</td>\n",
       "    </tr>\n",
       "    <tr>\n",
       "      <th>시스템반도체</th>\n",
       "      <td>36.645</td>\n",
       "      <td>1.718269</td>\n",
       "    </tr>\n",
       "    <tr>\n",
       "      <th>해운</th>\n",
       "      <td>21.375</td>\n",
       "      <td>1.590990</td>\n",
       "    </tr>\n",
       "  </tbody>\n",
       "</table>\n",
       "</div>"
      ],
      "text/plain": [
       "             PER       PBR\n",
       "테마                        \n",
       "2차전지(생산)  46.625  1.739483\n",
       "시스템반도체    36.645  1.718269\n",
       "해운        21.375  1.590990"
      ]
     },
     "execution_count": 26,
     "metadata": {},
     "output_type": "execute_result"
    }
   ],
   "source": [
    "df.groupby('테마').agg({'PER':np.mean, 'PBR':np.std})"
   ]
  },
  {
   "cell_type": "markdown",
   "id": "e186baa0",
   "metadata": {},
   "source": [
    "### 추가 : nunique"
   ]
  },
  {
   "cell_type": "markdown",
   "id": "67ffd410",
   "metadata": {},
   "source": [
    "위 데이터프레임을 '테마' 컬럼을 기준으로 그룹화한 후 종목명 열만 추출하여 데이터의 빈도수를 계산하세요."
   ]
  },
  {
   "cell_type": "code",
   "execution_count": 28,
   "id": "72b36fb2",
   "metadata": {},
   "outputs": [
    {
     "data": {
      "text/html": [
       "<div>\n",
       "<style scoped>\n",
       "    .dataframe tbody tr th:only-of-type {\n",
       "        vertical-align: middle;\n",
       "    }\n",
       "\n",
       "    .dataframe tbody tr th {\n",
       "        vertical-align: top;\n",
       "    }\n",
       "\n",
       "    .dataframe thead th {\n",
       "        text-align: right;\n",
       "    }\n",
       "</style>\n",
       "<table border=\"1\" class=\"dataframe\">\n",
       "  <thead>\n",
       "    <tr style=\"text-align: right;\">\n",
       "      <th></th>\n",
       "      <th>종목명</th>\n",
       "    </tr>\n",
       "    <tr>\n",
       "      <th>테마</th>\n",
       "      <th></th>\n",
       "    </tr>\n",
       "  </thead>\n",
       "  <tbody>\n",
       "    <tr>\n",
       "      <th>2차전지(생산)</th>\n",
       "      <td>2</td>\n",
       "    </tr>\n",
       "    <tr>\n",
       "      <th>시스템반도체</th>\n",
       "      <td>2</td>\n",
       "    </tr>\n",
       "    <tr>\n",
       "      <th>해운</th>\n",
       "      <td>2</td>\n",
       "    </tr>\n",
       "  </tbody>\n",
       "</table>\n",
       "</div>"
      ],
      "text/plain": [
       "          종목명\n",
       "테마           \n",
       "2차전지(생산)    2\n",
       "시스템반도체      2\n",
       "해운          2"
      ]
     },
     "execution_count": 28,
     "metadata": {},
     "output_type": "execute_result"
    }
   ],
   "source": [
    "df.groupby('테마')[['종목명']].nunique()"
   ]
  }
 ],
 "metadata": {
  "kernelspec": {
   "display_name": "Python 3 (ipykernel)",
   "language": "python",
   "name": "python3"
  },
  "language_info": {
   "codemirror_mode": {
    "name": "ipython",
    "version": 3
   },
   "file_extension": ".py",
   "mimetype": "text/x-python",
   "name": "python",
   "nbconvert_exporter": "python",
   "pygments_lexer": "ipython3",
   "version": "3.10.9"
  }
 },
 "nbformat": 4,
 "nbformat_minor": 5
}
