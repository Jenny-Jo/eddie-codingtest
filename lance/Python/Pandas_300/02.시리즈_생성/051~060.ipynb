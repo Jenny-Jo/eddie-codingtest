{
 "cells": [
  {
   "cell_type": "markdown",
   "id": "f5640d60",
   "metadata": {},
   "source": [
    "### 051. 모듈 임포트"
   ]
  },
  {
   "cell_type": "markdown",
   "id": "4df34fd6",
   "metadata": {},
   "source": [
    "판다스의 시리즈 클래스를 사용하기 위해 주로 사용하는 두 가지 방식으로 임포트해보세요."
   ]
  },
  {
   "cell_type": "code",
   "execution_count": 1,
   "id": "c3cd3130",
   "metadata": {},
   "outputs": [],
   "source": [
    "import pandas as pd\n",
    "from pandas import Series"
   ]
  },
  {
   "cell_type": "markdown",
   "id": "3ef293d0",
   "metadata": {},
   "source": [
    "### 052. 시리즈의 생성"
   ]
  },
  {
   "cell_type": "markdown",
   "id": "a5748df1",
   "metadata": {},
   "source": [
    "다음 데이터를 시리즈로 객체로 생성해보세요.\n",
    "\n",
    "점수  \n",
    "100  \n",
    "200  \n",
    "300"
   ]
  },
  {
   "cell_type": "code",
   "execution_count": 6,
   "id": "16a8b73e",
   "metadata": {},
   "outputs": [
    {
     "data": {
      "text/plain": [
       "점수    [100, 200, 300]\n",
       "dtype: object"
      ]
     },
     "execution_count": 6,
     "metadata": {},
     "output_type": "execute_result"
    }
   ],
   "source": [
    "Series({'점수': [100, 200, 300]})"
   ]
  },
  {
   "cell_type": "markdown",
   "id": "22222d28",
   "metadata": {},
   "source": [
    "### 053. 시리즈의 생성 (인덱스 지정)"
   ]
  },
  {
   "cell_type": "markdown",
   "id": "39b07aef",
   "metadata": {},
   "source": [
    "생성된 시리즈 객체에 인덱스를 추가해보세요.\n",
    "\n",
    "인덱스\t점수  \n",
    "철수\t100  \n",
    "영희\t200  \n",
    "아름\t300"
   ]
  },
  {
   "cell_type": "code",
   "execution_count": 10,
   "id": "97f1b8ee",
   "metadata": {},
   "outputs": [
    {
     "data": {
      "text/plain": [
       "철수    100\n",
       "영희    200\n",
       "아름    300\n",
       "dtype: int64"
      ]
     },
     "execution_count": 10,
     "metadata": {},
     "output_type": "execute_result"
    }
   ],
   "source": [
    "index = ['철수', '영희', '아름']\n",
    "data = [100, 200, 300]\n",
    "Series(data = data, index = index)"
   ]
  },
  {
   "cell_type": "markdown",
   "id": "ecf661a8",
   "metadata": {},
   "source": [
    "### 054. 시리즈의 생성 (딕셔너리)"
   ]
  },
  {
   "cell_type": "markdown",
   "id": "305edc0c",
   "metadata": {},
   "source": [
    "다음 데이터를 파이썬 딕셔너리로 표현해보세요. 딕셔너리의 key로 인덱스를 value로 점수 컬럼을 지정하세요. 생성된 딕셔너리를 사용하여 시리즈 객체를 생성해봅시다.\n",
    "\n",
    "인덱스\t점수  \n",
    "철수\t100  \n",
    "영희\t200  \n",
    "아름\t300"
   ]
  },
  {
   "cell_type": "code",
   "execution_count": 12,
   "id": "27ba0cf4",
   "metadata": {},
   "outputs": [
    {
     "data": {
      "text/plain": [
       "철수    100\n",
       "영희    200\n",
       "아름    300\n",
       "dtype: int64"
      ]
     },
     "execution_count": 12,
     "metadata": {},
     "output_type": "execute_result"
    }
   ],
   "source": [
    "data = {'철수':100, '영희':200, '아름':300}\n",
    "Series(data = data)"
   ]
  },
  {
   "cell_type": "markdown",
   "id": "4b328439",
   "metadata": {},
   "source": [
    "### 055. 시리즈 생성"
   ]
  },
  {
   "cell_type": "markdown",
   "id": "c698b6b1",
   "metadata": {},
   "source": [
    "다음은 네이버 금융에서 특정 거래일의 인기 종목과 해당 종목의 종가 데이터입니다. 종목명을 인덱스로 하여 종가를 데이터로 지정하여 시리즈 객체를 생성해봅시다.\n",
    "\n",
    "종목명\t종가  \n",
    "삼성전자\t73000  \n",
    "셀트리온\t356000  \n",
    "카카오\t367000  \n",
    "삼성전자우\t68600  \n",
    "현대바이오\t34150  \n"
   ]
  },
  {
   "cell_type": "code",
   "execution_count": 13,
   "id": "1d1fa8ec",
   "metadata": {},
   "outputs": [
    {
     "data": {
      "text/plain": [
       "삼성전자      73000\n",
       "셀트리온     356000\n",
       "카카오      367000\n",
       "삼성전자우     68600\n",
       "현대바이오     34150\n",
       "dtype: int64"
      ]
     },
     "execution_count": 13,
     "metadata": {},
     "output_type": "execute_result"
    }
   ],
   "source": [
    "Series({'삼성전자' : 73000, '셀트리온' : 356000, '카카오' : 367000, '삼성전자우' : 68600, '현대바이오' : 34150})"
   ]
  },
  {
   "cell_type": "markdown",
   "id": "c548cc8c",
   "metadata": {},
   "source": [
    "### 056. 시리즈 인덱스"
   ]
  },
  {
   "cell_type": "markdown",
   "id": "106cc3c9",
   "metadata": {},
   "source": [
    "시리즈에 저장된 인덱스만을 출력해보세요.  \n",
    "\n",
    "data = [100, 200, 300]  \n",
    "index = [\"철수\", \"영희\", \"아름\"]  \n",
    "s = Series(data, index)"
   ]
  },
  {
   "cell_type": "code",
   "execution_count": 14,
   "id": "c6d508d1",
   "metadata": {},
   "outputs": [
    {
     "data": {
      "text/plain": [
       "Index(['철수', '영희', '아름'], dtype='object')"
      ]
     },
     "execution_count": 14,
     "metadata": {},
     "output_type": "execute_result"
    }
   ],
   "source": [
    "data = [100, 200, 300]  \n",
    "index = [\"철수\", \"영희\", \"아름\"]  \n",
    "s = Series(data, index)\n",
    "s.index"
   ]
  },
  {
   "cell_type": "markdown",
   "id": "47694355",
   "metadata": {},
   "source": [
    "### 057 시리즈 데이터"
   ]
  },
  {
   "cell_type": "markdown",
   "id": "ba8039a3",
   "metadata": {},
   "source": [
    "인덱스 없이 시리즈에 저장된 데이터만을 출력해보세요.  \n",
    "\n",
    "data = [100, 200, 300]  \n",
    "index = [\"철수\", \"영희\", \"아름\"]  \n",
    "s = Series(data, index)"
   ]
  },
  {
   "cell_type": "code",
   "execution_count": 15,
   "id": "1de86661",
   "metadata": {},
   "outputs": [
    {
     "data": {
      "text/plain": [
       "array([100, 200, 300])"
      ]
     },
     "execution_count": 15,
     "metadata": {},
     "output_type": "execute_result"
    }
   ],
   "source": [
    "data = [100, 200, 300]\n",
    "index = [\"철수\", \"영희\", \"아름\"]\n",
    "s = Series(data, index)\n",
    "s.values"
   ]
  },
  {
   "cell_type": "markdown",
   "id": "f95de723",
   "metadata": {},
   "source": [
    "### 058. 시리즈와 딕셔너리"
   ]
  },
  {
   "cell_type": "markdown",
   "id": "9c394bbb",
   "metadata": {},
   "source": [
    "시리즈를 딕셔너리로 변경해 보세요.\n",
    "  \n",
    "data = [100, 200, 300]  \n",
    "index = [\"철수\", \"영희\", \"아름\"]  \n",
    "s = Series(data, index)  \n",
    "\n",
    "실행 결과  \n",
    "{'철수': 100, '영희': 200, '아름': 300}"
   ]
  },
  {
   "cell_type": "code",
   "execution_count": 17,
   "id": "5803c310",
   "metadata": {},
   "outputs": [
    {
     "data": {
      "text/plain": [
       "{'철수': 100, '영희': 200, '아름': 300}"
      ]
     },
     "execution_count": 17,
     "metadata": {},
     "output_type": "execute_result"
    }
   ],
   "source": [
    "data = [100, 200, 300]\n",
    "index = [\"철수\", \"영희\", \"아름\"]\n",
    "s = Series(data, index)\n",
    "s.to_dict()"
   ]
  },
  {
   "cell_type": "markdown",
   "id": "25538ac2",
   "metadata": {},
   "source": [
    "### 059. 시리즈와 엑셀"
   ]
  },
  {
   "cell_type": "markdown",
   "id": "c3dbfc24",
   "metadata": {},
   "source": [
    "시리즈를 엑셀 파일(data.xlsx)에 저장해 보세요.  \n",
    "\n",
    "data = [100, 200, 300]  \n",
    "index = [\"철수\", \"영희\", \"아름\"]  \n",
    "s = Series(data, index)"
   ]
  },
  {
   "cell_type": "code",
   "execution_count": 19,
   "id": "9cb84e0a",
   "metadata": {},
   "outputs": [],
   "source": [
    "data = [100, 200, 300]\n",
    "index = [\"철수\", \"영희\", \"아름\"]\n",
    "s = Series(data, index)\n",
    "s.to_excel('data.xlsx')"
   ]
  },
  {
   "cell_type": "markdown",
   "id": "30118a33",
   "metadata": {},
   "source": [
    "### 060. 시리즈와 엑셀"
   ]
  },
  {
   "cell_type": "markdown",
   "id": "c3c44388",
   "metadata": {},
   "source": [
    "엑셀 파일(data.xlsx)을 읽어 오세요.\n",
    "\n",
    "pd.read_excel"
   ]
  },
  {
   "cell_type": "code",
   "execution_count": 21,
   "id": "262f8198",
   "metadata": {},
   "outputs": [
    {
     "data": {
      "text/plain": [
       "철수    100\n",
       "영희    200\n",
       "아름    300\n",
       "Name: 0, dtype: int64"
      ]
     },
     "execution_count": 21,
     "metadata": {},
     "output_type": "execute_result"
    }
   ],
   "source": [
    "pd.read_excel('data.xlsx', index_col=0)[0]"
   ]
  }
 ],
 "metadata": {
  "kernelspec": {
   "display_name": "Python 3 (ipykernel)",
   "language": "python",
   "name": "python3"
  },
  "language_info": {
   "codemirror_mode": {
    "name": "ipython",
    "version": 3
   },
   "file_extension": ".py",
   "mimetype": "text/x-python",
   "name": "python",
   "nbconvert_exporter": "python",
   "pygments_lexer": "ipython3",
   "version": "3.10.9"
  }
 },
 "nbformat": 4,
 "nbformat_minor": 5
}
