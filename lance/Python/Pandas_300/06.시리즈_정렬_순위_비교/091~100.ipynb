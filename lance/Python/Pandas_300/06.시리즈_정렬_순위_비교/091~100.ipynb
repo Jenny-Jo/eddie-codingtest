{
 "cells": [
  {
   "cell_type": "code",
   "execution_count": 1,
   "id": "e7afd6db",
   "metadata": {},
   "outputs": [],
   "source": [
    "import pandas as pd\n",
    "from pandas import Series"
   ]
  },
  {
   "cell_type": "markdown",
   "id": "537be5b1",
   "metadata": {},
   "source": [
    "### 091. 시리즈 정렬"
   ]
  },
  {
   "cell_type": "markdown",
   "id": "e47abe0d",
   "metadata": {},
   "source": [
    "시리즈에 저장된 데이터의 순서를 변경하라.\n",
    "\n",
    "data = [100, 300, 200]  \n",
    "index = [\"08/01\", \"08/02\", \"08/03\"]  \n",
    "s = Series(data, index)   \n",
    "08/01    100  \n",
    "08/03    200  \n",
    "08/02    300  \n",
    "dtype: int64"
   ]
  },
  {
   "cell_type": "code",
   "execution_count": 2,
   "id": "cf2a2999",
   "metadata": {},
   "outputs": [
    {
     "data": {
      "text/plain": [
       "08/01    100\n",
       "08/03    300\n",
       "08/02    200\n",
       "dtype: int64"
      ]
     },
     "execution_count": 2,
     "metadata": {},
     "output_type": "execute_result"
    }
   ],
   "source": [
    "data = [100, 300, 200]\n",
    "index = [\"08/01\", \"08/02\", \"08/03\"]\n",
    "s = Series(data, index)\n",
    "s.index = ['08/01', '08/03', '08/02']\n",
    "\n",
    "s"
   ]
  },
  {
   "cell_type": "markdown",
   "id": "b74c6495",
   "metadata": {},
   "source": [
    "### 092. 시리즈 정렬"
   ]
  },
  {
   "cell_type": "markdown",
   "id": "8e4a6fed",
   "metadata": {},
   "source": [
    "시리즈에 저장된 데이터를 오름차순 혹은 내림차순으로 정렬하라.\n",
    "\n",
    "randint 함수는 지정된 범위 (10)에서 임의의 숫자를 생성해서 numpy의 ndarray 객체로 반환 합니다. 실행할 때마다 다른 값이 출력되는데, 이는 정상입니다.\n",
    "\n",
    "import numpy as np\n",
    "\n",
    "data = np.random.randint(10, size=4)  \n",
    "s = Series(data)  \n",
    "3    0  \n",
    "2    5  \n",
    "1    7  \n",
    "0    9  \n",
    "dtype: int32"
   ]
  },
  {
   "cell_type": "code",
   "execution_count": 7,
   "id": "c76d02f2",
   "metadata": {},
   "outputs": [
    {
     "data": {
      "text/plain": [
       "3    3\n",
       "2    2\n",
       "0    1\n",
       "1    0\n",
       "dtype: int64"
      ]
     },
     "execution_count": 7,
     "metadata": {},
     "output_type": "execute_result"
    }
   ],
   "source": [
    "import numpy as np\n",
    "\n",
    "data = np.random.randint(10, size=4)\n",
    "s = Series(data)\n",
    "s.sort_values() # 오름차순\n",
    "s.sort_values(ascending=False) # 내림차순"
   ]
  },
  {
   "cell_type": "markdown",
   "id": "a527751f",
   "metadata": {},
   "source": [
    "### 093. 시리즈 정렬"
   ]
  },
  {
   "cell_type": "markdown",
   "id": "72418ea2",
   "metadata": {},
   "source": [
    "인덱스를 기준으로 a, b, c 순서로 데이터를 정렬하라.\n",
    "\n",
    "s = Series(np.random.randint(10, size=4), [\"b\", \"c\", \"a\", \"d\"])  \n",
    "a    3  \n",
    "b    3  \n",
    "c    1  \n",
    "d    4  \n",
    "dtype: int32"
   ]
  },
  {
   "cell_type": "code",
   "execution_count": 8,
   "id": "51d37bb8",
   "metadata": {},
   "outputs": [
    {
     "data": {
      "text/plain": [
       "a    1\n",
       "b    6\n",
       "c    0\n",
       "d    1\n",
       "dtype: int64"
      ]
     },
     "execution_count": 8,
     "metadata": {},
     "output_type": "execute_result"
    }
   ],
   "source": [
    "s = Series(np.random.randint(10, size=4), [\"b\", \"c\", \"a\", \"d\"])\n",
    "s.sort_index()"
   ]
  },
  {
   "cell_type": "markdown",
   "id": "b30421b7",
   "metadata": {},
   "source": [
    "### 094. 시리즈 연산"
   ]
  },
  {
   "cell_type": "markdown",
   "id": "d264ff4d",
   "metadata": {},
   "source": [
    "시리즈에 네 제곱한 결과를 시리즈로 출력하라.\n",
    "\n",
    "data = [100, 300, 200]  \n",
    "s = Series(data)"
   ]
  },
  {
   "cell_type": "code",
   "execution_count": 9,
   "id": "5af1cdf8",
   "metadata": {},
   "outputs": [
    {
     "data": {
      "text/plain": [
       "0     100000000\n",
       "1    8100000000\n",
       "2    1600000000\n",
       "dtype: int64"
      ]
     },
     "execution_count": 9,
     "metadata": {},
     "output_type": "execute_result"
    }
   ],
   "source": [
    "data = [100, 300, 200]\n",
    "s = Series(data)\n",
    "s ** 4"
   ]
  },
  {
   "cell_type": "markdown",
   "id": "df650ad1",
   "metadata": {},
   "source": [
    "### 095. 시리즈 덧셈"
   ]
  },
  {
   "cell_type": "markdown",
   "id": "f125c4f6",
   "metadata": {},
   "source": [
    "다음 연산의 결과를 예측하라.\n",
    "\n",
    "data = [100, 300, 200]  \n",
    "s0 = Series(data, [\"a\", \"b\", \"c\"])  \n",
    "s1 = Series(data, [\"a\", \"c\", \"b\"])  \n",
    "print(s0 + s1)"
   ]
  },
  {
   "cell_type": "code",
   "execution_count": 12,
   "id": "c88fa694",
   "metadata": {},
   "outputs": [
    {
     "name": "stdout",
     "output_type": "stream",
     "text": [
      "a    200\n",
      "b    500\n",
      "c    500\n",
      "dtype: int64\n"
     ]
    }
   ],
   "source": [
    "data = [100, 300, 200]\n",
    "s0 = Series(data, [\"a\", \"b\", \"c\"])\n",
    "s1 = Series(data, [\"a\", \"c\", \"b\"])\n",
    "print(s0 + s1)"
   ]
  },
  {
   "cell_type": "markdown",
   "id": "77228504",
   "metadata": {},
   "source": [
    "### 096. 시리즈 뺄셈"
   ]
  },
  {
   "cell_type": "markdown",
   "id": "e34aafab",
   "metadata": {},
   "source": [
    "다음 연산의 결과를 예측하고 그 원인을 설명하라.  \n",
    "high = Series(data=[51500, 51200, 52500], index=[\"5/1\", \"5/2\", \"5/3\"])  \n",
    "low = Series(data=[50700, 50500, 50500], index=[\"5/1\", \"5/2\", \"5/4\"])  \n",
    "\n",
    "diff = high – low  \n",
    "print(diff)"
   ]
  },
  {
   "cell_type": "code",
   "execution_count": 14,
   "id": "89f51048",
   "metadata": {},
   "outputs": [
    {
     "name": "stdout",
     "output_type": "stream",
     "text": [
      "5/1    800.0\n",
      "5/2    700.0\n",
      "5/3      NaN\n",
      "5/4      NaN\n",
      "dtype: float64\n"
     ]
    }
   ],
   "source": [
    "high = Series(data=[51500, 51200, 52500], index=[\"5/1\", \"5/2\", \"5/3\"])\n",
    "low = Series(data=[50700, 50500, 50500], index=[\"5/1\", \"5/2\", \"5/4\"])\n",
    "\n",
    "diff = high - low\n",
    "print(diff)"
   ]
  },
  {
   "cell_type": "markdown",
   "id": "30845541",
   "metadata": {},
   "source": [
    "### 097. 시리즈의 비교 연산"
   ]
  },
  {
   "cell_type": "markdown",
   "id": "2f7bb36d",
   "metadata": {},
   "source": [
    "시리즈에서 52000보다 작은 값을 출력하라.\n",
    "\n",
    "s = Series(data=[51500, 51200, 52500], index=[\"5/1\", \"5/2\", \"5/3\"])"
   ]
  },
  {
   "cell_type": "code",
   "execution_count": 15,
   "id": "90c9a843",
   "metadata": {},
   "outputs": [
    {
     "data": {
      "text/plain": [
       "5/1    51500\n",
       "5/2    51200\n",
       "dtype: int64"
      ]
     },
     "execution_count": 15,
     "metadata": {},
     "output_type": "execute_result"
    }
   ],
   "source": [
    "s = Series(data=[51500, 51200, 52500], index=[\"5/1\", \"5/2\", \"5/3\"])\n",
    "\n",
    "s[s < 52000]"
   ]
  },
  {
   "cell_type": "markdown",
   "id": "21356dbc",
   "metadata": {},
   "source": [
    "### 098. 시리즈 비교 연산"
   ]
  },
  {
   "cell_type": "markdown",
   "id": "bbfa6d23",
   "metadata": {},
   "source": [
    "시리즈 비교연산  \n",
    "5월 1일 이후의 데이터를 출력하라.\n",
    "\n",
    "s = Series(data=[51500, 51200, 52500], index=[\"5/1\", \"5/2\", \"5/3\"])"
   ]
  },
  {
   "cell_type": "code",
   "execution_count": 17,
   "id": "d53fde83",
   "metadata": {},
   "outputs": [
    {
     "data": {
      "text/plain": [
       "5/2    51200\n",
       "5/3    52500\n",
       "dtype: int64"
      ]
     },
     "execution_count": 17,
     "metadata": {},
     "output_type": "execute_result"
    }
   ],
   "source": [
    "s = Series(data=[51500, 51200, 52500], index=[\"5/1\", \"5/2\", \"5/3\"])\n",
    "\n",
    "cond =  s.index > '5/1'\n",
    "\n",
    "s[cond]"
   ]
  },
  {
   "cell_type": "markdown",
   "id": "d45ee01a",
   "metadata": {},
   "source": [
    "### 099. 시리즈 비교 연산"
   ]
  },
  {
   "cell_type": "markdown",
   "id": "3ff1bed6",
   "metadata": {},
   "source": [
    "51400원 이상 53000 이하의 값을 출력하라.\n",
    "\n",
    "s = Series(data=[51500, 51200, 52500], index=[\"5/1\", \"5/2\", \"5/3\"])"
   ]
  },
  {
   "cell_type": "code",
   "execution_count": 21,
   "id": "60f731b3",
   "metadata": {},
   "outputs": [
    {
     "data": {
      "text/plain": [
       "5/1    51500\n",
       "5/3    52500\n",
       "dtype: int64"
      ]
     },
     "execution_count": 21,
     "metadata": {},
     "output_type": "execute_result"
    }
   ],
   "source": [
    "s = Series(data=[51500, 51200, 52500], index=[\"5/1\", \"5/2\", \"5/3\"])\n",
    "\n",
    "cond = (51400 <= s) & (s <= 53000)\n",
    "s[cond]"
   ]
  },
  {
   "cell_type": "markdown",
   "id": "dcefe168",
   "metadata": {},
   "source": [
    "### 100. 시리즈 비교 연산"
   ]
  },
  {
   "cell_type": "markdown",
   "id": "64bd8b58",
   "metadata": {},
   "source": [
    "시리즈에서 가격이 52000원 이하였던 날은 몇일인가?\n",
    "\n",
    "s = Series(data=[51500, 51200, 52500], index=[\"5/1\", \"5/2\", \"5/3\"])"
   ]
  },
  {
   "cell_type": "code",
   "execution_count": 23,
   "id": "eec04487",
   "metadata": {},
   "outputs": [
    {
     "data": {
      "text/plain": [
       "2"
      ]
     },
     "execution_count": 23,
     "metadata": {},
     "output_type": "execute_result"
    }
   ],
   "source": [
    "s = Series(data=[51500, 51200, 52500], index=[\"5/1\", \"5/2\", \"5/3\"])\n",
    "\n",
    "cond = s <= 52000\n",
    "\n",
    "s[cond].value_counts().sum()"
   ]
  }
 ],
 "metadata": {
  "kernelspec": {
   "display_name": "Python 3 (ipykernel)",
   "language": "python",
   "name": "python3"
  },
  "language_info": {
   "codemirror_mode": {
    "name": "ipython",
    "version": 3
   },
   "file_extension": ".py",
   "mimetype": "text/x-python",
   "name": "python",
   "nbconvert_exporter": "python",
   "pygments_lexer": "ipython3",
   "version": "3.10.9"
  }
 },
 "nbformat": 4,
 "nbformat_minor": 5
}
