{
 "cells": [
  {
   "cell_type": "code",
   "execution_count": 5,
   "id": "f7ffac8e",
   "metadata": {},
   "outputs": [],
   "source": [
    "import pandas as pd\n",
    "from pandas import Series"
   ]
  },
  {
   "cell_type": "markdown",
   "id": "d640dde8",
   "metadata": {},
   "source": [
    "### 071. 시리즈 타입"
   ]
  },
  {
   "cell_type": "markdown",
   "id": "4540251e",
   "metadata": {},
   "source": [
    "다음 코드를 수행하면 어떤 데이터 타입을 출력되는지 이야기해보세요. 그리고 그 이유는 무엇인가요?\n",
    "\n",
    "import pandas as pd\n",
    "\n",
    "s = pd.Series([1, 2, 'python'])  \n",
    "print(s.dtype)"
   ]
  },
  {
   "cell_type": "code",
   "execution_count": 2,
   "id": "f14259c0",
   "metadata": {},
   "outputs": [
    {
     "name": "stdout",
     "output_type": "stream",
     "text": [
      "object\n"
     ]
    }
   ],
   "source": [
    "s = pd.Series([1, 2, 'python'])\n",
    "print(s.dtype)\n",
    "\n",
    "# object"
   ]
  },
  {
   "cell_type": "markdown",
   "id": "e5c12e26",
   "metadata": {},
   "source": [
    "### 072. 시리즈 타입 변경"
   ]
  },
  {
   "cell_type": "markdown",
   "id": "b20c6f55",
   "metadata": {},
   "source": [
    "다음 시리즈 객체의 데이터 타입을 int32로 변경해보세요.\n",
    "\n",
    "import pandas as pd\n",
    "\n",
    "s = pd.Series(['1', '2', '3'])"
   ]
  },
  {
   "cell_type": "code",
   "execution_count": 3,
   "id": "8c7036b9",
   "metadata": {},
   "outputs": [
    {
     "data": {
      "text/plain": [
       "0    1\n",
       "1    2\n",
       "2    3\n",
       "dtype: int32"
      ]
     },
     "execution_count": 3,
     "metadata": {},
     "output_type": "execute_result"
    }
   ],
   "source": [
    "s = pd.Series(['1', '2', '3'])\n",
    "s.astype('int32')"
   ]
  },
  {
   "cell_type": "markdown",
   "id": "16108d89",
   "metadata": {},
   "source": [
    "### 073. 시리즈 데이터 타입 변경"
   ]
  },
  {
   "cell_type": "markdown",
   "id": "2a0815d6",
   "metadata": {},
   "source": [
    "BTC 금액이 50000 달러, XRP 금액이 1 달러, ETH 금액이 4000 달러일 때 시리즈 객체로 생성하세요.  \n",
    "시리즈 객체를 생성할 때 가격의 데이터 타입을 float로 지정해서 생성하세요."
   ]
  },
  {
   "cell_type": "code",
   "execution_count": 8,
   "id": "6428357e",
   "metadata": {},
   "outputs": [
    {
     "data": {
      "text/plain": [
       "BTC    50000.0\n",
       "XRP        1.0\n",
       "ETH     4000.0\n",
       "dtype: float64"
      ]
     },
     "execution_count": 8,
     "metadata": {},
     "output_type": "execute_result"
    }
   ],
   "source": [
    "data = [50000, 1, 4000]\n",
    "index = ['BTC', 'XRP', 'ETH']\n",
    "Series(data=data, index=index, dtype='float')"
   ]
  },
  {
   "cell_type": "markdown",
   "id": "3fe17fea",
   "metadata": {},
   "source": [
    "### 074. 시리즈 인덱싱 (대괄호 사용하기)"
   ]
  },
  {
   "cell_type": "markdown",
   "id": "ef77fa07",
   "metadata": {},
   "source": [
    "다음 데이터를 시리즈 객체로 표현하세요. 그다음 대괄호([ ])을 사용하여 200을 출력하세요.\n",
    "\n",
    "data = [100, 200, 300]  \n",
    "index = [\"철수\", \"영희\", \"아름\"]  \n",
    "s = Series(data, index)"
   ]
  },
  {
   "cell_type": "code",
   "execution_count": 9,
   "id": "5d717107",
   "metadata": {},
   "outputs": [
    {
     "data": {
      "text/plain": [
       "200"
      ]
     },
     "execution_count": 9,
     "metadata": {},
     "output_type": "execute_result"
    }
   ],
   "source": [
    "data = [100, 200, 300]\n",
    "index = [\"철수\", \"영희\", \"아름\"]\n",
    "s = Series(data, index)\n",
    "s['영희']"
   ]
  },
  {
   "cell_type": "markdown",
   "id": "2cf30e0f",
   "metadata": {},
   "source": [
    "### 075. 시리즈 인덱싱 (iloc 속성 사용하기)"
   ]
  },
  {
   "cell_type": "markdown",
   "id": "d12b5155",
   "metadata": {},
   "source": [
    "다음 데이터를 시리즈 객체로 표현하세요. 그다음 iloc 속성을 사용하여 200을 출력하세요.\n",
    "\n",
    "data = [100, 200, 300]  \n",
    "index = [\"철수\", \"영희\", \"아름\"]  \n",
    "s = Series(data, index)"
   ]
  },
  {
   "cell_type": "code",
   "execution_count": 10,
   "id": "a54e6dae",
   "metadata": {},
   "outputs": [
    {
     "data": {
      "text/plain": [
       "200"
      ]
     },
     "execution_count": 10,
     "metadata": {},
     "output_type": "execute_result"
    }
   ],
   "source": [
    "data = [100, 200, 300]\n",
    "index = [\"철수\", \"영희\", \"아름\"]\n",
    "s = Series(data, index)\n",
    "\n",
    "s.iloc[1]"
   ]
  },
  {
   "cell_type": "markdown",
   "id": "14456e97",
   "metadata": {},
   "source": [
    "### 076. 시리즈 인덱싱 (loc 속성 사용하기)"
   ]
  },
  {
   "cell_type": "markdown",
   "id": "17cb8a82",
   "metadata": {},
   "source": [
    "다음 데이터를 시리즈 객체로 표현하세요. 그다음 loc 속성을 사용하여 200을 출력하세요.\n",
    "\n",
    "data = [100, 200, 300]  \n",
    "index = [\"철수\", \"영희\", \"아름\"]  \n",
    "s = Series(data, index)"
   ]
  },
  {
   "cell_type": "code",
   "execution_count": 11,
   "id": "e32a4591",
   "metadata": {},
   "outputs": [
    {
     "data": {
      "text/plain": [
       "200"
      ]
     },
     "execution_count": 11,
     "metadata": {},
     "output_type": "execute_result"
    }
   ],
   "source": [
    "data = [100, 200, 300]\n",
    "index = [\"철수\", \"영희\", \"아름\"]\n",
    "s = Series(data, index)\n",
    "\n",
    "s.loc['영희']"
   ]
  },
  {
   "cell_type": "markdown",
   "id": "5525f003",
   "metadata": {},
   "source": [
    "### 077. 시리즈 인덱싱 (인덱스 사용하기)"
   ]
  },
  {
   "cell_type": "markdown",
   "id": "0d02b401",
   "metadata": {},
   "source": [
    "다음 데이터를 시리즈 객체로 표현하세요. 그다음 인덱스를 사용하여 200을 출력하세요.\n",
    "\n",
    "data = [100, 200, 300]  \n",
    "index = [\"철수\", \"영희\", \"아름\"]  \n",
    "s = Series(data, index)"
   ]
  },
  {
   "cell_type": "code",
   "execution_count": 18,
   "id": "02ef9318",
   "metadata": {
    "scrolled": true
   },
   "outputs": [
    {
     "data": {
      "text/plain": [
       "200"
      ]
     },
     "execution_count": 18,
     "metadata": {},
     "output_type": "execute_result"
    }
   ],
   "source": [
    "data = [100, 200, 300]\n",
    "index = [\"철수\", \"영희\", \"아름\"]\n",
    "s = Series(data=data, index=index)\n",
    "s['영희']"
   ]
  },
  {
   "cell_type": "markdown",
   "id": "f924cd5b",
   "metadata": {},
   "source": [
    "### 078. 시리즈 슬라이싱"
   ]
  },
  {
   "cell_type": "markdown",
   "id": "74cb9277",
   "metadata": {},
   "source": [
    "시리즈에서 100과 200을 시리즈로 출력하라.\n",
    "\n",
    "data = [100, 200, 300]  \n",
    "index = [\"철수\", \"영희\", \"아름\"]  \n",
    "s = Series(data, index)"
   ]
  },
  {
   "cell_type": "code",
   "execution_count": 26,
   "id": "f8beb160",
   "metadata": {},
   "outputs": [
    {
     "data": {
      "text/plain": [
       "철수    100\n",
       "영희    200\n",
       "dtype: int64"
      ]
     },
     "execution_count": 26,
     "metadata": {},
     "output_type": "execute_result"
    }
   ],
   "source": [
    "data = [100, 200, 300]\n",
    "index = [\"철수\", \"영희\", \"아름\"]\n",
    "s = Series(data, index)\n",
    "s.iloc[0:2]"
   ]
  },
  {
   "cell_type": "markdown",
   "id": "e046d077",
   "metadata": {},
   "source": [
    "### 079. 시리즈 슬라이싱"
   ]
  },
  {
   "cell_type": "markdown",
   "id": "1561b071",
   "metadata": {},
   "source": [
    "시리즈에는 일자별 가격 정보가 저장돼 있다. 시리즈에서 상위 3개의 데이터의 날짜 (인덱스)를 출력하라.\n",
    "\n",
    "data = [100, 200, 300, 400, 500, 600]  \n",
    "index = [\"08/01\", \"08/02\", \"08/03\", \"08/04\", \"08/05\", \"08/06\"]  \n",
    "s = Series(data, index)  \n",
    "Index(['08/01', '08/02', '08/03'], dtype='object')"
   ]
  },
  {
   "cell_type": "code",
   "execution_count": 23,
   "id": "7a5a6b91",
   "metadata": {},
   "outputs": [
    {
     "data": {
      "text/plain": [
       "Index(['08/01', '08/02', '08/03'], dtype='object')"
      ]
     },
     "execution_count": 23,
     "metadata": {},
     "output_type": "execute_result"
    }
   ],
   "source": [
    "data = [100, 200, 300, 400, 500, 600]\n",
    "index = [\"08/01\", \"08/02\", \"08/03\", \"08/04\", \"08/05\", \"08/06\"]\n",
    "s = Series(data, index)\n",
    "s.iloc[0:3].index"
   ]
  },
  {
   "cell_type": "markdown",
   "id": "b2e77e32",
   "metadata": {},
   "source": [
    "### 080. 시리즈 슬라이싱"
   ]
  },
  {
   "cell_type": "markdown",
   "id": "4c096bd1",
   "metadata": {},
   "source": [
    "시리즈에서 100, 300, 500을 슬라이싱으로 출력하라.\n",
    "\n",
    "data = [100, 200, 300, 400, 500, 600]   \n",
    "index = [\"08/01\", \"08/02\", \"08/03\", \"08/04\", \"08/05\", \"08/06\"]   \n",
    "s = Series(data, index)"
   ]
  },
  {
   "cell_type": "code",
   "execution_count": 27,
   "id": "2e6728b8",
   "metadata": {},
   "outputs": [
    {
     "data": {
      "text/plain": [
       "08/01    100\n",
       "08/03    300\n",
       "08/05    500\n",
       "dtype: int64"
      ]
     },
     "execution_count": 27,
     "metadata": {},
     "output_type": "execute_result"
    }
   ],
   "source": [
    "data = [100, 200, 300, 400, 500, 600] \n",
    "index = [\"08/01\", \"08/02\", \"08/03\", \"08/04\", \"08/05\", \"08/06\"] \n",
    "s = Series(data, index)\n",
    "\n",
    "s.iloc[::2]"
   ]
  }
 ],
 "metadata": {
  "kernelspec": {
   "display_name": "Python 3 (ipykernel)",
   "language": "python",
   "name": "python3"
  },
  "language_info": {
   "codemirror_mode": {
    "name": "ipython",
    "version": 3
   },
   "file_extension": ".py",
   "mimetype": "text/x-python",
   "name": "python",
   "nbconvert_exporter": "python",
   "pygments_lexer": "ipython3",
   "version": "3.10.9"
  }
 },
 "nbformat": 4,
 "nbformat_minor": 5
}
