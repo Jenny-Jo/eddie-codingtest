{
 "cells": [
  {
   "cell_type": "code",
   "execution_count": 1,
   "id": "e6e689d1",
   "metadata": {},
   "outputs": [],
   "source": [
    "import numpy as np\n",
    "import pandas as pd\n",
    "from pandas import DataFrame"
   ]
  },
  {
   "cell_type": "markdown",
   "id": "d80f171c",
   "metadata": {},
   "source": [
    "### 231. pd.MultiIndex"
   ]
  },
  {
   "cell_type": "markdown",
   "id": "79bfab65",
   "metadata": {},
   "source": [
    "다음 데이터프레임을 생성하세요. 컬럼은 pd.MultiIndex.from_arrays을 사용하여 구성하세요."
   ]
  },
  {
   "cell_type": "code",
   "execution_count": 2,
   "id": "b51392ff",
   "metadata": {},
   "outputs": [
    {
     "data": {
      "text/html": [
       "<div>\n",
       "<style scoped>\n",
       "    .dataframe tbody tr th:only-of-type {\n",
       "        vertical-align: middle;\n",
       "    }\n",
       "\n",
       "    .dataframe tbody tr th {\n",
       "        vertical-align: top;\n",
       "    }\n",
       "\n",
       "    .dataframe thead tr th {\n",
       "        text-align: left;\n",
       "    }\n",
       "</style>\n",
       "<table border=\"1\" class=\"dataframe\">\n",
       "  <thead>\n",
       "    <tr>\n",
       "      <th></th>\n",
       "      <th colspan=\"2\" halign=\"left\">영업이익</th>\n",
       "      <th colspan=\"2\" halign=\"left\">당기순이익</th>\n",
       "    </tr>\n",
       "    <tr>\n",
       "      <th></th>\n",
       "      <th>컨센서스</th>\n",
       "      <th>잠정치</th>\n",
       "      <th>컨센서스</th>\n",
       "      <th>잠정치</th>\n",
       "    </tr>\n",
       "  </thead>\n",
       "  <tbody>\n",
       "    <tr>\n",
       "      <th>2020/06</th>\n",
       "      <td>100</td>\n",
       "      <td>900</td>\n",
       "      <td>800</td>\n",
       "      <td>700</td>\n",
       "    </tr>\n",
       "    <tr>\n",
       "      <th>2020/09</th>\n",
       "      <td>1200</td>\n",
       "      <td>1400</td>\n",
       "      <td>900</td>\n",
       "      <td>800</td>\n",
       "    </tr>\n",
       "  </tbody>\n",
       "</table>\n",
       "</div>"
      ],
      "text/plain": [
       "         영업이익       당기순이익     \n",
       "         컨센서스   잠정치  컨센서스  잠정치\n",
       "2020/06   100   900   800  700\n",
       "2020/09  1200  1400   900  800"
      ]
     },
     "execution_count": 2,
     "metadata": {},
     "output_type": "execute_result"
    }
   ],
   "source": [
    "arrays = [['영업이익', '영업이익', '당기순이익', '당기순이익'],\n",
    "         ['컨센서스', '잠정치', '컨센서스', '잠정치']]\n",
    "\n",
    "columns = pd.MultiIndex.from_arrays(arrays)\n",
    "\n",
    "data = [[100, 900, 800, 700], [1200, 1400, 900, 800]]\n",
    "\n",
    "index = ['2020/06', '2020/09']\n",
    "\n",
    "df = DataFrame(data=data, index=index, columns=columns)\n",
    "df"
   ]
  },
  {
   "cell_type": "markdown",
   "id": "a562d14d",
   "metadata": {},
   "source": [
    "### 232. pd.MultiIndex"
   ]
  },
  {
   "cell_type": "markdown",
   "id": "56bafd37",
   "metadata": {},
   "source": [
    "위 데이터프레임을 생성하세요. 컬럼은 pd.MultiIndex.from_tuples을 사용하여 구성하세요."
   ]
  },
  {
   "cell_type": "markdown",
   "id": "535ac018",
   "metadata": {},
   "source": [
    "### 233. 멀티인덱스 인덱싱"
   ]
  },
  {
   "cell_type": "markdown",
   "id": "8d28fe4f",
   "metadata": {},
   "source": [
    "위 데이터프레임에서 영업이익의 컨센서스 컬럼을 선택하세요."
   ]
  },
  {
   "cell_type": "code",
   "execution_count": 3,
   "id": "0e9edb80",
   "metadata": {},
   "outputs": [
    {
     "data": {
      "text/plain": [
       "2020/06     100\n",
       "2020/09    1200\n",
       "Name: (영업이익, 컨센서스), dtype: int64"
      ]
     },
     "execution_count": 3,
     "metadata": {},
     "output_type": "execute_result"
    }
   ],
   "source": [
    "df[('영업이익', '컨센서스')]"
   ]
  },
  {
   "cell_type": "code",
   "execution_count": 4,
   "id": "ff70ea59",
   "metadata": {},
   "outputs": [
    {
     "data": {
      "text/plain": [
       "2020/06     100\n",
       "2020/09    1200\n",
       "Name: 컨센서스, dtype: int64"
      ]
     },
     "execution_count": 4,
     "metadata": {},
     "output_type": "execute_result"
    }
   ],
   "source": [
    "df['영업이익']['컨센서스']"
   ]
  },
  {
   "cell_type": "markdown",
   "id": "b4334628",
   "metadata": {},
   "source": [
    "### 234. 멀티 인덱스 인덱싱"
   ]
  },
  {
   "cell_type": "markdown",
   "id": "887dccea",
   "metadata": {},
   "source": [
    "위 데이터프레임에서 2020/06월의 영업이익 컨센서스 값을 출력하세요."
   ]
  },
  {
   "cell_type": "code",
   "execution_count": 5,
   "id": "5ee209a0",
   "metadata": {},
   "outputs": [
    {
     "data": {
      "text/plain": [
       "100"
      ]
     },
     "execution_count": 5,
     "metadata": {},
     "output_type": "execute_result"
    }
   ],
   "source": [
    "df[('영업이익', '컨센서스')][0]"
   ]
  },
  {
   "cell_type": "markdown",
   "id": "45881eab",
   "metadata": {},
   "source": [
    "### 235. zip"
   ]
  },
  {
   "cell_type": "markdown",
   "id": "f4ade6bb",
   "metadata": {},
   "source": [
    "다음 before 리스트를 after 리스트로 변환하세요.\n",
    "\n",
    "before = [  \n",
    "    ('영업이익', '영업이익', '당기순이익', '당기순이익'),   \n",
    "    ('컨센서스', '잠정치', '컨센서스', '잠정치')  \n",
    "]\n",
    "\n",
    "after = [  \n",
    "    ('영업이익', '컨센서스'),   \n",
    "    ('영업이익', '잠정치'),   \n",
    "    ('당기순이익', '컨센서스'),   \n",
    "    ('당기순이익', '잠정치')  \n",
    "]"
   ]
  },
  {
   "cell_type": "code",
   "execution_count": 6,
   "id": "d8b61500",
   "metadata": {},
   "outputs": [
    {
     "data": {
      "text/plain": [
       "[('영업이익', '컨센서스'), ('영업이익', '잠정치'), ('당기순이익', '컨센서스'), ('당기순이익', '잠정치')]"
      ]
     },
     "execution_count": 6,
     "metadata": {},
     "output_type": "execute_result"
    }
   ],
   "source": [
    "before = [\n",
    "    ('영업이익', '영업이익', '당기순이익', '당기순이익'), \n",
    "    ('컨센서스', '잠정치', '컨센서스', '잠정치')\n",
    "]\n",
    "\n",
    "after = [\n",
    "    ('영업이익', '컨센서스'), \n",
    "    ('영업이익', '잠정치'), \n",
    "    ('당기순이익', '컨센서스'), \n",
    "    ('당기순이익', '잠정치')\n",
    "]\n",
    "\n",
    "after = list(zip(*before))\n",
    "after"
   ]
  },
  {
   "cell_type": "markdown",
   "id": "a0fda764",
   "metadata": {},
   "source": [
    "### 236. zip"
   ]
  },
  {
   "cell_type": "markdown",
   "id": "72ca95aa",
   "metadata": {},
   "source": [
    "위의 after 리스트를 before 리스트로 변경해보세요."
   ]
  },
  {
   "cell_type": "code",
   "execution_count": 7,
   "id": "cec4cbbc",
   "metadata": {},
   "outputs": [
    {
     "data": {
      "text/plain": [
       "[('영업이익', '영업이익', '당기순이익', '당기순이익'), ('컨센서스', '잠정치', '컨센서스', '잠정치')]"
      ]
     },
     "execution_count": 7,
     "metadata": {},
     "output_type": "execute_result"
    }
   ],
   "source": [
    "before = list(zip(*after))\n",
    "before"
   ]
  },
  {
   "cell_type": "markdown",
   "id": "dbee77b5",
   "metadata": {},
   "source": [
    "### 237. slice(None)"
   ]
  },
  {
   "cell_type": "markdown",
   "id": "77af498f",
   "metadata": {},
   "source": [
    "위 데이터프레임에서 컨센서스 컬럼들만 선택하여 다음 그림과 같은 데이터프레임을 생성해보세요."
   ]
  },
  {
   "cell_type": "code",
   "execution_count": 8,
   "id": "ee94e675",
   "metadata": {},
   "outputs": [
    {
     "data": {
      "text/html": [
       "<div>\n",
       "<style scoped>\n",
       "    .dataframe tbody tr th:only-of-type {\n",
       "        vertical-align: middle;\n",
       "    }\n",
       "\n",
       "    .dataframe tbody tr th {\n",
       "        vertical-align: top;\n",
       "    }\n",
       "\n",
       "    .dataframe thead tr th {\n",
       "        text-align: left;\n",
       "    }\n",
       "</style>\n",
       "<table border=\"1\" class=\"dataframe\">\n",
       "  <thead>\n",
       "    <tr>\n",
       "      <th></th>\n",
       "      <th>영업이익</th>\n",
       "      <th>당기순이익</th>\n",
       "    </tr>\n",
       "    <tr>\n",
       "      <th></th>\n",
       "      <th>컨센서스</th>\n",
       "      <th>컨센서스</th>\n",
       "    </tr>\n",
       "  </thead>\n",
       "  <tbody>\n",
       "    <tr>\n",
       "      <th>2020/06</th>\n",
       "      <td>100</td>\n",
       "      <td>800</td>\n",
       "    </tr>\n",
       "    <tr>\n",
       "      <th>2020/09</th>\n",
       "      <td>1200</td>\n",
       "      <td>900</td>\n",
       "    </tr>\n",
       "  </tbody>\n",
       "</table>\n",
       "</div>"
      ],
      "text/plain": [
       "         영업이익 당기순이익\n",
       "         컨센서스  컨센서스\n",
       "2020/06   100   800\n",
       "2020/09  1200   900"
      ]
     },
     "execution_count": 8,
     "metadata": {},
     "output_type": "execute_result"
    }
   ],
   "source": [
    "arrays = [['영업이익', '영업이익', '당기순이익', '당기순이익'],\n",
    "         ['컨센서스', '잠정치', '컨센서스', '잠정치']]\n",
    "\n",
    "columns = pd.MultiIndex.from_arrays(arrays)\n",
    "\n",
    "data = [[100, 900, 800, 700], [1200, 1400, 900, 800]]\n",
    "\n",
    "index = ['2020/06', '2020/09']\n",
    "\n",
    "df = DataFrame(data=data, index=index, columns=columns)\n",
    "df.loc[:, (slice(None), '컨센서스')]"
   ]
  },
  {
   "cell_type": "markdown",
   "id": "530b637e",
   "metadata": {},
   "source": [
    "### 238. MultiIndex 인덱싱"
   ]
  },
  {
   "cell_type": "markdown",
   "id": "d95b079a",
   "metadata": {},
   "source": [
    "위 데이터프레임에서 다음 빨간색 네모 부분의 데이터만 선택하세요."
   ]
  },
  {
   "cell_type": "code",
   "execution_count": 9,
   "id": "4fa6d406",
   "metadata": {},
   "outputs": [
    {
     "data": {
      "text/html": [
       "<div>\n",
       "<style scoped>\n",
       "    .dataframe tbody tr th:only-of-type {\n",
       "        vertical-align: middle;\n",
       "    }\n",
       "\n",
       "    .dataframe tbody tr th {\n",
       "        vertical-align: top;\n",
       "    }\n",
       "\n",
       "    .dataframe thead th {\n",
       "        text-align: right;\n",
       "    }\n",
       "</style>\n",
       "<table border=\"1\" class=\"dataframe\">\n",
       "  <thead>\n",
       "    <tr style=\"text-align: right;\">\n",
       "      <th></th>\n",
       "      <th>컨센서스</th>\n",
       "      <th>잠정치</th>\n",
       "    </tr>\n",
       "  </thead>\n",
       "  <tbody>\n",
       "    <tr>\n",
       "      <th>2020/06</th>\n",
       "      <td>100</td>\n",
       "      <td>900</td>\n",
       "    </tr>\n",
       "    <tr>\n",
       "      <th>2020/09</th>\n",
       "      <td>1200</td>\n",
       "      <td>1400</td>\n",
       "    </tr>\n",
       "  </tbody>\n",
       "</table>\n",
       "</div>"
      ],
      "text/plain": [
       "         컨센서스   잠정치\n",
       "2020/06   100   900\n",
       "2020/09  1200  1400"
      ]
     },
     "execution_count": 9,
     "metadata": {},
     "output_type": "execute_result"
    }
   ],
   "source": [
    "df['영업이익']"
   ]
  },
  {
   "cell_type": "markdown",
   "id": "a1da2b3d",
   "metadata": {},
   "source": [
    "### 239. MultiIndex 인덱싱 (iloc)"
   ]
  },
  {
   "cell_type": "markdown",
   "id": "273b05bc",
   "metadata": {},
   "source": [
    "위 데이터프레임에서 iloc 속성을 사용해서 잠정치 컬럼만 모아서 데이터프레임을 생성해보세요."
   ]
  },
  {
   "cell_type": "code",
   "execution_count": 10,
   "id": "d206ed9b",
   "metadata": {},
   "outputs": [
    {
     "data": {
      "text/html": [
       "<div>\n",
       "<style scoped>\n",
       "    .dataframe tbody tr th:only-of-type {\n",
       "        vertical-align: middle;\n",
       "    }\n",
       "\n",
       "    .dataframe tbody tr th {\n",
       "        vertical-align: top;\n",
       "    }\n",
       "\n",
       "    .dataframe thead tr th {\n",
       "        text-align: left;\n",
       "    }\n",
       "</style>\n",
       "<table border=\"1\" class=\"dataframe\">\n",
       "  <thead>\n",
       "    <tr>\n",
       "      <th></th>\n",
       "      <th>영업이익</th>\n",
       "      <th>당기순이익</th>\n",
       "    </tr>\n",
       "    <tr>\n",
       "      <th></th>\n",
       "      <th>잠정치</th>\n",
       "      <th>잠정치</th>\n",
       "    </tr>\n",
       "  </thead>\n",
       "  <tbody>\n",
       "    <tr>\n",
       "      <th>2020/06</th>\n",
       "      <td>900</td>\n",
       "      <td>700</td>\n",
       "    </tr>\n",
       "    <tr>\n",
       "      <th>2020/09</th>\n",
       "      <td>1400</td>\n",
       "      <td>800</td>\n",
       "    </tr>\n",
       "  </tbody>\n",
       "</table>\n",
       "</div>"
      ],
      "text/plain": [
       "         영업이익 당기순이익\n",
       "          잠정치   잠정치\n",
       "2020/06   900   700\n",
       "2020/09  1400   800"
      ]
     },
     "execution_count": 10,
     "metadata": {},
     "output_type": "execute_result"
    }
   ],
   "source": [
    "df.iloc[:,1::2]"
   ]
  },
  {
   "cell_type": "markdown",
   "id": "eb44ec38",
   "metadata": {},
   "source": [
    "### 240. DataFrame.T"
   ]
  },
  {
   "cell_type": "markdown",
   "id": "e7f0a4a9",
   "metadata": {},
   "source": [
    "위 데이터프레임을 다음 그림의 데이터프레임으로 변환해보세요."
   ]
  },
  {
   "cell_type": "code",
   "execution_count": 11,
   "id": "e1f7779e",
   "metadata": {},
   "outputs": [
    {
     "data": {
      "text/html": [
       "<div>\n",
       "<style scoped>\n",
       "    .dataframe tbody tr th:only-of-type {\n",
       "        vertical-align: middle;\n",
       "    }\n",
       "\n",
       "    .dataframe tbody tr th {\n",
       "        vertical-align: top;\n",
       "    }\n",
       "\n",
       "    .dataframe thead th {\n",
       "        text-align: right;\n",
       "    }\n",
       "</style>\n",
       "<table border=\"1\" class=\"dataframe\">\n",
       "  <thead>\n",
       "    <tr style=\"text-align: right;\">\n",
       "      <th></th>\n",
       "      <th></th>\n",
       "      <th>2020/06</th>\n",
       "      <th>2020/09</th>\n",
       "    </tr>\n",
       "  </thead>\n",
       "  <tbody>\n",
       "    <tr>\n",
       "      <th rowspan=\"2\" valign=\"top\">영업이익</th>\n",
       "      <th>컨센서스</th>\n",
       "      <td>100</td>\n",
       "      <td>1200</td>\n",
       "    </tr>\n",
       "    <tr>\n",
       "      <th>잠정치</th>\n",
       "      <td>900</td>\n",
       "      <td>1400</td>\n",
       "    </tr>\n",
       "    <tr>\n",
       "      <th rowspan=\"2\" valign=\"top\">당기순이익</th>\n",
       "      <th>컨센서스</th>\n",
       "      <td>800</td>\n",
       "      <td>900</td>\n",
       "    </tr>\n",
       "    <tr>\n",
       "      <th>잠정치</th>\n",
       "      <td>700</td>\n",
       "      <td>800</td>\n",
       "    </tr>\n",
       "  </tbody>\n",
       "</table>\n",
       "</div>"
      ],
      "text/plain": [
       "            2020/06  2020/09\n",
       "영업이익  컨센서스      100     1200\n",
       "      잠정치       900     1400\n",
       "당기순이익 컨센서스      800      900\n",
       "      잠정치       700      800"
      ]
     },
     "execution_count": 11,
     "metadata": {},
     "output_type": "execute_result"
    }
   ],
   "source": [
    "df.T"
   ]
  }
 ],
 "metadata": {
  "kernelspec": {
   "display_name": "Python 3 (ipykernel)",
   "language": "python",
   "name": "python3"
  },
  "language_info": {
   "codemirror_mode": {
    "name": "ipython",
    "version": 3
   },
   "file_extension": ".py",
   "mimetype": "text/x-python",
   "name": "python",
   "nbconvert_exporter": "python",
   "pygments_lexer": "ipython3",
   "version": "3.10.9"
  }
 },
 "nbformat": 4,
 "nbformat_minor": 5
}
