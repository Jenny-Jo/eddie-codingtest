{
 "cells": [
  {
   "cell_type": "code",
   "execution_count": 1,
   "id": "7f01d281",
   "metadata": {},
   "outputs": [],
   "source": [
    "import numpy as np\n",
    "import pandas as pd\n",
    "from pandas import DataFrame"
   ]
  },
  {
   "cell_type": "markdown",
   "id": "dcdd74d6",
   "metadata": {},
   "source": [
    "### 221. DataFrame 생성"
   ]
  },
  {
   "cell_type": "markdown",
   "id": "f87bffdd",
   "metadata": {},
   "source": [
    "다음 그림과 같은 데이터프레임을 생성하세요.(그림생략)"
   ]
  },
  {
   "cell_type": "code",
   "execution_count": 3,
   "id": "59dea00d",
   "metadata": {},
   "outputs": [],
   "source": [
    "df = pd.DataFrame({'Category':['Multiples', 'Multiples', 'Dividends', 'Divedends'],\n",
    "             'Factor':['PER', 'PBR', 'DPS', '배당성향'],\n",
    "             '2020':[21.09, 2.06, 2944.00, 78.00],\n",
    "             '2021':[13.55, 1.80, 1444.00, 25.00]})"
   ]
  },
  {
   "cell_type": "code",
   "execution_count": 4,
   "id": "cc50aea9",
   "metadata": {},
   "outputs": [
    {
     "data": {
      "text/html": [
       "<div>\n",
       "<style scoped>\n",
       "    .dataframe tbody tr th:only-of-type {\n",
       "        vertical-align: middle;\n",
       "    }\n",
       "\n",
       "    .dataframe tbody tr th {\n",
       "        vertical-align: top;\n",
       "    }\n",
       "\n",
       "    .dataframe thead th {\n",
       "        text-align: right;\n",
       "    }\n",
       "</style>\n",
       "<table border=\"1\" class=\"dataframe\">\n",
       "  <thead>\n",
       "    <tr style=\"text-align: right;\">\n",
       "      <th></th>\n",
       "      <th>Category</th>\n",
       "      <th>Factor</th>\n",
       "      <th>2020</th>\n",
       "      <th>2021</th>\n",
       "    </tr>\n",
       "  </thead>\n",
       "  <tbody>\n",
       "    <tr>\n",
       "      <th>0</th>\n",
       "      <td>Multiples</td>\n",
       "      <td>PER</td>\n",
       "      <td>21.09</td>\n",
       "      <td>13.55</td>\n",
       "    </tr>\n",
       "    <tr>\n",
       "      <th>1</th>\n",
       "      <td>Multiples</td>\n",
       "      <td>PBR</td>\n",
       "      <td>2.06</td>\n",
       "      <td>1.80</td>\n",
       "    </tr>\n",
       "    <tr>\n",
       "      <th>2</th>\n",
       "      <td>Dividends</td>\n",
       "      <td>DPS</td>\n",
       "      <td>2944.00</td>\n",
       "      <td>1444.00</td>\n",
       "    </tr>\n",
       "    <tr>\n",
       "      <th>3</th>\n",
       "      <td>Divedends</td>\n",
       "      <td>배당성향</td>\n",
       "      <td>78.00</td>\n",
       "      <td>25.00</td>\n",
       "    </tr>\n",
       "  </tbody>\n",
       "</table>\n",
       "</div>"
      ],
      "text/plain": [
       "    Category Factor     2020     2021\n",
       "0  Multiples    PER    21.09    13.55\n",
       "1  Multiples    PBR     2.06     1.80\n",
       "2  Dividends    DPS  2944.00  1444.00\n",
       "3  Divedends   배당성향    78.00    25.00"
      ]
     },
     "execution_count": 4,
     "metadata": {},
     "output_type": "execute_result"
    }
   ],
   "source": [
    "df"
   ]
  },
  {
   "cell_type": "markdown",
   "id": "65d52f4a",
   "metadata": {},
   "source": [
    "### 222. DataFrame.set_index (멀티인덱스)"
   ]
  },
  {
   "cell_type": "markdown",
   "id": "feb8d80c",
   "metadata": {},
   "source": [
    "위 데이터프레임에서 set_index 메서드를 사용해서 'Category' 컬럼과 'Factor' 컬럼을 MultiIndex로 설정하세요."
   ]
  },
  {
   "cell_type": "code",
   "execution_count": 8,
   "id": "30d8f893",
   "metadata": {},
   "outputs": [
    {
     "data": {
      "text/html": [
       "<div>\n",
       "<style scoped>\n",
       "    .dataframe tbody tr th:only-of-type {\n",
       "        vertical-align: middle;\n",
       "    }\n",
       "\n",
       "    .dataframe tbody tr th {\n",
       "        vertical-align: top;\n",
       "    }\n",
       "\n",
       "    .dataframe thead th {\n",
       "        text-align: right;\n",
       "    }\n",
       "</style>\n",
       "<table border=\"1\" class=\"dataframe\">\n",
       "  <thead>\n",
       "    <tr style=\"text-align: right;\">\n",
       "      <th></th>\n",
       "      <th></th>\n",
       "      <th>2020</th>\n",
       "      <th>2021</th>\n",
       "    </tr>\n",
       "    <tr>\n",
       "      <th>Category</th>\n",
       "      <th>Factor</th>\n",
       "      <th></th>\n",
       "      <th></th>\n",
       "    </tr>\n",
       "  </thead>\n",
       "  <tbody>\n",
       "    <tr>\n",
       "      <th rowspan=\"2\" valign=\"top\">Multiples</th>\n",
       "      <th>PER</th>\n",
       "      <td>21.09</td>\n",
       "      <td>13.55</td>\n",
       "    </tr>\n",
       "    <tr>\n",
       "      <th>PBR</th>\n",
       "      <td>2.06</td>\n",
       "      <td>1.80</td>\n",
       "    </tr>\n",
       "    <tr>\n",
       "      <th>Dividends</th>\n",
       "      <th>DPS</th>\n",
       "      <td>2944.00</td>\n",
       "      <td>1444.00</td>\n",
       "    </tr>\n",
       "    <tr>\n",
       "      <th>Divedends</th>\n",
       "      <th>배당성향</th>\n",
       "      <td>78.00</td>\n",
       "      <td>25.00</td>\n",
       "    </tr>\n",
       "  </tbody>\n",
       "</table>\n",
       "</div>"
      ],
      "text/plain": [
       "                     2020     2021\n",
       "Category  Factor                  \n",
       "Multiples PER       21.09    13.55\n",
       "          PBR        2.06     1.80\n",
       "Dividends DPS     2944.00  1444.00\n",
       "Divedends 배당성향      78.00    25.00"
      ]
     },
     "execution_count": 8,
     "metadata": {},
     "output_type": "execute_result"
    }
   ],
   "source": [
    "df1 = df.set_index(['Category', 'Factor'])\n",
    "df1"
   ]
  },
  {
   "cell_type": "markdown",
   "id": "c8b28097",
   "metadata": {},
   "source": [
    "### 223. pandas.MultiIndex.from_tuples (로우방향 저장)"
   ]
  },
  {
   "cell_type": "markdown",
   "id": "adde36e6",
   "metadata": {},
   "source": [
    "MultiIndex의 from_tuples 메서드를 사용해서 tuples를 MultiIndex 객체로 생성하세요. 멀티 인덱스의 이름은 ['number', 'color']로 지정하세요.\n",
    "\n",
    "import pandas as pd\n",
    "\n",
    "tuples = [  \n",
    "    ('Multiples', 'PER'),  \n",
    "    ('Multiples', 'PBR'),  \n",
    "    ('Dividends', 'DPS'),  \n",
    "    ('Dividends', '배당성향')  \n",
    "]"
   ]
  },
  {
   "cell_type": "code",
   "execution_count": 10,
   "id": "20c09ce9",
   "metadata": {},
   "outputs": [],
   "source": [
    "tuples = [\n",
    "    ('Multiples', 'PER'),\n",
    "    ('Multiples', 'PBR'),\n",
    "    ('Dividends', 'DPS'),\n",
    "    ('Dividends', '배당성향')\n",
    "]\n",
    "\n",
    "index = pd.MultiIndex.from_tuples(tuples, names=['Category', 'Factor'])"
   ]
  },
  {
   "cell_type": "markdown",
   "id": "92340f11",
   "metadata": {},
   "source": [
    "### 224. pandas.MultiIndex.from_arrays (컬럼방향 저장)"
   ]
  },
  {
   "cell_type": "markdown",
   "id": "2f62d463",
   "metadata": {},
   "source": [
    "MultiIndex의 from_arrays 메서드를 사용해서 파이썬 이중 리스트를 MultiIndex 객체로 생성하세요. 멀티 인덱스의 이름은 ['number', 'color']로 지정하세요.\n",
    "\n",
    "import pandas as pd\n",
    "\n",
    "arrays = [  \n",
    "    ['Mutiples', 'Multiples', 'Dividends', 'Dividends'],  \n",
    "    ['PER', 'PBR', 'DPS', '배당성향']  \n",
    "]"
   ]
  },
  {
   "cell_type": "code",
   "execution_count": 13,
   "id": "a131d1e2",
   "metadata": {},
   "outputs": [],
   "source": [
    "arrays = [\n",
    "    ['Mutiples', 'Multiples', 'Dividends', 'Dividends'],\n",
    "    ['PER', 'PBR', 'DPS', '배당성향']\n",
    "]\n",
    "index = pd.MultiIndex.from_arrays(arrays, names=['number', 'color'])"
   ]
  },
  {
   "cell_type": "markdown",
   "id": "4cc3ea23",
   "metadata": {},
   "source": [
    "### 225. pandas.MultiIndex"
   ]
  },
  {
   "cell_type": "markdown",
   "id": "a233de14",
   "metadata": {},
   "source": [
    "tuples 변수가 바인딩하는 리스트로부터 먼저 MultiIndex 객체를 생성한 후 데이터프레임 객체를 생성하세요.\n",
    "\n",
    "import pandas as pd\n",
    "\n",
    "tuples = [  \n",
    "    ('Multiples', 'PER'),  \n",
    "    ('Multiples', 'PBR'),  \n",
    "    ('Dividends', 'DPS'),  \n",
    "    ('Dividends', '배당성향')  \n",
    "]\n",
    "\n",
    "\n",
    "data = [  \n",
    "    [21.09, 13.55],  \n",
    "    [2.06, 1.80],  \n",
    "    [2944, 1444],  \n",
    "    [78, 25]  \n",
    "]\n",
    "\n",
    "columns = [2020, 2021]"
   ]
  },
  {
   "cell_type": "code",
   "execution_count": 14,
   "id": "8144aba2",
   "metadata": {},
   "outputs": [],
   "source": [
    "tuples = [\n",
    "    ('Multiples', 'PER'),\n",
    "    ('Multiples', 'PBR'),\n",
    "    ('Dividends', 'DPS'),\n",
    "    ('Dividends', '배당성향')\n",
    "]\n",
    "\n",
    "\n",
    "data = [\n",
    "    [21.09, 13.55],\n",
    "    [2.06, 1.80],\n",
    "    [2944, 1444],\n",
    "    [78, 25]\n",
    "]\n",
    "\n",
    "columns = [2020, 2021]\n",
    "\n",
    "index = pd.MultiIndex.from_tuples(tuples, names=['Category', 'Factor'])\n",
    "df = pd.DataFrame(data=data, index=index, columns=columns)"
   ]
  },
  {
   "cell_type": "code",
   "execution_count": 15,
   "id": "1f2213c0",
   "metadata": {},
   "outputs": [
    {
     "data": {
      "text/html": [
       "<div>\n",
       "<style scoped>\n",
       "    .dataframe tbody tr th:only-of-type {\n",
       "        vertical-align: middle;\n",
       "    }\n",
       "\n",
       "    .dataframe tbody tr th {\n",
       "        vertical-align: top;\n",
       "    }\n",
       "\n",
       "    .dataframe thead th {\n",
       "        text-align: right;\n",
       "    }\n",
       "</style>\n",
       "<table border=\"1\" class=\"dataframe\">\n",
       "  <thead>\n",
       "    <tr style=\"text-align: right;\">\n",
       "      <th></th>\n",
       "      <th></th>\n",
       "      <th>2020</th>\n",
       "      <th>2021</th>\n",
       "    </tr>\n",
       "    <tr>\n",
       "      <th>Category</th>\n",
       "      <th>Factor</th>\n",
       "      <th></th>\n",
       "      <th></th>\n",
       "    </tr>\n",
       "  </thead>\n",
       "  <tbody>\n",
       "    <tr>\n",
       "      <th rowspan=\"2\" valign=\"top\">Multiples</th>\n",
       "      <th>PER</th>\n",
       "      <td>21.09</td>\n",
       "      <td>13.55</td>\n",
       "    </tr>\n",
       "    <tr>\n",
       "      <th>PBR</th>\n",
       "      <td>2.06</td>\n",
       "      <td>1.80</td>\n",
       "    </tr>\n",
       "    <tr>\n",
       "      <th rowspan=\"2\" valign=\"top\">Dividends</th>\n",
       "      <th>DPS</th>\n",
       "      <td>2944.00</td>\n",
       "      <td>1444.00</td>\n",
       "    </tr>\n",
       "    <tr>\n",
       "      <th>배당성향</th>\n",
       "      <td>78.00</td>\n",
       "      <td>25.00</td>\n",
       "    </tr>\n",
       "  </tbody>\n",
       "</table>\n",
       "</div>"
      ],
      "text/plain": [
       "                     2020     2021\n",
       "Category  Factor                  \n",
       "Multiples PER       21.09    13.55\n",
       "          PBR        2.06     1.80\n",
       "Dividends DPS     2944.00  1444.00\n",
       "          배당성향      78.00    25.00"
      ]
     },
     "execution_count": 15,
     "metadata": {},
     "output_type": "execute_result"
    }
   ],
   "source": [
    "df"
   ]
  },
  {
   "cell_type": "markdown",
   "id": "0d84c4d2",
   "metadata": {},
   "source": [
    "### 226. MultiIndex 인덱싱"
   ]
  },
  {
   "cell_type": "markdown",
   "id": "77dd8517",
   "metadata": {},
   "source": [
    "다음 데이터프레임에서 빨간색 영역을 선택하세요.\n",
    "\n",
    "import pandas as pd\n",
    "\n",
    "tuples = [  \n",
    "    ('Multiples', 'PER'),  \n",
    "    ('Multiples', 'PBR'),  \n",
    "    ('Dividends', 'DPS'),  \n",
    "    ('Dividends', '배당성향')  \n",
    "]\n",
    "\n",
    "\n",
    "data = [  \n",
    "    [21.09, 13.55],  \n",
    "    [2.06, 1.80],  \n",
    "    [2944, 1444],  \n",
    "    [78, 25]  \n",
    "]\n",
    "\n",
    "columns = [2020, 2021]\n",
    "\n",
    "index = pd.MultiIndex.from_tuples(tuples, names=['Category', 'Factor'])  \n",
    "df = pd.DataFrame(data=data, index=index, columns=columns)"
   ]
  },
  {
   "cell_type": "code",
   "execution_count": 17,
   "id": "53929ca3",
   "metadata": {},
   "outputs": [
    {
     "data": {
      "text/html": [
       "<div>\n",
       "<style scoped>\n",
       "    .dataframe tbody tr th:only-of-type {\n",
       "        vertical-align: middle;\n",
       "    }\n",
       "\n",
       "    .dataframe tbody tr th {\n",
       "        vertical-align: top;\n",
       "    }\n",
       "\n",
       "    .dataframe thead th {\n",
       "        text-align: right;\n",
       "    }\n",
       "</style>\n",
       "<table border=\"1\" class=\"dataframe\">\n",
       "  <thead>\n",
       "    <tr style=\"text-align: right;\">\n",
       "      <th></th>\n",
       "      <th>2020</th>\n",
       "      <th>2021</th>\n",
       "    </tr>\n",
       "    <tr>\n",
       "      <th>Factor</th>\n",
       "      <th></th>\n",
       "      <th></th>\n",
       "    </tr>\n",
       "  </thead>\n",
       "  <tbody>\n",
       "    <tr>\n",
       "      <th>PER</th>\n",
       "      <td>21.09</td>\n",
       "      <td>13.55</td>\n",
       "    </tr>\n",
       "    <tr>\n",
       "      <th>PBR</th>\n",
       "      <td>2.06</td>\n",
       "      <td>1.80</td>\n",
       "    </tr>\n",
       "  </tbody>\n",
       "</table>\n",
       "</div>"
      ],
      "text/plain": [
       "         2020   2021\n",
       "Factor              \n",
       "PER     21.09  13.55\n",
       "PBR      2.06   1.80"
      ]
     },
     "execution_count": 17,
     "metadata": {},
     "output_type": "execute_result"
    }
   ],
   "source": [
    "tuples = [\n",
    "    ('Multiples', 'PER'),\n",
    "    ('Multiples', 'PBR'),\n",
    "    ('Dividends', 'DPS'),\n",
    "    ('Dividends', '배당성향')\n",
    "]\n",
    "\n",
    "\n",
    "data = [\n",
    "    [21.09, 13.55],\n",
    "    [2.06, 1.80],\n",
    "    [2944, 1444],\n",
    "    [78, 25]\n",
    "]\n",
    "\n",
    "columns = [2020, 2021]\n",
    "\n",
    "index = pd.MultiIndex.from_tuples(tuples, names=['Category', 'Factor'])\n",
    "df = pd.DataFrame(data=data, index=index, columns=columns)\n",
    "\n",
    "df.loc['Multiples']"
   ]
  },
  {
   "cell_type": "markdown",
   "id": "c10cce30",
   "metadata": {},
   "source": [
    "### 227. pandas.MultiIndex 인덱싱"
   ]
  },
  {
   "cell_type": "markdown",
   "id": "d66d89c6",
   "metadata": {},
   "source": [
    "위 데이터프레임에서 loc 속성을 이용해 Multiples의 PER 로우만 선택하세요."
   ]
  },
  {
   "cell_type": "code",
   "execution_count": 21,
   "id": "de9c428e",
   "metadata": {},
   "outputs": [
    {
     "data": {
      "text/plain": [
       "2020    21.09\n",
       "2021    13.55\n",
       "Name: (Multiples, PER), dtype: float64"
      ]
     },
     "execution_count": 21,
     "metadata": {},
     "output_type": "execute_result"
    }
   ],
   "source": [
    "df.loc[('Multiples','PER')]"
   ]
  },
  {
   "cell_type": "markdown",
   "id": "f7fe7d59",
   "metadata": {},
   "source": [
    "### 228. pandas.MultiIndex 인덱싱 (iloc)"
   ]
  },
  {
   "cell_type": "markdown",
   "id": "ab0fd316",
   "metadata": {},
   "source": [
    "위 데이터프레임에서 iloc 속성을 이용해 Multiples의 PER 로우만 선택하세요."
   ]
  },
  {
   "cell_type": "code",
   "execution_count": 23,
   "id": "0a9cd355",
   "metadata": {},
   "outputs": [
    {
     "data": {
      "text/plain": [
       "2020    21.09\n",
       "2021    13.55\n",
       "Name: (Multiples, PER), dtype: float64"
      ]
     },
     "execution_count": 23,
     "metadata": {},
     "output_type": "execute_result"
    }
   ],
   "source": [
    "df.iloc[0]"
   ]
  },
  {
   "cell_type": "markdown",
   "id": "74c5a930",
   "metadata": {},
   "source": [
    "### 229. pandas.MultiIndex 인덱싱 loc"
   ]
  },
  {
   "cell_type": "markdown",
   "id": "4967b73e",
   "metadata": {},
   "source": [
    "위 데이터프레임에서 loc 속성을 사용하여 2020년 PER 값을 출력해보세요."
   ]
  },
  {
   "cell_type": "code",
   "execution_count": 25,
   "id": "8a1e9916",
   "metadata": {},
   "outputs": [
    {
     "data": {
      "text/plain": [
       "21.09"
      ]
     },
     "execution_count": 25,
     "metadata": {},
     "output_type": "execute_result"
    }
   ],
   "source": [
    "df.loc[('Multiples', 'PER'), 2020]"
   ]
  },
  {
   "cell_type": "markdown",
   "id": "ed532663",
   "metadata": {},
   "source": [
    "### 230. DataFrame.sort_index"
   ]
  },
  {
   "cell_type": "markdown",
   "id": "5386cc7b",
   "metadata": {},
   "source": [
    "위 데이터프레임을 sort_index 메서드를 사용해서 인덱스를 정렬하세요."
   ]
  },
  {
   "cell_type": "code",
   "execution_count": 26,
   "id": "4e808e92",
   "metadata": {},
   "outputs": [
    {
     "data": {
      "text/html": [
       "<div>\n",
       "<style scoped>\n",
       "    .dataframe tbody tr th:only-of-type {\n",
       "        vertical-align: middle;\n",
       "    }\n",
       "\n",
       "    .dataframe tbody tr th {\n",
       "        vertical-align: top;\n",
       "    }\n",
       "\n",
       "    .dataframe thead th {\n",
       "        text-align: right;\n",
       "    }\n",
       "</style>\n",
       "<table border=\"1\" class=\"dataframe\">\n",
       "  <thead>\n",
       "    <tr style=\"text-align: right;\">\n",
       "      <th></th>\n",
       "      <th></th>\n",
       "      <th>2020</th>\n",
       "      <th>2021</th>\n",
       "    </tr>\n",
       "    <tr>\n",
       "      <th>Category</th>\n",
       "      <th>Factor</th>\n",
       "      <th></th>\n",
       "      <th></th>\n",
       "    </tr>\n",
       "  </thead>\n",
       "  <tbody>\n",
       "    <tr>\n",
       "      <th rowspan=\"2\" valign=\"top\">Dividends</th>\n",
       "      <th>DPS</th>\n",
       "      <td>2944.00</td>\n",
       "      <td>1444.00</td>\n",
       "    </tr>\n",
       "    <tr>\n",
       "      <th>배당성향</th>\n",
       "      <td>78.00</td>\n",
       "      <td>25.00</td>\n",
       "    </tr>\n",
       "    <tr>\n",
       "      <th rowspan=\"2\" valign=\"top\">Multiples</th>\n",
       "      <th>PBR</th>\n",
       "      <td>2.06</td>\n",
       "      <td>1.80</td>\n",
       "    </tr>\n",
       "    <tr>\n",
       "      <th>PER</th>\n",
       "      <td>21.09</td>\n",
       "      <td>13.55</td>\n",
       "    </tr>\n",
       "  </tbody>\n",
       "</table>\n",
       "</div>"
      ],
      "text/plain": [
       "                     2020     2021\n",
       "Category  Factor                  \n",
       "Dividends DPS     2944.00  1444.00\n",
       "          배당성향      78.00    25.00\n",
       "Multiples PBR        2.06     1.80\n",
       "          PER       21.09    13.55"
      ]
     },
     "execution_count": 26,
     "metadata": {},
     "output_type": "execute_result"
    }
   ],
   "source": [
    "df.sort_index()"
   ]
  }
 ],
 "metadata": {
  "kernelspec": {
   "display_name": "Python 3 (ipykernel)",
   "language": "python",
   "name": "python3"
  },
  "language_info": {
   "codemirror_mode": {
    "name": "ipython",
    "version": 3
   },
   "file_extension": ".py",
   "mimetype": "text/x-python",
   "name": "python",
   "nbconvert_exporter": "python",
   "pygments_lexer": "ipython3",
   "version": "3.10.9"
  }
 },
 "nbformat": 4,
 "nbformat_minor": 5
}
