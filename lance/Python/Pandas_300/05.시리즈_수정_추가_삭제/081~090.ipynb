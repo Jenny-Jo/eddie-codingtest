{
 "cells": [
  {
   "cell_type": "code",
   "execution_count": 1,
   "id": "48ac96ef",
   "metadata": {},
   "outputs": [],
   "source": [
    "import pandas as pd\n",
    "from pandas import Series"
   ]
  },
  {
   "cell_type": "markdown",
   "id": "a426b763",
   "metadata": {},
   "source": [
    "### 081. 시리즈 추가"
   ]
  },
  {
   "cell_type": "markdown",
   "id": "fa584e3e",
   "metadata": {},
   "source": [
    "시리즈에 순이 인덱스에 400을 추가하라.\n",
    "\n",
    "data = [100, 200, 300]  \n",
    "index = [\"철수\", \"영희\", \"아름\"]  \n",
    "s = Series(data, index)"
   ]
  },
  {
   "cell_type": "code",
   "execution_count": 3,
   "id": "1e00abfd",
   "metadata": {},
   "outputs": [
    {
     "data": {
      "text/plain": [
       "철수    100\n",
       "영희    200\n",
       "아름    300\n",
       "순이    400\n",
       "dtype: int64"
      ]
     },
     "execution_count": 3,
     "metadata": {},
     "output_type": "execute_result"
    }
   ],
   "source": [
    "data = [100, 200, 300]\n",
    "index = [\"철수\", \"영희\", \"아름\"]\n",
    "s = Series(data, index)\n",
    "s.loc['순이'] = 400\n",
    "s"
   ]
  },
  {
   "cell_type": "markdown",
   "id": "ffc92ace",
   "metadata": {},
   "source": [
    "### 082. 시리즈 삭제"
   ]
  },
  {
   "cell_type": "markdown",
   "id": "1dd0bfa6",
   "metadata": {},
   "source": [
    "시리즈에 철수를 삭제하라.\n",
    "\n",
    "data = [100, 200, 300]  \n",
    "index = [\"철수\", \"영희\", \"아름\"]  \n",
    "s = Series(data, index)"
   ]
  },
  {
   "cell_type": "code",
   "execution_count": 5,
   "id": "025a8b2f",
   "metadata": {},
   "outputs": [
    {
     "data": {
      "text/plain": [
       "영희    200\n",
       "아름    300\n",
       "dtype: int64"
      ]
     },
     "execution_count": 5,
     "metadata": {},
     "output_type": "execute_result"
    }
   ],
   "source": [
    "data = [100, 200, 300]\n",
    "index = [\"철수\", \"영희\", \"아름\"]\n",
    "s = Series(data, index)\n",
    "s.drop('철수')"
   ]
  },
  {
   "cell_type": "markdown",
   "id": "435edee9",
   "metadata": {},
   "source": [
    "### 083. 시리즈 삭제 (inplace)"
   ]
  },
  {
   "cell_type": "markdown",
   "id": "17c4fa2d",
   "metadata": {},
   "source": [
    "시리즈 객체에서 drop 메소드를 사용하여 철수를 삭제하세요. 이때 drop 메소드의 인자로 inplace=True를 사용해보고 그 의미를 설명해보세요.\n",
    "\n",
    "data = [100, 200, 300]  \n",
    "index = [\"철수\", \"영희\", \"아름\"]  \n",
    "s = Series(data, index)"
   ]
  },
  {
   "cell_type": "code",
   "execution_count": 8,
   "id": "63748640",
   "metadata": {},
   "outputs": [
    {
     "data": {
      "text/plain": [
       "영희    200\n",
       "아름    300\n",
       "dtype: int64"
      ]
     },
     "execution_count": 8,
     "metadata": {},
     "output_type": "execute_result"
    }
   ],
   "source": [
    "data = [100, 200, 300]\n",
    "index = [\"철수\", \"영희\", \"아름\"]\n",
    "s = Series(data, index)\n",
    "s.drop('철수', inplace=True)\n",
    "s"
   ]
  },
  {
   "cell_type": "markdown",
   "id": "cf620a43",
   "metadata": {},
   "source": [
    "### 084. unique"
   ]
  },
  {
   "cell_type": "markdown",
   "id": "d64f08aa",
   "metadata": {},
   "source": [
    "다음 시리즈 객체는 주식 종목별 업종을 나타냅니다. 업종 중 중복적인 값을 제외한 값을 출력해보세요.\n",
    "\n",
    "from pandas import Series\n",
    "\n",
    "data = {  \n",
    "    \"삼성전자\": \"전기,전자\",  \n",
    "    \"LG전자\": \"전기,전자\",  \n",
    "    \"현대차\": \"운수장비\",  \n",
    "    \"NAVER\": \"서비스업\",  \n",
    "    \"카카오\": \"서비스업\"  \n",
    "}  \n",
    "s = Series(data)"
   ]
  },
  {
   "cell_type": "code",
   "execution_count": 9,
   "id": "e244f492",
   "metadata": {},
   "outputs": [
    {
     "data": {
      "text/plain": [
       "array(['전기,전자', '운수장비', '서비스업'], dtype=object)"
      ]
     },
     "execution_count": 9,
     "metadata": {},
     "output_type": "execute_result"
    }
   ],
   "source": [
    "data = {\n",
    "    \"삼성전자\": \"전기,전자\",\n",
    "    \"LG전자\": \"전기,전자\",\n",
    "    \"현대차\": \"운수장비\",\n",
    "    \"NAVER\": \"서비스업\",\n",
    "    \"카카오\": \"서비스업\"\n",
    "}\n",
    "s = Series(data)\n",
    "\n",
    "s.unique()"
   ]
  },
  {
   "cell_type": "markdown",
   "id": "cdbc1b8f",
   "metadata": {},
   "source": [
    "### 085. unique"
   ]
  },
  {
   "cell_type": "markdown",
   "id": "fbec8ad4",
   "metadata": {},
   "source": [
    "다음 시리즈 객체는 파이스탁 출판사의 저녁 식대 지출 내역입니다. 식대 금액에 대해서 중복적인 값을 제외한 값만 출력해보세요.\n",
    "\n",
    "import pandas as pd\n",
    "\n",
    "s = pd.Series(  \n",
    "    data = [9000, 9000, 8000, 9000, 10000],  \n",
    "    index = ['김과장', '이대리', '박전무', '이대리', '이대리']  \n",
    ")"
   ]
  },
  {
   "cell_type": "code",
   "execution_count": 10,
   "id": "d7fe8bb7",
   "metadata": {},
   "outputs": [
    {
     "data": {
      "text/plain": [
       "array([ 9000,  8000, 10000])"
      ]
     },
     "execution_count": 10,
     "metadata": {},
     "output_type": "execute_result"
    }
   ],
   "source": [
    "s = pd.Series(\n",
    "    data = [9000, 9000, 8000, 9000, 10000],\n",
    "    index = ['김과장', '이대리', '박전무', '이대리', '이대리']\n",
    ")\n",
    "\n",
    "s.unique()"
   ]
  },
  {
   "cell_type": "markdown",
   "id": "a7cb1483",
   "metadata": {},
   "source": [
    "### 086. unique"
   ]
  },
  {
   "cell_type": "markdown",
   "id": "c017dfca",
   "metadata": {},
   "source": [
    "다음 시리즈 객체는 파이스탁 출판사의 저녁 식대 지출 내역입니다. 한 번이라도 야근한 직원들의 명부를 출력해보세요.\n",
    "\n",
    "import pandas as pd\n",
    "\n",
    "s = pd.Series(  \n",
    "    data = [9000, 9000, 8000, 9000, 10000],  \n",
    "    index = ['김과장', '이대리', '박전무', '이대리', '이대리']  \n",
    ")"
   ]
  },
  {
   "cell_type": "code",
   "execution_count": 11,
   "id": "385a9ffc",
   "metadata": {},
   "outputs": [
    {
     "data": {
      "text/plain": [
       "Index(['김과장', '이대리', '박전무'], dtype='object')"
      ]
     },
     "execution_count": 11,
     "metadata": {},
     "output_type": "execute_result"
    }
   ],
   "source": [
    "s = pd.Series(\n",
    "    data = [9000, 9000, 8000, 9000, 10000],\n",
    "    index = ['김과장', '이대리', '박전무', '이대리', '이대리']\n",
    ")\n",
    "s.index.unique()"
   ]
  },
  {
   "cell_type": "markdown",
   "id": "d82f8696",
   "metadata": {},
   "source": [
    "### 087. value_counts"
   ]
  },
  {
   "cell_type": "markdown",
   "id": "7298d88e",
   "metadata": {},
   "source": [
    "다음 시리즈 객체는 파이스탁 출판사의 저녁 식대 지출 내역입니다. 식대 금액별로 횟수를 출력해보세요.\n",
    "\n",
    "import pandas as pd\n",
    "\n",
    "s = pd.Series(  \n",
    "    data = [9000, 9000, 8000, 9000, 10000],  \n",
    "    index = ['김과장', '이대리', '박전무', '이대리', '이대리']  \n",
    ")"
   ]
  },
  {
   "cell_type": "code",
   "execution_count": 14,
   "id": "fd089441",
   "metadata": {},
   "outputs": [
    {
     "data": {
      "text/plain": [
       "9000     3\n",
       "8000     1\n",
       "10000    1\n",
       "dtype: int64"
      ]
     },
     "execution_count": 14,
     "metadata": {},
     "output_type": "execute_result"
    }
   ],
   "source": [
    "s = pd.Series(\n",
    "    data = [9000, 9000, 8000, 9000, 10000],\n",
    "    index = ['김과장', '이대리', '박전무', '이대리', '이대리']\n",
    ")\n",
    "s.value_counts()"
   ]
  },
  {
   "cell_type": "markdown",
   "id": "a5eb76a4",
   "metadata": {},
   "source": [
    "### 088. value_counts"
   ]
  },
  {
   "cell_type": "markdown",
   "id": "4d34cfc6",
   "metadata": {},
   "source": [
    "다음 시리즈 객체는 파이스탁 출판사의 저녁 식대 지출 내역입니다. 직원별 야근 회수를 출력해보세요.\n",
    "\n",
    "import pandas as pd\n",
    "\n",
    "s = pd.Series(  \n",
    "    data = [9000, 9000, 8000, 9000, 10000],  \n",
    "    index = ['김과장', '이대리', '박전무', '이대리', '이대리']  \n",
    ")"
   ]
  },
  {
   "cell_type": "code",
   "execution_count": 13,
   "id": "1e7368bc",
   "metadata": {},
   "outputs": [
    {
     "data": {
      "text/plain": [
       "이대리    3\n",
       "김과장    1\n",
       "박전무    1\n",
       "dtype: int64"
      ]
     },
     "execution_count": 13,
     "metadata": {},
     "output_type": "execute_result"
    }
   ],
   "source": [
    "s = pd.Series(\n",
    "    data = [9000, 9000, 8000, 9000, 10000],\n",
    "    index = ['김과장', '이대리', '박전무', '이대리', '이대리']\n",
    ")\n",
    "\n",
    "s.index.value_counts()"
   ]
  },
  {
   "cell_type": "markdown",
   "id": "3975e9d5",
   "metadata": {},
   "source": [
    "### 089. value_counts"
   ]
  },
  {
   "cell_type": "markdown",
   "id": "5b4e767d",
   "metadata": {},
   "source": [
    "다음 시리즈 객체는 종목에 대한 업종 정보를 표현합니다. 업종별 발생 횟수를 출력해보세요.\n",
    "\n",
    "from pandas import Series\n",
    "\n",
    "data = {  \n",
    "    \"삼성전자\": \"전기,전자\",  \n",
    "    \"LG전자\": \"전기,전자\",  \n",
    "    \"현대차\": \"운수장비\",  \n",
    "    \"NAVER\": \"서비스업\",  \n",
    "    \"카카오\": \"서비스업\"  \n",
    "}  \n",
    "s = Series(data)"
   ]
  },
  {
   "cell_type": "code",
   "execution_count": 15,
   "id": "5e90e054",
   "metadata": {},
   "outputs": [
    {
     "data": {
      "text/plain": [
       "전기,전자    2\n",
       "서비스업     2\n",
       "운수장비     1\n",
       "dtype: int64"
      ]
     },
     "execution_count": 15,
     "metadata": {},
     "output_type": "execute_result"
    }
   ],
   "source": [
    "data = {\n",
    "    \"삼성전자\": \"전기,전자\",\n",
    "    \"LG전자\": \"전기,전자\",\n",
    "    \"현대차\": \"운수장비\",\n",
    "    \"NAVER\": \"서비스업\",\n",
    "    \"카카오\": \"서비스업\"\n",
    "}\n",
    "s = Series(data)\n",
    "s.value_counts()"
   ]
  },
  {
   "cell_type": "markdown",
   "id": "725ad5ad",
   "metadata": {},
   "source": [
    "### 090. missing data"
   ]
  },
  {
   "cell_type": "markdown",
   "id": "85ce9b02",
   "metadata": {},
   "source": [
    "아래 표는 어떤 회사의 재무제표의 일부 항목입니다. 다음 표를 판다스 시리즈 객체로 생성하세요.  \n",
    "PER 값이 존재하지 않는데 이를 numpy 모듈의 nan 타입을 사용해서 표현하면 됩니다.\n",
    "\n",
    "항목\t값  \n",
    "매출액\t300  \n",
    "PER\tN/A  \n",
    "PBR\t2.0  "
   ]
  },
  {
   "cell_type": "code",
   "execution_count": 18,
   "id": "3bfb5a06",
   "metadata": {},
   "outputs": [
    {
     "data": {
      "text/plain": [
       "매출액    300.0\n",
       "PER      NaN\n",
       "PBR      2.0\n",
       "dtype: float64"
      ]
     },
     "execution_count": 18,
     "metadata": {},
     "output_type": "execute_result"
    }
   ],
   "source": [
    "import numpy as np\n",
    "\n",
    "index = ['매출액', 'PER', 'PBR']\n",
    "data = [300, np.nan, 2.0]\n",
    "\n",
    "Series(data, index)"
   ]
  }
 ],
 "metadata": {
  "kernelspec": {
   "display_name": "Python 3 (ipykernel)",
   "language": "python",
   "name": "python3"
  },
  "language_info": {
   "codemirror_mode": {
    "name": "ipython",
    "version": 3
   },
   "file_extension": ".py",
   "mimetype": "text/x-python",
   "name": "python",
   "nbconvert_exporter": "python",
   "pygments_lexer": "ipython3",
   "version": "3.10.9"
  }
 },
 "nbformat": 4,
 "nbformat_minor": 5
}
