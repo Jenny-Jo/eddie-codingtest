{
 "cells": [
  {
   "cell_type": "code",
   "execution_count": 1,
   "id": "eaaf61fc",
   "metadata": {},
   "outputs": [
    {
     "data": {
      "text/html": [
       "<div>\n",
       "<style scoped>\n",
       "    .dataframe tbody tr th:only-of-type {\n",
       "        vertical-align: middle;\n",
       "    }\n",
       "\n",
       "    .dataframe tbody tr th {\n",
       "        vertical-align: top;\n",
       "    }\n",
       "\n",
       "    .dataframe thead th {\n",
       "        text-align: right;\n",
       "    }\n",
       "</style>\n",
       "<table border=\"1\" class=\"dataframe\">\n",
       "  <thead>\n",
       "    <tr style=\"text-align: right;\">\n",
       "      <th></th>\n",
       "      <th>거래금액</th>\n",
       "      <th>거래유형</th>\n",
       "      <th>건축년도</th>\n",
       "      <th>년</th>\n",
       "      <th>법정동</th>\n",
       "      <th>아파트</th>\n",
       "      <th>월</th>\n",
       "      <th>일</th>\n",
       "      <th>전용면적</th>\n",
       "      <th>중개사소재지</th>\n",
       "      <th>지번</th>\n",
       "      <th>지역코드</th>\n",
       "      <th>층</th>\n",
       "      <th>해제사유발생일</th>\n",
       "      <th>해제여부</th>\n",
       "    </tr>\n",
       "  </thead>\n",
       "  <tbody>\n",
       "    <tr>\n",
       "      <th>0</th>\n",
       "      <td>68,000</td>\n",
       "      <td>NaN</td>\n",
       "      <td>2006</td>\n",
       "      <td>2021</td>\n",
       "      <td>성남동</td>\n",
       "      <td>금호어울림</td>\n",
       "      <td>1</td>\n",
       "      <td>2</td>\n",
       "      <td>59.93</td>\n",
       "      <td>NaN</td>\n",
       "      <td>3126</td>\n",
       "      <td>41133</td>\n",
       "      <td>9</td>\n",
       "      <td>NaN</td>\n",
       "      <td>NaN</td>\n",
       "    </tr>\n",
       "    <tr>\n",
       "      <th>1</th>\n",
       "      <td>29,500</td>\n",
       "      <td>NaN</td>\n",
       "      <td>2004</td>\n",
       "      <td>2021</td>\n",
       "      <td>성남동</td>\n",
       "      <td>SR하이원</td>\n",
       "      <td>1</td>\n",
       "      <td>2</td>\n",
       "      <td>45.31</td>\n",
       "      <td>NaN</td>\n",
       "      <td>3755</td>\n",
       "      <td>41133</td>\n",
       "      <td>5</td>\n",
       "      <td>NaN</td>\n",
       "      <td>NaN</td>\n",
       "    </tr>\n",
       "    <tr>\n",
       "      <th>2</th>\n",
       "      <td>49,000</td>\n",
       "      <td>NaN</td>\n",
       "      <td>2006</td>\n",
       "      <td>2021</td>\n",
       "      <td>성남동</td>\n",
       "      <td>동부브리앙뜨</td>\n",
       "      <td>1</td>\n",
       "      <td>3</td>\n",
       "      <td>80.49</td>\n",
       "      <td>NaN</td>\n",
       "      <td>2163</td>\n",
       "      <td>41133</td>\n",
       "      <td>3</td>\n",
       "      <td>NaN</td>\n",
       "      <td>NaN</td>\n",
       "    </tr>\n",
       "    <tr>\n",
       "      <th>3</th>\n",
       "      <td>40,800</td>\n",
       "      <td>NaN</td>\n",
       "      <td>1992</td>\n",
       "      <td>2021</td>\n",
       "      <td>성남동</td>\n",
       "      <td>현대</td>\n",
       "      <td>1</td>\n",
       "      <td>7</td>\n",
       "      <td>42.62</td>\n",
       "      <td>NaN</td>\n",
       "      <td>3121</td>\n",
       "      <td>41133</td>\n",
       "      <td>10</td>\n",
       "      <td>NaN</td>\n",
       "      <td>NaN</td>\n",
       "    </tr>\n",
       "    <tr>\n",
       "      <th>4</th>\n",
       "      <td>53,000</td>\n",
       "      <td>NaN</td>\n",
       "      <td>2004</td>\n",
       "      <td>2021</td>\n",
       "      <td>성남동</td>\n",
       "      <td>띠아모</td>\n",
       "      <td>1</td>\n",
       "      <td>7</td>\n",
       "      <td>116.56</td>\n",
       "      <td>NaN</td>\n",
       "      <td>3753</td>\n",
       "      <td>41133</td>\n",
       "      <td>9</td>\n",
       "      <td>NaN</td>\n",
       "      <td>NaN</td>\n",
       "    </tr>\n",
       "  </tbody>\n",
       "</table>\n",
       "</div>"
      ],
      "text/plain": [
       "     거래금액  거래유형  건축년도     년  법정동     아파트  월  일    전용면적  중개사소재지    지번   지역코드  \\\n",
       "0  68,000   NaN  2006  2021  성남동   금호어울림  1  2   59.93     NaN  3126  41133   \n",
       "1  29,500   NaN  2004  2021  성남동   SR하이원  1  2   45.31     NaN  3755  41133   \n",
       "2  49,000   NaN  2006  2021  성남동  동부브리앙뜨  1  3   80.49     NaN  2163  41133   \n",
       "3  40,800   NaN  1992  2021  성남동      현대  1  7   42.62     NaN  3121  41133   \n",
       "4  53,000   NaN  2004  2021  성남동     띠아모  1  7  116.56     NaN  3753  41133   \n",
       "\n",
       "    층 해제사유발생일 해제여부  \n",
       "0   9     NaN  NaN  \n",
       "1   5     NaN  NaN  \n",
       "2   3     NaN  NaN  \n",
       "3  10     NaN  NaN  \n",
       "4   9     NaN  NaN  "
      ]
     },
     "execution_count": 1,
     "metadata": {},
     "output_type": "execute_result"
    }
   ],
   "source": [
    "import pandas as pd\n",
    "\n",
    "df_m = pd.read_excel(\"https://drive.google.com/u/0/uc?id=1gVEEFn46Q9DBlgp2e8cTlCXOjbujj_A7&export=download\", index_col=0)\n",
    "df_m.head()"
   ]
  },
  {
   "cell_type": "markdown",
   "id": "886be1c3",
   "metadata": {},
   "source": [
    "### 281. 데이터 타입 변경"
   ]
  },
  {
   "cell_type": "markdown",
   "id": "71020cf8",
   "metadata": {},
   "source": [
    "거래금액 컬럼에는 문자열(object) 타입으로 데이터가 저장돼 있습니다. 콤마를 제거하고 데이터 타입을 숫자로 변경하세요."
   ]
  },
  {
   "cell_type": "code",
   "execution_count": 2,
   "id": "2c580426",
   "metadata": {},
   "outputs": [],
   "source": [
    "df_m['거래금액'] = df_m['거래금액'].str.replace(',', '')"
   ]
  },
  {
   "cell_type": "code",
   "execution_count": 3,
   "id": "aeb9d242",
   "metadata": {},
   "outputs": [
    {
     "data": {
      "text/plain": [
       "0       68000\n",
       "1       29500\n",
       "2       49000\n",
       "3       40800\n",
       "4       53000\n",
       "        ...  \n",
       "119    100000\n",
       "120     83000\n",
       "121     88000\n",
       "122     82500\n",
       "123     79000\n",
       "Name: 거래금액, Length: 124, dtype: object"
      ]
     },
     "execution_count": 3,
     "metadata": {},
     "output_type": "execute_result"
    }
   ],
   "source": [
    "df_m['거래금액']"
   ]
  },
  {
   "cell_type": "code",
   "execution_count": 4,
   "id": "a4a83757",
   "metadata": {
    "scrolled": true
   },
   "outputs": [
    {
     "data": {
      "text/plain": [
       "0       68000\n",
       "1       29500\n",
       "2       49000\n",
       "3       40800\n",
       "4       53000\n",
       "        ...  \n",
       "119    100000\n",
       "120     83000\n",
       "121     88000\n",
       "122     82500\n",
       "123     79000\n",
       "Name: 거래금액, Length: 124, dtype: int64"
      ]
     },
     "execution_count": 4,
     "metadata": {},
     "output_type": "execute_result"
    }
   ],
   "source": [
    "df_m['거래금액'] = df_m['거래금액'].astype('int64')\n",
    "\n",
    "df_m['거래금액']"
   ]
  },
  {
   "cell_type": "markdown",
   "id": "1176a1cd",
   "metadata": {},
   "source": [
    "### 282. 매매평단가"
   ]
  },
  {
   "cell_type": "markdown",
   "id": "e16014ac",
   "metadata": {},
   "source": [
    "다양한 크기의 아파트 가격을 비교하기위해 매매평단가를 계산합니다. 일반적으로 평단가는 거래금액과 공급면적으로 계산하지만,   \n",
    "이번문제에서는 주어진 데이터 거래금액과 전용면적으로 매매평단가를 계산해 봅시다.   \n",
    "m^2를 평으로 환산할 때는 3.3으로 값을 나눕니다."
   ]
  },
  {
   "cell_type": "code",
   "execution_count": 5,
   "id": "ff084348",
   "metadata": {},
   "outputs": [],
   "source": [
    "df_m['매매평단가'] = df_m['거래금액'] / df_m['전용면적'] * 3.3"
   ]
  },
  {
   "cell_type": "markdown",
   "id": "90919b07",
   "metadata": {},
   "source": [
    "### 283. 법정동 별로 매매평단가의 평균"
   ]
  },
  {
   "cell_type": "markdown",
   "id": "a6aa083e",
   "metadata": {},
   "source": [
    "주어진 성남시 데이터에는 총 8개의 법정동이 존재합니다. 동별로 매매평단가의 평균을 계산하세요."
   ]
  },
  {
   "cell_type": "code",
   "execution_count": 6,
   "id": "2b0699be",
   "metadata": {},
   "outputs": [
    {
     "data": {
      "text/html": [
       "<div>\n",
       "<style scoped>\n",
       "    .dataframe tbody tr th:only-of-type {\n",
       "        vertical-align: middle;\n",
       "    }\n",
       "\n",
       "    .dataframe tbody tr th {\n",
       "        vertical-align: top;\n",
       "    }\n",
       "\n",
       "    .dataframe thead th {\n",
       "        text-align: right;\n",
       "    }\n",
       "</style>\n",
       "<table border=\"1\" class=\"dataframe\">\n",
       "  <thead>\n",
       "    <tr style=\"text-align: right;\">\n",
       "      <th></th>\n",
       "      <th>매매평단가</th>\n",
       "    </tr>\n",
       "    <tr>\n",
       "      <th>법정동</th>\n",
       "      <th></th>\n",
       "    </tr>\n",
       "  </thead>\n",
       "  <tbody>\n",
       "    <tr>\n",
       "      <th>금광동</th>\n",
       "      <td>3240.974040</td>\n",
       "    </tr>\n",
       "    <tr>\n",
       "      <th>도촌동</th>\n",
       "      <td>3231.935513</td>\n",
       "    </tr>\n",
       "    <tr>\n",
       "      <th>상대원동</th>\n",
       "      <td>2789.911981</td>\n",
       "    </tr>\n",
       "    <tr>\n",
       "      <th>성남동</th>\n",
       "      <td>2387.478986</td>\n",
       "    </tr>\n",
       "    <tr>\n",
       "      <th>여수동</th>\n",
       "      <td>4445.978156</td>\n",
       "    </tr>\n",
       "    <tr>\n",
       "      <th>은행동</th>\n",
       "      <td>3268.274510</td>\n",
       "    </tr>\n",
       "    <tr>\n",
       "      <th>중앙동</th>\n",
       "      <td>4094.691326</td>\n",
       "    </tr>\n",
       "    <tr>\n",
       "      <th>하대원동</th>\n",
       "      <td>2592.894990</td>\n",
       "    </tr>\n",
       "  </tbody>\n",
       "</table>\n",
       "</div>"
      ],
      "text/plain": [
       "            매매평단가\n",
       "법정동              \n",
       "금광동   3240.974040\n",
       "도촌동   3231.935513\n",
       "상대원동  2789.911981\n",
       "성남동   2387.478986\n",
       "여수동   4445.978156\n",
       "은행동   3268.274510\n",
       "중앙동   4094.691326\n",
       "하대원동  2592.894990"
      ]
     },
     "execution_count": 6,
     "metadata": {},
     "output_type": "execute_result"
    }
   ],
   "source": [
    "df_m.groupby('법정동')[['매매평단가']].mean()"
   ]
  },
  {
   "cell_type": "markdown",
   "id": "1572f8d2",
   "metadata": {},
   "source": [
    "### 284. 하대원동의 매매평단가"
   ]
  },
  {
   "cell_type": "markdown",
   "id": "a77e4943",
   "metadata": {},
   "source": [
    "하대원동의 아파트별 매매평단가 평균을 출력하세요."
   ]
  },
  {
   "cell_type": "code",
   "execution_count": 7,
   "id": "55550a28",
   "metadata": {},
   "outputs": [
    {
     "data": {
      "text/html": [
       "<div>\n",
       "<style scoped>\n",
       "    .dataframe tbody tr th:only-of-type {\n",
       "        vertical-align: middle;\n",
       "    }\n",
       "\n",
       "    .dataframe tbody tr th {\n",
       "        vertical-align: top;\n",
       "    }\n",
       "\n",
       "    .dataframe thead th {\n",
       "        text-align: right;\n",
       "    }\n",
       "</style>\n",
       "<table border=\"1\" class=\"dataframe\">\n",
       "  <thead>\n",
       "    <tr style=\"text-align: right;\">\n",
       "      <th></th>\n",
       "      <th>매매평단가</th>\n",
       "    </tr>\n",
       "    <tr>\n",
       "      <th>아파트</th>\n",
       "      <th></th>\n",
       "    </tr>\n",
       "  </thead>\n",
       "  <tbody>\n",
       "    <tr>\n",
       "      <th>삼남</th>\n",
       "      <td>2027.155016</td>\n",
       "    </tr>\n",
       "    <tr>\n",
       "      <th>성남자이</th>\n",
       "      <td>2991.761913</td>\n",
       "    </tr>\n",
       "    <tr>\n",
       "      <th>성원초원</th>\n",
       "      <td>2206.619860</td>\n",
       "    </tr>\n",
       "    <tr>\n",
       "      <th>아튼빌</th>\n",
       "      <td>3144.589731</td>\n",
       "    </tr>\n",
       "    <tr>\n",
       "      <th>태연스카이빌</th>\n",
       "      <td>2186.541613</td>\n",
       "    </tr>\n",
       "  </tbody>\n",
       "</table>\n",
       "</div>"
      ],
      "text/plain": [
       "              매매평단가\n",
       "아파트                \n",
       "삼남      2027.155016\n",
       "성남자이    2991.761913\n",
       "성원초원    2206.619860\n",
       "아튼빌     3144.589731\n",
       "태연스카이빌  2186.541613"
      ]
     },
     "execution_count": 7,
     "metadata": {},
     "output_type": "execute_result"
    }
   ],
   "source": [
    "df_m[df_m['법정동']=='하대원동'].groupby('아파트')[['매매평단가']].mean()"
   ]
  },
  {
   "cell_type": "markdown",
   "id": "8584898b",
   "metadata": {},
   "source": [
    "### 285. 매매평단가와 매매건수"
   ]
  },
  {
   "cell_type": "markdown",
   "id": "252638f9",
   "metadata": {},
   "source": [
    "하대원동의 아파트별 매매평단가와 매매건수를 출력하세요."
   ]
  },
  {
   "cell_type": "code",
   "execution_count": 8,
   "id": "be8166be",
   "metadata": {},
   "outputs": [
    {
     "data": {
      "text/html": [
       "<div>\n",
       "<style scoped>\n",
       "    .dataframe tbody tr th:only-of-type {\n",
       "        vertical-align: middle;\n",
       "    }\n",
       "\n",
       "    .dataframe tbody tr th {\n",
       "        vertical-align: top;\n",
       "    }\n",
       "\n",
       "    .dataframe thead tr th {\n",
       "        text-align: left;\n",
       "    }\n",
       "\n",
       "    .dataframe thead tr:last-of-type th {\n",
       "        text-align: right;\n",
       "    }\n",
       "</style>\n",
       "<table border=\"1\" class=\"dataframe\">\n",
       "  <thead>\n",
       "    <tr>\n",
       "      <th></th>\n",
       "      <th colspan=\"2\" halign=\"left\">매매평단가</th>\n",
       "    </tr>\n",
       "    <tr>\n",
       "      <th></th>\n",
       "      <th>mean</th>\n",
       "      <th>len</th>\n",
       "    </tr>\n",
       "    <tr>\n",
       "      <th>아파트</th>\n",
       "      <th></th>\n",
       "      <th></th>\n",
       "    </tr>\n",
       "  </thead>\n",
       "  <tbody>\n",
       "    <tr>\n",
       "      <th>삼남</th>\n",
       "      <td>2027.155016</td>\n",
       "      <td>7</td>\n",
       "    </tr>\n",
       "    <tr>\n",
       "      <th>성남자이</th>\n",
       "      <td>2991.761913</td>\n",
       "      <td>5</td>\n",
       "    </tr>\n",
       "    <tr>\n",
       "      <th>성원초원</th>\n",
       "      <td>2206.619860</td>\n",
       "      <td>1</td>\n",
       "    </tr>\n",
       "    <tr>\n",
       "      <th>아튼빌</th>\n",
       "      <td>3144.589731</td>\n",
       "      <td>5</td>\n",
       "    </tr>\n",
       "    <tr>\n",
       "      <th>태연스카이빌</th>\n",
       "      <td>2186.541613</td>\n",
       "      <td>1</td>\n",
       "    </tr>\n",
       "  </tbody>\n",
       "</table>\n",
       "</div>"
      ],
      "text/plain": [
       "              매매평단가    \n",
       "               mean len\n",
       "아파트                    \n",
       "삼남      2027.155016   7\n",
       "성남자이    2991.761913   5\n",
       "성원초원    2206.619860   1\n",
       "아튼빌     3144.589731   5\n",
       "태연스카이빌  2186.541613   1"
      ]
     },
     "execution_count": 8,
     "metadata": {},
     "output_type": "execute_result"
    }
   ],
   "source": [
    "import numpy as np\n",
    "\n",
    "df_m[df_m['법정동']=='하대원동'].groupby('아파트').agg({'매매평단가':[np.mean, len]})"
   ]
  },
  {
   "cell_type": "markdown",
   "id": "8abb9042",
   "metadata": {},
   "source": [
    "### 286. 날짜 변환의 오류"
   ]
  },
  {
   "cell_type": "markdown",
   "id": "a4b509fb",
   "metadata": {},
   "source": [
    "년/월/일 컬럼에 저장된 숫자를 YYYY-MM-DD 형태의 datetime 객체로 변환하고자 합니다. 다음 코드에서 에러가 발생하는 이유를 설명하세요.  \n",
    "df_m = df_m.astype({   \n",
    "    \"년\" : str,  \n",
    "    \"월\" : str,  \n",
    "    \"일\" : str  \n",
    "})  \n",
    "df_m['날짜'] = df_m['년'] + df_m['월'] + df_m['일']  \n",
    "df_m['날짜'] = pd.to_datetime(df_m['날짜'])  \n",
    "The above exception was the direct cause of the following exception:  \n",
    "\n",
    "ParserError                               Traceback (most recent call last)  \n",
    "/usr/local/lib/python3.7/dist-packages/six.py in raise_from(value, from_value)  \n",
    "\n",
    "ParserError: month must be in 1..12: 202112"
   ]
  },
  {
   "cell_type": "code",
   "execution_count": 9,
   "id": "701fb0a4",
   "metadata": {},
   "outputs": [
    {
     "data": {
      "text/plain": [
       "1    124\n",
       "Name: 월, dtype: int64"
      ]
     },
     "execution_count": 9,
     "metadata": {},
     "output_type": "execute_result"
    }
   ],
   "source": [
    "df_m['월'].value_counts()"
   ]
  },
  {
   "cell_type": "markdown",
   "id": "dbf32517",
   "metadata": {},
   "source": [
    "month 1월이 01로 표현되어야 한다"
   ]
  },
  {
   "cell_type": "markdown",
   "id": "66212e9d",
   "metadata": {},
   "source": [
    "### 287. 날짜 포맷 변경"
   ]
  },
  {
   "cell_type": "markdown",
   "id": "3dda50c3",
   "metadata": {},
   "source": [
    "286번의 에러를 수정해서 다음 그림과 같이 출력하세요."
   ]
  },
  {
   "cell_type": "code",
   "execution_count": 17,
   "id": "779c5f9b",
   "metadata": {},
   "outputs": [],
   "source": [
    "def f(x):\n",
    "    if len(x)==1:\n",
    "        return f\"0{x}\"\n",
    "    else:\n",
    "        return x\n",
    "\n",
    "df_m['월'] = df_m['월'].map(f)\n",
    "df_m['일'] = df_m['일'].map(f)"
   ]
  },
  {
   "cell_type": "code",
   "execution_count": 21,
   "id": "1678427c",
   "metadata": {},
   "outputs": [],
   "source": [
    "df_m['년'] = df_m['년'].astype('str')\n",
    "df_m['월'] = df_m['월'].astype('str')\n",
    "df_m['일'] = df_m['일'].astype('str')"
   ]
  },
  {
   "cell_type": "code",
   "execution_count": 22,
   "id": "2297a18c",
   "metadata": {},
   "outputs": [
    {
     "data": {
      "text/plain": [
       "0      20210102\n",
       "1      20210102\n",
       "2      20210103\n",
       "3      20210107\n",
       "4      20210107\n",
       "         ...   \n",
       "119    20210117\n",
       "120    20210121\n",
       "121    20210123\n",
       "122    20210125\n",
       "123    20210130\n",
       "Name: 날짜, Length: 124, dtype: object"
      ]
     },
     "execution_count": 22,
     "metadata": {},
     "output_type": "execute_result"
    }
   ],
   "source": [
    "df_m['날짜'] = df_m['년'] + df_m['월'] + df_m['일']\n",
    "df_m['날짜']"
   ]
  },
  {
   "cell_type": "code",
   "execution_count": 23,
   "id": "763a854e",
   "metadata": {},
   "outputs": [
    {
     "data": {
      "text/html": [
       "<div>\n",
       "<style scoped>\n",
       "    .dataframe tbody tr th:only-of-type {\n",
       "        vertical-align: middle;\n",
       "    }\n",
       "\n",
       "    .dataframe tbody tr th {\n",
       "        vertical-align: top;\n",
       "    }\n",
       "\n",
       "    .dataframe thead th {\n",
       "        text-align: right;\n",
       "    }\n",
       "</style>\n",
       "<table border=\"1\" class=\"dataframe\">\n",
       "  <thead>\n",
       "    <tr style=\"text-align: right;\">\n",
       "      <th></th>\n",
       "      <th>날짜</th>\n",
       "      <th>법정동</th>\n",
       "      <th>아파트</th>\n",
       "      <th>매매평단가</th>\n",
       "    </tr>\n",
       "  </thead>\n",
       "  <tbody>\n",
       "    <tr>\n",
       "      <th>0</th>\n",
       "      <td>2021-01-02</td>\n",
       "      <td>성남동</td>\n",
       "      <td>금호어울림</td>\n",
       "      <td>3744.368430</td>\n",
       "    </tr>\n",
       "    <tr>\n",
       "      <th>1</th>\n",
       "      <td>2021-01-02</td>\n",
       "      <td>성남동</td>\n",
       "      <td>SR하이원</td>\n",
       "      <td>2148.532333</td>\n",
       "    </tr>\n",
       "  </tbody>\n",
       "</table>\n",
       "</div>"
      ],
      "text/plain": [
       "          날짜  법정동    아파트        매매평단가\n",
       "0 2021-01-02  성남동  금호어울림  3744.368430\n",
       "1 2021-01-02  성남동  SR하이원  2148.532333"
      ]
     },
     "execution_count": 23,
     "metadata": {},
     "output_type": "execute_result"
    }
   ],
   "source": [
    "df_m['날짜'] = pd.to_datetime(df_m['날짜'])\n",
    "\n",
    "temp = df_m[ [\"날짜\", \"법정동\", \"아파트\", \"매매평단가\"] ]\n",
    "temp.head(2)"
   ]
  },
  {
   "cell_type": "markdown",
   "id": "2a1a31e4",
   "metadata": {},
   "source": [
    "### 288. 전세평단가"
   ]
  },
  {
   "cell_type": "markdown",
   "id": "edc85462",
   "metadata": {},
   "source": [
    "다음 코드는 2021년 1월의 성남시의 전월세 거래 데이터입니다.\n",
    "\n",
    "df_s = pd.read_excel(\"https://drive.google.com/u/0/uc?id=1akAI69X1J8VL5R0azoGQeEKJ5ttEPrTx&export=download\", index_col=0)  \n",
    "df_s.head(2)  \n",
    "법정동별 전세평단가를 계산해 봅시다."
   ]
  },
  {
   "cell_type": "code",
   "execution_count": 24,
   "id": "0c0f1d45",
   "metadata": {},
   "outputs": [
    {
     "data": {
      "text/html": [
       "<div>\n",
       "<style scoped>\n",
       "    .dataframe tbody tr th:only-of-type {\n",
       "        vertical-align: middle;\n",
       "    }\n",
       "\n",
       "    .dataframe tbody tr th {\n",
       "        vertical-align: top;\n",
       "    }\n",
       "\n",
       "    .dataframe thead th {\n",
       "        text-align: right;\n",
       "    }\n",
       "</style>\n",
       "<table border=\"1\" class=\"dataframe\">\n",
       "  <thead>\n",
       "    <tr style=\"text-align: right;\">\n",
       "      <th></th>\n",
       "      <th>갱신요구권사용</th>\n",
       "      <th>건축년도</th>\n",
       "      <th>계약구분</th>\n",
       "      <th>계약기간</th>\n",
       "      <th>년</th>\n",
       "      <th>법정동</th>\n",
       "      <th>보증금액</th>\n",
       "      <th>아파트</th>\n",
       "      <th>월</th>\n",
       "      <th>월세금액</th>\n",
       "      <th>일</th>\n",
       "      <th>전용면적</th>\n",
       "      <th>종전계약보증금</th>\n",
       "      <th>종전계약월세</th>\n",
       "      <th>지번</th>\n",
       "      <th>지역코드</th>\n",
       "      <th>층</th>\n",
       "    </tr>\n",
       "  </thead>\n",
       "  <tbody>\n",
       "    <tr>\n",
       "      <th>0</th>\n",
       "      <td>NaN</td>\n",
       "      <td>2003</td>\n",
       "      <td>NaN</td>\n",
       "      <td>NaN</td>\n",
       "      <td>2021</td>\n",
       "      <td>성남동</td>\n",
       "      <td>13,000</td>\n",
       "      <td>보미리전빌3</td>\n",
       "      <td>1</td>\n",
       "      <td>0</td>\n",
       "      <td>6</td>\n",
       "      <td>34.10</td>\n",
       "      <td>NaN</td>\n",
       "      <td>NaN</td>\n",
       "      <td>2508</td>\n",
       "      <td>41133</td>\n",
       "      <td>7</td>\n",
       "    </tr>\n",
       "    <tr>\n",
       "      <th>1</th>\n",
       "      <td>NaN</td>\n",
       "      <td>1992</td>\n",
       "      <td>NaN</td>\n",
       "      <td>NaN</td>\n",
       "      <td>2021</td>\n",
       "      <td>성남동</td>\n",
       "      <td>30,000</td>\n",
       "      <td>현대</td>\n",
       "      <td>1</td>\n",
       "      <td>0</td>\n",
       "      <td>9</td>\n",
       "      <td>51.53</td>\n",
       "      <td>NaN</td>\n",
       "      <td>NaN</td>\n",
       "      <td>3121</td>\n",
       "      <td>41133</td>\n",
       "      <td>6</td>\n",
       "    </tr>\n",
       "  </tbody>\n",
       "</table>\n",
       "</div>"
      ],
      "text/plain": [
       "   갱신요구권사용  건축년도  계약구분  계약기간     년  법정동    보증금액     아파트  월  월세금액  일   전용면적  \\\n",
       "0      NaN  2003   NaN   NaN  2021  성남동  13,000  보미리전빌3  1     0  6  34.10   \n",
       "1      NaN  1992   NaN   NaN  2021  성남동  30,000      현대  1     0  9  51.53   \n",
       "\n",
       "   종전계약보증금  종전계약월세    지번   지역코드  층  \n",
       "0      NaN     NaN  2508  41133  7  \n",
       "1      NaN     NaN  3121  41133  6  "
      ]
     },
     "execution_count": 24,
     "metadata": {},
     "output_type": "execute_result"
    }
   ],
   "source": [
    "df_s = pd.read_excel(\"https://drive.google.com/u/0/uc?id=1akAI69X1J8VL5R0azoGQeEKJ5ttEPrTx&export=download\", index_col=0)\n",
    "df_s.head(2)"
   ]
  },
  {
   "cell_type": "code",
   "execution_count": 26,
   "id": "570e18cb",
   "metadata": {},
   "outputs": [
    {
     "data": {
      "text/plain": [
       "0      1258.064516\n",
       "1      1921.210945\n",
       "2      1344.847662\n",
       "3      1362.298191\n",
       "4      2524.717514\n",
       "          ...     \n",
       "187    2019.173058\n",
       "188     684.079602\n",
       "189    2326.076724\n",
       "190    1630.971993\n",
       "191    3303.854497\n",
       "Name: 전세평단가, Length: 192, dtype: float64"
      ]
     },
     "execution_count": 26,
     "metadata": {},
     "output_type": "execute_result"
    }
   ],
   "source": [
    "df_s['보증금액'] = df_s['보증금액'].str.replace(',', '').astype('int64')\n",
    "df_s['전세평단가'] = df_s['보증금액'] / df_s['전용면적'] * 3.3\n",
    "df_s['전세평단가']"
   ]
  },
  {
   "cell_type": "code",
   "execution_count": 27,
   "id": "8bc13748",
   "metadata": {},
   "outputs": [
    {
     "data": {
      "text/html": [
       "<div>\n",
       "<style scoped>\n",
       "    .dataframe tbody tr th:only-of-type {\n",
       "        vertical-align: middle;\n",
       "    }\n",
       "\n",
       "    .dataframe tbody tr th {\n",
       "        vertical-align: top;\n",
       "    }\n",
       "\n",
       "    .dataframe thead th {\n",
       "        text-align: right;\n",
       "    }\n",
       "</style>\n",
       "<table border=\"1\" class=\"dataframe\">\n",
       "  <thead>\n",
       "    <tr style=\"text-align: right;\">\n",
       "      <th></th>\n",
       "      <th>전세평단가</th>\n",
       "    </tr>\n",
       "    <tr>\n",
       "      <th>법정동</th>\n",
       "      <th></th>\n",
       "    </tr>\n",
       "  </thead>\n",
       "  <tbody>\n",
       "    <tr>\n",
       "      <th>금광동</th>\n",
       "      <td>1534.072424</td>\n",
       "    </tr>\n",
       "    <tr>\n",
       "      <th>도촌동</th>\n",
       "      <td>893.732489</td>\n",
       "    </tr>\n",
       "    <tr>\n",
       "      <th>상대원동</th>\n",
       "      <td>978.197479</td>\n",
       "    </tr>\n",
       "    <tr>\n",
       "      <th>성남동</th>\n",
       "      <td>1101.450004</td>\n",
       "    </tr>\n",
       "    <tr>\n",
       "      <th>여수동</th>\n",
       "      <td>1978.923381</td>\n",
       "    </tr>\n",
       "    <tr>\n",
       "      <th>은행동</th>\n",
       "      <td>1043.053289</td>\n",
       "    </tr>\n",
       "    <tr>\n",
       "      <th>중앙동</th>\n",
       "      <td>1942.570294</td>\n",
       "    </tr>\n",
       "    <tr>\n",
       "      <th>하대원동</th>\n",
       "      <td>1351.372102</td>\n",
       "    </tr>\n",
       "  </tbody>\n",
       "</table>\n",
       "</div>"
      ],
      "text/plain": [
       "            전세평단가\n",
       "법정동              \n",
       "금광동   1534.072424\n",
       "도촌동    893.732489\n",
       "상대원동   978.197479\n",
       "성남동   1101.450004\n",
       "여수동   1978.923381\n",
       "은행동   1043.053289\n",
       "중앙동   1942.570294\n",
       "하대원동  1351.372102"
      ]
     },
     "execution_count": 27,
     "metadata": {},
     "output_type": "execute_result"
    }
   ],
   "source": [
    "df_s.groupby('법정동').agg({'전세평단가':np.mean})"
   ]
  },
  {
   "cell_type": "markdown",
   "id": "8b1612fa",
   "metadata": {},
   "source": [
    "### 289. 월세를 고려한 전세평단가"
   ]
  },
  {
   "cell_type": "markdown",
   "id": "3f9895c0",
   "metadata": {},
   "source": [
    "월세의 경우 보증금액만 반영돼어 잘못된 결과가 출력됩니다. 월세의 경우 1억 당 40만원을 전환비로 고려해서 전세가률을 계산하세요."
   ]
  },
  {
   "cell_type": "code",
   "execution_count": 28,
   "id": "8647049a",
   "metadata": {},
   "outputs": [
    {
     "data": {
      "text/html": [
       "<div>\n",
       "<style scoped>\n",
       "    .dataframe tbody tr th:only-of-type {\n",
       "        vertical-align: middle;\n",
       "    }\n",
       "\n",
       "    .dataframe tbody tr th {\n",
       "        vertical-align: top;\n",
       "    }\n",
       "\n",
       "    .dataframe thead th {\n",
       "        text-align: right;\n",
       "    }\n",
       "</style>\n",
       "<table border=\"1\" class=\"dataframe\">\n",
       "  <thead>\n",
       "    <tr style=\"text-align: right;\">\n",
       "      <th></th>\n",
       "      <th>전세평단가</th>\n",
       "    </tr>\n",
       "    <tr>\n",
       "      <th>법정동</th>\n",
       "      <th></th>\n",
       "    </tr>\n",
       "  </thead>\n",
       "  <tbody>\n",
       "    <tr>\n",
       "      <th>금광동</th>\n",
       "      <td>1812.794434</td>\n",
       "    </tr>\n",
       "    <tr>\n",
       "      <th>도촌동</th>\n",
       "      <td>1206.960357</td>\n",
       "    </tr>\n",
       "    <tr>\n",
       "      <th>상대원동</th>\n",
       "      <td>1172.104840</td>\n",
       "    </tr>\n",
       "    <tr>\n",
       "      <th>성남동</th>\n",
       "      <td>1497.833997</td>\n",
       "    </tr>\n",
       "    <tr>\n",
       "      <th>여수동</th>\n",
       "      <td>2199.143954</td>\n",
       "    </tr>\n",
       "    <tr>\n",
       "      <th>은행동</th>\n",
       "      <td>1098.786101</td>\n",
       "    </tr>\n",
       "    <tr>\n",
       "      <th>중앙동</th>\n",
       "      <td>2077.201451</td>\n",
       "    </tr>\n",
       "    <tr>\n",
       "      <th>하대원동</th>\n",
       "      <td>1639.282252</td>\n",
       "    </tr>\n",
       "  </tbody>\n",
       "</table>\n",
       "</div>"
      ],
      "text/plain": [
       "            전세평단가\n",
       "법정동              \n",
       "금광동   1812.794434\n",
       "도촌동   1206.960357\n",
       "상대원동  1172.104840\n",
       "성남동   1497.833997\n",
       "여수동   2199.143954\n",
       "은행동   1098.786101\n",
       "중앙동   2077.201451\n",
       "하대원동  1639.282252"
      ]
     },
     "execution_count": 28,
     "metadata": {},
     "output_type": "execute_result"
    }
   ],
   "source": [
    "df_s['전세평단가'] = (df_s['보증금액'] + df_s['월세금액'] / 40 * 10000) / df_s['전용면적'] * 3.3\n",
    "df_s.groupby('법정동').agg( {'전세평단가': np.mean} )"
   ]
  },
  {
   "cell_type": "markdown",
   "id": "21792270",
   "metadata": {},
   "source": [
    "### 290. 전세가율"
   ]
  },
  {
   "cell_type": "markdown",
   "id": "9da9a70c",
   "metadata": {},
   "source": [
    "df_s['전세평단가']에는 전세평단가가 df_m['매매평단가']에는 매매평단가가 저장돼 있습니다. 법정동 별로 전세가률을 계산해 봅시다."
   ]
  },
  {
   "cell_type": "code",
   "execution_count": 32,
   "id": "76791819",
   "metadata": {},
   "outputs": [
    {
     "data": {
      "text/plain": [
       "법정동\n",
       "금광동     0.559336\n",
       "도촌동     0.373448\n",
       "상대원동    0.420123\n",
       "성남동     0.627371\n",
       "여수동     0.494637\n",
       "은행동     0.336198\n",
       "중앙동     0.507291\n",
       "하대원동    0.632221\n",
       "dtype: float64"
      ]
     },
     "execution_count": 32,
     "metadata": {},
     "output_type": "execute_result"
    }
   ],
   "source": [
    "t0 = df_m.groupby('법정동').agg( {'매매평단가': np.mean} )\n",
    "t1 = df_s.groupby('법정동').agg( {'전세평단가': np.mean} )\n",
    "t1['전세평단가'] / t0['매매평단가'] "
   ]
  }
 ],
 "metadata": {
  "kernelspec": {
   "display_name": "Python 3 (ipykernel)",
   "language": "python",
   "name": "python3"
  },
  "language_info": {
   "codemirror_mode": {
    "name": "ipython",
    "version": 3
   },
   "file_extension": ".py",
   "mimetype": "text/x-python",
   "name": "python",
   "nbconvert_exporter": "python",
   "pygments_lexer": "ipython3",
   "version": "3.10.9"
  }
 },
 "nbformat": 4,
 "nbformat_minor": 5
}
