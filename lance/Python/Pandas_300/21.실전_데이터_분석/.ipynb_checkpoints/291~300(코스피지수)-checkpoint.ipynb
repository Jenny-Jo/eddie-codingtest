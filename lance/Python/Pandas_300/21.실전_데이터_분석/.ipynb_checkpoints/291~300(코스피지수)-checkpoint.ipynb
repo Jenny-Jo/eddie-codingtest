{
 "cells": [
  {
   "cell_type": "markdown",
   "id": "fb729b9a",
   "metadata": {},
   "source": [
    "### 291. max"
   ]
  },
  {
   "cell_type": "markdown",
   "id": "a18a84c0",
   "metadata": {},
   "source": [
    "다음과 같이 코스피 지수 데이터를 얻어온 후 코스피 지수의 장중 최고가를 구해보세요.\n",
    "\n",
    "import FinanceDataReader as fdr\n",
    "\n",
    "kospi = fdr.DataReader(\"KS11\", \"2001\")"
   ]
  },
  {
   "cell_type": "code",
   "execution_count": 1,
   "id": "c52768cc",
   "metadata": {},
   "outputs": [
    {
     "data": {
      "text/html": [
       "<div>\n",
       "<style scoped>\n",
       "    .dataframe tbody tr th:only-of-type {\n",
       "        vertical-align: middle;\n",
       "    }\n",
       "\n",
       "    .dataframe tbody tr th {\n",
       "        vertical-align: top;\n",
       "    }\n",
       "\n",
       "    .dataframe thead th {\n",
       "        text-align: right;\n",
       "    }\n",
       "</style>\n",
       "<table border=\"1\" class=\"dataframe\">\n",
       "  <thead>\n",
       "    <tr style=\"text-align: right;\">\n",
       "      <th></th>\n",
       "      <th>Open</th>\n",
       "      <th>High</th>\n",
       "      <th>Low</th>\n",
       "      <th>Close</th>\n",
       "      <th>Volume</th>\n",
       "      <th>Change</th>\n",
       "      <th>UpDown</th>\n",
       "      <th>Comp</th>\n",
       "      <th>Amount</th>\n",
       "      <th>MarCap</th>\n",
       "    </tr>\n",
       "    <tr>\n",
       "      <th>Date</th>\n",
       "      <th></th>\n",
       "      <th></th>\n",
       "      <th></th>\n",
       "      <th></th>\n",
       "      <th></th>\n",
       "      <th></th>\n",
       "      <th></th>\n",
       "      <th></th>\n",
       "      <th></th>\n",
       "      <th></th>\n",
       "    </tr>\n",
       "  </thead>\n",
       "  <tbody>\n",
       "    <tr>\n",
       "      <th>2001-01-02</th>\n",
       "      <td>503.31</td>\n",
       "      <td>521.34</td>\n",
       "      <td>500.97</td>\n",
       "      <td>520.95</td>\n",
       "      <td>231014651</td>\n",
       "      <td>0.0324</td>\n",
       "      <td>1</td>\n",
       "      <td>16.33</td>\n",
       "      <td>1223328380750</td>\n",
       "      <td>NaN</td>\n",
       "    </tr>\n",
       "    <tr>\n",
       "      <th>2001-01-03</th>\n",
       "      <td>512.74</td>\n",
       "      <td>524.58</td>\n",
       "      <td>510.70</td>\n",
       "      <td>521.43</td>\n",
       "      <td>324584464</td>\n",
       "      <td>0.0009</td>\n",
       "      <td>1</td>\n",
       "      <td>0.48</td>\n",
       "      <td>1583403350350</td>\n",
       "      <td>NaN</td>\n",
       "    </tr>\n",
       "    <tr>\n",
       "      <th>2001-01-04</th>\n",
       "      <td>551.53</td>\n",
       "      <td>567.16</td>\n",
       "      <td>550.91</td>\n",
       "      <td>558.02</td>\n",
       "      <td>444540910</td>\n",
       "      <td>0.0702</td>\n",
       "      <td>1</td>\n",
       "      <td>36.59</td>\n",
       "      <td>2984761784750</td>\n",
       "      <td>NaN</td>\n",
       "    </tr>\n",
       "    <tr>\n",
       "      <th>2001-01-05</th>\n",
       "      <td>559.54</td>\n",
       "      <td>581.41</td>\n",
       "      <td>555.40</td>\n",
       "      <td>580.85</td>\n",
       "      <td>578286058</td>\n",
       "      <td>0.0409</td>\n",
       "      <td>1</td>\n",
       "      <td>22.83</td>\n",
       "      <td>3569582080650</td>\n",
       "      <td>NaN</td>\n",
       "    </tr>\n",
       "    <tr>\n",
       "      <th>2001-01-08</th>\n",
       "      <td>573.72</td>\n",
       "      <td>587.91</td>\n",
       "      <td>572.48</td>\n",
       "      <td>586.65</td>\n",
       "      <td>558645149</td>\n",
       "      <td>0.0100</td>\n",
       "      <td>1</td>\n",
       "      <td>5.80</td>\n",
       "      <td>2948092701600</td>\n",
       "      <td>NaN</td>\n",
       "    </tr>\n",
       "  </tbody>\n",
       "</table>\n",
       "</div>"
      ],
      "text/plain": [
       "              Open    High     Low   Close     Volume  Change  UpDown   Comp  \\\n",
       "Date                                                                           \n",
       "2001-01-02  503.31  521.34  500.97  520.95  231014651  0.0324       1  16.33   \n",
       "2001-01-03  512.74  524.58  510.70  521.43  324584464  0.0009       1   0.48   \n",
       "2001-01-04  551.53  567.16  550.91  558.02  444540910  0.0702       1  36.59   \n",
       "2001-01-05  559.54  581.41  555.40  580.85  578286058  0.0409       1  22.83   \n",
       "2001-01-08  573.72  587.91  572.48  586.65  558645149  0.0100       1   5.80   \n",
       "\n",
       "                   Amount  MarCap  \n",
       "Date                               \n",
       "2001-01-02  1223328380750     NaN  \n",
       "2001-01-03  1583403350350     NaN  \n",
       "2001-01-04  2984761784750     NaN  \n",
       "2001-01-05  3569582080650     NaN  \n",
       "2001-01-08  2948092701600     NaN  "
      ]
     },
     "execution_count": 1,
     "metadata": {},
     "output_type": "execute_result"
    }
   ],
   "source": [
    "import FinanceDataReader as fdr\n",
    "\n",
    "kospi = fdr.DataReader(\"KS11\", \"2001\")\n",
    "\n",
    "kospi.head()"
   ]
  },
  {
   "cell_type": "code",
   "execution_count": 2,
   "id": "f9c7b3e7",
   "metadata": {},
   "outputs": [
    {
     "data": {
      "text/plain": [
       "3316.08"
      ]
     },
     "execution_count": 2,
     "metadata": {},
     "output_type": "execute_result"
    }
   ],
   "source": [
    "kospi['High'].max()"
   ]
  },
  {
   "cell_type": "markdown",
   "id": "27efe6a3",
   "metadata": {},
   "source": [
    "### 292. min"
   ]
  },
  {
   "cell_type": "markdown",
   "id": "9fc72f9e",
   "metadata": {},
   "source": [
    "코스피의 장중 최저가를 구하세요."
   ]
  },
  {
   "cell_type": "code",
   "execution_count": 3,
   "id": "ba126092",
   "metadata": {},
   "outputs": [
    {
     "data": {
      "text/plain": [
       "472.31"
      ]
     },
     "execution_count": 3,
     "metadata": {},
     "output_type": "execute_result"
    }
   ],
   "source": [
    "kospi['High'].min()"
   ]
  },
  {
   "cell_type": "markdown",
   "id": "a7558f0a",
   "metadata": {},
   "source": [
    "### 293. idxmax"
   ]
  },
  {
   "cell_type": "markdown",
   "id": "45716677",
   "metadata": {},
   "source": [
    "코스피의 장중 최고가를 기록한 날짜를 구하세요."
   ]
  },
  {
   "cell_type": "code",
   "execution_count": 5,
   "id": "5ded8a7c",
   "metadata": {},
   "outputs": [
    {
     "data": {
      "text/plain": [
       "DatetimeIndex(['2021-06-25'], dtype='datetime64[ns]', name='Date', freq=None)"
      ]
     },
     "execution_count": 5,
     "metadata": {},
     "output_type": "execute_result"
    }
   ],
   "source": [
    "kospi.loc[kospi['High'] == kospi['High'].max()].index"
   ]
  },
  {
   "cell_type": "code",
   "execution_count": 6,
   "id": "412cdef7",
   "metadata": {},
   "outputs": [
    {
     "data": {
      "text/plain": [
       "Timestamp('2021-06-25 00:00:00')"
      ]
     },
     "execution_count": 6,
     "metadata": {},
     "output_type": "execute_result"
    }
   ],
   "source": [
    "kospi['High'].idxmax()"
   ]
  },
  {
   "cell_type": "markdown",
   "id": "c8109f6c",
   "metadata": {},
   "source": [
    "### 294. idxmin"
   ]
  },
  {
   "cell_type": "markdown",
   "id": "e07067f0",
   "metadata": {},
   "source": [
    "코스피의 장중 최저가를 기록한 날짜를 구하세요."
   ]
  },
  {
   "cell_type": "code",
   "execution_count": 7,
   "id": "bea80c2a",
   "metadata": {},
   "outputs": [
    {
     "data": {
      "text/plain": [
       "DatetimeIndex(['2001-09-21'], dtype='datetime64[ns]', name='Date', freq=None)"
      ]
     },
     "execution_count": 7,
     "metadata": {},
     "output_type": "execute_result"
    }
   ],
   "source": [
    "kospi.loc[kospi['High'] == kospi['High'].min()].index"
   ]
  },
  {
   "cell_type": "code",
   "execution_count": 8,
   "id": "9292bb51",
   "metadata": {},
   "outputs": [
    {
     "data": {
      "text/plain": [
       "Timestamp('2001-09-21 00:00:00')"
      ]
     },
     "execution_count": 8,
     "metadata": {},
     "output_type": "execute_result"
    }
   ],
   "source": [
    "kospi['High'].idxmin()"
   ]
  },
  {
   "cell_type": "markdown",
   "id": "c16d4ea7",
   "metadata": {},
   "source": [
    "### 295. nlargest"
   ]
  },
  {
   "cell_type": "markdown",
   "id": "5bdc1ac0",
   "metadata": {},
   "source": [
    "코스피 지수의 등락률(Change 컬럼) 중 가장 높은 5개를 구하세요."
   ]
  },
  {
   "cell_type": "code",
   "execution_count": 9,
   "id": "d21559b5",
   "metadata": {},
   "outputs": [
    {
     "data": {
      "text/plain": [
       "Date\n",
       "2008-10-30    0.1195\n",
       "2020-03-24    0.0860\n",
       "2002-02-14    0.0764\n",
       "2008-12-08    0.0748\n",
       "2020-03-20    0.0744\n",
       "Name: Change, dtype: float64"
      ]
     },
     "execution_count": 9,
     "metadata": {},
     "output_type": "execute_result"
    }
   ],
   "source": [
    "kospi['Change'].nlargest(n=5)"
   ]
  },
  {
   "cell_type": "code",
   "execution_count": 13,
   "id": "9185ea00",
   "metadata": {},
   "outputs": [
    {
     "data": {
      "text/html": [
       "<div>\n",
       "<style scoped>\n",
       "    .dataframe tbody tr th:only-of-type {\n",
       "        vertical-align: middle;\n",
       "    }\n",
       "\n",
       "    .dataframe tbody tr th {\n",
       "        vertical-align: top;\n",
       "    }\n",
       "\n",
       "    .dataframe thead th {\n",
       "        text-align: right;\n",
       "    }\n",
       "</style>\n",
       "<table border=\"1\" class=\"dataframe\">\n",
       "  <thead>\n",
       "    <tr style=\"text-align: right;\">\n",
       "      <th></th>\n",
       "      <th>Change</th>\n",
       "    </tr>\n",
       "    <tr>\n",
       "      <th>Date</th>\n",
       "      <th></th>\n",
       "    </tr>\n",
       "  </thead>\n",
       "  <tbody>\n",
       "    <tr>\n",
       "      <th>2008-10-30</th>\n",
       "      <td>11.95</td>\n",
       "    </tr>\n",
       "    <tr>\n",
       "      <th>2020-03-24</th>\n",
       "      <td>8.60</td>\n",
       "    </tr>\n",
       "    <tr>\n",
       "      <th>2002-02-14</th>\n",
       "      <td>7.64</td>\n",
       "    </tr>\n",
       "    <tr>\n",
       "      <th>2008-12-08</th>\n",
       "      <td>7.48</td>\n",
       "    </tr>\n",
       "    <tr>\n",
       "      <th>2020-03-20</th>\n",
       "      <td>7.44</td>\n",
       "    </tr>\n",
       "  </tbody>\n",
       "</table>\n",
       "</div>"
      ],
      "text/plain": [
       "            Change\n",
       "Date              \n",
       "2008-10-30   11.95\n",
       "2020-03-24    8.60\n",
       "2002-02-14    7.64\n",
       "2008-12-08    7.48\n",
       "2020-03-20    7.44"
      ]
     },
     "execution_count": 13,
     "metadata": {},
     "output_type": "execute_result"
    }
   ],
   "source": [
    "kospi['Change'].nlargest(n=5).to_frame() * 100"
   ]
  },
  {
   "cell_type": "markdown",
   "id": "39d8f4a5",
   "metadata": {},
   "source": [
    "### 296. nsmallest"
   ]
  },
  {
   "cell_type": "markdown",
   "id": "59f1b1a7",
   "metadata": {},
   "source": [
    "코스피 지수의 등락률 중 가장 낮은 5거래일을 구하세요."
   ]
  },
  {
   "cell_type": "code",
   "execution_count": 14,
   "id": "3f308a41",
   "metadata": {},
   "outputs": [
    {
     "data": {
      "text/html": [
       "<div>\n",
       "<style scoped>\n",
       "    .dataframe tbody tr th:only-of-type {\n",
       "        vertical-align: middle;\n",
       "    }\n",
       "\n",
       "    .dataframe tbody tr th {\n",
       "        vertical-align: top;\n",
       "    }\n",
       "\n",
       "    .dataframe thead th {\n",
       "        text-align: right;\n",
       "    }\n",
       "</style>\n",
       "<table border=\"1\" class=\"dataframe\">\n",
       "  <thead>\n",
       "    <tr style=\"text-align: right;\">\n",
       "      <th></th>\n",
       "      <th>Change</th>\n",
       "    </tr>\n",
       "    <tr>\n",
       "      <th>Date</th>\n",
       "      <th></th>\n",
       "    </tr>\n",
       "  </thead>\n",
       "  <tbody>\n",
       "    <tr>\n",
       "      <th>2001-09-12</th>\n",
       "      <td>-12.02</td>\n",
       "    </tr>\n",
       "    <tr>\n",
       "      <th>2008-10-24</th>\n",
       "      <td>-10.57</td>\n",
       "    </tr>\n",
       "    <tr>\n",
       "      <th>2008-10-16</th>\n",
       "      <td>-9.44</td>\n",
       "    </tr>\n",
       "    <tr>\n",
       "      <th>2020-03-19</th>\n",
       "      <td>-8.39</td>\n",
       "    </tr>\n",
       "    <tr>\n",
       "      <th>2008-11-06</th>\n",
       "      <td>-7.56</td>\n",
       "    </tr>\n",
       "  </tbody>\n",
       "</table>\n",
       "</div>"
      ],
      "text/plain": [
       "            Change\n",
       "Date              \n",
       "2001-09-12  -12.02\n",
       "2008-10-24  -10.57\n",
       "2008-10-16   -9.44\n",
       "2020-03-19   -8.39\n",
       "2008-11-06   -7.56"
      ]
     },
     "execution_count": 14,
     "metadata": {},
     "output_type": "execute_result"
    }
   ],
   "source": [
    "kospi['Change'].nsmallest(n=5).to_frame() * 100"
   ]
  },
  {
   "cell_type": "markdown",
   "id": "6e0c13f3",
   "metadata": {},
   "source": [
    "### 297. 필터링"
   ]
  },
  {
   "cell_type": "markdown",
   "id": "3ec9f460",
   "metadata": {},
   "source": [
    "종가 기준으로 코스피 지수가 3000 포인트를 돌파한 날짜를 구하세요."
   ]
  },
  {
   "cell_type": "code",
   "execution_count": 18,
   "id": "782107fa",
   "metadata": {},
   "outputs": [
    {
     "data": {
      "text/plain": [
       "Timestamp('2021-01-07 00:00:00')"
      ]
     },
     "execution_count": 18,
     "metadata": {},
     "output_type": "execute_result"
    }
   ],
   "source": [
    "kospi[kospi['Close'] >= 3000].index[0]"
   ]
  },
  {
   "cell_type": "markdown",
   "id": "b4097324",
   "metadata": {},
   "source": [
    "### 298. 필터링"
   ]
  },
  {
   "cell_type": "markdown",
   "id": "ea1a6981",
   "metadata": {},
   "source": [
    "코스피 지수가 7% 이상 상승한 날의 데이터만 필터링하세요."
   ]
  },
  {
   "cell_type": "code",
   "execution_count": 20,
   "id": "1036b5fe",
   "metadata": {},
   "outputs": [
    {
     "data": {
      "text/html": [
       "<div>\n",
       "<style scoped>\n",
       "    .dataframe tbody tr th:only-of-type {\n",
       "        vertical-align: middle;\n",
       "    }\n",
       "\n",
       "    .dataframe tbody tr th {\n",
       "        vertical-align: top;\n",
       "    }\n",
       "\n",
       "    .dataframe thead th {\n",
       "        text-align: right;\n",
       "    }\n",
       "</style>\n",
       "<table border=\"1\" class=\"dataframe\">\n",
       "  <thead>\n",
       "    <tr style=\"text-align: right;\">\n",
       "      <th></th>\n",
       "      <th>Open</th>\n",
       "      <th>High</th>\n",
       "      <th>Low</th>\n",
       "      <th>Close</th>\n",
       "      <th>Volume</th>\n",
       "      <th>Change</th>\n",
       "      <th>UpDown</th>\n",
       "      <th>Comp</th>\n",
       "      <th>Amount</th>\n",
       "      <th>MarCap</th>\n",
       "    </tr>\n",
       "    <tr>\n",
       "      <th>Date</th>\n",
       "      <th></th>\n",
       "      <th></th>\n",
       "      <th></th>\n",
       "      <th></th>\n",
       "      <th></th>\n",
       "      <th></th>\n",
       "      <th></th>\n",
       "      <th></th>\n",
       "      <th></th>\n",
       "      <th></th>\n",
       "    </tr>\n",
       "  </thead>\n",
       "  <tbody>\n",
       "    <tr>\n",
       "      <th>2001-01-04</th>\n",
       "      <td>551.53</td>\n",
       "      <td>567.16</td>\n",
       "      <td>550.91</td>\n",
       "      <td>558.02</td>\n",
       "      <td>444540910</td>\n",
       "      <td>0.0702</td>\n",
       "      <td>1</td>\n",
       "      <td>36.59</td>\n",
       "      <td>2984761784750</td>\n",
       "      <td>NaN</td>\n",
       "    </tr>\n",
       "    <tr>\n",
       "      <th>2002-02-14</th>\n",
       "      <td>764.15</td>\n",
       "      <td>796.18</td>\n",
       "      <td>762.41</td>\n",
       "      <td>796.18</td>\n",
       "      <td>759498069</td>\n",
       "      <td>0.0764</td>\n",
       "      <td>1</td>\n",
       "      <td>56.52</td>\n",
       "      <td>4829851848775</td>\n",
       "      <td>2.939671e+14</td>\n",
       "    </tr>\n",
       "    <tr>\n",
       "      <th>2008-10-30</th>\n",
       "      <td>1036.83</td>\n",
       "      <td>1094.89</td>\n",
       "      <td>992.89</td>\n",
       "      <td>1084.72</td>\n",
       "      <td>621627912</td>\n",
       "      <td>0.1195</td>\n",
       "      <td>1</td>\n",
       "      <td>115.75</td>\n",
       "      <td>7404484242302</td>\n",
       "      <td>5.519376e+14</td>\n",
       "    </tr>\n",
       "    <tr>\n",
       "      <th>2008-12-08</th>\n",
       "      <td>1041.41</td>\n",
       "      <td>1111.27</td>\n",
       "      <td>1037.64</td>\n",
       "      <td>1105.05</td>\n",
       "      <td>541792605</td>\n",
       "      <td>0.0748</td>\n",
       "      <td>1</td>\n",
       "      <td>76.92</td>\n",
       "      <td>6520366148950</td>\n",
       "      <td>5.675601e+14</td>\n",
       "    </tr>\n",
       "    <tr>\n",
       "      <th>2020-03-20</th>\n",
       "      <td>1498.49</td>\n",
       "      <td>1566.82</td>\n",
       "      <td>1466.48</td>\n",
       "      <td>1566.15</td>\n",
       "      <td>817021497</td>\n",
       "      <td>0.0744</td>\n",
       "      <td>1</td>\n",
       "      <td>108.51</td>\n",
       "      <td>10632970114698</td>\n",
       "      <td>1.054893e+15</td>\n",
       "    </tr>\n",
       "    <tr>\n",
       "      <th>2020-03-24</th>\n",
       "      <td>1523.69</td>\n",
       "      <td>1609.97</td>\n",
       "      <td>1508.68</td>\n",
       "      <td>1609.97</td>\n",
       "      <td>679288486</td>\n",
       "      <td>0.0860</td>\n",
       "      <td>1</td>\n",
       "      <td>127.51</td>\n",
       "      <td>10481447737237</td>\n",
       "      <td>1.083695e+15</td>\n",
       "    </tr>\n",
       "  </tbody>\n",
       "</table>\n",
       "</div>"
      ],
      "text/plain": [
       "               Open     High      Low    Close     Volume  Change  UpDown  \\\n",
       "Date                                                                        \n",
       "2001-01-04   551.53   567.16   550.91   558.02  444540910  0.0702       1   \n",
       "2002-02-14   764.15   796.18   762.41   796.18  759498069  0.0764       1   \n",
       "2008-10-30  1036.83  1094.89   992.89  1084.72  621627912  0.1195       1   \n",
       "2008-12-08  1041.41  1111.27  1037.64  1105.05  541792605  0.0748       1   \n",
       "2020-03-20  1498.49  1566.82  1466.48  1566.15  817021497  0.0744       1   \n",
       "2020-03-24  1523.69  1609.97  1508.68  1609.97  679288486  0.0860       1   \n",
       "\n",
       "              Comp          Amount        MarCap  \n",
       "Date                                              \n",
       "2001-01-04   36.59   2984761784750           NaN  \n",
       "2002-02-14   56.52   4829851848775  2.939671e+14  \n",
       "2008-10-30  115.75   7404484242302  5.519376e+14  \n",
       "2008-12-08   76.92   6520366148950  5.675601e+14  \n",
       "2020-03-20  108.51  10632970114698  1.054893e+15  \n",
       "2020-03-24  127.51  10481447737237  1.083695e+15  "
      ]
     },
     "execution_count": 20,
     "metadata": {},
     "output_type": "execute_result"
    }
   ],
   "source": [
    "kospi[kospi['Change'] >= 0.07]"
   ]
  },
  {
   "cell_type": "markdown",
   "id": "72e4e1d8",
   "metadata": {},
   "source": [
    "### 299. 최다 연속 상승일수 (series.groupby().cumcount and cumsum)"
   ]
  },
  {
   "cell_type": "markdown",
   "id": "060e94c0",
   "metadata": {},
   "source": [
    "2001년 이후의 코스피지수 데이터에서 최다 연속 상승일수를 구하세요."
   ]
  },
  {
   "cell_type": "code",
   "execution_count": 22,
   "id": "496f5482",
   "metadata": {},
   "outputs": [
    {
     "data": {
      "text/html": [
       "<div>\n",
       "<style scoped>\n",
       "    .dataframe tbody tr th:only-of-type {\n",
       "        vertical-align: middle;\n",
       "    }\n",
       "\n",
       "    .dataframe tbody tr th {\n",
       "        vertical-align: top;\n",
       "    }\n",
       "\n",
       "    .dataframe thead th {\n",
       "        text-align: right;\n",
       "    }\n",
       "</style>\n",
       "<table border=\"1\" class=\"dataframe\">\n",
       "  <thead>\n",
       "    <tr style=\"text-align: right;\">\n",
       "      <th></th>\n",
       "      <th>Open</th>\n",
       "      <th>High</th>\n",
       "      <th>Low</th>\n",
       "      <th>Close</th>\n",
       "      <th>Volume</th>\n",
       "      <th>Change</th>\n",
       "      <th>UpDown</th>\n",
       "      <th>Comp</th>\n",
       "      <th>Amount</th>\n",
       "      <th>MarCap</th>\n",
       "    </tr>\n",
       "    <tr>\n",
       "      <th>Date</th>\n",
       "      <th></th>\n",
       "      <th></th>\n",
       "      <th></th>\n",
       "      <th></th>\n",
       "      <th></th>\n",
       "      <th></th>\n",
       "      <th></th>\n",
       "      <th></th>\n",
       "      <th></th>\n",
       "      <th></th>\n",
       "    </tr>\n",
       "  </thead>\n",
       "  <tbody>\n",
       "    <tr>\n",
       "      <th>2001-01-02</th>\n",
       "      <td>503.31</td>\n",
       "      <td>521.34</td>\n",
       "      <td>500.97</td>\n",
       "      <td>520.95</td>\n",
       "      <td>231014651</td>\n",
       "      <td>0.0324</td>\n",
       "      <td>1</td>\n",
       "      <td>16.33</td>\n",
       "      <td>1223328380750</td>\n",
       "      <td>NaN</td>\n",
       "    </tr>\n",
       "    <tr>\n",
       "      <th>2001-01-03</th>\n",
       "      <td>512.74</td>\n",
       "      <td>524.58</td>\n",
       "      <td>510.70</td>\n",
       "      <td>521.43</td>\n",
       "      <td>324584464</td>\n",
       "      <td>0.0009</td>\n",
       "      <td>1</td>\n",
       "      <td>0.48</td>\n",
       "      <td>1583403350350</td>\n",
       "      <td>NaN</td>\n",
       "    </tr>\n",
       "    <tr>\n",
       "      <th>2001-01-04</th>\n",
       "      <td>551.53</td>\n",
       "      <td>567.16</td>\n",
       "      <td>550.91</td>\n",
       "      <td>558.02</td>\n",
       "      <td>444540910</td>\n",
       "      <td>0.0702</td>\n",
       "      <td>1</td>\n",
       "      <td>36.59</td>\n",
       "      <td>2984761784750</td>\n",
       "      <td>NaN</td>\n",
       "    </tr>\n",
       "    <tr>\n",
       "      <th>2001-01-05</th>\n",
       "      <td>559.54</td>\n",
       "      <td>581.41</td>\n",
       "      <td>555.40</td>\n",
       "      <td>580.85</td>\n",
       "      <td>578286058</td>\n",
       "      <td>0.0409</td>\n",
       "      <td>1</td>\n",
       "      <td>22.83</td>\n",
       "      <td>3569582080650</td>\n",
       "      <td>NaN</td>\n",
       "    </tr>\n",
       "    <tr>\n",
       "      <th>2001-01-08</th>\n",
       "      <td>573.72</td>\n",
       "      <td>587.91</td>\n",
       "      <td>572.48</td>\n",
       "      <td>586.65</td>\n",
       "      <td>558645149</td>\n",
       "      <td>0.0100</td>\n",
       "      <td>1</td>\n",
       "      <td>5.80</td>\n",
       "      <td>2948092701600</td>\n",
       "      <td>NaN</td>\n",
       "    </tr>\n",
       "  </tbody>\n",
       "</table>\n",
       "</div>"
      ],
      "text/plain": [
       "              Open    High     Low   Close     Volume  Change  UpDown   Comp  \\\n",
       "Date                                                                           \n",
       "2001-01-02  503.31  521.34  500.97  520.95  231014651  0.0324       1  16.33   \n",
       "2001-01-03  512.74  524.58  510.70  521.43  324584464  0.0009       1   0.48   \n",
       "2001-01-04  551.53  567.16  550.91  558.02  444540910  0.0702       1  36.59   \n",
       "2001-01-05  559.54  581.41  555.40  580.85  578286058  0.0409       1  22.83   \n",
       "2001-01-08  573.72  587.91  572.48  586.65  558645149  0.0100       1   5.80   \n",
       "\n",
       "                   Amount  MarCap  \n",
       "Date                               \n",
       "2001-01-02  1223328380750     NaN  \n",
       "2001-01-03  1583403350350     NaN  \n",
       "2001-01-04  2984761784750     NaN  \n",
       "2001-01-05  3569582080650     NaN  \n",
       "2001-01-08  2948092701600     NaN  "
      ]
     },
     "execution_count": 22,
     "metadata": {},
     "output_type": "execute_result"
    }
   ],
   "source": [
    "import FinanceDataReader as fdr\n",
    "\n",
    "df = fdr.DataReader('KS11', \"2001\")\n",
    "df.head()"
   ]
  },
  {
   "cell_type": "code",
   "execution_count": 23,
   "id": "416cd936",
   "metadata": {},
   "outputs": [
    {
     "data": {
      "text/plain": [
       "13"
      ]
     },
     "execution_count": 23,
     "metadata": {},
     "output_type": "execute_result"
    }
   ],
   "source": [
    "df['up'] = df['Change'] > 0\n",
    "df['grp'] = (df['up'] != df['up'].shift()).cumsum()\n",
    "df['up_cnt'] = df['grp'].groupby(df['grp'].values).cumcount() + 1\n",
    "df['up_cnt'].max()"
   ]
  },
  {
   "cell_type": "markdown",
   "id": "0ca53ab3",
   "metadata": {},
   "source": [
    "### 300. 최다 연속 하락일수 (series.groupby().cumcount and cumsum)"
   ]
  },
  {
   "cell_type": "markdown",
   "id": "8d3d5736",
   "metadata": {},
   "source": [
    "2001년 이후의 코스피지수 데이터에서 최다 연속 하락일수를 구하세요."
   ]
  },
  {
   "cell_type": "code",
   "execution_count": 24,
   "id": "fcf99000",
   "metadata": {},
   "outputs": [
    {
     "data": {
      "text/plain": [
       "13"
      ]
     },
     "execution_count": 24,
     "metadata": {},
     "output_type": "execute_result"
    }
   ],
   "source": [
    "df['down'] = df['Change'] < 0\n",
    "df['grp'] = (df['down'] != df['down'].shift()).cumsum()\n",
    "df['down_cnt'] = df['grp'].groupby(df['grp'].values).cumcount() + 1\n",
    "df['down_cnt'].max()"
   ]
  }
 ],
 "metadata": {
  "kernelspec": {
   "display_name": "Python 3 (ipykernel)",
   "language": "python",
   "name": "python3"
  },
  "language_info": {
   "codemirror_mode": {
    "name": "ipython",
    "version": 3
   },
   "file_extension": ".py",
   "mimetype": "text/x-python",
   "name": "python",
   "nbconvert_exporter": "python",
   "pygments_lexer": "ipython3",
   "version": "3.10.9"
  }
 },
 "nbformat": 4,
 "nbformat_minor": 5
}
