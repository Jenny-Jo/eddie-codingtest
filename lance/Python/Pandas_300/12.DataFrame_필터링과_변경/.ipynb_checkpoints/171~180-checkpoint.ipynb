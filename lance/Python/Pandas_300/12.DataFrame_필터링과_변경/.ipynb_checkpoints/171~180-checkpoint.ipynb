{
 "cells": [
  {
   "cell_type": "code",
   "execution_count": 1,
   "id": "ea88e7cc",
   "metadata": {},
   "outputs": [],
   "source": [
    "import numpy as np\n",
    "import pandas as pd\n",
    "from pandas import DataFrame"
   ]
  },
  {
   "cell_type": "markdown",
   "id": "186bdd9e",
   "metadata": {},
   "source": [
    "### 171. 데이터프레임 컬럼 문자열 다루기"
   ]
  },
  {
   "cell_type": "markdown",
   "id": "d64aaf47",
   "metadata": {},
   "source": [
    "다음 데이터프레임의 'cd' 컬럼의 'A'를 제거하세요.\n",
    "\n",
    "from pandas import DataFrame  \n",
    "import numpy as np  \n",
    "\n",
    "data = [  \n",
    "    {\"cd\":\"A060310\", \"nm\":\"3S\", \"close\":\"2,920\"},  \n",
    "    {\"cd\":\"A095570\", \"nm\":\"AJ네트웍스\", \"close\":\"6,250\"},  \n",
    "    {\"cd\":\"A006840\", \"nm\":\"AK홀딩스\", \"close\":\"29,700\"},  \n",
    "    {\"cd\":\"A054620\", \"nm\":\"APS홀딩스\", \"close\":\"19,400\"}  \n",
    "]  \n",
    "df = DataFrame(data=data)"
   ]
  },
  {
   "cell_type": "code",
   "execution_count": 3,
   "id": "be9a1433",
   "metadata": {},
   "outputs": [
    {
     "data": {
      "text/html": [
       "<div>\n",
       "<style scoped>\n",
       "    .dataframe tbody tr th:only-of-type {\n",
       "        vertical-align: middle;\n",
       "    }\n",
       "\n",
       "    .dataframe tbody tr th {\n",
       "        vertical-align: top;\n",
       "    }\n",
       "\n",
       "    .dataframe thead th {\n",
       "        text-align: right;\n",
       "    }\n",
       "</style>\n",
       "<table border=\"1\" class=\"dataframe\">\n",
       "  <thead>\n",
       "    <tr style=\"text-align: right;\">\n",
       "      <th></th>\n",
       "      <th>cd</th>\n",
       "      <th>nm</th>\n",
       "      <th>close</th>\n",
       "    </tr>\n",
       "  </thead>\n",
       "  <tbody>\n",
       "    <tr>\n",
       "      <th>0</th>\n",
       "      <td>A060310</td>\n",
       "      <td>3S</td>\n",
       "      <td>2,920</td>\n",
       "    </tr>\n",
       "    <tr>\n",
       "      <th>1</th>\n",
       "      <td>A095570</td>\n",
       "      <td>AJ네트웍스</td>\n",
       "      <td>6,250</td>\n",
       "    </tr>\n",
       "    <tr>\n",
       "      <th>2</th>\n",
       "      <td>A006840</td>\n",
       "      <td>AK홀딩스</td>\n",
       "      <td>29,700</td>\n",
       "    </tr>\n",
       "    <tr>\n",
       "      <th>3</th>\n",
       "      <td>A054620</td>\n",
       "      <td>APS홀딩스</td>\n",
       "      <td>19,400</td>\n",
       "    </tr>\n",
       "  </tbody>\n",
       "</table>\n",
       "</div>"
      ],
      "text/plain": [
       "        cd      nm   close\n",
       "0  A060310      3S   2,920\n",
       "1  A095570  AJ네트웍스   6,250\n",
       "2  A006840   AK홀딩스  29,700\n",
       "3  A054620  APS홀딩스  19,400"
      ]
     },
     "execution_count": 3,
     "metadata": {},
     "output_type": "execute_result"
    }
   ],
   "source": [
    "data = [\n",
    "    {\"cd\":\"A060310\", \"nm\":\"3S\", \"close\":\"2,920\"},\n",
    "    {\"cd\":\"A095570\", \"nm\":\"AJ네트웍스\", \"close\":\"6,250\"},\n",
    "    {\"cd\":\"A006840\", \"nm\":\"AK홀딩스\", \"close\":\"29,700\"},\n",
    "    {\"cd\":\"A054620\", \"nm\":\"APS홀딩스\", \"close\":\"19,400\"}\n",
    "]\n",
    "df = DataFrame(data=data)\n",
    "\n",
    "df"
   ]
  },
  {
   "cell_type": "code",
   "execution_count": 6,
   "id": "464306fa",
   "metadata": {},
   "outputs": [
    {
     "data": {
      "text/html": [
       "<div>\n",
       "<style scoped>\n",
       "    .dataframe tbody tr th:only-of-type {\n",
       "        vertical-align: middle;\n",
       "    }\n",
       "\n",
       "    .dataframe tbody tr th {\n",
       "        vertical-align: top;\n",
       "    }\n",
       "\n",
       "    .dataframe thead th {\n",
       "        text-align: right;\n",
       "    }\n",
       "</style>\n",
       "<table border=\"1\" class=\"dataframe\">\n",
       "  <thead>\n",
       "    <tr style=\"text-align: right;\">\n",
       "      <th></th>\n",
       "      <th>cd</th>\n",
       "      <th>nm</th>\n",
       "      <th>close</th>\n",
       "    </tr>\n",
       "  </thead>\n",
       "  <tbody>\n",
       "    <tr>\n",
       "      <th>0</th>\n",
       "      <td>060310</td>\n",
       "      <td>3S</td>\n",
       "      <td>2,920</td>\n",
       "    </tr>\n",
       "    <tr>\n",
       "      <th>1</th>\n",
       "      <td>095570</td>\n",
       "      <td>AJ네트웍스</td>\n",
       "      <td>6,250</td>\n",
       "    </tr>\n",
       "    <tr>\n",
       "      <th>2</th>\n",
       "      <td>006840</td>\n",
       "      <td>AK홀딩스</td>\n",
       "      <td>29,700</td>\n",
       "    </tr>\n",
       "    <tr>\n",
       "      <th>3</th>\n",
       "      <td>054620</td>\n",
       "      <td>APS홀딩스</td>\n",
       "      <td>19,400</td>\n",
       "    </tr>\n",
       "  </tbody>\n",
       "</table>\n",
       "</div>"
      ],
      "text/plain": [
       "       cd      nm   close\n",
       "0  060310      3S   2,920\n",
       "1  095570  AJ네트웍스   6,250\n",
       "2  006840   AK홀딩스  29,700\n",
       "3  054620  APS홀딩스  19,400"
      ]
     },
     "execution_count": 6,
     "metadata": {},
     "output_type": "execute_result"
    }
   ],
   "source": [
    "df['cd'] = df['cd'].str.replace('A', '')\n",
    "df"
   ]
  },
  {
   "cell_type": "markdown",
   "id": "b7e3beb0",
   "metadata": {},
   "source": [
    "### 172. 데이터프레임 문자열 컬럼"
   ]
  },
  {
   "cell_type": "markdown",
   "id": "f945da8e",
   "metadata": {},
   "source": [
    "위 데이터프레임에서 'close' 컬럼의 콤마를 제거한 후 np.int64 타입으로 변경하세요."
   ]
  },
  {
   "cell_type": "code",
   "execution_count": 9,
   "id": "f583d6ee",
   "metadata": {},
   "outputs": [
    {
     "data": {
      "text/html": [
       "<div>\n",
       "<style scoped>\n",
       "    .dataframe tbody tr th:only-of-type {\n",
       "        vertical-align: middle;\n",
       "    }\n",
       "\n",
       "    .dataframe tbody tr th {\n",
       "        vertical-align: top;\n",
       "    }\n",
       "\n",
       "    .dataframe thead th {\n",
       "        text-align: right;\n",
       "    }\n",
       "</style>\n",
       "<table border=\"1\" class=\"dataframe\">\n",
       "  <thead>\n",
       "    <tr style=\"text-align: right;\">\n",
       "      <th></th>\n",
       "      <th>cd</th>\n",
       "      <th>nm</th>\n",
       "      <th>close</th>\n",
       "    </tr>\n",
       "  </thead>\n",
       "  <tbody>\n",
       "    <tr>\n",
       "      <th>0</th>\n",
       "      <td>A060310</td>\n",
       "      <td>3S</td>\n",
       "      <td>2920</td>\n",
       "    </tr>\n",
       "    <tr>\n",
       "      <th>1</th>\n",
       "      <td>A095570</td>\n",
       "      <td>AJ네트웍스</td>\n",
       "      <td>6250</td>\n",
       "    </tr>\n",
       "    <tr>\n",
       "      <th>2</th>\n",
       "      <td>A006840</td>\n",
       "      <td>AK홀딩스</td>\n",
       "      <td>29700</td>\n",
       "    </tr>\n",
       "    <tr>\n",
       "      <th>3</th>\n",
       "      <td>A054620</td>\n",
       "      <td>APS홀딩스</td>\n",
       "      <td>19400</td>\n",
       "    </tr>\n",
       "  </tbody>\n",
       "</table>\n",
       "</div>"
      ],
      "text/plain": [
       "        cd      nm  close\n",
       "0  A060310      3S   2920\n",
       "1  A095570  AJ네트웍스   6250\n",
       "2  A006840   AK홀딩스  29700\n",
       "3  A054620  APS홀딩스  19400"
      ]
     },
     "execution_count": 9,
     "metadata": {},
     "output_type": "execute_result"
    }
   ],
   "source": [
    "data = [\n",
    "    {\"cd\":\"A060310\", \"nm\":\"3S\", \"close\":\"2,920\"},\n",
    "    {\"cd\":\"A095570\", \"nm\":\"AJ네트웍스\", \"close\":\"6,250\"},\n",
    "    {\"cd\":\"A006840\", \"nm\":\"AK홀딩스\", \"close\":\"29,700\"},\n",
    "    {\"cd\":\"A054620\", \"nm\":\"APS홀딩스\", \"close\":\"19,400\"}\n",
    "]\n",
    "df = DataFrame(data=data)\n",
    "\n",
    "df['close'] = df['close'].str.replace(',', '')\n",
    "\n",
    "df['close'] = df['close'].astype(np.int64)\n",
    "\n",
    "df"
   ]
  },
  {
   "cell_type": "code",
   "execution_count": 10,
   "id": "c92f1dd1",
   "metadata": {},
   "outputs": [
    {
     "data": {
      "text/plain": [
       "dtype('int64')"
      ]
     },
     "execution_count": 10,
     "metadata": {},
     "output_type": "execute_result"
    }
   ],
   "source": [
    "df['close'].dtypes"
   ]
  },
  {
   "cell_type": "markdown",
   "id": "f5e836b9",
   "metadata": {},
   "source": [
    "### 173. DataFrame dropna"
   ]
  },
  {
   "cell_type": "markdown",
   "id": "c62d19d6",
   "metadata": {},
   "source": [
    "다음 데이터프레임에서 np.nan 값이 있는 모든 행을 제거하세요.\n",
    "\n",
    "data = [  \n",
    "    [1, 2, 3],  \n",
    "    [np.nan, 5, 6],  \n",
    "    [7, np.nan, 9],  \n",
    "    [10, 11, np.nan]  \n",
    "]  \n",
    "df = pd.DataFrame(data)"
   ]
  },
  {
   "cell_type": "code",
   "execution_count": 12,
   "id": "536bc8c7",
   "metadata": {},
   "outputs": [
    {
     "data": {
      "text/html": [
       "<div>\n",
       "<style scoped>\n",
       "    .dataframe tbody tr th:only-of-type {\n",
       "        vertical-align: middle;\n",
       "    }\n",
       "\n",
       "    .dataframe tbody tr th {\n",
       "        vertical-align: top;\n",
       "    }\n",
       "\n",
       "    .dataframe thead th {\n",
       "        text-align: right;\n",
       "    }\n",
       "</style>\n",
       "<table border=\"1\" class=\"dataframe\">\n",
       "  <thead>\n",
       "    <tr style=\"text-align: right;\">\n",
       "      <th></th>\n",
       "      <th>0</th>\n",
       "      <th>1</th>\n",
       "      <th>2</th>\n",
       "    </tr>\n",
       "  </thead>\n",
       "  <tbody>\n",
       "    <tr>\n",
       "      <th>0</th>\n",
       "      <td>1.0</td>\n",
       "      <td>2.0</td>\n",
       "      <td>3.0</td>\n",
       "    </tr>\n",
       "  </tbody>\n",
       "</table>\n",
       "</div>"
      ],
      "text/plain": [
       "     0    1    2\n",
       "0  1.0  2.0  3.0"
      ]
     },
     "execution_count": 12,
     "metadata": {},
     "output_type": "execute_result"
    }
   ],
   "source": [
    "data = [\n",
    "    [1, 2, 3],\n",
    "    [np.nan, 5, 6],\n",
    "    [7, np.nan, 9],\n",
    "    [10, 11, np.nan]\n",
    "]\n",
    "df = pd.DataFrame(data)\n",
    "\n",
    "df.dropna(inplace=True, axis=0)\n",
    "df"
   ]
  },
  {
   "cell_type": "markdown",
   "id": "ef00fbbb",
   "metadata": {},
   "source": [
    "### 174. dataframe.dropna (subset)"
   ]
  },
  {
   "cell_type": "markdown",
   "id": "f67efa21",
   "metadata": {},
   "source": [
    "다음 데이터프레임에서 col2 컬럼의 값에 NaN이 포함된 행만 제거하세요.\n",
    "\n",
    "import pandas as pd  \n",
    "import numpy as np  \n",
    "\n",
    "data = [  \n",
    "    [1, 1, np.nan],  \n",
    "    [10, np.nan, 10],  \n",
    "    [2, 3, 4]  \n",
    "]  \n",
    "columns = ['col0', 'col1', 'col2']  \n",
    "df = pd.DataFrame(data, columns=columns)"
   ]
  },
  {
   "cell_type": "code",
   "execution_count": 17,
   "id": "c7da4346",
   "metadata": {},
   "outputs": [
    {
     "data": {
      "text/html": [
       "<div>\n",
       "<style scoped>\n",
       "    .dataframe tbody tr th:only-of-type {\n",
       "        vertical-align: middle;\n",
       "    }\n",
       "\n",
       "    .dataframe tbody tr th {\n",
       "        vertical-align: top;\n",
       "    }\n",
       "\n",
       "    .dataframe thead th {\n",
       "        text-align: right;\n",
       "    }\n",
       "</style>\n",
       "<table border=\"1\" class=\"dataframe\">\n",
       "  <thead>\n",
       "    <tr style=\"text-align: right;\">\n",
       "      <th></th>\n",
       "      <th>col0</th>\n",
       "      <th>col1</th>\n",
       "      <th>col2</th>\n",
       "    </tr>\n",
       "  </thead>\n",
       "  <tbody>\n",
       "    <tr>\n",
       "      <th>1</th>\n",
       "      <td>10</td>\n",
       "      <td>NaN</td>\n",
       "      <td>10.0</td>\n",
       "    </tr>\n",
       "    <tr>\n",
       "      <th>2</th>\n",
       "      <td>2</td>\n",
       "      <td>3.0</td>\n",
       "      <td>4.0</td>\n",
       "    </tr>\n",
       "  </tbody>\n",
       "</table>\n",
       "</div>"
      ],
      "text/plain": [
       "   col0  col1  col2\n",
       "1    10   NaN  10.0\n",
       "2     2   3.0   4.0"
      ]
     },
     "execution_count": 17,
     "metadata": {},
     "output_type": "execute_result"
    }
   ],
   "source": [
    "data = [\n",
    "    [1, 1, np.nan],\n",
    "    [10, np.nan, 10],\n",
    "    [2, 3, 4]\n",
    "]\n",
    "columns = ['col0', 'col1', 'col2']\n",
    "df = pd.DataFrame(data, columns=columns)\n",
    "\n",
    "df.dropna(subset='col2', inplace=True)\n",
    "\n",
    "df"
   ]
  },
  {
   "cell_type": "markdown",
   "id": "de8e5e88",
   "metadata": {},
   "source": [
    "### 175. dataframe.fillna"
   ]
  },
  {
   "cell_type": "markdown",
   "id": "bced1dd5",
   "metadata": {},
   "source": [
    "다음 데이터프레임의 NaN 값을 0으로 채우세요.\n",
    "\n",
    "import pandas as pd  \n",
    "import numpy as np  \n",
    "\n",
    "data = [  \n",
    "    [1, 1, np.nan],  \n",
    "    [10, np.nan, 10],  \n",
    "    [2, 3, 4]  \n",
    "]  \n",
    "columns = ['col0', 'col1', 'col2']  \n",
    "df = pd.DataFrame(data, columns=columns)  "
   ]
  },
  {
   "cell_type": "code",
   "execution_count": 18,
   "id": "2fde8817",
   "metadata": {},
   "outputs": [
    {
     "data": {
      "text/html": [
       "<div>\n",
       "<style scoped>\n",
       "    .dataframe tbody tr th:only-of-type {\n",
       "        vertical-align: middle;\n",
       "    }\n",
       "\n",
       "    .dataframe tbody tr th {\n",
       "        vertical-align: top;\n",
       "    }\n",
       "\n",
       "    .dataframe thead th {\n",
       "        text-align: right;\n",
       "    }\n",
       "</style>\n",
       "<table border=\"1\" class=\"dataframe\">\n",
       "  <thead>\n",
       "    <tr style=\"text-align: right;\">\n",
       "      <th></th>\n",
       "      <th>col0</th>\n",
       "      <th>col1</th>\n",
       "      <th>col2</th>\n",
       "    </tr>\n",
       "  </thead>\n",
       "  <tbody>\n",
       "    <tr>\n",
       "      <th>0</th>\n",
       "      <td>1</td>\n",
       "      <td>1.0</td>\n",
       "      <td>0.0</td>\n",
       "    </tr>\n",
       "    <tr>\n",
       "      <th>1</th>\n",
       "      <td>10</td>\n",
       "      <td>0.0</td>\n",
       "      <td>10.0</td>\n",
       "    </tr>\n",
       "    <tr>\n",
       "      <th>2</th>\n",
       "      <td>2</td>\n",
       "      <td>3.0</td>\n",
       "      <td>4.0</td>\n",
       "    </tr>\n",
       "  </tbody>\n",
       "</table>\n",
       "</div>"
      ],
      "text/plain": [
       "   col0  col1  col2\n",
       "0     1   1.0   0.0\n",
       "1    10   0.0  10.0\n",
       "2     2   3.0   4.0"
      ]
     },
     "execution_count": 18,
     "metadata": {},
     "output_type": "execute_result"
    }
   ],
   "source": [
    "data = [\n",
    "    [1, 1, np.nan],\n",
    "    [10, np.nan, 10],\n",
    "    [2, 3, 4]\n",
    "]\n",
    "columns = ['col0', 'col1', 'col2']\n",
    "df = pd.DataFrame(data, columns=columns)\n",
    "\n",
    "df.fillna(0, inplace=True)\n",
    "df"
   ]
  },
  {
   "cell_type": "markdown",
   "id": "7306b8a5",
   "metadata": {},
   "source": [
    "### 176. fillna (method)"
   ]
  },
  {
   "cell_type": "markdown",
   "id": "5149f774",
   "metadata": {},
   "source": [
    "다음 데이터프레임에서 NaN 값을 동일 컬럼의 이전 값으로 채우세요.\n",
    "\n",
    "import pandas as pd  \n",
    "import numpy as np  \n",
    "\n",
    "data = [  \n",
    "    [1, 1, np.nan],  \n",
    "    [10, np.nan, 10],  \n",
    "    [2, 3, 4]  \n",
    "]  \n",
    "columns = ['col0', 'col1', 'col2']  \n",
    "df = pd.DataFrame(data, columns=columns)"
   ]
  },
  {
   "cell_type": "code",
   "execution_count": 21,
   "id": "3f43d865",
   "metadata": {},
   "outputs": [
    {
     "data": {
      "text/html": [
       "<div>\n",
       "<style scoped>\n",
       "    .dataframe tbody tr th:only-of-type {\n",
       "        vertical-align: middle;\n",
       "    }\n",
       "\n",
       "    .dataframe tbody tr th {\n",
       "        vertical-align: top;\n",
       "    }\n",
       "\n",
       "    .dataframe thead th {\n",
       "        text-align: right;\n",
       "    }\n",
       "</style>\n",
       "<table border=\"1\" class=\"dataframe\">\n",
       "  <thead>\n",
       "    <tr style=\"text-align: right;\">\n",
       "      <th></th>\n",
       "      <th>col0</th>\n",
       "      <th>col1</th>\n",
       "      <th>col2</th>\n",
       "    </tr>\n",
       "  </thead>\n",
       "  <tbody>\n",
       "    <tr>\n",
       "      <th>0</th>\n",
       "      <td>1</td>\n",
       "      <td>1.0</td>\n",
       "      <td>NaN</td>\n",
       "    </tr>\n",
       "    <tr>\n",
       "      <th>1</th>\n",
       "      <td>10</td>\n",
       "      <td>1.0</td>\n",
       "      <td>10.0</td>\n",
       "    </tr>\n",
       "    <tr>\n",
       "      <th>2</th>\n",
       "      <td>2</td>\n",
       "      <td>3.0</td>\n",
       "      <td>4.0</td>\n",
       "    </tr>\n",
       "  </tbody>\n",
       "</table>\n",
       "</div>"
      ],
      "text/plain": [
       "   col0  col1  col2\n",
       "0     1   1.0   NaN\n",
       "1    10   1.0  10.0\n",
       "2     2   3.0   4.0"
      ]
     },
     "execution_count": 21,
     "metadata": {},
     "output_type": "execute_result"
    }
   ],
   "source": [
    "data = [\n",
    "    [1, 1, np.nan],\n",
    "    [10, np.nan, 10],\n",
    "    [2, 3, 4]\n",
    "]\n",
    "columns = ['col0', 'col1', 'col2']\n",
    "df = pd.DataFrame(data, columns=columns)\n",
    "\n",
    "df.fillna(method='ffill', inplace=True)\n",
    "\n",
    "df"
   ]
  },
  {
   "cell_type": "markdown",
   "id": "c9df692a",
   "metadata": {},
   "source": [
    "### 177. dataframe.isna()"
   ]
  },
  {
   "cell_type": "markdown",
   "id": "7d29af44",
   "metadata": {},
   "source": [
    "다음 데이터프레임에서 isna 메서드를 호출해보세요.\n",
    "\n",
    "import pandas as pd  \n",
    "import numpy as np  \n",
    "\n",
    "data = [  \n",
    "    [1, 1, np.nan],  \n",
    "    [10, np.nan, 10],  \n",
    "    [2, 3, 4]  \n",
    "]  \n",
    "columns = ['col0', 'col1', 'col2']  \n",
    "df = pd.DataFrame(data, columns=columns)"
   ]
  },
  {
   "cell_type": "code",
   "execution_count": 22,
   "id": "08c10f1e",
   "metadata": {},
   "outputs": [
    {
     "data": {
      "text/html": [
       "<div>\n",
       "<style scoped>\n",
       "    .dataframe tbody tr th:only-of-type {\n",
       "        vertical-align: middle;\n",
       "    }\n",
       "\n",
       "    .dataframe tbody tr th {\n",
       "        vertical-align: top;\n",
       "    }\n",
       "\n",
       "    .dataframe thead th {\n",
       "        text-align: right;\n",
       "    }\n",
       "</style>\n",
       "<table border=\"1\" class=\"dataframe\">\n",
       "  <thead>\n",
       "    <tr style=\"text-align: right;\">\n",
       "      <th></th>\n",
       "      <th>col0</th>\n",
       "      <th>col1</th>\n",
       "      <th>col2</th>\n",
       "    </tr>\n",
       "  </thead>\n",
       "  <tbody>\n",
       "    <tr>\n",
       "      <th>0</th>\n",
       "      <td>False</td>\n",
       "      <td>False</td>\n",
       "      <td>True</td>\n",
       "    </tr>\n",
       "    <tr>\n",
       "      <th>1</th>\n",
       "      <td>False</td>\n",
       "      <td>True</td>\n",
       "      <td>False</td>\n",
       "    </tr>\n",
       "    <tr>\n",
       "      <th>2</th>\n",
       "      <td>False</td>\n",
       "      <td>False</td>\n",
       "      <td>False</td>\n",
       "    </tr>\n",
       "  </tbody>\n",
       "</table>\n",
       "</div>"
      ],
      "text/plain": [
       "    col0   col1   col2\n",
       "0  False  False   True\n",
       "1  False   True  False\n",
       "2  False  False  False"
      ]
     },
     "execution_count": 22,
     "metadata": {},
     "output_type": "execute_result"
    }
   ],
   "source": [
    "data = [\n",
    "    [1, 1, np.nan],\n",
    "    [10, np.nan, 10],\n",
    "    [2, 3, 4]\n",
    "]\n",
    "columns = ['col0', 'col1', 'col2']\n",
    "df = pd.DataFrame(data, columns=columns)\n",
    "\n",
    "df.isna()"
   ]
  },
  {
   "cell_type": "markdown",
   "id": "c4113a83",
   "metadata": {},
   "source": [
    "### 178. dataframe.notna"
   ]
  },
  {
   "cell_type": "markdown",
   "id": "a3e55cad",
   "metadata": {},
   "source": [
    "위 데이터프레임에 대해서 notna 메서드를 호출해보세요."
   ]
  },
  {
   "cell_type": "code",
   "execution_count": 23,
   "id": "bac18a82",
   "metadata": {},
   "outputs": [
    {
     "data": {
      "text/html": [
       "<div>\n",
       "<style scoped>\n",
       "    .dataframe tbody tr th:only-of-type {\n",
       "        vertical-align: middle;\n",
       "    }\n",
       "\n",
       "    .dataframe tbody tr th {\n",
       "        vertical-align: top;\n",
       "    }\n",
       "\n",
       "    .dataframe thead th {\n",
       "        text-align: right;\n",
       "    }\n",
       "</style>\n",
       "<table border=\"1\" class=\"dataframe\">\n",
       "  <thead>\n",
       "    <tr style=\"text-align: right;\">\n",
       "      <th></th>\n",
       "      <th>col0</th>\n",
       "      <th>col1</th>\n",
       "      <th>col2</th>\n",
       "    </tr>\n",
       "  </thead>\n",
       "  <tbody>\n",
       "    <tr>\n",
       "      <th>0</th>\n",
       "      <td>True</td>\n",
       "      <td>True</td>\n",
       "      <td>False</td>\n",
       "    </tr>\n",
       "    <tr>\n",
       "      <th>1</th>\n",
       "      <td>True</td>\n",
       "      <td>False</td>\n",
       "      <td>True</td>\n",
       "    </tr>\n",
       "    <tr>\n",
       "      <th>2</th>\n",
       "      <td>True</td>\n",
       "      <td>True</td>\n",
       "      <td>True</td>\n",
       "    </tr>\n",
       "  </tbody>\n",
       "</table>\n",
       "</div>"
      ],
      "text/plain": [
       "   col0   col1   col2\n",
       "0  True   True  False\n",
       "1  True  False   True\n",
       "2  True   True   True"
      ]
     },
     "execution_count": 23,
     "metadata": {},
     "output_type": "execute_result"
    }
   ],
   "source": [
    "df.notna()"
   ]
  },
  {
   "cell_type": "markdown",
   "id": "9a5cca5b",
   "metadata": {},
   "source": [
    "### 179. dataframe replace"
   ]
  },
  {
   "cell_type": "markdown",
   "id": "84b354d5",
   "metadata": {},
   "source": [
    "다음 데이터프레임에서 0을 100으로 변경하세요.\n",
    "\n",
    "import pandas as pd  \n",
    "import numpy as np  \n",
    "\n",
    "data = np.arange(9).reshape(3, 3)  \n",
    "df = pd.DataFrame(data)"
   ]
  },
  {
   "cell_type": "code",
   "execution_count": 24,
   "id": "5cdf023e",
   "metadata": {},
   "outputs": [
    {
     "data": {
      "text/html": [
       "<div>\n",
       "<style scoped>\n",
       "    .dataframe tbody tr th:only-of-type {\n",
       "        vertical-align: middle;\n",
       "    }\n",
       "\n",
       "    .dataframe tbody tr th {\n",
       "        vertical-align: top;\n",
       "    }\n",
       "\n",
       "    .dataframe thead th {\n",
       "        text-align: right;\n",
       "    }\n",
       "</style>\n",
       "<table border=\"1\" class=\"dataframe\">\n",
       "  <thead>\n",
       "    <tr style=\"text-align: right;\">\n",
       "      <th></th>\n",
       "      <th>0</th>\n",
       "      <th>1</th>\n",
       "      <th>2</th>\n",
       "    </tr>\n",
       "  </thead>\n",
       "  <tbody>\n",
       "    <tr>\n",
       "      <th>0</th>\n",
       "      <td>100</td>\n",
       "      <td>1</td>\n",
       "      <td>2</td>\n",
       "    </tr>\n",
       "    <tr>\n",
       "      <th>1</th>\n",
       "      <td>3</td>\n",
       "      <td>4</td>\n",
       "      <td>5</td>\n",
       "    </tr>\n",
       "    <tr>\n",
       "      <th>2</th>\n",
       "      <td>6</td>\n",
       "      <td>7</td>\n",
       "      <td>8</td>\n",
       "    </tr>\n",
       "  </tbody>\n",
       "</table>\n",
       "</div>"
      ],
      "text/plain": [
       "     0  1  2\n",
       "0  100  1  2\n",
       "1    3  4  5\n",
       "2    6  7  8"
      ]
     },
     "execution_count": 24,
     "metadata": {},
     "output_type": "execute_result"
    }
   ],
   "source": [
    "data = np.arange(9).reshape(3, 3)\n",
    "df = pd.DataFrame(data)\n",
    "\n",
    "df.replace(0, 100, inplace=True)\n",
    "df"
   ]
  },
  {
   "cell_type": "markdown",
   "id": "a1b9e869",
   "metadata": {},
   "source": [
    "### 180. astype"
   ]
  },
  {
   "cell_type": "markdown",
   "id": "09c83df9",
   "metadata": {},
   "source": [
    "다음 데이터프레임의 'fruit' 컬럼의 타입을 object에서 category로 변경하세요.  \n",
    "\n",
    "import pandas as pd\n",
    "\n",
    "data = {  \n",
    "    'fruit': ['apple', 'orange', 'orange', 'apple', 'apple', 'apple'],  \n",
    "    'weight': [1.5, 1.3, 3.7, 2.4, 1.7, 1.8]  \n",
    "}  \n",
    "df = pd.DataFrame(data)"
   ]
  },
  {
   "cell_type": "code",
   "execution_count": 25,
   "id": "7a0079eb",
   "metadata": {},
   "outputs": [
    {
     "data": {
      "text/plain": [
       "CategoricalDtype(categories=['apple', 'orange'], ordered=False)"
      ]
     },
     "execution_count": 25,
     "metadata": {},
     "output_type": "execute_result"
    }
   ],
   "source": [
    "data = {\n",
    "    'fruit': ['apple', 'orange', 'orange', 'apple', 'apple', 'apple'],\n",
    "    'weight': [1.5, 1.3, 3.7, 2.4, 1.7, 1.8]\n",
    "}\n",
    "df = pd.DataFrame(data)\n",
    "\n",
    "\n",
    "df['fruit'] = df['fruit'].astype('category')\n",
    "\n",
    "df['fruit'].dtypes"
   ]
  }
 ],
 "metadata": {
  "kernelspec": {
   "display_name": "Python 3 (ipykernel)",
   "language": "python",
   "name": "python3"
  },
  "language_info": {
   "codemirror_mode": {
    "name": "ipython",
    "version": 3
   },
   "file_extension": ".py",
   "mimetype": "text/x-python",
   "name": "python",
   "nbconvert_exporter": "python",
   "pygments_lexer": "ipython3",
   "version": "3.10.9"
  }
 },
 "nbformat": 4,
 "nbformat_minor": 5
}
