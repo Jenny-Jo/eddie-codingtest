{
 "cells": [
  {
   "cell_type": "code",
   "execution_count": 1,
   "id": "a0723cc2",
   "metadata": {},
   "outputs": [],
   "source": [
    "import pandas as pd\n",
    "from pandas import Series"
   ]
  },
  {
   "cell_type": "markdown",
   "id": "99d960ed",
   "metadata": {},
   "source": [
    "### 121. dropna"
   ]
  },
  {
   "cell_type": "markdown",
   "id": "fcca5cec",
   "metadata": {},
   "source": [
    "다음과 같이 NaN이 포함된 시리즈 겍채에서 NaN 값을 제거하세요.\n",
    "\n",
    "import numpy as np  \n",
    "from pandas import Series\n",
    "\n",
    "data = [1, 2, 3, 4, np.nan]  \n",
    "s = Series(data=data)  \n",
    "s"
   ]
  },
  {
   "cell_type": "code",
   "execution_count": 2,
   "id": "3d99d716",
   "metadata": {},
   "outputs": [
    {
     "data": {
      "text/plain": [
       "0    1.0\n",
       "1    2.0\n",
       "2    3.0\n",
       "3    4.0\n",
       "dtype: float64"
      ]
     },
     "execution_count": 2,
     "metadata": {},
     "output_type": "execute_result"
    }
   ],
   "source": [
    "import numpy as np\n",
    "\n",
    "data = [1, 2, 3, 4, np.nan]\n",
    "s = Series(data=data)\n",
    "\n",
    "s.dropna(inplace=True)\n",
    "s"
   ]
  },
  {
   "cell_type": "markdown",
   "id": "80608a3b",
   "metadata": {},
   "source": [
    "### 122. nlargest"
   ]
  },
  {
   "cell_type": "markdown",
   "id": "fec682df",
   "metadata": {},
   "source": [
    "다음과 같은 시리즈 객체가 있을 때 nlargest 메서드를 사용하여 값이 큰 3개를 출력해보세요.\n",
    "\n",
    "from pandas import Series\n",
    "\n",
    "data = range(1, 11)  \n",
    "s = Series(data=data)  \n",
    "s"
   ]
  },
  {
   "cell_type": "code",
   "execution_count": 3,
   "id": "43c9e5f9",
   "metadata": {},
   "outputs": [
    {
     "data": {
      "text/plain": [
       "9    10\n",
       "8     9\n",
       "7     8\n",
       "dtype: int64"
      ]
     },
     "execution_count": 3,
     "metadata": {},
     "output_type": "execute_result"
    }
   ],
   "source": [
    "data = range(1, 11)\n",
    "s = Series(data=data)\n",
    "s.nlargest(3)"
   ]
  },
  {
   "cell_type": "markdown",
   "id": "35505f95",
   "metadata": {},
   "source": [
    "### 123. nsmallest"
   ]
  },
  {
   "cell_type": "markdown",
   "id": "c6f9b2c3",
   "metadata": {},
   "source": [
    "다음과 같은 시리즈 객체가 있을 때 nsmallest 메서드를 사용하여 값이 작은 3개를 출력해보세요.\n",
    "\n",
    "from pandas import Series\n",
    "\n",
    "data = range(1, 11)  \n",
    "s = Series(data=data)  \n",
    "s"
   ]
  },
  {
   "cell_type": "code",
   "execution_count": 4,
   "id": "7c9ba32d",
   "metadata": {},
   "outputs": [
    {
     "data": {
      "text/plain": [
       "0    1\n",
       "1    2\n",
       "2    3\n",
       "dtype: int64"
      ]
     },
     "execution_count": 4,
     "metadata": {},
     "output_type": "execute_result"
    }
   ],
   "source": [
    "data = range(1, 11)\n",
    "s = Series(data=data)\n",
    "s.nsmallest(3)"
   ]
  },
  {
   "cell_type": "markdown",
   "id": "cf954ade",
   "metadata": {},
   "source": [
    "### 124. Series.dt.year"
   ]
  },
  {
   "cell_type": "markdown",
   "id": "ca03f747",
   "metadata": {},
   "source": [
    "다음 시리즈 객체의 값에서 연도만 출력하세요.\n",
    "\n",
    "import pandas as pd\n",
    "\n",
    "data = pd.to_datetime( ['20200101', '20210101', '20220101'] )  \n",
    "s = pd.Series( data)"
   ]
  },
  {
   "cell_type": "code",
   "execution_count": 5,
   "id": "c6bf2826",
   "metadata": {},
   "outputs": [
    {
     "data": {
      "text/plain": [
       "0    2020\n",
       "1    2021\n",
       "2    2022\n",
       "dtype: int64"
      ]
     },
     "execution_count": 5,
     "metadata": {},
     "output_type": "execute_result"
    }
   ],
   "source": [
    "data = pd.to_datetime( ['20200101', '20210101', '20220101'] )\n",
    "s = pd.Series(data)\n",
    "\n",
    "s.dt.year"
   ]
  },
  {
   "cell_type": "markdown",
   "id": "e6d71789",
   "metadata": {},
   "source": [
    "### 125. Series.dy.day"
   ]
  },
  {
   "cell_type": "markdown",
   "id": "c7b8e68e",
   "metadata": {},
   "source": [
    "다음 시리즈 객체의 값에서 '일'만 가져와 보세요.\n",
    "\n",
    "import pandas as pd\n",
    "\n",
    "data = pd.to_datetime( ['20200101', '20210101', '20220101'] )  \n",
    "s = pd.Series( data)"
   ]
  },
  {
   "cell_type": "code",
   "execution_count": 6,
   "id": "b2740957",
   "metadata": {},
   "outputs": [
    {
     "data": {
      "text/plain": [
       "0    1\n",
       "1    1\n",
       "2    1\n",
       "dtype: int64"
      ]
     },
     "execution_count": 6,
     "metadata": {},
     "output_type": "execute_result"
    }
   ],
   "source": [
    "data = pd.to_datetime( ['20200101', '20210101', '20220101'] )\n",
    "s = pd.Series(data)\n",
    "\n",
    "s.dt.day"
   ]
  },
  {
   "cell_type": "markdown",
   "id": "1a5b0332",
   "metadata": {},
   "source": [
    "### 126. 시리즈 시계열 인덱스"
   ]
  },
  {
   "cell_type": "markdown",
   "id": "07297e07",
   "metadata": {},
   "source": [
    "다음 시리즈 객체의 인덱스에서 연도만 가져오세요.\n",
    "\n",
    "import pandas as pd\n",
    "\n",
    "index = pd.to_datetime( ['20200101', '20210101', '20220101'] )  \n",
    "data = [100, 200, 300]  \n",
    "s = pd.Series(data=data, index=index)"
   ]
  },
  {
   "cell_type": "code",
   "execution_count": 10,
   "id": "971ae209",
   "metadata": {},
   "outputs": [
    {
     "data": {
      "text/plain": [
       "Int64Index([2020, 2021, 2022], dtype='int64')"
      ]
     },
     "execution_count": 10,
     "metadata": {},
     "output_type": "execute_result"
    }
   ],
   "source": [
    "index = pd.to_datetime( ['20200101', '20210101', '20220101'] )\n",
    "data = [100, 200, 300]\n",
    "s = pd.Series(data=data, index=index)\n",
    "\n",
    "s.index.year"
   ]
  },
  {
   "cell_type": "markdown",
   "id": "29f5be91",
   "metadata": {},
   "source": [
    "### 127. strftime"
   ]
  },
  {
   "cell_type": "markdown",
   "id": "7402f278",
   "metadata": {},
   "source": [
    "시리즈 객체에는 인덱스가 datetime64 타입으로 저장돼 있습니다.\n",
    "\n",
    "import pandas as pd\n",
    "\n",
    "index = pd.to_datetime( ['20200101', '20210101', '20220101'] )  \n",
    "data = [100, 200, 300]  \n",
    "s = pd.Series(data=data, index=index)  \n",
    "시리즈의 인덱스를 다음 포맷의 문자열로 변경하세요.  \n",
    "\n",
    "2020-01-01 00:00:00    100  \n",
    "2021-01-01 00:00:00    200  \n",
    "2022-01-01 00:00:00    300  \n",
    "dtype: int64"
   ]
  },
  {
   "cell_type": "code",
   "execution_count": 11,
   "id": "e6a2829d",
   "metadata": {},
   "outputs": [
    {
     "data": {
      "text/plain": [
       "Index(['2020-01-01 00:00:00', '2021-01-01 00:00:00', '2022-01-01 00:00:00'], dtype='object')"
      ]
     },
     "execution_count": 11,
     "metadata": {},
     "output_type": "execute_result"
    }
   ],
   "source": [
    "index = pd.to_datetime( ['20200101', '20210101', '20220101'] )\n",
    "data = [100, 200, 300]\n",
    "s = Series(data=data, index=index)\n",
    "\n",
    "s.index.strftime('%Y-%m-%d 00:00:00')"
   ]
  },
  {
   "cell_type": "markdown",
   "id": "333b96d9",
   "metadata": {},
   "source": [
    "### 128. Series.str.cat"
   ]
  },
  {
   "cell_type": "markdown",
   "id": "7de07dbb",
   "metadata": {},
   "source": [
    "다음 시리즈 객체는 3종목의 종목 코드를 저장하고 있습니다. 이를 다음과 같이 ';'로 구분된 문자열로 생성하세요.\n",
    "\n",
    "'000020;000040;005930'  \n",
    "import pandas as pd  \n",
    "\n",
    "s = pd.Series([\"000020\", \"000040\", \"005930\"])"
   ]
  },
  {
   "cell_type": "code",
   "execution_count": 14,
   "id": "c3a91d16",
   "metadata": {},
   "outputs": [
    {
     "data": {
      "text/plain": [
       "'000020;000040;005930'"
      ]
     },
     "execution_count": 14,
     "metadata": {},
     "output_type": "execute_result"
    }
   ],
   "source": [
    "s = pd.Series([\"000020\", \"000040\", \"005930\"])\n",
    "\n",
    "s.str.cat(sep=';')"
   ]
  },
  {
   "cell_type": "markdown",
   "id": "472017b7",
   "metadata": {},
   "source": [
    "### 129. 문자열 추가"
   ]
  },
  {
   "cell_type": "markdown",
   "id": "f97f3f76",
   "metadata": {},
   "source": [
    "종목 코드를 저장하고 있는 시리즈 객체의 종목 코드에 'A'를 추가하세요.\n",
    "\n",
    "import pandas as pd\n",
    "\n",
    "s = pd.Series([\"000020\", \"000040\", \"005930\"])"
   ]
  },
  {
   "cell_type": "code",
   "execution_count": 18,
   "id": "5b54bcd4",
   "metadata": {},
   "outputs": [
    {
     "data": {
      "text/plain": [
       "0    A000020\n",
       "1    A000040\n",
       "2    A005930\n",
       "dtype: object"
      ]
     },
     "execution_count": 18,
     "metadata": {},
     "output_type": "execute_result"
    }
   ],
   "source": [
    "s = pd.Series([\"000020\", \"000040\", \"005930\"])\n",
    "\n",
    "'A' + s"
   ]
  },
  {
   "cell_type": "markdown",
   "id": "7ff1f3f8",
   "metadata": {},
   "source": [
    "### 130. Series.str.zfill"
   ]
  },
  {
   "cell_type": "markdown",
   "id": "53485d29",
   "metadata": {},
   "source": [
    "국내 주식은 6자리의 숫자로 구성됩니다. 다음 시리즈 객체는 각 값에서 leading zero가 모두 제가된 상태입니다. 이를 다시 원래 종목 코드로 변환하세요. 예를 들어, \"20\"은 \"000020\"이 되어야합니다.\n",
    "\n",
    "import pandas as pd\n",
    "\n",
    "s = pd.Series([\"20\", \"40\", \"5930\"])"
   ]
  },
  {
   "cell_type": "code",
   "execution_count": 19,
   "id": "80c0607c",
   "metadata": {},
   "outputs": [
    {
     "data": {
      "text/plain": [
       "0    000020\n",
       "1    000040\n",
       "2    005930\n",
       "dtype: object"
      ]
     },
     "execution_count": 19,
     "metadata": {},
     "output_type": "execute_result"
    }
   ],
   "source": [
    "s = pd.Series([\"20\", \"40\", \"5930\"])\n",
    "\n",
    "s.str.zfill(6)"
   ]
  }
 ],
 "metadata": {
  "kernelspec": {
   "display_name": "Python 3 (ipykernel)",
   "language": "python",
   "name": "python3"
  },
  "language_info": {
   "codemirror_mode": {
    "name": "ipython",
    "version": 3
   },
   "file_extension": ".py",
   "mimetype": "text/x-python",
   "name": "python",
   "nbconvert_exporter": "python",
   "pygments_lexer": "ipython3",
   "version": "3.10.9"
  }
 },
 "nbformat": 4,
 "nbformat_minor": 5
}
