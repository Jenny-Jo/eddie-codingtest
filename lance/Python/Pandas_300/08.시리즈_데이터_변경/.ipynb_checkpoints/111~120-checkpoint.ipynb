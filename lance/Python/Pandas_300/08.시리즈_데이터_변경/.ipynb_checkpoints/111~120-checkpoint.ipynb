{
 "cells": [
  {
   "cell_type": "code",
   "execution_count": 1,
   "id": "a61314e0",
   "metadata": {},
   "outputs": [],
   "source": [
    "import pandas as pd\n",
    "from pandas import Series"
   ]
  },
  {
   "cell_type": "markdown",
   "id": "008b27c8",
   "metadata": {},
   "source": [
    "### 111. count"
   ]
  },
  {
   "cell_type": "markdown",
   "id": "0e2663c8",
   "metadata": {},
   "source": [
    "다음 시리즈 객체가 있을 때 null이 아닌 값의 개수를 출력하세요.\n",
    "\n",
    "data = [1, 2, 3, 4, np.nan]  \n",
    "s = Series(data=data)"
   ]
  },
  {
   "cell_type": "code",
   "execution_count": 3,
   "id": "de1351f4",
   "metadata": {},
   "outputs": [
    {
     "data": {
      "text/plain": [
       "4"
      ]
     },
     "execution_count": 3,
     "metadata": {},
     "output_type": "execute_result"
    }
   ],
   "source": [
    "import numpy as np\n",
    "\n",
    "data = [1, 2, 3, 4, np.nan]\n",
    "s = Series(data=data)\n",
    "\n",
    "s.count()"
   ]
  },
  {
   "cell_type": "code",
   "execution_count": 5,
   "id": "de868f51",
   "metadata": {},
   "outputs": [
    {
     "data": {
      "text/plain": [
       "1"
      ]
     },
     "execution_count": 5,
     "metadata": {},
     "output_type": "execute_result"
    }
   ],
   "source": [
    "s.isna().sum() # null값 개수"
   ]
  },
  {
   "cell_type": "markdown",
   "id": "0c2a559e",
   "metadata": {},
   "source": [
    "### 112. 시리즈 데이터 타입 변경"
   ]
  },
  {
   "cell_type": "markdown",
   "id": "f54986cf",
   "metadata": {},
   "source": [
    "다음 시리즈 객체는 문자열 타입의 데이터가 저장돼 있습니다. 데이터 타입의 문자열로 저장된 경우 숫자와 사칙연산을 수행할 수 없습니다. 시리즈 객체의 데이터 타입을 숫자 타입으로 변경해보세요.\n",
    "\n",
    "data = [\"100\", \"200\", \"300\"]  \n",
    "index = [\"철수\", \"영희\", \"아름\"]  \n",
    "s = Series(data, index)"
   ]
  },
  {
   "cell_type": "code",
   "execution_count": 6,
   "id": "4501ffa8",
   "metadata": {},
   "outputs": [
    {
     "data": {
      "text/plain": [
       "철수    100\n",
       "영희    200\n",
       "아름    300\n",
       "dtype: int64"
      ]
     },
     "execution_count": 6,
     "metadata": {},
     "output_type": "execute_result"
    }
   ],
   "source": [
    "data = [\"100\", \"200\", \"300\"]\n",
    "index = [\"철수\", \"영희\", \"아름\"]\n",
    "s = Series(data, index)\n",
    "\n",
    "s.astype(int)"
   ]
  },
  {
   "cell_type": "markdown",
   "id": "88b0b928",
   "metadata": {},
   "source": [
    "### 113. 시리즈 문자열 replace"
   ]
  },
  {
   "cell_type": "markdown",
   "id": "1d94ce22",
   "metadata": {},
   "source": [
    "다음 시리즈 객체는 문자열 타입의 데이터가 저장돼 있습니다. str.replace 함수를 사용하여 컴마를 제거한 후 데이터를 'int32' 타입으로 변환해보세요.\n",
    "\n",
    "data = [\"100,000\", \"200,000\", \"300,000\"]  \n",
    "index = [\"철수\", \"영희\", \"아름\"]  \n",
    "s = Series(data, index)"
   ]
  },
  {
   "cell_type": "code",
   "execution_count": 13,
   "id": "e59c6c77",
   "metadata": {},
   "outputs": [
    {
     "data": {
      "text/plain": [
       "철수    100000\n",
       "영희    200000\n",
       "아름    300000\n",
       "dtype: int64"
      ]
     },
     "execution_count": 13,
     "metadata": {},
     "output_type": "execute_result"
    }
   ],
   "source": [
    "data = [\"100,000\", \"200,000\", \"300,000\"]\n",
    "index = [\"철수\", \"영희\", \"아름\"]\n",
    "s = Series(data, index)\n",
    "\n",
    "s = s.str.replace(',', '')\n",
    "s.astype(int)"
   ]
  },
  {
   "cell_type": "markdown",
   "id": "32cf7c6e",
   "metadata": {},
   "source": [
    "### 114. 시리즈 문자열 인덱싱"
   ]
  },
  {
   "cell_type": "markdown",
   "id": "e4eb8439",
   "metadata": {},
   "source": [
    "다음과 같은 시리즈 객체가 있을 때 values에서 '세'라는 문자열을 제거한 후 데이터를 'int32' 타입으로 변환해보세요.\n",
    "\n",
    "s = pd.Series([\"30세\", \"40세\", \"50세\"], index=[\"김대리\", \"이과장\", \"박차장\"])  \n",
    "print(s)  \n",
    "김대리    30세  \n",
    "이과장    40세  \n",
    "박차장    50세  \n",
    "dtype: object"
   ]
  },
  {
   "cell_type": "code",
   "execution_count": 19,
   "id": "aec7c773",
   "metadata": {},
   "outputs": [
    {
     "data": {
      "text/plain": [
       "김대리    30\n",
       "이과장    40\n",
       "박차장    50\n",
       "dtype: int32"
      ]
     },
     "execution_count": 19,
     "metadata": {},
     "output_type": "execute_result"
    }
   ],
   "source": [
    "s = pd.Series([\"30세\", \"40세\", \"50세\"], index=[\"김대리\", \"이과장\", \"박차장\"])\n",
    "s = s.replace('세', '', regex=True)\n",
    "s.astype('int32')"
   ]
  },
  {
   "cell_type": "markdown",
   "id": "c2433595",
   "metadata": {},
   "source": [
    "### 115. reindex"
   ]
  },
  {
   "cell_type": "markdown",
   "id": "777f54d5",
   "metadata": {},
   "source": [
    "다음 시리즈 객체의 인덱스를 ['a', 'b', 'c', 'd']로 재정렬하세요.\n",
    "\n",
    "import pandas as pd\n",
    "\n",
    "s = pd.Series([1, 2, 3, 4], index=[\"d\", \"c\", \"a\", \"b\"])  \n",
    "s"
   ]
  },
  {
   "cell_type": "code",
   "execution_count": 21,
   "id": "4e6d52a1",
   "metadata": {
    "scrolled": true
   },
   "outputs": [
    {
     "data": {
      "text/plain": [
       "a    3\n",
       "b    4\n",
       "c    2\n",
       "d    1\n",
       "dtype: int64"
      ]
     },
     "execution_count": 21,
     "metadata": {},
     "output_type": "execute_result"
    }
   ],
   "source": [
    "s = pd.Series([1, 2, 3, 4], index=[\"d\", \"c\", \"a\", \"b\"])\n",
    "s = s.reindex(['a', 'b', 'c', 'd'])\n",
    "s"
   ]
  },
  {
   "cell_type": "code",
   "execution_count": 23,
   "id": "d4711c12",
   "metadata": {},
   "outputs": [
    {
     "data": {
      "text/plain": [
       "a    3\n",
       "b    4\n",
       "c    2\n",
       "d    1\n",
       "dtype: int64"
      ]
     },
     "execution_count": 23,
     "metadata": {},
     "output_type": "execute_result"
    }
   ],
   "source": [
    "s = pd.Series([1, 2, 3, 4], index=[\"d\", \"c\", \"a\", \"b\"])\n",
    "s = s.sort_index()\n",
    "s"
   ]
  },
  {
   "cell_type": "markdown",
   "id": "8c708d4b",
   "metadata": {},
   "source": [
    "### 116. index 변경"
   ]
  },
  {
   "cell_type": "markdown",
   "id": "b9dac6c7",
   "metadata": {},
   "source": [
    "다음 시리즈 객체의 인덱스를 월-일 형태(년도 제거)로 변경하세요.\n",
    "\n",
    "import pandas as pd  \n",
    "s = pd.Series([1, 2, 3], index=['2023-01-01', '2023-01-02', '2023-01-03"
   ]
  },
  {
   "cell_type": "code",
   "execution_count": 26,
   "id": "f8457727",
   "metadata": {},
   "outputs": [
    {
     "data": {
      "text/plain": [
       "01-01    1\n",
       "01-02    2\n",
       "01-03    3\n",
       "dtype: int64"
      ]
     },
     "execution_count": 26,
     "metadata": {},
     "output_type": "execute_result"
    }
   ],
   "source": [
    "s = pd.Series([1, 2, 3], index=['2023-01-01', '2023-01-02', '2023-01-03'])\n",
    "\n",
    "s.index = s.index.str[5:]\n",
    "s"
   ]
  },
  {
   "cell_type": "markdown",
   "id": "3e22301d",
   "metadata": {},
   "source": [
    "### 117. datetime"
   ]
  },
  {
   "cell_type": "markdown",
   "id": "c306f59c",
   "metadata": {},
   "source": [
    "다음 시리즈 객체의 인덱스를 datetime(Timestamp) 타입으로 변경하세요.\n",
    "\n",
    "import pandas as pd  \n",
    "s = pd.Series([1, 2, 3], index=['2023-01-01', '2023-01-02', '2023-01-03'])"
   ]
  },
  {
   "cell_type": "code",
   "execution_count": 34,
   "id": "65af8dd2",
   "metadata": {},
   "outputs": [
    {
     "data": {
      "text/plain": [
       "dtype('<M8[ns]')"
      ]
     },
     "execution_count": 34,
     "metadata": {},
     "output_type": "execute_result"
    }
   ],
   "source": [
    "s = pd.Series([1, 2, 3], index=['2023-01-01', '2023-01-02', '2023-01-03'])\n",
    "\n",
    "s.index = pd.to_datetime(s.index)\n",
    "s.index.dtype"
   ]
  },
  {
   "cell_type": "markdown",
   "id": "e1492df6",
   "metadata": {},
   "source": [
    "### 118. dropna"
   ]
  },
  {
   "cell_type": "markdown",
   "id": "80a9ad4e",
   "metadata": {},
   "source": [
    "다음 시리즈 객체에서 NaN 값을 제거하세요.\n",
    "\n",
    "import pandas as pd\n",
    "\n",
    "s = pd.Series([1, 2, 3, np.nan])"
   ]
  },
  {
   "cell_type": "code",
   "execution_count": 35,
   "id": "d8e96e09",
   "metadata": {},
   "outputs": [
    {
     "data": {
      "text/plain": [
       "0    1.0\n",
       "1    2.0\n",
       "2    3.0\n",
       "dtype: float64"
      ]
     },
     "execution_count": 35,
     "metadata": {},
     "output_type": "execute_result"
    }
   ],
   "source": [
    "s = pd.Series([1, 2, 3, np.nan])\n",
    "\n",
    "s.dropna(inplace=True)\n",
    "s"
   ]
  },
  {
   "cell_type": "markdown",
   "id": "47d0c418",
   "metadata": {},
   "source": [
    "### 119. Series.map"
   ]
  },
  {
   "cell_type": "markdown",
   "id": "a15fec11",
   "metadata": {},
   "source": [
    "시리즈의 맵 메서드를 사용하여 시리즈 객체에서 콤마를 제거하세요.\n",
    "\n",
    "import panas as pd\n",
    "\n",
    "s = pd.Series([\"1,234\", \"5,678\", \"9,876\"])"
   ]
  },
  {
   "cell_type": "code",
   "execution_count": 39,
   "id": "70b3e47c",
   "metadata": {},
   "outputs": [
    {
     "data": {
      "text/plain": [
       "0    1234\n",
       "1    5678\n",
       "2    9876\n",
       "dtype: object"
      ]
     },
     "execution_count": 39,
     "metadata": {},
     "output_type": "execute_result"
    }
   ],
   "source": [
    "s = pd.Series([\"1,234\", \"5,678\", \"9,876\"])\n",
    "s.map(lambda x : x.replace(',', ''))"
   ]
  },
  {
   "cell_type": "markdown",
   "id": "e26c43f7",
   "metadata": {},
   "source": [
    "### 120. Series.apply"
   ]
  },
  {
   "cell_type": "markdown",
   "id": "c61babd9",
   "metadata": {},
   "source": [
    "시리즈 객체의 apply 메서드를 사용하여 상용 로그(자연수 10을 밑으로 한 로그) 값을 구하세요.\n",
    "\n",
    "import pandas as pd\n",
    "\n",
    "s = pd.Series([10, 100, 1000])"
   ]
  },
  {
   "cell_type": "code",
   "execution_count": 41,
   "id": "44126f92",
   "metadata": {},
   "outputs": [
    {
     "data": {
      "text/plain": [
       "0    1.0\n",
       "1    2.0\n",
       "2    3.0\n",
       "dtype: float64"
      ]
     },
     "execution_count": 41,
     "metadata": {},
     "output_type": "execute_result"
    }
   ],
   "source": [
    "s = pd.Series([10, 100, 1000])\n",
    "\n",
    "s.apply(lambda x : np.log10(x))"
   ]
  },
  {
   "cell_type": "code",
   "execution_count": 42,
   "id": "09966ace",
   "metadata": {},
   "outputs": [
    {
     "data": {
      "text/plain": [
       "0    1.0\n",
       "1    2.0\n",
       "2    3.0\n",
       "dtype: float64"
      ]
     },
     "execution_count": 42,
     "metadata": {},
     "output_type": "execute_result"
    }
   ],
   "source": [
    "s = pd.Series([10, 100, 1000])\n",
    "s.apply(np.log10)"
   ]
  }
 ],
 "metadata": {
  "kernelspec": {
   "display_name": "Python 3 (ipykernel)",
   "language": "python",
   "name": "python3"
  },
  "language_info": {
   "codemirror_mode": {
    "name": "ipython",
    "version": 3
   },
   "file_extension": ".py",
   "mimetype": "text/x-python",
   "name": "python",
   "nbconvert_exporter": "python",
   "pygments_lexer": "ipython3",
   "version": "3.10.9"
  }
 },
 "nbformat": 4,
 "nbformat_minor": 5
}
