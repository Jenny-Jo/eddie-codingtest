{
 "cells": [
  {
   "cell_type": "code",
   "execution_count": 1,
   "id": "7cd52f30",
   "metadata": {},
   "outputs": [],
   "source": [
    "import pandas as pd\n",
    "from pandas import DataFrame"
   ]
  },
  {
   "cell_type": "markdown",
   "id": "f1b44951",
   "metadata": {},
   "source": [
    "### 131. 데이터프레임 생성 (컬럼 단위)"
   ]
  },
  {
   "cell_type": "markdown",
   "id": "4d75d764",
   "metadata": {},
   "source": [
    "다음 표와 같은 데이터프레임을 생성하세요. 이때 컬럼 단위로 raw 데이터를 표현해서 데이터프레임을 생성해보세요.\n",
    "\n",
    "이름\t나이\t직책  \n",
    "김은수\t35\t과장  \n",
    "박정민\t30\t대리  \n",
    "이하나\t28\t대리  "
   ]
  },
  {
   "cell_type": "code",
   "execution_count": 2,
   "id": "9423d57b",
   "metadata": {},
   "outputs": [
    {
     "data": {
      "text/html": [
       "<div>\n",
       "<style scoped>\n",
       "    .dataframe tbody tr th:only-of-type {\n",
       "        vertical-align: middle;\n",
       "    }\n",
       "\n",
       "    .dataframe tbody tr th {\n",
       "        vertical-align: top;\n",
       "    }\n",
       "\n",
       "    .dataframe thead th {\n",
       "        text-align: right;\n",
       "    }\n",
       "</style>\n",
       "<table border=\"1\" class=\"dataframe\">\n",
       "  <thead>\n",
       "    <tr style=\"text-align: right;\">\n",
       "      <th></th>\n",
       "      <th>이름</th>\n",
       "      <th>나이</th>\n",
       "      <th>직책</th>\n",
       "    </tr>\n",
       "  </thead>\n",
       "  <tbody>\n",
       "    <tr>\n",
       "      <th>0</th>\n",
       "      <td>김은수</td>\n",
       "      <td>35</td>\n",
       "      <td>과장</td>\n",
       "    </tr>\n",
       "    <tr>\n",
       "      <th>1</th>\n",
       "      <td>박정민</td>\n",
       "      <td>30</td>\n",
       "      <td>대리</td>\n",
       "    </tr>\n",
       "    <tr>\n",
       "      <th>2</th>\n",
       "      <td>이하나</td>\n",
       "      <td>28</td>\n",
       "      <td>대리</td>\n",
       "    </tr>\n",
       "  </tbody>\n",
       "</table>\n",
       "</div>"
      ],
      "text/plain": [
       "    이름  나이  직책\n",
       "0  김은수  35  과장\n",
       "1  박정민  30  대리\n",
       "2  이하나  28  대리"
      ]
     },
     "execution_count": 2,
     "metadata": {},
     "output_type": "execute_result"
    }
   ],
   "source": [
    "DataFrame({'이름': ['김은수', '박정민', '이하나'],\n",
    "          '나이': [35, 30, 28],\n",
    "          '직책': ['과장', '대리', '대리']})"
   ]
  },
  {
   "cell_type": "markdown",
   "id": "20f1c12e",
   "metadata": {},
   "source": [
    "### 132. 데이터프레임 생성 (2차원 리스트)"
   ]
  },
  {
   "cell_type": "markdown",
   "id": "b6034373",
   "metadata": {},
   "source": [
    "다음 표와 같은 데이터프레임을 생성하세요. 이때 데이터 부분을 2차원 리스트로 표현하고 컬럼명은 명시적으로 인자로 전달하는 방식으로 생성해보세요.\n",
    "\n",
    "이름\t나이\t직책  \n",
    "김은수\t35\t과장  \n",
    "박정민\t30\t대리  \n",
    "이하나\t28\t대리"
   ]
  },
  {
   "cell_type": "code",
   "execution_count": 5,
   "id": "c8af18c1",
   "metadata": {},
   "outputs": [
    {
     "data": {
      "text/html": [
       "<div>\n",
       "<style scoped>\n",
       "    .dataframe tbody tr th:only-of-type {\n",
       "        vertical-align: middle;\n",
       "    }\n",
       "\n",
       "    .dataframe tbody tr th {\n",
       "        vertical-align: top;\n",
       "    }\n",
       "\n",
       "    .dataframe thead th {\n",
       "        text-align: right;\n",
       "    }\n",
       "</style>\n",
       "<table border=\"1\" class=\"dataframe\">\n",
       "  <thead>\n",
       "    <tr style=\"text-align: right;\">\n",
       "      <th></th>\n",
       "      <th>이름</th>\n",
       "      <th>나이</th>\n",
       "      <th>직책</th>\n",
       "    </tr>\n",
       "  </thead>\n",
       "  <tbody>\n",
       "    <tr>\n",
       "      <th>0</th>\n",
       "      <td>김은수</td>\n",
       "      <td>35</td>\n",
       "      <td>과장</td>\n",
       "    </tr>\n",
       "    <tr>\n",
       "      <th>1</th>\n",
       "      <td>박정민</td>\n",
       "      <td>30</td>\n",
       "      <td>대리</td>\n",
       "    </tr>\n",
       "    <tr>\n",
       "      <th>2</th>\n",
       "      <td>이하나</td>\n",
       "      <td>28</td>\n",
       "      <td>대리</td>\n",
       "    </tr>\n",
       "  </tbody>\n",
       "</table>\n",
       "</div>"
      ],
      "text/plain": [
       "    이름  나이  직책\n",
       "0  김은수  35  과장\n",
       "1  박정민  30  대리\n",
       "2  이하나  28  대리"
      ]
     },
     "execution_count": 5,
     "metadata": {},
     "output_type": "execute_result"
    }
   ],
   "source": [
    "columns = ['이름', '나이', '직책']\n",
    "values = [['김은수', 35, '과장'], ['박정민', 30, '대리'], ['이하나', 28, '대리']]\n",
    "\n",
    "DataFrame(values, columns=columns)"
   ]
  },
  {
   "cell_type": "markdown",
   "id": "b257d220",
   "metadata": {},
   "source": [
    "### 133. 데이터프레임 생성 (딕셔너리 리스트)"
   ]
  },
  {
   "cell_type": "markdown",
   "id": "c3e4ed82",
   "metadata": {},
   "source": [
    "다음 표와 같은 데이터프레임을 생성하세요. 이때 각 행에 대해서 딕셔너리로 표현하고 이를 리스트로 담아서 데이터프레임 생성자에 전달하세요.\n",
    "\n",
    "이름\t나이\t직책  \n",
    "김은수\t35\t과장  \n",
    "박정민\t30\t대리  \n",
    "이하나\t28\t대리"
   ]
  },
  {
   "cell_type": "code",
   "execution_count": 6,
   "id": "d6aabf50",
   "metadata": {},
   "outputs": [
    {
     "data": {
      "text/html": [
       "<div>\n",
       "<style scoped>\n",
       "    .dataframe tbody tr th:only-of-type {\n",
       "        vertical-align: middle;\n",
       "    }\n",
       "\n",
       "    .dataframe tbody tr th {\n",
       "        vertical-align: top;\n",
       "    }\n",
       "\n",
       "    .dataframe thead th {\n",
       "        text-align: right;\n",
       "    }\n",
       "</style>\n",
       "<table border=\"1\" class=\"dataframe\">\n",
       "  <thead>\n",
       "    <tr style=\"text-align: right;\">\n",
       "      <th></th>\n",
       "      <th>이름</th>\n",
       "      <th>나이</th>\n",
       "      <th>직책</th>\n",
       "    </tr>\n",
       "  </thead>\n",
       "  <tbody>\n",
       "    <tr>\n",
       "      <th>0</th>\n",
       "      <td>김은수</td>\n",
       "      <td>35</td>\n",
       "      <td>과장</td>\n",
       "    </tr>\n",
       "    <tr>\n",
       "      <th>1</th>\n",
       "      <td>박정민</td>\n",
       "      <td>30</td>\n",
       "      <td>대리</td>\n",
       "    </tr>\n",
       "    <tr>\n",
       "      <th>2</th>\n",
       "      <td>이하나</td>\n",
       "      <td>28</td>\n",
       "      <td>대리</td>\n",
       "    </tr>\n",
       "  </tbody>\n",
       "</table>\n",
       "</div>"
      ],
      "text/plain": [
       "    이름  나이  직책\n",
       "0  김은수  35  과장\n",
       "1  박정민  30  대리\n",
       "2  이하나  28  대리"
      ]
     },
     "execution_count": 6,
     "metadata": {},
     "output_type": "execute_result"
    }
   ],
   "source": [
    "DataFrame({'이름': ['김은수', '박정민', '이하나'],\n",
    "          '나이': [35, 30, 28],\n",
    "          '직책': ['과장', '대리', '대리']})"
   ]
  },
  {
   "cell_type": "markdown",
   "id": "eb8573f9",
   "metadata": {},
   "source": [
    "### 134. 데이터프레임 인덱스 설정"
   ]
  },
  {
   "cell_type": "markdown",
   "id": "d4a412e7",
   "metadata": {},
   "source": [
    "다음 데이터프레임에서 종목코드 컬럼을 인덱스로 설정하세요. 그리고 인덱스의 name 속성을 \"종목코드\"로 설정하세요.\n",
    "\n",
    "data = [  \n",
    "    [\"037730\", \"3R\", 1510, 7.36],  \n",
    "    [\"036360\", \"3SOFT\", 1790, 1.65],  \n",
    "    [\"005760\", \"ACTS\", 1185, 1.28],  \n",
    "]  \n",
    "columns = [\"종목코드\", \"종목명\", \"현재가\", \"등락률\"]  \n",
    "df = pd.DataFrame(data=data, columns=columns)"
   ]
  },
  {
   "cell_type": "code",
   "execution_count": 10,
   "id": "2d6fc7f8",
   "metadata": {},
   "outputs": [],
   "source": [
    "data = [\n",
    "    [\"037730\", \"3R\", 1510, 7.36],\n",
    "    [\"036360\", \"3SOFT\", 1790, 1.65],\n",
    "    [\"005760\", \"ACTS\", 1185, 1.28],\n",
    "]\n",
    "columns = [\"종목코드\", \"종목명\", \"현재가\", \"등락률\"]\n",
    "df = pd.DataFrame(data=data, columns=columns)\n",
    "\n",
    "df.set_index('종목코드', inplace=True)"
   ]
  },
  {
   "cell_type": "code",
   "execution_count": 11,
   "id": "19477162",
   "metadata": {},
   "outputs": [
    {
     "data": {
      "text/html": [
       "<div>\n",
       "<style scoped>\n",
       "    .dataframe tbody tr th:only-of-type {\n",
       "        vertical-align: middle;\n",
       "    }\n",
       "\n",
       "    .dataframe tbody tr th {\n",
       "        vertical-align: top;\n",
       "    }\n",
       "\n",
       "    .dataframe thead th {\n",
       "        text-align: right;\n",
       "    }\n",
       "</style>\n",
       "<table border=\"1\" class=\"dataframe\">\n",
       "  <thead>\n",
       "    <tr style=\"text-align: right;\">\n",
       "      <th></th>\n",
       "      <th>종목명</th>\n",
       "      <th>현재가</th>\n",
       "      <th>등락률</th>\n",
       "    </tr>\n",
       "    <tr>\n",
       "      <th>종목코드</th>\n",
       "      <th></th>\n",
       "      <th></th>\n",
       "      <th></th>\n",
       "    </tr>\n",
       "  </thead>\n",
       "  <tbody>\n",
       "    <tr>\n",
       "      <th>037730</th>\n",
       "      <td>3R</td>\n",
       "      <td>1510</td>\n",
       "      <td>7.36</td>\n",
       "    </tr>\n",
       "    <tr>\n",
       "      <th>036360</th>\n",
       "      <td>3SOFT</td>\n",
       "      <td>1790</td>\n",
       "      <td>1.65</td>\n",
       "    </tr>\n",
       "    <tr>\n",
       "      <th>005760</th>\n",
       "      <td>ACTS</td>\n",
       "      <td>1185</td>\n",
       "      <td>1.28</td>\n",
       "    </tr>\n",
       "  </tbody>\n",
       "</table>\n",
       "</div>"
      ],
      "text/plain": [
       "          종목명   현재가   등락률\n",
       "종목코드                     \n",
       "037730     3R  1510  7.36\n",
       "036360  3SOFT  1790  1.65\n",
       "005760   ACTS  1185  1.28"
      ]
     },
     "execution_count": 11,
     "metadata": {},
     "output_type": "execute_result"
    }
   ],
   "source": [
    "df"
   ]
  },
  {
   "cell_type": "markdown",
   "id": "d2d84509",
   "metadata": {},
   "source": [
    "### 135. data, index, columns\n"
   ]
  },
  {
   "cell_type": "markdown",
   "id": "78e55188",
   "metadata": {},
   "source": [
    "다음과 같이 데이터가 있을 때 데이터프레임 객체를 생성하세요.\n",
    "\n",
    "import pandas as pd\n",
    "\n",
    "index = [\"037730\", \"036360\", \"005760\"]  \n",
    "data = [[\"3R\", \"1510\"],  \n",
    "         [\"3SOFT\", 1790],  \n",
    "         [\"ACTS\", 1185]]  \n",
    "columns = [\"종목명\", \"현재가\"]"
   ]
  },
  {
   "cell_type": "code",
   "execution_count": 12,
   "id": "bf522cd9",
   "metadata": {},
   "outputs": [
    {
     "data": {
      "text/html": [
       "<div>\n",
       "<style scoped>\n",
       "    .dataframe tbody tr th:only-of-type {\n",
       "        vertical-align: middle;\n",
       "    }\n",
       "\n",
       "    .dataframe tbody tr th {\n",
       "        vertical-align: top;\n",
       "    }\n",
       "\n",
       "    .dataframe thead th {\n",
       "        text-align: right;\n",
       "    }\n",
       "</style>\n",
       "<table border=\"1\" class=\"dataframe\">\n",
       "  <thead>\n",
       "    <tr style=\"text-align: right;\">\n",
       "      <th></th>\n",
       "      <th>종목명</th>\n",
       "      <th>현재가</th>\n",
       "    </tr>\n",
       "  </thead>\n",
       "  <tbody>\n",
       "    <tr>\n",
       "      <th>037730</th>\n",
       "      <td>3R</td>\n",
       "      <td>1510</td>\n",
       "    </tr>\n",
       "    <tr>\n",
       "      <th>036360</th>\n",
       "      <td>3SOFT</td>\n",
       "      <td>1790</td>\n",
       "    </tr>\n",
       "    <tr>\n",
       "      <th>005760</th>\n",
       "      <td>ACTS</td>\n",
       "      <td>1185</td>\n",
       "    </tr>\n",
       "  </tbody>\n",
       "</table>\n",
       "</div>"
      ],
      "text/plain": [
       "          종목명   현재가\n",
       "037730     3R  1510\n",
       "036360  3SOFT  1790\n",
       "005760   ACTS  1185"
      ]
     },
     "execution_count": 12,
     "metadata": {},
     "output_type": "execute_result"
    }
   ],
   "source": [
    "index = [\"037730\", \"036360\", \"005760\"]\n",
    "data = [[\"3R\", \"1510\"],\n",
    "         [\"3SOFT\", 1790],\n",
    "         [\"ACTS\", 1185]]\n",
    "columns = [\"종목명\", \"현재가\"]\n",
    "\n",
    "DataFrame(data, index=index, columns=columns)"
   ]
  },
  {
   "cell_type": "markdown",
   "id": "c9400d3d",
   "metadata": {},
   "source": [
    "### 136. numpy reshape"
   ]
  },
  {
   "cell_type": "markdown",
   "id": "c62bb75b",
   "metadata": {},
   "source": [
    "넘파이의 arange와 reshape을 사용하여 다음 데이터프레임을 생성하세요."
   ]
  },
  {
   "cell_type": "code",
   "execution_count": 13,
   "id": "37da0007",
   "metadata": {},
   "outputs": [
    {
     "data": {
      "text/plain": [
       "array([0, 1, 2, 3, 4, 5, 6, 7])"
      ]
     },
     "execution_count": 13,
     "metadata": {},
     "output_type": "execute_result"
    }
   ],
   "source": [
    "import numpy as np\n",
    "\n",
    "arr = np.arange(8)\n",
    "arr"
   ]
  },
  {
   "cell_type": "code",
   "execution_count": 15,
   "id": "2a5401db",
   "metadata": {},
   "outputs": [
    {
     "data": {
      "text/plain": [
       "array([[0, 1, 2, 3],\n",
       "       [4, 5, 6, 7]])"
      ]
     },
     "execution_count": 15,
     "metadata": {},
     "output_type": "execute_result"
    }
   ],
   "source": [
    "arr = arr.reshape(2, 4)\n",
    "arr"
   ]
  },
  {
   "cell_type": "code",
   "execution_count": 16,
   "id": "76d2d391",
   "metadata": {},
   "outputs": [
    {
     "data": {
      "text/html": [
       "<div>\n",
       "<style scoped>\n",
       "    .dataframe tbody tr th:only-of-type {\n",
       "        vertical-align: middle;\n",
       "    }\n",
       "\n",
       "    .dataframe tbody tr th {\n",
       "        vertical-align: top;\n",
       "    }\n",
       "\n",
       "    .dataframe thead th {\n",
       "        text-align: right;\n",
       "    }\n",
       "</style>\n",
       "<table border=\"1\" class=\"dataframe\">\n",
       "  <thead>\n",
       "    <tr style=\"text-align: right;\">\n",
       "      <th></th>\n",
       "      <th>0</th>\n",
       "      <th>1</th>\n",
       "      <th>2</th>\n",
       "      <th>3</th>\n",
       "    </tr>\n",
       "  </thead>\n",
       "  <tbody>\n",
       "    <tr>\n",
       "      <th>0</th>\n",
       "      <td>0</td>\n",
       "      <td>1</td>\n",
       "      <td>2</td>\n",
       "      <td>3</td>\n",
       "    </tr>\n",
       "    <tr>\n",
       "      <th>1</th>\n",
       "      <td>4</td>\n",
       "      <td>5</td>\n",
       "      <td>6</td>\n",
       "      <td>7</td>\n",
       "    </tr>\n",
       "  </tbody>\n",
       "</table>\n",
       "</div>"
      ],
      "text/plain": [
       "   0  1  2  3\n",
       "0  0  1  2  3\n",
       "1  4  5  6  7"
      ]
     },
     "execution_count": 16,
     "metadata": {},
     "output_type": "execute_result"
    }
   ],
   "source": [
    "pd.DataFrame(arr)"
   ]
  },
  {
   "cell_type": "markdown",
   "id": "e5843aea",
   "metadata": {},
   "source": [
    "### 137. reset_index"
   ]
  },
  {
   "cell_type": "markdown",
   "id": "b75f7e2b",
   "metadata": {},
   "source": [
    "다음 데이터프레임에서 인덱스를 컬럼으로 변경하세요.\n",
    "\n",
    "import pandas as pd\n",
    "\n",
    "index = [\"037730\", \"036360\", \"005760\"]  \n",
    "data = [[\"3R\", \"1510\"],  \n",
    "         [\"3SOFT\", 1790],  \n",
    "         [\"ACTS\", 1185]]  \n",
    "columns = [\"종목명\", \"현재가\"]  \n",
    "df = pd.DataFrame(data=data, index=index, columns=columns)"
   ]
  },
  {
   "cell_type": "code",
   "execution_count": 17,
   "id": "dec3f413",
   "metadata": {},
   "outputs": [
    {
     "data": {
      "text/html": [
       "<div>\n",
       "<style scoped>\n",
       "    .dataframe tbody tr th:only-of-type {\n",
       "        vertical-align: middle;\n",
       "    }\n",
       "\n",
       "    .dataframe tbody tr th {\n",
       "        vertical-align: top;\n",
       "    }\n",
       "\n",
       "    .dataframe thead th {\n",
       "        text-align: right;\n",
       "    }\n",
       "</style>\n",
       "<table border=\"1\" class=\"dataframe\">\n",
       "  <thead>\n",
       "    <tr style=\"text-align: right;\">\n",
       "      <th></th>\n",
       "      <th>종목명</th>\n",
       "      <th>현재가</th>\n",
       "    </tr>\n",
       "  </thead>\n",
       "  <tbody>\n",
       "    <tr>\n",
       "      <th>037730</th>\n",
       "      <td>3R</td>\n",
       "      <td>1510</td>\n",
       "    </tr>\n",
       "    <tr>\n",
       "      <th>036360</th>\n",
       "      <td>3SOFT</td>\n",
       "      <td>1790</td>\n",
       "    </tr>\n",
       "    <tr>\n",
       "      <th>005760</th>\n",
       "      <td>ACTS</td>\n",
       "      <td>1185</td>\n",
       "    </tr>\n",
       "  </tbody>\n",
       "</table>\n",
       "</div>"
      ],
      "text/plain": [
       "          종목명   현재가\n",
       "037730     3R  1510\n",
       "036360  3SOFT  1790\n",
       "005760   ACTS  1185"
      ]
     },
     "execution_count": 17,
     "metadata": {},
     "output_type": "execute_result"
    }
   ],
   "source": [
    "index = [\"037730\", \"036360\", \"005760\"]\n",
    "data = [[\"3R\", \"1510\"],\n",
    "         [\"3SOFT\", 1790],\n",
    "         [\"ACTS\", 1185]]\n",
    "columns = [\"종목명\", \"현재가\"]\n",
    "df = pd.DataFrame(data=data, index=index, columns=columns)\n",
    "\n",
    "df"
   ]
  },
  {
   "cell_type": "code",
   "execution_count": 18,
   "id": "dc23927f",
   "metadata": {},
   "outputs": [
    {
     "data": {
      "text/html": [
       "<div>\n",
       "<style scoped>\n",
       "    .dataframe tbody tr th:only-of-type {\n",
       "        vertical-align: middle;\n",
       "    }\n",
       "\n",
       "    .dataframe tbody tr th {\n",
       "        vertical-align: top;\n",
       "    }\n",
       "\n",
       "    .dataframe thead th {\n",
       "        text-align: right;\n",
       "    }\n",
       "</style>\n",
       "<table border=\"1\" class=\"dataframe\">\n",
       "  <thead>\n",
       "    <tr style=\"text-align: right;\">\n",
       "      <th></th>\n",
       "      <th>index</th>\n",
       "      <th>종목명</th>\n",
       "      <th>현재가</th>\n",
       "    </tr>\n",
       "  </thead>\n",
       "  <tbody>\n",
       "    <tr>\n",
       "      <th>0</th>\n",
       "      <td>037730</td>\n",
       "      <td>3R</td>\n",
       "      <td>1510</td>\n",
       "    </tr>\n",
       "    <tr>\n",
       "      <th>1</th>\n",
       "      <td>036360</td>\n",
       "      <td>3SOFT</td>\n",
       "      <td>1790</td>\n",
       "    </tr>\n",
       "    <tr>\n",
       "      <th>2</th>\n",
       "      <td>005760</td>\n",
       "      <td>ACTS</td>\n",
       "      <td>1185</td>\n",
       "    </tr>\n",
       "  </tbody>\n",
       "</table>\n",
       "</div>"
      ],
      "text/plain": [
       "    index    종목명   현재가\n",
       "0  037730     3R  1510\n",
       "1  036360  3SOFT  1790\n",
       "2  005760   ACTS  1185"
      ]
     },
     "execution_count": 18,
     "metadata": {},
     "output_type": "execute_result"
    }
   ],
   "source": [
    "df.reset_index()"
   ]
  },
  {
   "cell_type": "markdown",
   "id": "b4ff1017",
   "metadata": {},
   "source": [
    "### 138. index"
   ]
  },
  {
   "cell_type": "markdown",
   "id": "001ee798",
   "metadata": {},
   "source": [
    "위 데이터프레임의 인덱스를 출력하세요."
   ]
  },
  {
   "cell_type": "code",
   "execution_count": 19,
   "id": "0f947b46",
   "metadata": {},
   "outputs": [
    {
     "data": {
      "text/plain": [
       "Index(['037730', '036360', '005760'], dtype='object')"
      ]
     },
     "execution_count": 19,
     "metadata": {},
     "output_type": "execute_result"
    }
   ],
   "source": [
    "df.index"
   ]
  },
  {
   "cell_type": "markdown",
   "id": "cf4ff3ec",
   "metadata": {},
   "source": [
    "### 139. DataFrame.columns"
   ]
  },
  {
   "cell_type": "markdown",
   "id": "46fff069",
   "metadata": {},
   "source": [
    "위 데이터프레임의 컬럼을 출력하세요."
   ]
  },
  {
   "cell_type": "code",
   "execution_count": 20,
   "id": "fa96dcbe",
   "metadata": {},
   "outputs": [
    {
     "data": {
      "text/plain": [
       "Index(['종목명', '현재가'], dtype='object')"
      ]
     },
     "execution_count": 20,
     "metadata": {},
     "output_type": "execute_result"
    }
   ],
   "source": [
    "df.columns"
   ]
  },
  {
   "cell_type": "markdown",
   "id": "cdc86727",
   "metadata": {},
   "source": [
    "### 140. DataFrame dtype"
   ]
  },
  {
   "cell_type": "markdown",
   "id": "bfb230e3",
   "metadata": {},
   "source": [
    "다음 데이터를 부호가 없는 8비트 정수 데이터 타입을 갖는 데이터프레임 객체로 생성하세요.\n",
    "\n",
    "d = {'col1': [1, 2], 'col2': [3, 4]}"
   ]
  },
  {
   "cell_type": "code",
   "execution_count": 25,
   "id": "ccd09e7b",
   "metadata": {},
   "outputs": [
    {
     "data": {
      "text/plain": [
       "col1    int8\n",
       "col2    int8\n",
       "dtype: object"
      ]
     },
     "execution_count": 25,
     "metadata": {},
     "output_type": "execute_result"
    }
   ],
   "source": [
    "d = {'col1': [1, 2], 'col2': [3, 4]}\n",
    "\n",
    "df = DataFrame(d, dtype=np.int8)\n",
    "\n",
    "df.dtypes"
   ]
  }
 ],
 "metadata": {
  "kernelspec": {
   "display_name": "Python 3 (ipykernel)",
   "language": "python",
   "name": "python3"
  },
  "language_info": {
   "codemirror_mode": {
    "name": "ipython",
    "version": 3
   },
   "file_extension": ".py",
   "mimetype": "text/x-python",
   "name": "python",
   "nbconvert_exporter": "python",
   "pygments_lexer": "ipython3",
   "version": "3.10.9"
  }
 },
 "nbformat": 4,
 "nbformat_minor": 5
}
