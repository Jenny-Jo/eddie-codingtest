{
 "cells": [
  {
   "cell_type": "markdown",
   "id": "537afc36",
   "metadata": {},
   "source": [
    "### 261. datetime now"
   ]
  },
  {
   "cell_type": "markdown",
   "id": "407622e9",
   "metadata": {},
   "source": [
    "datetime 모듈을 사용하여 현재 시간을 출력하세요."
   ]
  },
  {
   "cell_type": "code",
   "execution_count": 5,
   "id": "5cab4b49",
   "metadata": {},
   "outputs": [
    {
     "data": {
      "text/plain": [
       "datetime.datetime(2024, 2, 29, 9, 37, 56, 925950)"
      ]
     },
     "execution_count": 5,
     "metadata": {},
     "output_type": "execute_result"
    }
   ],
   "source": [
    "from datetime import datetime\n",
    "\n",
    "datetime.now()"
   ]
  },
  {
   "cell_type": "markdown",
   "id": "6d94c607",
   "metadata": {},
   "source": [
    "### 262. datetime year, month, day"
   ]
  },
  {
   "cell_type": "markdown",
   "id": "ce740727",
   "metadata": {},
   "source": [
    "datetime 모듈을 사용하여 연도, 월, 일을 출력하세요."
   ]
  },
  {
   "cell_type": "code",
   "execution_count": 10,
   "id": "850940a5",
   "metadata": {},
   "outputs": [
    {
     "data": {
      "text/plain": [
       "2024"
      ]
     },
     "execution_count": 10,
     "metadata": {},
     "output_type": "execute_result"
    }
   ],
   "source": [
    "datetime.now().year"
   ]
  },
  {
   "cell_type": "code",
   "execution_count": 11,
   "id": "6db36a4c",
   "metadata": {},
   "outputs": [
    {
     "data": {
      "text/plain": [
       "2"
      ]
     },
     "execution_count": 11,
     "metadata": {},
     "output_type": "execute_result"
    }
   ],
   "source": [
    "datetime.now().month"
   ]
  },
  {
   "cell_type": "code",
   "execution_count": 12,
   "id": "a447e028",
   "metadata": {},
   "outputs": [
    {
     "data": {
      "text/plain": [
       "29"
      ]
     },
     "execution_count": 12,
     "metadata": {},
     "output_type": "execute_result"
    }
   ],
   "source": [
    "datetime.now().day"
   ]
  },
  {
   "cell_type": "markdown",
   "id": "c3a50a2b",
   "metadata": {},
   "source": [
    "### 263. timedelta"
   ]
  },
  {
   "cell_type": "markdown",
   "id": "6541302f",
   "metadata": {},
   "source": [
    "현재 시간으로부터 하루 뒤의 시각을 출력하세요."
   ]
  },
  {
   "cell_type": "code",
   "execution_count": 13,
   "id": "20eb18a2",
   "metadata": {},
   "outputs": [
    {
     "data": {
      "text/plain": [
       "datetime.datetime(2024, 3, 1, 9, 41, 51, 863878)"
      ]
     },
     "execution_count": 13,
     "metadata": {},
     "output_type": "execute_result"
    }
   ],
   "source": [
    "from datetime import timedelta\n",
    "\n",
    "datetime.now() + timedelta(days=1)"
   ]
  },
  {
   "cell_type": "markdown",
   "id": "e086081b",
   "metadata": {},
   "source": [
    "### 264. timedelta"
   ]
  },
  {
   "cell_type": "markdown",
   "id": "02063bee",
   "metadata": {},
   "source": [
    "현재 시간으로부터 하루 전의 시각을 출력하세요."
   ]
  },
  {
   "cell_type": "code",
   "execution_count": 14,
   "id": "89885047",
   "metadata": {},
   "outputs": [
    {
     "data": {
      "text/plain": [
       "datetime.datetime(2024, 2, 28, 9, 42, 39, 838309)"
      ]
     },
     "execution_count": 14,
     "metadata": {},
     "output_type": "execute_result"
    }
   ],
   "source": [
    "datetime.now() - timedelta(days=1)"
   ]
  },
  {
   "cell_type": "markdown",
   "id": "0eed13f5",
   "metadata": {},
   "source": [
    "### 265. timedelta"
   ]
  },
  {
   "cell_type": "markdown",
   "id": "895e9b5e",
   "metadata": {},
   "source": [
    "한국 표준시(KST)는 세계 협정시(UTC) 보다 9시간 빠릅니다. 현재 시간을 구한 후 timedelta를 사용하여 UTC를 계산하세요."
   ]
  },
  {
   "cell_type": "code",
   "execution_count": 16,
   "id": "f76bb606",
   "metadata": {},
   "outputs": [
    {
     "data": {
      "text/plain": [
       "datetime.datetime(2024, 2, 29, 0, 43, 38, 69679)"
      ]
     },
     "execution_count": 16,
     "metadata": {},
     "output_type": "execute_result"
    }
   ],
   "source": [
    "datetime.now() - timedelta(hours=9)"
   ]
  },
  {
   "cell_type": "markdown",
   "id": "c1be7e7e",
   "metadata": {},
   "source": [
    "### 266. strftime"
   ]
  },
  {
   "cell_type": "markdown",
   "id": "1cff6079",
   "metadata": {},
   "source": [
    "현재 시간을 얻어온 후 \"연도-월-일\"과 같은 문자열 포맷으로 변환하세요."
   ]
  },
  {
   "cell_type": "code",
   "execution_count": 19,
   "id": "8dc1509f",
   "metadata": {},
   "outputs": [
    {
     "data": {
      "text/plain": [
       "'2024-02-29'"
      ]
     },
     "execution_count": 19,
     "metadata": {},
     "output_type": "execute_result"
    }
   ],
   "source": [
    "datetime.now().strftime('%Y-%m-%d')"
   ]
  },
  {
   "cell_type": "markdown",
   "id": "36bfb7e3",
   "metadata": {},
   "source": [
    "### 267. strftime"
   ]
  },
  {
   "cell_type": "markdown",
   "id": "aedb85e1",
   "metadata": {},
   "source": [
    "현재 시간을 얻어온 후 '2022-09-09 09:39:18'와 같은 포맷의 문자열로 변경하세요."
   ]
  },
  {
   "cell_type": "code",
   "execution_count": 22,
   "id": "bc6472aa",
   "metadata": {},
   "outputs": [
    {
     "data": {
      "text/plain": [
       "'2024-02-29 09:47:31'"
      ]
     },
     "execution_count": 22,
     "metadata": {},
     "output_type": "execute_result"
    }
   ],
   "source": [
    "datetime.now().strftime('%Y-%m-%d %H:%M:%S')"
   ]
  },
  {
   "cell_type": "markdown",
   "id": "d77b2814",
   "metadata": {},
   "source": [
    "### 268. strptime"
   ]
  },
  {
   "cell_type": "markdown",
   "id": "44b9b399",
   "metadata": {},
   "source": [
    "strptime 메서드를 사용해서 \"2023-01-01 00:00:00\" 포맷의 문자열을 datetime 타입의 객체로 변환하세요."
   ]
  },
  {
   "cell_type": "code",
   "execution_count": 25,
   "id": "394ede4e",
   "metadata": {},
   "outputs": [
    {
     "data": {
      "text/plain": [
       "datetime.datetime(2023, 1, 1, 0, 0)"
      ]
     },
     "execution_count": 25,
     "metadata": {},
     "output_type": "execute_result"
    }
   ],
   "source": [
    "datetime.strptime(\"2023-01-01 00:00:00\", \"%Y-%m-%d %H:%M:%S\")"
   ]
  },
  {
   "cell_type": "markdown",
   "id": "e6bc769e",
   "metadata": {},
   "source": [
    "### 269. pandas.to_datetime"
   ]
  },
  {
   "cell_type": "markdown",
   "id": "34a39fd0",
   "metadata": {},
   "source": [
    "date_fmt 리스트에는 문자열로 표현된 날짜가 저장되어 있습니다. 이를 pandas.to_datetime 함수를 사용해서 DatetimeIndex 타입으로 변경하세요.\n",
    "\n",
    "date_fmt = [\"2022-09-09 00:00:00\", \"2022-09-09 00:00:01\", \"2022-09-09 00:00:02\"]"
   ]
  },
  {
   "cell_type": "code",
   "execution_count": 27,
   "id": "206b0264",
   "metadata": {},
   "outputs": [
    {
     "data": {
      "text/plain": [
       "DatetimeIndex(['2022-09-09 00:00:00', '2022-09-09 00:00:01',\n",
       "               '2022-09-09 00:00:02'],\n",
       "              dtype='datetime64[ns]', freq=None)"
      ]
     },
     "execution_count": 27,
     "metadata": {},
     "output_type": "execute_result"
    }
   ],
   "source": [
    "date_fmt = [\"2022-09-09 00:00:00\", \"2022-09-09 00:00:01\", \"2022-09-09 00:00:02\"]\n",
    "\n",
    "import pandas as pd\n",
    "\n",
    "pd.to_datetime(date_fmt)"
   ]
  },
  {
   "cell_type": "markdown",
   "id": "cfbb33c6",
   "metadata": {},
   "source": [
    "### 270. datetime 객체 생성"
   ]
  },
  {
   "cell_type": "markdown",
   "id": "648ca136",
   "metadata": {},
   "source": [
    "'2023-01-01 00:00:00' 시각을 datetime 클래스의 객체로 생성하세요."
   ]
  },
  {
   "cell_type": "code",
   "execution_count": 32,
   "id": "972ae904",
   "metadata": {},
   "outputs": [
    {
     "data": {
      "text/plain": [
       "datetime.datetime(2023, 1, 1, 0, 0)"
      ]
     },
     "execution_count": 32,
     "metadata": {},
     "output_type": "execute_result"
    }
   ],
   "source": [
    "datetime(year=2023, month=1, day=1, hour=0, minute=0, second=0)"
   ]
  }
 ],
 "metadata": {
  "kernelspec": {
   "display_name": "Python 3 (ipykernel)",
   "language": "python",
   "name": "python3"
  },
  "language_info": {
   "codemirror_mode": {
    "name": "ipython",
    "version": 3
   },
   "file_extension": ".py",
   "mimetype": "text/x-python",
   "name": "python",
   "nbconvert_exporter": "python",
   "pygments_lexer": "ipython3",
   "version": "3.10.9"
  }
 },
 "nbformat": 4,
 "nbformat_minor": 5
}
