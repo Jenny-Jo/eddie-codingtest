{
 "cells": [
  {
   "cell_type": "code",
   "execution_count": 9,
   "id": "c1f016f2",
   "metadata": {},
   "outputs": [],
   "source": [
    "import numpy as np\n",
    "import pandas as pd\n",
    "from pandas import DataFrame\n",
    "from datetime import datetime"
   ]
  },
  {
   "cell_type": "markdown",
   "id": "fd19f045",
   "metadata": {},
   "source": [
    "### 271. datetime"
   ]
  },
  {
   "cell_type": "markdown",
   "id": "2ea5e260",
   "metadata": {},
   "source": [
    "다음과 같이 데이터프레임의 인덱스를 datetime 객체로 표현하세요."
   ]
  },
  {
   "cell_type": "code",
   "execution_count": 15,
   "id": "716a1329",
   "metadata": {},
   "outputs": [
    {
     "data": {
      "text/html": [
       "<div>\n",
       "<style scoped>\n",
       "    .dataframe tbody tr th:only-of-type {\n",
       "        vertical-align: middle;\n",
       "    }\n",
       "\n",
       "    .dataframe tbody tr th {\n",
       "        vertical-align: top;\n",
       "    }\n",
       "\n",
       "    .dataframe thead th {\n",
       "        text-align: right;\n",
       "    }\n",
       "</style>\n",
       "<table border=\"1\" class=\"dataframe\">\n",
       "  <thead>\n",
       "    <tr style=\"text-align: right;\">\n",
       "      <th></th>\n",
       "      <th>카카오</th>\n",
       "      <th>NAVER</th>\n",
       "      <th>삼성전자</th>\n",
       "    </tr>\n",
       "  </thead>\n",
       "  <tbody>\n",
       "    <tr>\n",
       "      <th>2019-12-01</th>\n",
       "      <td>NaN</td>\n",
       "      <td>52</td>\n",
       "      <td>17</td>\n",
       "    </tr>\n",
       "    <tr>\n",
       "      <th>2020-12-01</th>\n",
       "      <td>221.0</td>\n",
       "      <td>47</td>\n",
       "      <td>21</td>\n",
       "    </tr>\n",
       "    <tr>\n",
       "      <th>2021-12-01</th>\n",
       "      <td>35.0</td>\n",
       "      <td>3</td>\n",
       "      <td>13</td>\n",
       "    </tr>\n",
       "  </tbody>\n",
       "</table>\n",
       "</div>"
      ],
      "text/plain": [
       "              카카오  NAVER  삼성전자\n",
       "2019-12-01    NaN     52    17\n",
       "2020-12-01  221.0     47    21\n",
       "2021-12-01   35.0      3    13"
      ]
     },
     "execution_count": 15,
     "metadata": {},
     "output_type": "execute_result"
    }
   ],
   "source": [
    "data = [[None, 52, 17], [221.0, 47, 21], [35.0, 3, 13]]\n",
    "index = ['2019-12-01', '2020-12-01', '2021-12-01']\n",
    "columns = ['카카오', 'NAVER', '삼성전자']\n",
    "\n",
    "df = DataFrame(data=data, index=index, columns=columns)\n",
    "df"
   ]
  },
  {
   "cell_type": "code",
   "execution_count": 16,
   "id": "22e631c0",
   "metadata": {},
   "outputs": [],
   "source": [
    "df.index = pd.to_datetime(df.index)"
   ]
  },
  {
   "cell_type": "code",
   "execution_count": 17,
   "id": "7da69423",
   "metadata": {},
   "outputs": [
    {
     "data": {
      "text/plain": [
       "dtype('<M8[ns]')"
      ]
     },
     "execution_count": 17,
     "metadata": {},
     "output_type": "execute_result"
    }
   ],
   "source": [
    "df.index.dtype"
   ]
  },
  {
   "cell_type": "markdown",
   "id": "eaaddbd0",
   "metadata": {},
   "source": [
    "### 272. dtype"
   ]
  },
  {
   "cell_type": "markdown",
   "id": "d18b666f",
   "metadata": {},
   "source": [
    "다음 데이터프레임 인덱스의 타입을 확인하세요.\n",
    "\n",
    "import pandas as pd  \n",
    "from datetime import datetime  \n",
    "\n",
    "data = {  \n",
    "    \"카카오\": [np.nan, 221, 35],   \n",
    "    \"NAVER\": [52, 47, 3],  \n",
    "    \"삼성전자\": [17, 21, 13]  \n",
    "}  \n",
    "index = [datetime(2019, 12, 1), datetime(2020, 12, 1), datetime(2021, 12, 1)]  \n",
    "df = pd.DataFrame(data=data, index=index)"
   ]
  },
  {
   "cell_type": "code",
   "execution_count": 18,
   "id": "60d643a6",
   "metadata": {},
   "outputs": [
    {
     "data": {
      "text/plain": [
       "dtype('<M8[ns]')"
      ]
     },
     "execution_count": 18,
     "metadata": {},
     "output_type": "execute_result"
    }
   ],
   "source": [
    "data = {  \n",
    "    \"카카오\": [np.nan, 221, 35],   \n",
    "    \"NAVER\": [52, 47, 3],  \n",
    "    \"삼성전자\": [17, 21, 13]  \n",
    "}  \n",
    "index = [datetime(2019, 12, 1), datetime(2020, 12, 1), datetime(2021, 12, 1)]\n",
    "df = pd.DataFrame(data=data, index=index)\n",
    "\n",
    "df.index.dtype"
   ]
  },
  {
   "cell_type": "markdown",
   "id": "d01acf9a",
   "metadata": {},
   "source": [
    "### 273. timestamp"
   ]
  },
  {
   "cell_type": "markdown",
   "id": "3f85b965",
   "metadata": {},
   "source": [
    "다음 데이터프레임의 0번째 인덱스의 타입을 확인하세요.\n",
    "\n",
    "import pandas as pd  \n",
    "from datetime import datetime  \n",
    "\n",
    "data = {  \n",
    "    \"카카오\": [np.nan, 221, 35],   \n",
    "    \"NAVER\": [52, 47, 3],  \n",
    "    \"삼성전자\": [17, 21, 13]  \n",
    "}  \n",
    "index = [datetime(2019, 12, 1), datetime(2020, 12, 1), datetime(2021, 12, 1)]  \n",
    "df = pd.DataFrame(data=data, index=index)"
   ]
  },
  {
   "cell_type": "code",
   "execution_count": 19,
   "id": "9f06faad",
   "metadata": {},
   "outputs": [],
   "source": [
    "data = {\n",
    "\"카카오\": [np.nan, 221, 35],\n",
    "\"NAVER\": [52, 47, 3],\n",
    "\"삼성전자\": [17, 21, 13]\n",
    "}\n",
    "index = [datetime(2019, 12, 1), datetime(2020, 12, 1), datetime(2021, 12, 1)]\n",
    "df = pd.DataFrame(data=data, index=index)"
   ]
  },
  {
   "cell_type": "code",
   "execution_count": 22,
   "id": "548d344a",
   "metadata": {},
   "outputs": [
    {
     "data": {
      "text/plain": [
       "Timestamp('2019-12-01 00:00:00')"
      ]
     },
     "execution_count": 22,
     "metadata": {},
     "output_type": "execute_result"
    }
   ],
   "source": [
    "df.index[0]"
   ]
  },
  {
   "cell_type": "markdown",
   "id": "c3c74136",
   "metadata": {},
   "source": [
    "### 274. 시계열 데이터 인덱싱"
   ]
  },
  {
   "cell_type": "markdown",
   "id": "fa53202a",
   "metadata": {},
   "source": [
    "다음 데이터프레임에서 2021년 데이터를 인덱싱하세요.\n",
    "\n",
    "import pandas as pd  \n",
    "from datetime import datetime  \n",
    "\n",
    "data = {  \n",
    "    \"카카오\": [np.nan, 221, 35],   \n",
    "    \"NAVER\": [52, 47, 3],  \n",
    "    \"삼성전자\": [17, 21, 13]  \n",
    "}  \n",
    "index = [datetime(2019, 12, 1), datetime(2020, 12, 1), datetime(2021, 12, 1)]  \n",
    "df = pd.DataFrame(data=data, index=index)"
   ]
  },
  {
   "cell_type": "code",
   "execution_count": 23,
   "id": "bc065b92",
   "metadata": {},
   "outputs": [],
   "source": [
    "data = {\n",
    "    \"카카오\": [np.nan, 221, 35], \n",
    "    \"NAVER\": [52, 47, 3],\n",
    "    \"삼성전자\": [17, 21, 13]\n",
    "}\n",
    "index = [datetime(2019, 12, 1), datetime(2020, 12, 1), datetime(2021, 12, 1)]\n",
    "df = pd.DataFrame(data=data, index=index)"
   ]
  },
  {
   "cell_type": "code",
   "execution_count": 26,
   "id": "61417af6",
   "metadata": {},
   "outputs": [
    {
     "data": {
      "text/html": [
       "<div>\n",
       "<style scoped>\n",
       "    .dataframe tbody tr th:only-of-type {\n",
       "        vertical-align: middle;\n",
       "    }\n",
       "\n",
       "    .dataframe tbody tr th {\n",
       "        vertical-align: top;\n",
       "    }\n",
       "\n",
       "    .dataframe thead th {\n",
       "        text-align: right;\n",
       "    }\n",
       "</style>\n",
       "<table border=\"1\" class=\"dataframe\">\n",
       "  <thead>\n",
       "    <tr style=\"text-align: right;\">\n",
       "      <th></th>\n",
       "      <th>카카오</th>\n",
       "      <th>NAVER</th>\n",
       "      <th>삼성전자</th>\n",
       "    </tr>\n",
       "  </thead>\n",
       "  <tbody>\n",
       "    <tr>\n",
       "      <th>2021-12-01</th>\n",
       "      <td>35.0</td>\n",
       "      <td>3</td>\n",
       "      <td>13</td>\n",
       "    </tr>\n",
       "  </tbody>\n",
       "</table>\n",
       "</div>"
      ],
      "text/plain": [
       "             카카오  NAVER  삼성전자\n",
       "2021-12-01  35.0      3    13"
      ]
     },
     "execution_count": 26,
     "metadata": {},
     "output_type": "execute_result"
    }
   ],
   "source": [
    "df[df.index.year == 2021]"
   ]
  },
  {
   "cell_type": "code",
   "execution_count": 27,
   "id": "aaf7d93a",
   "metadata": {},
   "outputs": [
    {
     "data": {
      "text/html": [
       "<div>\n",
       "<style scoped>\n",
       "    .dataframe tbody tr th:only-of-type {\n",
       "        vertical-align: middle;\n",
       "    }\n",
       "\n",
       "    .dataframe tbody tr th {\n",
       "        vertical-align: top;\n",
       "    }\n",
       "\n",
       "    .dataframe thead th {\n",
       "        text-align: right;\n",
       "    }\n",
       "</style>\n",
       "<table border=\"1\" class=\"dataframe\">\n",
       "  <thead>\n",
       "    <tr style=\"text-align: right;\">\n",
       "      <th></th>\n",
       "      <th>카카오</th>\n",
       "      <th>NAVER</th>\n",
       "      <th>삼성전자</th>\n",
       "    </tr>\n",
       "  </thead>\n",
       "  <tbody>\n",
       "    <tr>\n",
       "      <th>2021-12-01</th>\n",
       "      <td>35.0</td>\n",
       "      <td>3</td>\n",
       "      <td>13</td>\n",
       "    </tr>\n",
       "  </tbody>\n",
       "</table>\n",
       "</div>"
      ],
      "text/plain": [
       "             카카오  NAVER  삼성전자\n",
       "2021-12-01  35.0      3    13"
      ]
     },
     "execution_count": 27,
     "metadata": {},
     "output_type": "execute_result"
    }
   ],
   "source": [
    "df.loc['2021']"
   ]
  },
  {
   "cell_type": "markdown",
   "id": "f3b0e9f7",
   "metadata": {},
   "source": [
    "### 275. pandas.date_range"
   ]
  },
  {
   "cell_type": "markdown",
   "id": "fcbd89be",
   "metadata": {},
   "source": [
    "판다스의 date_range 함수를 사용하여 \"2022-01-01\"부터 \"2022-12-31\"까지 일 단위의 시계열 인덱스를 생성하세요."
   ]
  },
  {
   "cell_type": "code",
   "execution_count": 29,
   "id": "4c20de6d",
   "metadata": {},
   "outputs": [
    {
     "data": {
      "text/plain": [
       "DatetimeIndex(['2022-01-01', '2022-01-02', '2022-01-03', '2022-01-04',\n",
       "               '2022-01-05', '2022-01-06', '2022-01-07', '2022-01-08',\n",
       "               '2022-01-09', '2022-01-10',\n",
       "               ...\n",
       "               '2022-12-22', '2022-12-23', '2022-12-24', '2022-12-25',\n",
       "               '2022-12-26', '2022-12-27', '2022-12-28', '2022-12-29',\n",
       "               '2022-12-30', '2022-12-31'],\n",
       "              dtype='datetime64[ns]', length=365, freq='D')"
      ]
     },
     "execution_count": 29,
     "metadata": {},
     "output_type": "execute_result"
    }
   ],
   "source": [
    "pd.date_range(start='2022-01-01', end='2022-12-31')"
   ]
  },
  {
   "cell_type": "markdown",
   "id": "9d28851a",
   "metadata": {},
   "source": [
    "### 276. pandas.date_range"
   ]
  },
  {
   "cell_type": "markdown",
   "id": "6c3c6da3",
   "metadata": {},
   "source": [
    "date_range 함수를 사용하여 '2023-01-01'부터 31개의 일 단위 시계열을 생성하세요."
   ]
  },
  {
   "cell_type": "code",
   "execution_count": 30,
   "id": "4e7aec40",
   "metadata": {},
   "outputs": [
    {
     "data": {
      "text/plain": [
       "DatetimeIndex(['2023-01-01', '2023-01-02', '2023-01-03', '2023-01-04',\n",
       "               '2023-01-05', '2023-01-06', '2023-01-07', '2023-01-08',\n",
       "               '2023-01-09', '2023-01-10', '2023-01-11', '2023-01-12',\n",
       "               '2023-01-13', '2023-01-14', '2023-01-15', '2023-01-16',\n",
       "               '2023-01-17', '2023-01-18', '2023-01-19', '2023-01-20',\n",
       "               '2023-01-21', '2023-01-22', '2023-01-23', '2023-01-24',\n",
       "               '2023-01-25', '2023-01-26', '2023-01-27', '2023-01-28',\n",
       "               '2023-01-29', '2023-01-30', '2023-01-31'],\n",
       "              dtype='datetime64[ns]', freq='D')"
      ]
     },
     "execution_count": 30,
     "metadata": {},
     "output_type": "execute_result"
    }
   ],
   "source": [
    "pd.date_range(start='2023-01-01', periods=31)"
   ]
  },
  {
   "cell_type": "markdown",
   "id": "d85d48af",
   "metadata": {},
   "source": [
    "### 277. pandas.date_range"
   ]
  },
  {
   "cell_type": "markdown",
   "id": "3250c087",
   "metadata": {},
   "source": [
    "date_range 함수를 사용하여 '2023-01-01 09:00:00'으로부터 5일치의 시계열을 생성하세요."
   ]
  },
  {
   "cell_type": "code",
   "execution_count": 31,
   "id": "71d540f3",
   "metadata": {},
   "outputs": [
    {
     "data": {
      "text/plain": [
       "DatetimeIndex(['2023-01-01 09:00:00', '2023-01-02 09:00:00',\n",
       "               '2023-01-03 09:00:00', '2023-01-04 09:00:00',\n",
       "               '2023-01-05 09:00:00'],\n",
       "              dtype='datetime64[ns]', freq='D')"
      ]
     },
     "execution_count": 31,
     "metadata": {},
     "output_type": "execute_result"
    }
   ],
   "source": [
    "pd.date_range(start='2023-01-01 09:00:00', periods=5)"
   ]
  },
  {
   "cell_type": "markdown",
   "id": "fb7cb338",
   "metadata": {},
   "source": [
    "### 278. index.tz"
   ]
  },
  {
   "cell_type": "markdown",
   "id": "cb8d5c79",
   "metadata": {},
   "source": [
    "다음 데이터프레임 인덱스의 time zone을 출력하세요.\n",
    "\n",
    "import pyupbit  \n",
    "df = pyupbit.get_ohlcv(\"KRW-BTC\")"
   ]
  },
  {
   "cell_type": "code",
   "execution_count": 33,
   "id": "988de22b",
   "metadata": {},
   "outputs": [
    {
     "name": "stdout",
     "output_type": "stream",
     "text": [
      "Collecting pyupbit\n",
      "  Downloading pyupbit-0.2.33-py3-none-any.whl (24 kB)\n",
      "Collecting websockets\n",
      "  Downloading websockets-12.0-cp310-cp310-macosx_11_0_arm64.whl (121 kB)\n",
      "\u001b[2K     \u001b[90m━━━━━━━━━━━━━━━━━━━━━━━━━━━━━━━━━━━━━━━\u001b[0m \u001b[32m121.3/121.3 kB\u001b[0m \u001b[31m8.9 MB/s\u001b[0m eta \u001b[36m0:00:00\u001b[0m\n",
      "\u001b[?25hRequirement already satisfied: requests in /Users/lance/anaconda3/lib/python3.10/site-packages (from pyupbit) (2.28.1)\n",
      "Requirement already satisfied: pandas in /Users/lance/anaconda3/lib/python3.10/site-packages (from pyupbit) (1.5.3)\n",
      "Requirement already satisfied: pyjwt>=2.0.0 in /Users/lance/anaconda3/lib/python3.10/site-packages (from pyupbit) (2.4.0)\n",
      "Requirement already satisfied: python-dateutil>=2.8.1 in /Users/lance/anaconda3/lib/python3.10/site-packages (from pandas->pyupbit) (2.8.2)\n",
      "Requirement already satisfied: pytz>=2020.1 in /Users/lance/anaconda3/lib/python3.10/site-packages (from pandas->pyupbit) (2022.7)\n",
      "Requirement already satisfied: numpy>=1.21.0 in /Users/lance/anaconda3/lib/python3.10/site-packages (from pandas->pyupbit) (1.23.5)\n",
      "Requirement already satisfied: idna<4,>=2.5 in /Users/lance/anaconda3/lib/python3.10/site-packages (from requests->pyupbit) (3.4)\n",
      "Requirement already satisfied: charset-normalizer<3,>=2 in /Users/lance/anaconda3/lib/python3.10/site-packages (from requests->pyupbit) (2.0.4)\n",
      "Requirement already satisfied: certifi>=2017.4.17 in /Users/lance/anaconda3/lib/python3.10/site-packages (from requests->pyupbit) (2023.5.7)\n",
      "Requirement already satisfied: urllib3<1.27,>=1.21.1 in /Users/lance/anaconda3/lib/python3.10/site-packages (from requests->pyupbit) (1.26.14)\n",
      "Requirement already satisfied: six>=1.5 in /Users/lance/anaconda3/lib/python3.10/site-packages (from python-dateutil>=2.8.1->pandas->pyupbit) (1.16.0)\n",
      "Installing collected packages: websockets, pyupbit\n",
      "Successfully installed pyupbit-0.2.33 websockets-12.0\n",
      "Note: you may need to restart the kernel to use updated packages.\n"
     ]
    }
   ],
   "source": [
    "pip install pyupbit"
   ]
  },
  {
   "cell_type": "code",
   "execution_count": 34,
   "id": "dcb310eb",
   "metadata": {},
   "outputs": [
    {
     "data": {
      "text/html": [
       "<div>\n",
       "<style scoped>\n",
       "    .dataframe tbody tr th:only-of-type {\n",
       "        vertical-align: middle;\n",
       "    }\n",
       "\n",
       "    .dataframe tbody tr th {\n",
       "        vertical-align: top;\n",
       "    }\n",
       "\n",
       "    .dataframe thead th {\n",
       "        text-align: right;\n",
       "    }\n",
       "</style>\n",
       "<table border=\"1\" class=\"dataframe\">\n",
       "  <thead>\n",
       "    <tr style=\"text-align: right;\">\n",
       "      <th></th>\n",
       "      <th>open</th>\n",
       "      <th>high</th>\n",
       "      <th>low</th>\n",
       "      <th>close</th>\n",
       "      <th>volume</th>\n",
       "      <th>value</th>\n",
       "    </tr>\n",
       "  </thead>\n",
       "  <tbody>\n",
       "    <tr>\n",
       "      <th>2023-08-14 09:00:00</th>\n",
       "      <td>39118000.0</td>\n",
       "      <td>39640000.0</td>\n",
       "      <td>38895000.0</td>\n",
       "      <td>39288000.0</td>\n",
       "      <td>2247.998748</td>\n",
       "      <td>8.825779e+10</td>\n",
       "    </tr>\n",
       "    <tr>\n",
       "      <th>2023-08-15 09:00:00</th>\n",
       "      <td>39288000.0</td>\n",
       "      <td>39668000.0</td>\n",
       "      <td>39275000.0</td>\n",
       "      <td>39404000.0</td>\n",
       "      <td>3383.235842</td>\n",
       "      <td>1.335731e+11</td>\n",
       "    </tr>\n",
       "    <tr>\n",
       "      <th>2023-08-16 09:00:00</th>\n",
       "      <td>39404000.0</td>\n",
       "      <td>39600000.0</td>\n",
       "      <td>39001000.0</td>\n",
       "      <td>39001000.0</td>\n",
       "      <td>4144.931326</td>\n",
       "      <td>1.631967e+11</td>\n",
       "    </tr>\n",
       "    <tr>\n",
       "      <th>2023-08-17 09:00:00</th>\n",
       "      <td>39001000.0</td>\n",
       "      <td>39092000.0</td>\n",
       "      <td>36261000.0</td>\n",
       "      <td>36588000.0</td>\n",
       "      <td>9224.234795</td>\n",
       "      <td>3.479893e+11</td>\n",
       "    </tr>\n",
       "    <tr>\n",
       "      <th>2023-08-18 09:00:00</th>\n",
       "      <td>36588000.0</td>\n",
       "      <td>36848000.0</td>\n",
       "      <td>35384000.0</td>\n",
       "      <td>35890000.0</td>\n",
       "      <td>9256.752346</td>\n",
       "      <td>3.343948e+11</td>\n",
       "    </tr>\n",
       "    <tr>\n",
       "      <th>...</th>\n",
       "      <td>...</td>\n",
       "      <td>...</td>\n",
       "      <td>...</td>\n",
       "      <td>...</td>\n",
       "      <td>...</td>\n",
       "      <td>...</td>\n",
       "    </tr>\n",
       "    <tr>\n",
       "      <th>2024-02-25 09:00:00</th>\n",
       "      <td>71107000.0</td>\n",
       "      <td>71595000.0</td>\n",
       "      <td>70907000.0</td>\n",
       "      <td>71256000.0</td>\n",
       "      <td>1867.428109</td>\n",
       "      <td>1.329769e+11</td>\n",
       "    </tr>\n",
       "    <tr>\n",
       "      <th>2024-02-26 09:00:00</th>\n",
       "      <td>71254000.0</td>\n",
       "      <td>75000000.0</td>\n",
       "      <td>70000000.0</td>\n",
       "      <td>74742000.0</td>\n",
       "      <td>6152.528499</td>\n",
       "      <td>4.457535e+11</td>\n",
       "    </tr>\n",
       "    <tr>\n",
       "      <th>2024-02-27 09:00:00</th>\n",
       "      <td>74741000.0</td>\n",
       "      <td>79183000.0</td>\n",
       "      <td>74554000.0</td>\n",
       "      <td>78619000.0</td>\n",
       "      <td>10168.668479</td>\n",
       "      <td>7.894270e+11</td>\n",
       "    </tr>\n",
       "    <tr>\n",
       "      <th>2024-02-28 09:00:00</th>\n",
       "      <td>78621000.0</td>\n",
       "      <td>88424000.0</td>\n",
       "      <td>78082000.0</td>\n",
       "      <td>87634000.0</td>\n",
       "      <td>19254.097473</td>\n",
       "      <td>1.605842e+12</td>\n",
       "    </tr>\n",
       "    <tr>\n",
       "      <th>2024-02-29 09:00:00</th>\n",
       "      <td>87695000.0</td>\n",
       "      <td>87703000.0</td>\n",
       "      <td>85244000.0</td>\n",
       "      <td>86002000.0</td>\n",
       "      <td>2091.290983</td>\n",
       "      <td>1.809914e+11</td>\n",
       "    </tr>\n",
       "  </tbody>\n",
       "</table>\n",
       "<p>200 rows × 6 columns</p>\n",
       "</div>"
      ],
      "text/plain": [
       "                           open        high         low       close  \\\n",
       "2023-08-14 09:00:00  39118000.0  39640000.0  38895000.0  39288000.0   \n",
       "2023-08-15 09:00:00  39288000.0  39668000.0  39275000.0  39404000.0   \n",
       "2023-08-16 09:00:00  39404000.0  39600000.0  39001000.0  39001000.0   \n",
       "2023-08-17 09:00:00  39001000.0  39092000.0  36261000.0  36588000.0   \n",
       "2023-08-18 09:00:00  36588000.0  36848000.0  35384000.0  35890000.0   \n",
       "...                         ...         ...         ...         ...   \n",
       "2024-02-25 09:00:00  71107000.0  71595000.0  70907000.0  71256000.0   \n",
       "2024-02-26 09:00:00  71254000.0  75000000.0  70000000.0  74742000.0   \n",
       "2024-02-27 09:00:00  74741000.0  79183000.0  74554000.0  78619000.0   \n",
       "2024-02-28 09:00:00  78621000.0  88424000.0  78082000.0  87634000.0   \n",
       "2024-02-29 09:00:00  87695000.0  87703000.0  85244000.0  86002000.0   \n",
       "\n",
       "                           volume         value  \n",
       "2023-08-14 09:00:00   2247.998748  8.825779e+10  \n",
       "2023-08-15 09:00:00   3383.235842  1.335731e+11  \n",
       "2023-08-16 09:00:00   4144.931326  1.631967e+11  \n",
       "2023-08-17 09:00:00   9224.234795  3.479893e+11  \n",
       "2023-08-18 09:00:00   9256.752346  3.343948e+11  \n",
       "...                           ...           ...  \n",
       "2024-02-25 09:00:00   1867.428109  1.329769e+11  \n",
       "2024-02-26 09:00:00   6152.528499  4.457535e+11  \n",
       "2024-02-27 09:00:00  10168.668479  7.894270e+11  \n",
       "2024-02-28 09:00:00  19254.097473  1.605842e+12  \n",
       "2024-02-29 09:00:00   2091.290983  1.809914e+11  \n",
       "\n",
       "[200 rows x 6 columns]"
      ]
     },
     "execution_count": 34,
     "metadata": {},
     "output_type": "execute_result"
    }
   ],
   "source": [
    "import pyupbit\n",
    "df = pyupbit.get_ohlcv(\"KRW-BTC\")\n",
    "df"
   ]
  },
  {
   "cell_type": "code",
   "execution_count": 40,
   "id": "cf787cbc",
   "metadata": {},
   "outputs": [
    {
     "name": "stdout",
     "output_type": "stream",
     "text": [
      "None\n"
     ]
    }
   ],
   "source": [
    "print(df.index.tz)"
   ]
  },
  {
   "cell_type": "markdown",
   "id": "70f9848f",
   "metadata": {},
   "source": [
    "### 279. UNIX time"
   ]
  },
  {
   "cell_type": "markdown",
   "id": "ce31293e",
   "metadata": {},
   "source": [
    "datetime 모듈로 현재 시간을 얻어온 후 이를 unix time으로 변환하세요."
   ]
  },
  {
   "cell_type": "code",
   "execution_count": 42,
   "id": "83bab6dc",
   "metadata": {},
   "outputs": [
    {
     "data": {
      "text/plain": [
       "1709170022.100597"
      ]
     },
     "execution_count": 42,
     "metadata": {},
     "output_type": "execute_result"
    }
   ],
   "source": [
    "datetime.now().timestamp()"
   ]
  },
  {
   "cell_type": "markdown",
   "id": "e3c3dc59",
   "metadata": {},
   "source": [
    "### 280. pandas.Timestamp"
   ]
  },
  {
   "cell_type": "markdown",
   "id": "7d0fccd8",
   "metadata": {},
   "source": [
    "datetime 객체 now를 Timestamp 타입으로 변환하고 이를 다시 datetime 타입으로 변환해보세요.\n",
    "\n",
    "from datetime import datetime\n",
    "\n",
    "now = datetime.now()"
   ]
  },
  {
   "cell_type": "code",
   "execution_count": 45,
   "id": "e23f0fd0",
   "metadata": {},
   "outputs": [
    {
     "data": {
      "text/plain": [
       "datetime.datetime(2024, 2, 29, 10, 29, 15, 564484)"
      ]
     },
     "execution_count": 45,
     "metadata": {},
     "output_type": "execute_result"
    }
   ],
   "source": [
    "now = datetime.now()\n",
    "\n",
    "now_ts = pd.Timestamp(now)\n",
    "\n",
    "now_ts.to_pydatetime()"
   ]
  }
 ],
 "metadata": {
  "kernelspec": {
   "display_name": "Python 3 (ipykernel)",
   "language": "python",
   "name": "python3"
  },
  "language_info": {
   "codemirror_mode": {
    "name": "ipython",
    "version": 3
   },
   "file_extension": ".py",
   "mimetype": "text/x-python",
   "name": "python",
   "nbconvert_exporter": "python",
   "pygments_lexer": "ipython3",
   "version": "3.10.9"
  }
 },
 "nbformat": 4,
 "nbformat_minor": 5
}
