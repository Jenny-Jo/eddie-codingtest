{
 "cells": [
  {
   "cell_type": "code",
   "execution_count": 1,
   "id": "0c26d4d0",
   "metadata": {},
   "outputs": [],
   "source": [
    "import numpy as np"
   ]
  },
  {
   "cell_type": "markdown",
   "id": "34bee8b7",
   "metadata": {},
   "source": [
    "### 11. 2차원 배열"
   ]
  },
  {
   "cell_type": "markdown",
   "id": "d9f540ae",
   "metadata": {},
   "source": [
    "다음과 같이 2차원 ndarray 객체를 정의하세요."
   ]
  },
  {
   "cell_type": "markdown",
   "id": "5f54dd24",
   "metadata": {},
   "source": [
    "[[0 1 2]\n",
    " [3 4 5]]"
   ]
  },
  {
   "cell_type": "code",
   "execution_count": 3,
   "id": "c05ad3ad",
   "metadata": {
    "scrolled": true
   },
   "outputs": [
    {
     "data": {
      "text/plain": [
       "array([[0, 1, 2],\n",
       "       [3, 4, 5]])"
      ]
     },
     "execution_count": 3,
     "metadata": {},
     "output_type": "execute_result"
    }
   ],
   "source": [
    "np.array([[0, 1, 2],\n",
    "              [3, 4, 5]])"
   ]
  },
  {
   "cell_type": "code",
   "execution_count": 4,
   "id": "37e68ce0",
   "metadata": {},
   "outputs": [
    {
     "data": {
      "text/plain": [
       "array([[0, 1, 2],\n",
       "       [3, 4, 5]])"
      ]
     },
     "execution_count": 4,
     "metadata": {},
     "output_type": "execute_result"
    }
   ],
   "source": [
    "np.arange(6).reshape(2, 3)"
   ]
  },
  {
   "cell_type": "markdown",
   "id": "1bc69db8",
   "metadata": {},
   "source": [
    "### 12. ones"
   ]
  },
  {
   "cell_type": "markdown",
   "id": "2668d864",
   "metadata": {},
   "source": [
    "1이 20개 저장된 아래의 ndarray 객체를 만들어 보세요."
   ]
  },
  {
   "cell_type": "markdown",
   "id": "76596d22",
   "metadata": {},
   "source": [
    "[1 1 1 1 1 1 1 1 1 1 1 1 1 1 1 1 1 1 1 1]"
   ]
  },
  {
   "cell_type": "code",
   "execution_count": 6,
   "id": "a06d96d7",
   "metadata": {},
   "outputs": [
    {
     "data": {
      "text/plain": [
       "array([1, 1, 1, 1, 1, 1, 1, 1, 1, 1, 1, 1, 1, 1, 1, 1, 1, 1, 1, 1])"
      ]
     },
     "execution_count": 6,
     "metadata": {},
     "output_type": "execute_result"
    }
   ],
   "source": [
    "np.ones(20, dtype=int)"
   ]
  },
  {
   "cell_type": "markdown",
   "id": "0901d8ed",
   "metadata": {},
   "source": [
    "### 13. ones"
   ]
  },
  {
   "cell_type": "markdown",
   "id": "5d23d44e",
   "metadata": {},
   "source": [
    "4행 5열로 저장된 아래의 ndarray 객체를 만들어 보세요."
   ]
  },
  {
   "cell_type": "markdown",
   "id": "666fc46a",
   "metadata": {},
   "source": [
    "[[1 1 1 1 1]\n",
    " [1 1 1 1 1]\n",
    " [1 1 1 1 1]\n",
    " [1 1 1 1 1]]"
   ]
  },
  {
   "cell_type": "code",
   "execution_count": 7,
   "id": "464cd20e",
   "metadata": {},
   "outputs": [
    {
     "data": {
      "text/plain": [
       "array([[1, 1, 1, 1, 1],\n",
       "       [1, 1, 1, 1, 1],\n",
       "       [1, 1, 1, 1, 1],\n",
       "       [1, 1, 1, 1, 1]])"
      ]
     },
     "execution_count": 7,
     "metadata": {},
     "output_type": "execute_result"
    }
   ],
   "source": [
    "arr1 = np.ones(20, dtype=int)\n",
    "arr2 = arr1.reshape(4, -1)\n",
    "arr2"
   ]
  },
  {
   "cell_type": "markdown",
   "id": "b6ddd363",
   "metadata": {},
   "source": [
    "### 14. ones"
   ]
  },
  {
   "cell_type": "markdown",
   "id": "12db40d3",
   "metadata": {},
   "source": [
    "255로 채워진 10X10 크기의 ndarray 객체를 생성하세요."
   ]
  },
  {
   "cell_type": "code",
   "execution_count": 12,
   "id": "11f31a54",
   "metadata": {},
   "outputs": [
    {
     "data": {
      "text/plain": [
       "array([[255, 255, 255, 255, 255, 255, 255, 255, 255, 255],\n",
       "       [255, 255, 255, 255, 255, 255, 255, 255, 255, 255],\n",
       "       [255, 255, 255, 255, 255, 255, 255, 255, 255, 255],\n",
       "       [255, 255, 255, 255, 255, 255, 255, 255, 255, 255],\n",
       "       [255, 255, 255, 255, 255, 255, 255, 255, 255, 255],\n",
       "       [255, 255, 255, 255, 255, 255, 255, 255, 255, 255],\n",
       "       [255, 255, 255, 255, 255, 255, 255, 255, 255, 255],\n",
       "       [255, 255, 255, 255, 255, 255, 255, 255, 255, 255],\n",
       "       [255, 255, 255, 255, 255, 255, 255, 255, 255, 255],\n",
       "       [255, 255, 255, 255, 255, 255, 255, 255, 255, 255]])"
      ]
     },
     "execution_count": 12,
     "metadata": {},
     "output_type": "execute_result"
    }
   ],
   "source": [
    "arr = np.ones(100, dtype=int)*255\n",
    "arr.reshape(10, 10)"
   ]
  },
  {
   "cell_type": "markdown",
   "id": "275d0f24",
   "metadata": {},
   "source": [
    "### 15. zeros"
   ]
  },
  {
   "cell_type": "markdown",
   "id": "6bfe37b8",
   "metadata": {},
   "source": [
    "3x4 (행x열) 크기의 0으로 채워진 배열을 생생해보세요."
   ]
  },
  {
   "cell_type": "code",
   "execution_count": 15,
   "id": "152d32d8",
   "metadata": {},
   "outputs": [
    {
     "data": {
      "text/plain": [
       "array([[0., 0., 0., 0.],\n",
       "       [0., 0., 0., 0.],\n",
       "       [0., 0., 0., 0.]])"
      ]
     },
     "execution_count": 15,
     "metadata": {},
     "output_type": "execute_result"
    }
   ],
   "source": [
    "np.zeros((3, 4))"
   ]
  },
  {
   "cell_type": "markdown",
   "id": "02ee6e08",
   "metadata": {},
   "source": [
    "### 16. dtype"
   ]
  },
  {
   "cell_type": "markdown",
   "id": "fcf6eca2",
   "metadata": {},
   "source": [
    "[1, 2, 3]을 np.int32 타입의 ndarray 배열로 생성하세요."
   ]
  },
  {
   "cell_type": "code",
   "execution_count": 18,
   "id": "442aca36",
   "metadata": {},
   "outputs": [
    {
     "data": {
      "text/plain": [
       "array([1, 2, 3], dtype=int32)"
      ]
     },
     "execution_count": 18,
     "metadata": {},
     "output_type": "execute_result"
    }
   ],
   "source": [
    "np.arange(1, 4, dtype=np.int32)"
   ]
  },
  {
   "cell_type": "markdown",
   "id": "5fb64232",
   "metadata": {},
   "source": [
    "### 17. dtype"
   ]
  },
  {
   "cell_type": "markdown",
   "id": "5a8c0628",
   "metadata": {},
   "source": [
    "다음 배열의 데이터 타입을 확인해보세요."
   ]
  },
  {
   "cell_type": "markdown",
   "id": "f80410b8",
   "metadata": {},
   "source": [
    "arr = np.array([1, 2, 3])"
   ]
  },
  {
   "cell_type": "code",
   "execution_count": 19,
   "id": "12c256da",
   "metadata": {},
   "outputs": [
    {
     "data": {
      "text/plain": [
       "dtype('int64')"
      ]
     },
     "execution_count": 19,
     "metadata": {},
     "output_type": "execute_result"
    }
   ],
   "source": [
    "arr = np.array([1, 2, 3])\n",
    "arr.dtype"
   ]
  },
  {
   "cell_type": "markdown",
   "id": "d04ade39",
   "metadata": {},
   "source": [
    "### 18. dtype"
   ]
  },
  {
   "cell_type": "markdown",
   "id": "bf8652dd",
   "metadata": {},
   "source": [
    "다음 배열의 데이터 타입을 확인해보세요."
   ]
  },
  {
   "cell_type": "markdown",
   "id": "9ea1c2ea",
   "metadata": {},
   "source": [
    "arr = np.array(['1', '2', '3'])"
   ]
  },
  {
   "cell_type": "code",
   "execution_count": 20,
   "id": "6859cb4e",
   "metadata": {},
   "outputs": [
    {
     "data": {
      "text/plain": [
       "dtype('<U1')"
      ]
     },
     "execution_count": 20,
     "metadata": {},
     "output_type": "execute_result"
    }
   ],
   "source": [
    "arr = np.array(['1', '2', '3'])\n",
    "arr.dtype"
   ]
  },
  {
   "cell_type": "markdown",
   "id": "fcc7d79b",
   "metadata": {},
   "source": [
    "### 19. dtype"
   ]
  },
  {
   "cell_type": "markdown",
   "id": "6aba9acd",
   "metadata": {},
   "source": [
    "다음 데이터를 np.int16 타입의 배열로 형변환하세요"
   ]
  },
  {
   "cell_type": "markdown",
   "id": "af38741c",
   "metadata": {},
   "source": [
    "arr = np.array([1, 2, 3])"
   ]
  },
  {
   "cell_type": "code",
   "execution_count": 25,
   "id": "d7ae9601",
   "metadata": {},
   "outputs": [
    {
     "data": {
      "text/plain": [
       "array([1, 2, 3], dtype=int16)"
      ]
     },
     "execution_count": 25,
     "metadata": {},
     "output_type": "execute_result"
    }
   ],
   "source": [
    "arr = np.array([1, 2, 3])\n",
    "arr.astype(np.int16)"
   ]
  },
  {
   "cell_type": "markdown",
   "id": "2e3bf724",
   "metadata": {},
   "source": [
    "### 20. 데이터 타입"
   ]
  },
  {
   "cell_type": "markdown",
   "id": "8d06a2ed",
   "metadata": {},
   "source": [
    "300이 44로 출력되는 이유를 설명하세요."
   ]
  },
  {
   "cell_type": "markdown",
   "id": "cbe901ad",
   "metadata": {},
   "source": [
    "> a = np.array( [ 255, 300, 128], dtype=np.uint8 )\n",
    "> a\n",
    "[255  44 128]"
   ]
  },
  {
   "cell_type": "markdown",
   "id": "b2733e18",
   "metadata": {},
   "source": [
    "`uint8`은 부호 없는 8비트 정수를 표현합니다. 0부터 \n",
    " 범위의 수를 표현할 수 있습니다. 300은 `uint8`이 표현할 수 있는 범위를 넘기 때문에 잘못된 값이 출력됩니다"
   ]
  }
 ],
 "metadata": {
  "kernelspec": {
   "display_name": "Python 3 (ipykernel)",
   "language": "python",
   "name": "python3"
  },
  "language_info": {
   "codemirror_mode": {
    "name": "ipython",
    "version": 3
   },
   "file_extension": ".py",
   "mimetype": "text/x-python",
   "name": "python",
   "nbconvert_exporter": "python",
   "pygments_lexer": "ipython3",
   "version": "3.10.9"
  }
 },
 "nbformat": 4,
 "nbformat_minor": 5
}
