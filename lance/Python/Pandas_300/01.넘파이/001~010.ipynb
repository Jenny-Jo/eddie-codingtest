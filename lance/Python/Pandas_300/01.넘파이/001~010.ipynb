{
 "cells": [
  {
   "cell_type": "markdown",
   "id": "ea5c687c",
   "metadata": {},
   "source": [
    "### 1. 넘파이 임포트"
   ]
  },
  {
   "cell_type": "markdown",
   "id": "162ad38c",
   "metadata": {},
   "source": [
    "넘파이 모듈을 np라는 이름으로 임포트해보세요"
   ]
  },
  {
   "cell_type": "code",
   "execution_count": 1,
   "id": "3627a682",
   "metadata": {},
   "outputs": [],
   "source": [
    "import numpy as np"
   ]
  },
  {
   "cell_type": "markdown",
   "id": "adad9496",
   "metadata": {},
   "source": [
    "### 2. ndarray"
   ]
  },
  {
   "cell_type": "markdown",
   "id": "5282bb62",
   "metadata": {},
   "source": [
    "리스트를 넘파이의 ndarray 객체로 변환해보세요.\n",
    "\n",
    "data = [1, 2, 3]"
   ]
  },
  {
   "cell_type": "code",
   "execution_count": 4,
   "id": "6cb62434",
   "metadata": {},
   "outputs": [
    {
     "data": {
      "text/plain": [
       "array([1, 2, 3])"
      ]
     },
     "execution_count": 4,
     "metadata": {},
     "output_type": "execute_result"
    }
   ],
   "source": [
    "data = [1, 2, 3]\n",
    "\n",
    "np.array(data)"
   ]
  },
  {
   "cell_type": "markdown",
   "id": "01208109",
   "metadata": {},
   "source": [
    "### 3. arange"
   ]
  },
  {
   "cell_type": "markdown",
   "id": "a86ca61c",
   "metadata": {},
   "source": [
    "0부터 99까지의 정수가 저장된 ndarray 객체를 만들어 보세요."
   ]
  },
  {
   "cell_type": "code",
   "execution_count": 5,
   "id": "d5128a97",
   "metadata": {},
   "outputs": [
    {
     "data": {
      "text/plain": [
       "array([ 0,  1,  2,  3,  4,  5,  6,  7,  8,  9, 10, 11, 12, 13, 14, 15, 16,\n",
       "       17, 18, 19, 20, 21, 22, 23, 24, 25, 26, 27, 28, 29, 30, 31, 32, 33,\n",
       "       34, 35, 36, 37, 38, 39, 40, 41, 42, 43, 44, 45, 46, 47, 48, 49, 50,\n",
       "       51, 52, 53, 54, 55, 56, 57, 58, 59, 60, 61, 62, 63, 64, 65, 66, 67,\n",
       "       68, 69, 70, 71, 72, 73, 74, 75, 76, 77, 78, 79, 80, 81, 82, 83, 84,\n",
       "       85, 86, 87, 88, 89, 90, 91, 92, 93, 94, 95, 96, 97, 98, 99])"
      ]
     },
     "execution_count": 5,
     "metadata": {},
     "output_type": "execute_result"
    }
   ],
   "source": [
    "np.arange(100)"
   ]
  },
  {
   "cell_type": "markdown",
   "id": "1c14bcfc",
   "metadata": {},
   "source": [
    "### 4. arange"
   ]
  },
  {
   "cell_type": "markdown",
   "id": "a94b7637",
   "metadata": {},
   "source": [
    "구구단 3단의 결과가 저장된 ndarray 객체를 만들어 보세요."
   ]
  },
  {
   "cell_type": "markdown",
   "id": "b8fd606d",
   "metadata": {},
   "source": [
    "> arr\n",
    "[ 3  6  9 12 15 18 21 24 27]"
   ]
  },
  {
   "cell_type": "code",
   "execution_count": 14,
   "id": "d55266e0",
   "metadata": {},
   "outputs": [
    {
     "data": {
      "text/plain": [
       "array([ 3,  6,  9, 12, 15, 18, 21, 24, 27])"
      ]
     },
     "execution_count": 14,
     "metadata": {},
     "output_type": "execute_result"
    }
   ],
   "source": [
    "arr = np.arange(1, 10)*3\n",
    "arr"
   ]
  },
  {
   "cell_type": "markdown",
   "id": "de4d047d",
   "metadata": {},
   "source": [
    "### 5. arange"
   ]
  },
  {
   "cell_type": "markdown",
   "id": "96364b34",
   "metadata": {},
   "source": [
    "1000보다 작은 짝수가 저장된 ndarray 객체를 만들어 보세요."
   ]
  },
  {
   "cell_type": "code",
   "execution_count": 18,
   "id": "8e18caa8",
   "metadata": {},
   "outputs": [
    {
     "data": {
      "text/plain": [
       "array([  2,   4,   6,   8,  10,  12,  14,  16,  18,  20,  22,  24,  26,\n",
       "        28,  30,  32,  34,  36,  38,  40,  42,  44,  46,  48,  50,  52,\n",
       "        54,  56,  58,  60,  62,  64,  66,  68,  70,  72,  74,  76,  78,\n",
       "        80,  82,  84,  86,  88,  90,  92,  94,  96,  98, 100, 102, 104,\n",
       "       106, 108, 110, 112, 114, 116, 118, 120, 122, 124, 126, 128, 130,\n",
       "       132, 134, 136, 138, 140, 142, 144, 146, 148, 150, 152, 154, 156,\n",
       "       158, 160, 162, 164, 166, 168, 170, 172, 174, 176, 178, 180, 182,\n",
       "       184, 186, 188, 190, 192, 194, 196, 198, 200, 202, 204, 206, 208,\n",
       "       210, 212, 214, 216, 218, 220, 222, 224, 226, 228, 230, 232, 234,\n",
       "       236, 238, 240, 242, 244, 246, 248, 250, 252, 254, 256, 258, 260,\n",
       "       262, 264, 266, 268, 270, 272, 274, 276, 278, 280, 282, 284, 286,\n",
       "       288, 290, 292, 294, 296, 298, 300, 302, 304, 306, 308, 310, 312,\n",
       "       314, 316, 318, 320, 322, 324, 326, 328, 330, 332, 334, 336, 338,\n",
       "       340, 342, 344, 346, 348, 350, 352, 354, 356, 358, 360, 362, 364,\n",
       "       366, 368, 370, 372, 374, 376, 378, 380, 382, 384, 386, 388, 390,\n",
       "       392, 394, 396, 398, 400, 402, 404, 406, 408, 410, 412, 414, 416,\n",
       "       418, 420, 422, 424, 426, 428, 430, 432, 434, 436, 438, 440, 442,\n",
       "       444, 446, 448, 450, 452, 454, 456, 458, 460, 462, 464, 466, 468,\n",
       "       470, 472, 474, 476, 478, 480, 482, 484, 486, 488, 490, 492, 494,\n",
       "       496, 498, 500, 502, 504, 506, 508, 510, 512, 514, 516, 518, 520,\n",
       "       522, 524, 526, 528, 530, 532, 534, 536, 538, 540, 542, 544, 546,\n",
       "       548, 550, 552, 554, 556, 558, 560, 562, 564, 566, 568, 570, 572,\n",
       "       574, 576, 578, 580, 582, 584, 586, 588, 590, 592, 594, 596, 598,\n",
       "       600, 602, 604, 606, 608, 610, 612, 614, 616, 618, 620, 622, 624,\n",
       "       626, 628, 630, 632, 634, 636, 638, 640, 642, 644, 646, 648, 650,\n",
       "       652, 654, 656, 658, 660, 662, 664, 666, 668, 670, 672, 674, 676,\n",
       "       678, 680, 682, 684, 686, 688, 690, 692, 694, 696, 698, 700, 702,\n",
       "       704, 706, 708, 710, 712, 714, 716, 718, 720, 722, 724, 726, 728,\n",
       "       730, 732, 734, 736, 738, 740, 742, 744, 746, 748, 750, 752, 754,\n",
       "       756, 758, 760, 762, 764, 766, 768, 770, 772, 774, 776, 778, 780,\n",
       "       782, 784, 786, 788, 790, 792, 794, 796, 798, 800, 802, 804, 806,\n",
       "       808, 810, 812, 814, 816, 818, 820, 822, 824, 826, 828, 830, 832,\n",
       "       834, 836, 838, 840, 842, 844, 846, 848, 850, 852, 854, 856, 858,\n",
       "       860, 862, 864, 866, 868, 870, 872, 874, 876, 878, 880, 882, 884,\n",
       "       886, 888, 890, 892, 894, 896, 898, 900, 902, 904, 906, 908, 910,\n",
       "       912, 914, 916, 918, 920, 922, 924, 926, 928, 930, 932, 934, 936,\n",
       "       938, 940, 942, 944, 946, 948, 950, 952, 954, 956, 958, 960, 962,\n",
       "       964, 966, 968, 970, 972, 974, 976, 978, 980, 982, 984, 986, 988,\n",
       "       990, 992, 994, 996, 998])"
      ]
     },
     "execution_count": 18,
     "metadata": {},
     "output_type": "execute_result"
    }
   ],
   "source": [
    "np.arange(2, 1000, 2)\n",
    "# np.arange(1, 500)*2"
   ]
  },
  {
   "cell_type": "markdown",
   "id": "06e080fb",
   "metadata": {},
   "source": [
    "### 6. 실수 range"
   ]
  },
  {
   "cell_type": "markdown",
   "id": "39d5cd44",
   "metadata": {},
   "source": [
    "0부터 1까지 0.1 간격으로 구성된 ndarray를 생성해보세요. 1은 포함되지 않습니다."
   ]
  },
  {
   "cell_type": "code",
   "execution_count": 20,
   "id": "59b9af0e",
   "metadata": {},
   "outputs": [
    {
     "data": {
      "text/plain": [
       "array([0. , 0.1, 0.2, 0.3, 0.4, 0.5, 0.6, 0.7, 0.8, 0.9])"
      ]
     },
     "execution_count": 20,
     "metadata": {},
     "output_type": "execute_result"
    }
   ],
   "source": [
    "np.arange(0, 1, 0.1)"
   ]
  },
  {
   "cell_type": "markdown",
   "id": "9fabc17e",
   "metadata": {},
   "source": [
    "### 7. reshape"
   ]
  },
  {
   "cell_type": "markdown",
   "id": "05de3bf2",
   "metadata": {},
   "source": [
    "리스트에는 6개의 데이터가 저장돼 있습니다."
   ]
  },
  {
   "cell_type": "markdown",
   "id": "bfa489a3",
   "metadata": {},
   "source": [
    "data = [0, 1, 2, 3, 4, 5]"
   ]
  },
  {
   "cell_type": "markdown",
   "id": "457d28e3",
   "metadata": {},
   "source": [
    "다음과 같이 2행 3열의 ndarray로 변환하세요."
   ]
  },
  {
   "cell_type": "markdown",
   "id": "fc5883f6",
   "metadata": {},
   "source": [
    "[[0 1 2]\n",
    " [3 4 5]]"
   ]
  },
  {
   "cell_type": "code",
   "execution_count": 31,
   "id": "7d7b4d38",
   "metadata": {},
   "outputs": [
    {
     "data": {
      "text/plain": [
       "array([[0, 1, 2],\n",
       "       [3, 4, 5]])"
      ]
     },
     "execution_count": 31,
     "metadata": {},
     "output_type": "execute_result"
    }
   ],
   "source": [
    "data = [0, 1, 2, 3, 4, 5]\n",
    "arr = np.array(data)\n",
    "arr.reshape(2,3)"
   ]
  },
  {
   "cell_type": "markdown",
   "id": "f476c319",
   "metadata": {},
   "source": [
    "### 8. reshape"
   ]
  },
  {
   "cell_type": "markdown",
   "id": "b21d95fc",
   "metadata": {},
   "source": [
    "다음의 2차원 ndarray 1차원 ndarray로 변환하세요."
   ]
  },
  {
   "cell_type": "markdown",
   "id": "5ea01ea8",
   "metadata": {},
   "source": [
    "arr = np.array([\n",
    "    [0, 1, 2],\n",
    "    [3, 4, 5]\n",
    "])"
   ]
  },
  {
   "cell_type": "code",
   "execution_count": 35,
   "id": "c273fc9d",
   "metadata": {},
   "outputs": [
    {
     "data": {
      "text/plain": [
       "array([0, 1, 2, 3, 4, 5])"
      ]
     },
     "execution_count": 35,
     "metadata": {},
     "output_type": "execute_result"
    }
   ],
   "source": [
    "arr.reshape(6)"
   ]
  },
  {
   "cell_type": "code",
   "execution_count": 36,
   "id": "3dd99692",
   "metadata": {},
   "outputs": [
    {
     "data": {
      "text/plain": [
       "array([0, 1, 2, 3, 4, 5])"
      ]
     },
     "execution_count": 36,
     "metadata": {},
     "output_type": "execute_result"
    }
   ],
   "source": [
    "arr.flatten()"
   ]
  },
  {
   "cell_type": "markdown",
   "id": "dd115432",
   "metadata": {},
   "source": [
    "### 9. reshape"
   ]
  },
  {
   "cell_type": "markdown",
   "id": "89742081",
   "metadata": {},
   "source": [
    "주어진 ndarray를 다음과 같이 변경해 보세요."
   ]
  },
  {
   "cell_type": "markdown",
   "id": "b7a0303a",
   "metadata": {},
   "source": [
    "arr = np.arange(3)"
   ]
  },
  {
   "cell_type": "markdown",
   "id": "bbf7f345",
   "metadata": {},
   "source": [
    "[[0]\n",
    " [1]\n",
    " [2]]"
   ]
  },
  {
   "cell_type": "code",
   "execution_count": 38,
   "id": "b42a84eb",
   "metadata": {},
   "outputs": [
    {
     "data": {
      "text/plain": [
       "array([[0],\n",
       "       [1],\n",
       "       [2]])"
      ]
     },
     "execution_count": 38,
     "metadata": {},
     "output_type": "execute_result"
    }
   ],
   "source": [
    "arr = np.arange(3)\n",
    "arr.reshape(-1, 1)"
   ]
  },
  {
   "cell_type": "markdown",
   "id": "3acb2018",
   "metadata": {},
   "source": [
    "### 10. 에러 확인"
   ]
  },
  {
   "cell_type": "markdown",
   "id": "91e98f05",
   "metadata": {},
   "source": [
    "에러의 원인을 설명하세요."
   ]
  },
  {
   "cell_type": "markdown",
   "id": "f259948c",
   "metadata": {},
   "source": [
    "> np.arange(6).reshape(2, 4)\n",
    "ValueError: cannot reshape array of size 6 into shape (2,4)"
   ]
  },
  {
   "cell_type": "markdown",
   "id": "498169fd",
   "metadata": {},
   "source": [
    "2행 4열로 만들 수 없기 때문(데이터가 6개, 2행 4열로 만들려면 데이터가 8개 필요)"
   ]
  }
 ],
 "metadata": {
  "kernelspec": {
   "display_name": "Python 3 (ipykernel)",
   "language": "python",
   "name": "python3"
  },
  "language_info": {
   "codemirror_mode": {
    "name": "ipython",
    "version": 3
   },
   "file_extension": ".py",
   "mimetype": "text/x-python",
   "name": "python",
   "nbconvert_exporter": "python",
   "pygments_lexer": "ipython3",
   "version": "3.10.9"
  }
 },
 "nbformat": 4,
 "nbformat_minor": 5
}
