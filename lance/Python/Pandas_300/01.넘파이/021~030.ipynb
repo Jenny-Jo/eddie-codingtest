{
 "cells": [
  {
   "cell_type": "code",
   "execution_count": 1,
   "id": "9608f19c",
   "metadata": {},
   "outputs": [],
   "source": [
    "import numpy as np"
   ]
  },
  {
   "cell_type": "markdown",
   "id": "4a248f51",
   "metadata": {},
   "source": [
    "### 021. astype"
   ]
  },
  {
   "cell_type": "markdown",
   "id": "3d05e3bc",
   "metadata": {},
   "source": [
    "arr 배열은 float64 타입입니다. 이를 np.int32 타입으로 변경하세요."
   ]
  },
  {
   "cell_type": "markdown",
   "id": "14cbc4c9",
   "metadata": {},
   "source": [
    "import numpy as np\n",
    "\n",
    "arr = np.array([1.1, 2.1, 3.1])\n",
    "arr"
   ]
  },
  {
   "cell_type": "code",
   "execution_count": 2,
   "id": "db7c7aac",
   "metadata": {},
   "outputs": [
    {
     "data": {
      "text/plain": [
       "array([1, 2, 3], dtype=int32)"
      ]
     },
     "execution_count": 2,
     "metadata": {},
     "output_type": "execute_result"
    }
   ],
   "source": [
    "arr = np.array([1.1, 2.1, 3.1])\n",
    "arr.astype(np.int32)"
   ]
  },
  {
   "cell_type": "markdown",
   "id": "581d46ab",
   "metadata": {},
   "source": [
    "### 022. linspace"
   ]
  },
  {
   "cell_type": "markdown",
   "id": "ee5594a3",
   "metadata": {},
   "source": [
    "0~10 사이를 구간을 20개의 포인트로 분할한 결과를 ndarray로 표현하라."
   ]
  },
  {
   "cell_type": "markdown",
   "id": "b28a8466",
   "metadata": {},
   "source": [
    "array([ 0.        ,  0.52631579,  1.05263158,  1.57894737,  2.10526316,\n",
    "        2.63157895,  3.15789474,  3.68421053,  4.21052632,  4.73684211,\n",
    "        5.26315789,  5.78947368,  6.31578947,  6.84210526,  7.36842105,\n",
    "        7.89473684,  8.42105263,  8.94736842,  9.47368421, 10.        ])\n"
   ]
  },
  {
   "cell_type": "code",
   "execution_count": 3,
   "id": "48d349c8",
   "metadata": {},
   "outputs": [
    {
     "data": {
      "text/plain": [
       "array([ 0.        ,  0.52631579,  1.05263158,  1.57894737,  2.10526316,\n",
       "        2.63157895,  3.15789474,  3.68421053,  4.21052632,  4.73684211,\n",
       "        5.26315789,  5.78947368,  6.31578947,  6.84210526,  7.36842105,\n",
       "        7.89473684,  8.42105263,  8.94736842,  9.47368421, 10.        ])"
      ]
     },
     "execution_count": 3,
     "metadata": {},
     "output_type": "execute_result"
    }
   ],
   "source": [
    "np.linspace(0, 10, 20)"
   ]
  },
  {
   "cell_type": "markdown",
   "id": "1efc7ffd",
   "metadata": {},
   "source": [
    "### 023. 로우 인덱싱"
   ]
  },
  {
   "cell_type": "markdown",
   "id": "316b6efa",
   "metadata": {},
   "source": [
    "다음의 ndarry 객체에서 마지막 로우([6, 7, 8])을 출력하세요."
   ]
  },
  {
   "cell_type": "markdown",
   "id": "06cfaf39",
   "metadata": {},
   "source": [
    "> arr = np.arange(9).reshape(3, 3)\n",
    "> arr\n",
    "[[0 1 2]\n",
    " [3 4 5]\n",
    " [6 7 8]]"
   ]
  },
  {
   "cell_type": "code",
   "execution_count": 9,
   "id": "69539ec1",
   "metadata": {},
   "outputs": [
    {
     "data": {
      "text/plain": [
       "array([[6, 7, 8]])"
      ]
     },
     "execution_count": 9,
     "metadata": {},
     "output_type": "execute_result"
    }
   ],
   "source": [
    "arr = np.arange(9).reshape(3, 3)\n",
    "arr[[2]]"
   ]
  },
  {
   "cell_type": "markdown",
   "id": "4ecc83a1",
   "metadata": {},
   "source": [
    "### 024. 컬럼 인덱싱"
   ]
  },
  {
   "cell_type": "markdown",
   "id": "45e029c6",
   "metadata": {},
   "source": [
    "다음의 ndarry 객체에서 두 번째 컬럼([1, 4, 7])을 출력하세요."
   ]
  },
  {
   "cell_type": "code",
   "execution_count": null,
   "id": "2f9f6ea5",
   "metadata": {},
   "outputs": [],
   "source": [
    "> arr = np.arange(9).reshape(3, 3)\n",
    "> arr\n",
    "[[0 1 2]\n",
    " [3 4 5]\n",
    " [6 7 8]]"
   ]
  },
  {
   "cell_type": "code",
   "execution_count": 23,
   "id": "98cc9064",
   "metadata": {},
   "outputs": [
    {
     "data": {
      "text/plain": [
       "array([1, 4, 7])"
      ]
     },
     "execution_count": 23,
     "metadata": {},
     "output_type": "execute_result"
    }
   ],
   "source": [
    "arr = np.arange(9).reshape(3, 3)\n",
    "arr[:,1]"
   ]
  },
  {
   "cell_type": "markdown",
   "id": "031e1d6e",
   "metadata": {},
   "source": [
    "### 025. 데이터 인덱싱"
   ]
  },
  {
   "cell_type": "markdown",
   "id": "8fdab055",
   "metadata": {},
   "source": [
    "다음의 ndarray 객체에서 17을 선택하는 코드를 작성하라."
   ]
  },
  {
   "cell_type": "markdown",
   "id": "0f903053",
   "metadata": {},
   "source": [
    "> arr = np.arange(25).reshape(5, 5)\n",
    "> arr\n",
    "[[ 0  1  2  3  4]\n",
    " [ 5  6  7  8  9]\n",
    " [10 11 12 13 14]\n",
    " [15 16 17 18 19]\n",
    " [20 21 22 23 24]]"
   ]
  },
  {
   "cell_type": "code",
   "execution_count": 24,
   "id": "2f86300b",
   "metadata": {},
   "outputs": [
    {
     "data": {
      "text/plain": [
       "17"
      ]
     },
     "execution_count": 24,
     "metadata": {},
     "output_type": "execute_result"
    }
   ],
   "source": [
    "arr = np.arange(25).reshape(5, 5)\n",
    "arr[3, 2]"
   ]
  },
  {
   "cell_type": "markdown",
   "id": "dacbb698",
   "metadata": {},
   "source": [
    "### 026. 슬라이싱"
   ]
  },
  {
   "cell_type": "markdown",
   "id": "b5e146fa",
   "metadata": {},
   "source": [
    "[1 3]을 슬라이싱 하는 코드를 작성하세요."
   ]
  },
  {
   "cell_type": "markdown",
   "id": "b5808fad",
   "metadata": {},
   "source": [
    "> arr = np.arange(5)\n",
    "> arr\n",
    "[ 0  1  2  3  4]"
   ]
  },
  {
   "cell_type": "code",
   "execution_count": 27,
   "id": "a02a4ad7",
   "metadata": {},
   "outputs": [
    {
     "data": {
      "text/plain": [
       "array([1, 3])"
      ]
     },
     "execution_count": 27,
     "metadata": {},
     "output_type": "execute_result"
    }
   ],
   "source": [
    "arr = np.arange(5)\n",
    "arr[1:4:2]"
   ]
  },
  {
   "cell_type": "markdown",
   "id": "a2564a78",
   "metadata": {},
   "source": [
    "### 027. 슬라이싱"
   ]
  },
  {
   "cell_type": "markdown",
   "id": "bc1c1655",
   "metadata": {},
   "source": [
    "[6 7 8 9]를 슬라이싱 하는 코드를 작성하세요."
   ]
  },
  {
   "cell_type": "markdown",
   "id": "d248b582",
   "metadata": {},
   "source": [
    "> arr = np.arange(25).reshape(5, 5)\n",
    "> arr\n",
    "[[ 0  1  2  3  4]\n",
    " [ 5  6  7  8  9]\n",
    " [10 11 12 13 14]\n",
    " [15 16 17 18 19]\n",
    " [20 21 22 23 24]]"
   ]
  },
  {
   "cell_type": "code",
   "execution_count": 29,
   "id": "98340f4c",
   "metadata": {},
   "outputs": [
    {
     "data": {
      "text/plain": [
       "array([6, 7, 8, 9])"
      ]
     },
     "execution_count": 29,
     "metadata": {},
     "output_type": "execute_result"
    }
   ],
   "source": [
    "arr = np.arange(25).reshape(5, 5)\n",
    "arr[1, 1:]"
   ]
  },
  {
   "cell_type": "markdown",
   "id": "0dba2f7f",
   "metadata": {},
   "source": [
    "### 028. 슬라이싱"
   ]
  },
  {
   "cell_type": "markdown",
   "id": "8f6b90e7",
   "metadata": {},
   "source": [
    "첫번째와 두번째 컬럼을 슬라이싱하는 코드를 작성하세요."
   ]
  },
  {
   "cell_type": "markdown",
   "id": "2ca7e0a6",
   "metadata": {},
   "source": [
    "> arr = np.arange(25).reshape(5, 5)\n",
    "> arr\n",
    "[[ 0  1  2  3  4]\n",
    " [ 5  6  7  8  9]\n",
    " [10 11 12 13 14]\n",
    " [15 16 17 18 19]\n",
    " [20 21 22 23 24]]"
   ]
  },
  {
   "cell_type": "code",
   "execution_count": 31,
   "id": "6e292563",
   "metadata": {},
   "outputs": [
    {
     "data": {
      "text/plain": [
       "array([[ 0,  1],\n",
       "       [ 5,  6],\n",
       "       [10, 11],\n",
       "       [15, 16],\n",
       "       [20, 21]])"
      ]
     },
     "execution_count": 31,
     "metadata": {},
     "output_type": "execute_result"
    }
   ],
   "source": [
    "arr = np.arange(25).reshape(5, 5)\n",
    "arr[:, :2]"
   ]
  },
  {
   "cell_type": "markdown",
   "id": "ace8588b",
   "metadata": {},
   "source": [
    "### 029. 슬라이싱"
   ]
  },
  {
   "cell_type": "markdown",
   "id": "789a0f8e",
   "metadata": {},
   "source": [
    "6. 7,11, 12 를 2x2 ndarray로 슬라이싱하는 코드를 작성하세요."
   ]
  },
  {
   "cell_type": "markdown",
   "id": "117b56bf",
   "metadata": {},
   "source": [
    "> arr = np.arange(25).reshape(5, 5)\n",
    "> arr\n",
    "[[ 0  1  2  3  4]\n",
    " [ 5  6  7  8  9]\n",
    " [10 11 12 13 14]\n",
    " [15 16 17 18 19]\n",
    " [20 21 22 23 24]]\n"
   ]
  },
  {
   "cell_type": "code",
   "execution_count": 32,
   "id": "0324c39e",
   "metadata": {},
   "outputs": [
    {
     "data": {
      "text/plain": [
       "array([[ 6,  7],\n",
       "       [11, 12]])"
      ]
     },
     "execution_count": 32,
     "metadata": {},
     "output_type": "execute_result"
    }
   ],
   "source": [
    "arr = np.arange(25).reshape(5, 5)\n",
    "arr[1:3, 1:3]"
   ]
  },
  {
   "cell_type": "markdown",
   "id": "43fe0bb7",
   "metadata": {},
   "source": [
    "### 030. 슬라이싱"
   ]
  },
  {
   "cell_type": "markdown",
   "id": "5acf090d",
   "metadata": {},
   "source": [
    "0. 3,20, 23 를 2x2 ndarray로 슬라이싱하는 코드를 작성하세요."
   ]
  },
  {
   "cell_type": "markdown",
   "id": "4ca12c96",
   "metadata": {},
   "source": [
    "> arr = np.arange(25).reshape(5, 5)\n",
    "> arr\n",
    "[[ 0  1  2  3  4]\n",
    " [ 5  6  7  8  9]\n",
    " [10 11 12 13 14]\n",
    " [15 16 17 18 19]\n",
    " [20 21 22 23 24]]\n"
   ]
  },
  {
   "cell_type": "code",
   "execution_count": 35,
   "id": "66efb25a",
   "metadata": {},
   "outputs": [
    {
     "data": {
      "text/plain": [
       "array([[ 0,  3],\n",
       "       [20, 23]])"
      ]
     },
     "execution_count": 35,
     "metadata": {},
     "output_type": "execute_result"
    }
   ],
   "source": [
    "arr = np.arange(25).reshape(5, 5)\n",
    "arr[::4, :4:3]"
   ]
  }
 ],
 "metadata": {
  "kernelspec": {
   "display_name": "Python 3 (ipykernel)",
   "language": "python",
   "name": "python3"
  },
  "language_info": {
   "codemirror_mode": {
    "name": "ipython",
    "version": 3
   },
   "file_extension": ".py",
   "mimetype": "text/x-python",
   "name": "python",
   "nbconvert_exporter": "python",
   "pygments_lexer": "ipython3",
   "version": "3.10.9"
  }
 },
 "nbformat": 4,
 "nbformat_minor": 5
}
