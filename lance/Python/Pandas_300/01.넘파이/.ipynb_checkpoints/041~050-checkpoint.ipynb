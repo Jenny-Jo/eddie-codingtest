{
 "cells": [
  {
   "cell_type": "code",
   "execution_count": 1,
   "id": "4e416d87",
   "metadata": {},
   "outputs": [],
   "source": [
    "import numpy as np"
   ]
  },
  {
   "cell_type": "markdown",
   "id": "c50fb9d8",
   "metadata": {},
   "source": [
    "### 041. 조건에 맞는 원소값 출력"
   ]
  },
  {
   "cell_type": "markdown",
   "id": "a6ec0f00",
   "metadata": {},
   "source": [
    "다음 ndarray 객체에서 음수를 출력하세요."
   ]
  },
  {
   "cell_type": "markdown",
   "id": "324aec6d",
   "metadata": {},
   "source": [
    "arr = np.array([-1, 2, -3, 4])"
   ]
  },
  {
   "cell_type": "code",
   "execution_count": 4,
   "id": "b78cf465",
   "metadata": {},
   "outputs": [
    {
     "data": {
      "text/plain": [
       "array([-1, -3])"
      ]
     },
     "execution_count": 4,
     "metadata": {},
     "output_type": "execute_result"
    }
   ],
   "source": [
    "arr = np.array([-1, 2, -3, 4])\n",
    "arr[arr < 0]"
   ]
  },
  {
   "cell_type": "markdown",
   "id": "1e24eaec",
   "metadata": {},
   "source": [
    "### 042. 조건에 맞는 원소값 변경"
   ]
  },
  {
   "cell_type": "markdown",
   "id": "87315ba5",
   "metadata": {},
   "source": [
    "다음 ndarray 객체에서 음수를 0으로 치환하세요"
   ]
  },
  {
   "cell_type": "markdown",
   "id": "054c493a",
   "metadata": {},
   "source": [
    "arr = np.array([-1, 2, -3, 4])"
   ]
  },
  {
   "cell_type": "code",
   "execution_count": 5,
   "id": "9049bfda",
   "metadata": {},
   "outputs": [
    {
     "data": {
      "text/plain": [
       "array([0, 2, 0, 4])"
      ]
     },
     "execution_count": 5,
     "metadata": {},
     "output_type": "execute_result"
    }
   ],
   "source": [
    "arr = np.array([-1, 2, -3, 4])\n",
    "arr[arr < 0] = 0\n",
    "arr"
   ]
  },
  {
   "cell_type": "markdown",
   "id": "ed90f443",
   "metadata": {},
   "source": [
    "### 043. 조건에 맞는 원소값 변경"
   ]
  },
  {
   "cell_type": "markdown",
   "id": "dbb51043",
   "metadata": {},
   "source": [
    "다음 ndarray 객체에서 음수를 양수로 변환하세요"
   ]
  },
  {
   "cell_type": "markdown",
   "id": "40199c7d",
   "metadata": {},
   "source": [
    "arr = np.array([-1, 2, -3, 4])"
   ]
  },
  {
   "cell_type": "code",
   "execution_count": 6,
   "id": "3125d61a",
   "metadata": {},
   "outputs": [
    {
     "data": {
      "text/plain": [
       "array([1, 2, 3, 4])"
      ]
     },
     "execution_count": 6,
     "metadata": {},
     "output_type": "execute_result"
    }
   ],
   "source": [
    "arr = np.array([-1, 2, -3, 4])\n",
    "arr[arr < 0] *= -1\n",
    "arr"
   ]
  },
  {
   "cell_type": "code",
   "execution_count": 7,
   "id": "1660f258",
   "metadata": {},
   "outputs": [
    {
     "data": {
      "text/plain": [
       "array([1, 2, 3, 4])"
      ]
     },
     "execution_count": 7,
     "metadata": {},
     "output_type": "execute_result"
    }
   ],
   "source": [
    "abs(arr)"
   ]
  },
  {
   "cell_type": "markdown",
   "id": "4407be20",
   "metadata": {},
   "source": [
    "### 044. 조건에 맞는 원소값 변경"
   ]
  },
  {
   "cell_type": "markdown",
   "id": "f6a39c2e",
   "metadata": {},
   "source": [
    "다음 ndarray 객체에서 양수 혹은 0이면 10을 더하고 음수는 10을 빼세요."
   ]
  },
  {
   "cell_type": "markdown",
   "id": "2c40196f",
   "metadata": {},
   "source": [
    "arr = np.array([-1, 2, -3, 4])"
   ]
  },
  {
   "cell_type": "code",
   "execution_count": 8,
   "id": "125b3015",
   "metadata": {},
   "outputs": [],
   "source": [
    "arr = np.array([-1, 2, -3, 4])\n",
    "arr[arr >= 0] += 10\n",
    "arr[arr < 0] -= 10"
   ]
  },
  {
   "cell_type": "code",
   "execution_count": 11,
   "id": "6bb172d9",
   "metadata": {},
   "outputs": [
    {
     "data": {
      "text/plain": [
       "array([-11,  12, -13,  14])"
      ]
     },
     "execution_count": 11,
     "metadata": {},
     "output_type": "execute_result"
    }
   ],
   "source": [
    "arr = np.array([-1, 2, -3, 4])\n",
    "np.where(arr >= 0, arr + 10, arr - 10)"
   ]
  },
  {
   "cell_type": "markdown",
   "id": "1d963a2b",
   "metadata": {},
   "source": [
    "### 045. shuffle"
   ]
  },
  {
   "cell_type": "markdown",
   "id": "52d4b797",
   "metadata": {},
   "source": [
    "numpy random 모듈의 shuffle 함수를 사용해서 입력 리스트의 원소들을 랜덤하게 섞어 보세요."
   ]
  },
  {
   "cell_type": "markdown",
   "id": "1d244185",
   "metadata": {},
   "source": [
    "arr = [1, 2, 3, 4, 5]"
   ]
  },
  {
   "cell_type": "code",
   "execution_count": 16,
   "id": "43c92927",
   "metadata": {},
   "outputs": [
    {
     "data": {
      "text/plain": [
       "array([1, 4, 5, 2, 3])"
      ]
     },
     "execution_count": 16,
     "metadata": {},
     "output_type": "execute_result"
    }
   ],
   "source": [
    "arr = [1, 2, 3, 4, 5]\n",
    "\n",
    "from numpy import random\n",
    "\n",
    "arr2 = np.array(arr)\n",
    "random.shuffle(arr2)\n",
    "arr2"
   ]
  },
  {
   "cell_type": "markdown",
   "id": "0daffc00",
   "metadata": {},
   "source": [
    "### 046. argmin"
   ]
  },
  {
   "cell_type": "markdown",
   "id": "17b5e5fe",
   "metadata": {},
   "source": [
    "다음 넘파일 배열에서 최솟값의 인덱스를 출력하세요."
   ]
  },
  {
   "cell_type": "markdown",
   "id": "6c0f1f57",
   "metadata": {},
   "source": [
    "import numpy as np\n",
    "arr = np.array([1, 2, 3, 4, 5])"
   ]
  },
  {
   "cell_type": "code",
   "execution_count": 20,
   "id": "46f9b3b2",
   "metadata": {},
   "outputs": [
    {
     "data": {
      "text/plain": [
       "0"
      ]
     },
     "execution_count": 20,
     "metadata": {},
     "output_type": "execute_result"
    }
   ],
   "source": [
    "arr = np.array([1, 2, 3, 4, 5])\n",
    "arr.argmin()"
   ]
  },
  {
   "cell_type": "markdown",
   "id": "f5520b52",
   "metadata": {},
   "source": [
    "### 047. argmax"
   ]
  },
  {
   "cell_type": "markdown",
   "id": "50fc172e",
   "metadata": {},
   "source": [
    "다음 넘파일 배열에서 최댓값의 인덱스를 출력하세요."
   ]
  },
  {
   "cell_type": "markdown",
   "id": "65b04358",
   "metadata": {},
   "source": [
    "import numpy as np\n",
    "arr = np.array([1, 2, 3, 4, 5])"
   ]
  },
  {
   "cell_type": "code",
   "execution_count": 22,
   "id": "0ad562e9",
   "metadata": {},
   "outputs": [
    {
     "data": {
      "text/plain": [
       "4"
      ]
     },
     "execution_count": 22,
     "metadata": {},
     "output_type": "execute_result"
    }
   ],
   "source": [
    "arr = np.array([1, 2, 3, 4, 5])\n",
    "arr.argmax()"
   ]
  },
  {
   "cell_type": "markdown",
   "id": "1110a9d2",
   "metadata": {},
   "source": [
    "### 048. 정렬"
   ]
  },
  {
   "cell_type": "markdown",
   "id": "6b90604a",
   "metadata": {},
   "source": [
    "다음 넘파이 배열을 오름차순 정렬해보세요."
   ]
  },
  {
   "cell_type": "markdown",
   "id": "0b8d9a85",
   "metadata": {},
   "source": [
    "import numpy as np\n",
    "arr = np.array([2, 1, 5, 3, 7, 4, 6, 8])"
   ]
  },
  {
   "cell_type": "code",
   "execution_count": 24,
   "id": "eb329c9f",
   "metadata": {},
   "outputs": [
    {
     "data": {
      "text/plain": [
       "array([1, 2, 3, 4, 5, 6, 7, 8])"
      ]
     },
     "execution_count": 24,
     "metadata": {},
     "output_type": "execute_result"
    }
   ],
   "source": [
    "arr = np.array([2, 1, 5, 3, 7, 4, 6, 8])\n",
    "arr.sort()\n",
    "arr"
   ]
  },
  {
   "cell_type": "markdown",
   "id": "86a24a71",
   "metadata": {},
   "source": [
    "### 049. numpy.vstack"
   ]
  },
  {
   "cell_type": "markdown",
   "id": "fb24e7eb",
   "metadata": {},
   "source": [
    "numpy.vstack 함수를 사용하여 다음 2차원 배열을 생성하세요."
   ]
  },
  {
   "cell_type": "markdown",
   "id": "8bc62f7f",
   "metadata": {},
   "source": [
    "array([[1, 2],\n",
    "       [3, 4]])"
   ]
  },
  {
   "cell_type": "markdown",
   "id": "7bcc7502",
   "metadata": {},
   "source": [
    "arr1 = np.array([1, 2])\n",
    "arr2 = np.array([3, 4])"
   ]
  },
  {
   "cell_type": "code",
   "execution_count": 31,
   "id": "6ebef111",
   "metadata": {},
   "outputs": [
    {
     "data": {
      "text/plain": [
       "array([[1, 2],\n",
       "       [3, 4]])"
      ]
     },
     "execution_count": 31,
     "metadata": {},
     "output_type": "execute_result"
    }
   ],
   "source": [
    "arr1 = np.array([1, 2])\n",
    "arr2 = np.array([3, 4])\n",
    "\n",
    "np.vstack((arr1, arr2))"
   ]
  },
  {
   "cell_type": "markdown",
   "id": "b51b2829",
   "metadata": {},
   "source": [
    "### 050. flatten"
   ]
  },
  {
   "cell_type": "markdown",
   "id": "0382ebf6",
   "metadata": {},
   "source": [
    "flatten 메서드를 사용하여 다음 배열을 1차원 배열로 변경하세요."
   ]
  },
  {
   "cell_type": "markdown",
   "id": "f585d407",
   "metadata": {},
   "source": [
    "import numpy as np\n",
    "arr = np.array([ [1, 2], [3, 4] ])"
   ]
  },
  {
   "cell_type": "code",
   "execution_count": 32,
   "id": "a52591c9",
   "metadata": {},
   "outputs": [
    {
     "data": {
      "text/plain": [
       "array([1, 2, 3, 4])"
      ]
     },
     "execution_count": 32,
     "metadata": {},
     "output_type": "execute_result"
    }
   ],
   "source": [
    "arr = np.array([ [1, 2], [3, 4] ])\n",
    "arr.flatten()"
   ]
  }
 ],
 "metadata": {
  "kernelspec": {
   "display_name": "Python 3 (ipykernel)",
   "language": "python",
   "name": "python3"
  },
  "language_info": {
   "codemirror_mode": {
    "name": "ipython",
    "version": 3
   },
   "file_extension": ".py",
   "mimetype": "text/x-python",
   "name": "python",
   "nbconvert_exporter": "python",
   "pygments_lexer": "ipython3",
   "version": "3.10.9"
  }
 },
 "nbformat": 4,
 "nbformat_minor": 5
}
