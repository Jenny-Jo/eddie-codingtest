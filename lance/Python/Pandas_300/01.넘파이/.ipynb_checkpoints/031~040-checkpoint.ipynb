{
 "cells": [
  {
   "cell_type": "code",
   "execution_count": 1,
   "id": "8bc9383a",
   "metadata": {},
   "outputs": [],
   "source": [
    "import numpy as np"
   ]
  },
  {
   "cell_type": "markdown",
   "id": "784cd576",
   "metadata": {},
   "source": [
    "###  031. ndarray 곱셈"
   ]
  },
  {
   "cell_type": "markdown",
   "id": "32444695",
   "metadata": {},
   "source": [
    "전체 데이터에 10을 곱한 결과를 ndarray에 저장하세요."
   ]
  },
  {
   "cell_type": "markdown",
   "id": "23c0f07f",
   "metadata": {},
   "source": [
    "data = [1, 2, 3]"
   ]
  },
  {
   "cell_type": "code",
   "execution_count": 2,
   "id": "e5d12238",
   "metadata": {},
   "outputs": [
    {
     "data": {
      "text/plain": [
       "array([10, 20, 30])"
      ]
     },
     "execution_count": 2,
     "metadata": {},
     "output_type": "execute_result"
    }
   ],
   "source": [
    "data = [1, 2, 3]\n",
    "np.array(data)*10"
   ]
  },
  {
   "cell_type": "markdown",
   "id": "6ffb44c0",
   "metadata": {},
   "source": [
    "### 032. ndarray 제곱"
   ]
  },
  {
   "cell_type": "markdown",
   "id": "3b946699",
   "metadata": {},
   "source": [
    "전체 데이터에 제곱한 결과를 ndarray에 저장하세요."
   ]
  },
  {
   "cell_type": "markdown",
   "id": "7039bc88",
   "metadata": {},
   "source": [
    "data = [1, 2, 3]"
   ]
  },
  {
   "cell_type": "code",
   "execution_count": 4,
   "id": "ccc0d3f5",
   "metadata": {},
   "outputs": [
    {
     "data": {
      "text/plain": [
       "array([1, 4, 9])"
      ]
     },
     "execution_count": 4,
     "metadata": {},
     "output_type": "execute_result"
    }
   ],
   "source": [
    "data = [1, 2, 3]\n",
    "np.array(data) ** 2"
   ]
  },
  {
   "cell_type": "markdown",
   "id": "6267a112",
   "metadata": {},
   "source": [
    "### 033. ndarray 루트"
   ]
  },
  {
   "cell_type": "markdown",
   "id": "2b23e364",
   "metadata": {},
   "source": [
    "전체 데이터에 루트를 적용한 결과를 ndarray에 저장하세요."
   ]
  },
  {
   "cell_type": "markdown",
   "id": "7b5c712e",
   "metadata": {},
   "source": [
    "data = [1, 2, 3]"
   ]
  },
  {
   "cell_type": "code",
   "execution_count": 9,
   "id": "82abb9cb",
   "metadata": {},
   "outputs": [
    {
     "data": {
      "text/plain": [
       "array([1.        , 1.41421356, 1.73205081])"
      ]
     },
     "execution_count": 9,
     "metadata": {},
     "output_type": "execute_result"
    }
   ],
   "source": [
    "data = [1, 2, 3]\n",
    "np.array(data) ** 0.5"
   ]
  },
  {
   "cell_type": "code",
   "execution_count": 10,
   "id": "6719441d",
   "metadata": {},
   "outputs": [
    {
     "data": {
      "text/plain": [
       "array([1.        , 1.41421356, 1.73205081])"
      ]
     },
     "execution_count": 10,
     "metadata": {},
     "output_type": "execute_result"
    }
   ],
   "source": [
    "result = np.array(data)\n",
    "np.sqrt(result)"
   ]
  },
  {
   "cell_type": "markdown",
   "id": "3343f59e",
   "metadata": {},
   "source": [
    "### 034. ndarray 컬럼 평균"
   ]
  },
  {
   "cell_type": "markdown",
   "id": "f05c622f",
   "metadata": {},
   "source": [
    "다음 ndarray에는 중간고사의 국어점수(10), 영어점수(20), 기말고사의 국어점수(14), 영어점수(16)이 저장돼 있습니다."
   ]
  },
  {
   "cell_type": "markdown",
   "id": "1f1e42b4",
   "metadata": {},
   "source": [
    "score = np.array([\n",
    "    [10, 20],  # 중간고사\n",
    "    [14, 16]   # 기말고사\n",
    "])\n"
   ]
  },
  {
   "cell_type": "markdown",
   "id": "74fe805e",
   "metadata": {},
   "source": [
    "과목별 평균 점수를 구하시오"
   ]
  },
  {
   "cell_type": "code",
   "execution_count": 17,
   "id": "73168c2a",
   "metadata": {},
   "outputs": [
    {
     "data": {
      "text/plain": [
       "array([12., 18.])"
      ]
     },
     "execution_count": 17,
     "metadata": {},
     "output_type": "execute_result"
    }
   ],
   "source": [
    "score = np.array([\n",
    "    [10, 20],  # 중간고사\n",
    "    [14, 16]   # 기말고사\n",
    "])\n",
    "\n",
    "np.mean(score, axis=0)"
   ]
  },
  {
   "cell_type": "markdown",
   "id": "7b653b9d",
   "metadata": {},
   "source": [
    "### 035. ndarray 로우 표준편차"
   ]
  },
  {
   "cell_type": "markdown",
   "id": "8d2a656f",
   "metadata": {},
   "source": [
    "다음 ndarray에는 중간고사의 국어점수(10), 영어점수(20), 기말고사의 국어점수(14), 영어점수(16)이 저장돼 있습니다."
   ]
  },
  {
   "cell_type": "markdown",
   "id": "1c70c714",
   "metadata": {},
   "source": [
    "score = np.array([\n",
    "    [10, 20],  # 중간고사\n",
    "    [14, 16]   # 기말고사\n",
    "])\n"
   ]
  },
  {
   "cell_type": "markdown",
   "id": "14280085",
   "metadata": {},
   "source": [
    "중간고사와 기말고사의 표준편차를 출력하세요."
   ]
  },
  {
   "cell_type": "code",
   "execution_count": 18,
   "id": "a22a810e",
   "metadata": {},
   "outputs": [
    {
     "data": {
      "text/plain": [
       "array([5., 1.])"
      ]
     },
     "execution_count": 18,
     "metadata": {},
     "output_type": "execute_result"
    }
   ],
   "source": [
    "score = np.array([\n",
    "    [10, 20],  # 중간고사\n",
    "    [14, 16]   # 기말고사\n",
    "])\n",
    "\n",
    "score.std(axis=1)"
   ]
  },
  {
   "cell_type": "markdown",
   "id": "6a3916ea",
   "metadata": {},
   "source": [
    "### 036. 행렬곱"
   ]
  },
  {
   "cell_type": "markdown",
   "id": "19100607",
   "metadata": {},
   "source": [
    "두 행렬의 곱셉결과를 출력하세요."
   ]
  },
  {
   "cell_type": "markdown",
   "id": "f048b26b",
   "metadata": {},
   "source": [
    "> a = np.arange(4).reshape(2,2)\n",
    "> a\n",
    "[[0 1]\n",
    " [2 3]]"
   ]
  },
  {
   "cell_type": "markdown",
   "id": "0ead9ab1",
   "metadata": {},
   "source": [
    "> b = np.arange(1, 5).reshape(2,2)\n",
    "> b\n",
    "[[1 2]\n",
    " [3 4]]"
   ]
  },
  {
   "cell_type": "code",
   "execution_count": 21,
   "id": "8ae1dfa4",
   "metadata": {},
   "outputs": [
    {
     "data": {
      "text/plain": [
       "array([[ 3,  4],\n",
       "       [11, 16]])"
      ]
     },
     "execution_count": 21,
     "metadata": {},
     "output_type": "execute_result"
    }
   ],
   "source": [
    "a = np.arange(4).reshape(2,2)\n",
    "b = np.arange(1, 5).reshape(2,2)\n",
    "\n",
    "np.matmul(a, b)"
   ]
  },
  {
   "cell_type": "markdown",
   "id": "e20564e1",
   "metadata": {},
   "source": [
    "### 037. 전치행렬"
   ]
  },
  {
   "cell_type": "markdown",
   "id": "5a5608fc",
   "metadata": {},
   "source": [
    "다음의 ndarray로 행과 열의 위치를 바꾼 전치행렬을 출력하세요."
   ]
  },
  {
   "cell_type": "markdown",
   "id": "7b9c3cd8",
   "metadata": {},
   "source": [
    "arr = np.arange(9).reshape(3, 3)"
   ]
  },
  {
   "cell_type": "code",
   "execution_count": 23,
   "id": "679c898d",
   "metadata": {},
   "outputs": [
    {
     "data": {
      "text/plain": [
       "array([[0, 3, 6],\n",
       "       [1, 4, 7],\n",
       "       [2, 5, 8]])"
      ]
     },
     "execution_count": 23,
     "metadata": {},
     "output_type": "execute_result"
    }
   ],
   "source": [
    "arr = np.arange(9).reshape(3, 3)\n",
    "arr.T"
   ]
  },
  {
   "cell_type": "markdown",
   "id": "8e7f6525",
   "metadata": {},
   "source": [
    "### 038. 짝수 배열"
   ]
  },
  {
   "cell_type": "markdown",
   "id": "d1adab31",
   "metadata": {},
   "source": [
    "다음 배열에서 짝수 값만 추출하세요."
   ]
  },
  {
   "cell_type": "markdown",
   "id": "0e14a9c4",
   "metadata": {},
   "source": [
    "arr = np.arange(10)"
   ]
  },
  {
   "cell_type": "code",
   "execution_count": 24,
   "id": "ee21115e",
   "metadata": {},
   "outputs": [
    {
     "data": {
      "text/plain": [
       "array([0, 2, 4, 6, 8])"
      ]
     },
     "execution_count": 24,
     "metadata": {},
     "output_type": "execute_result"
    }
   ],
   "source": [
    "arr = np.arange(10)\n",
    "arr[::2]"
   ]
  },
  {
   "cell_type": "code",
   "execution_count": 33,
   "id": "abb7112e",
   "metadata": {},
   "outputs": [
    {
     "data": {
      "text/plain": [
       "array([0, 2, 4, 6, 8])"
      ]
     },
     "execution_count": 33,
     "metadata": {},
     "output_type": "execute_result"
    }
   ],
   "source": [
    "arr[(arr % 2 == 0)]"
   ]
  },
  {
   "cell_type": "markdown",
   "id": "cf80cc80",
   "metadata": {},
   "source": [
    "### 039. 홀수 배열"
   ]
  },
  {
   "cell_type": "markdown",
   "id": "72033a21",
   "metadata": {},
   "source": [
    "다음 배열에서 홀수 값만 추출하세요."
   ]
  },
  {
   "cell_type": "markdown",
   "id": "e0595a93",
   "metadata": {},
   "source": [
    "arr = np.arange(10)"
   ]
  },
  {
   "cell_type": "code",
   "execution_count": 25,
   "id": "2bd52002",
   "metadata": {},
   "outputs": [
    {
     "data": {
      "text/plain": [
       "array([1, 3, 5, 7, 9])"
      ]
     },
     "execution_count": 25,
     "metadata": {},
     "output_type": "execute_result"
    }
   ],
   "source": [
    "arr = np.arange(10)\n",
    "arr[1::2]"
   ]
  },
  {
   "cell_type": "code",
   "execution_count": 32,
   "id": "db85ae26",
   "metadata": {},
   "outputs": [
    {
     "data": {
      "text/plain": [
       "array([1, 3, 5, 7, 9])"
      ]
     },
     "execution_count": 32,
     "metadata": {},
     "output_type": "execute_result"
    }
   ],
   "source": [
    "arr[(arr % 2 == 1)]"
   ]
  },
  {
   "cell_type": "markdown",
   "id": "21fe475d",
   "metadata": {},
   "source": [
    "### 040. 여러 조건"
   ]
  },
  {
   "cell_type": "markdown",
   "id": "d9bc7d3c",
   "metadata": {},
   "source": [
    "다음 배열에서 3보다 크고 7보다 작은수만 추출하세요"
   ]
  },
  {
   "cell_type": "markdown",
   "id": "a389f985",
   "metadata": {},
   "source": [
    "arr = np.arange(10)"
   ]
  },
  {
   "cell_type": "code",
   "execution_count": 27,
   "id": "0e665ac6",
   "metadata": {
    "scrolled": true
   },
   "outputs": [
    {
     "data": {
      "text/plain": [
       "array([4, 5, 6])"
      ]
     },
     "execution_count": 27,
     "metadata": {},
     "output_type": "execute_result"
    }
   ],
   "source": [
    "arr = np.arange(10)\n",
    "arr[4:7]"
   ]
  },
  {
   "cell_type": "code",
   "execution_count": 30,
   "id": "b4f6d8c0",
   "metadata": {},
   "outputs": [
    {
     "data": {
      "text/plain": [
       "array([4, 5, 6])"
      ]
     },
     "execution_count": 30,
     "metadata": {},
     "output_type": "execute_result"
    }
   ],
   "source": [
    "arr[(arr > 3) & (arr < 7)]"
   ]
  }
 ],
 "metadata": {
  "kernelspec": {
   "display_name": "Python 3 (ipykernel)",
   "language": "python",
   "name": "python3"
  },
  "language_info": {
   "codemirror_mode": {
    "name": "ipython",
    "version": 3
   },
   "file_extension": ".py",
   "mimetype": "text/x-python",
   "name": "python",
   "nbconvert_exporter": "python",
   "pygments_lexer": "ipython3",
   "version": "3.10.9"
  }
 },
 "nbformat": 4,
 "nbformat_minor": 5
}
