{
 "cells": [
  {
   "cell_type": "code",
   "execution_count": 1,
   "id": "965234df",
   "metadata": {},
   "outputs": [],
   "source": [
    "import pandas as pd\n",
    "from pandas import Series"
   ]
  },
  {
   "cell_type": "markdown",
   "id": "d850d791",
   "metadata": {},
   "source": [
    "### 061. 시리즈 데이터 타입"
   ]
  },
  {
   "cell_type": "markdown",
   "id": "69ad45de",
   "metadata": {},
   "source": [
    "시리즈의 데이터 타입을 출력해보세요.\n",
    "\n",
    "data = [100, 200, 300]  \n",
    "index = [\"철수\", \"영희\", \"아름\"]  \n",
    "s = Series(data, index)"
   ]
  },
  {
   "cell_type": "code",
   "execution_count": 2,
   "id": "9fee051e",
   "metadata": {},
   "outputs": [
    {
     "data": {
      "text/plain": [
       "dtype('int64')"
      ]
     },
     "execution_count": 2,
     "metadata": {},
     "output_type": "execute_result"
    }
   ],
   "source": [
    "data = [100, 200, 300]\n",
    "index = [\"철수\", \"영희\", \"아름\"]\n",
    "s = Series(data, index)\n",
    "s.dtype"
   ]
  },
  {
   "cell_type": "markdown",
   "id": "56299344",
   "metadata": {},
   "source": [
    "### 062. 시리즈 데이터"
   ]
  },
  {
   "cell_type": "markdown",
   "id": "02a55896",
   "metadata": {},
   "source": [
    "다음 시리즈의 데이터 타입은 무엇일까요?\n",
    "\n",
    "data = [  10,  \"가\" ]  \n",
    "s = Series( data )"
   ]
  },
  {
   "cell_type": "code",
   "execution_count": 3,
   "id": "1accbc0f",
   "metadata": {},
   "outputs": [
    {
     "data": {
      "text/plain": [
       "dtype('O')"
      ]
     },
     "execution_count": 3,
     "metadata": {},
     "output_type": "execute_result"
    }
   ],
   "source": [
    "data = [  10,  \"가\" ]\n",
    "s = Series( data )\n",
    "s.dtype"
   ]
  },
  {
   "cell_type": "markdown",
   "id": "8224a817",
   "metadata": {},
   "source": [
    "### 063. 시리즈 인덱스의 데이터 타입"
   ]
  },
  {
   "cell_type": "markdown",
   "id": "4e81051d",
   "metadata": {},
   "source": [
    "시리즈에서 인덱스의 데이터 타입을 출력해보세요.\n",
    "\n",
    "data = [100, 200, 300]  \n",
    "index = [\"철수\", \"영희\", \"아름\"]  \n",
    "s = Series(data, index) "
   ]
  },
  {
   "cell_type": "code",
   "execution_count": 4,
   "id": "763d73c9",
   "metadata": {},
   "outputs": [
    {
     "data": {
      "text/plain": [
       "dtype('O')"
      ]
     },
     "execution_count": 4,
     "metadata": {},
     "output_type": "execute_result"
    }
   ],
   "source": [
    "data = [100, 200, 300]\n",
    "index = [\"철수\", \"영희\", \"아름\"]\n",
    "s = Series(data, index)\n",
    "\n",
    "s.index.dtype"
   ]
  },
  {
   "cell_type": "markdown",
   "id": "432da23c",
   "metadata": {},
   "source": [
    "### 064. 시리즈 이름과 인덱스 이름"
   ]
  },
  {
   "cell_type": "markdown",
   "id": "f7afa8dc",
   "metadata": {},
   "source": [
    "다음은 삼성전자의 종가 데이터입니다. 이를 시리즈 객체로 생성한 후 시리즈의 name 속성에 '종가'를 인덱스의 name 속성에 날짜를 설정해보세요.\n",
    "\n",
    "날짜\t종가  \n",
    "2020-12-11\t73400  \n",
    "2020-12-10\t72900  \n",
    "2020-12-09\t73900  \n",
    "2020-12-08\t71700  \n",
    "2020-12-07\t72900"
   ]
  },
  {
   "cell_type": "code",
   "execution_count": 8,
   "id": "713becaa",
   "metadata": {},
   "outputs": [
    {
     "data": {
      "text/plain": [
       "날짜\n",
       "2020-12-11    73400\n",
       "2020-12-10    72900\n",
       "2020-12-09    73900\n",
       "2020-12-08    71700\n",
       "2020-12-07    72900\n",
       "Name: 종가, dtype: int64"
      ]
     },
     "execution_count": 8,
     "metadata": {},
     "output_type": "execute_result"
    }
   ],
   "source": [
    "data = [73400, 72900, 73900, 71700, 72900]\n",
    "index = ['2020-12-11', '2020-12-10', '2020-12-09', '2020-12-08', '2020-12-07']\n",
    "s = Series(data=data, index=index)\n",
    "s.name = '종가'\n",
    "s.index.name = '날짜'\n",
    "s"
   ]
  },
  {
   "cell_type": "markdown",
   "id": "21f3193a",
   "metadata": {},
   "source": [
    "### 065. to_dict"
   ]
  },
  {
   "cell_type": "markdown",
   "id": "b967efac",
   "metadata": {},
   "source": [
    "시리즈의 데이터 타입을 딕셔너리로 변환하세요.\n",
    "\n",
    "import pandas as pd\n",
    "\n",
    "data = {\"apple\": 1500, \"banana\": 3000}  \n",
    "s = pd.Series(data)  \n",
    "s"
   ]
  },
  {
   "cell_type": "code",
   "execution_count": 10,
   "id": "b0d2590a",
   "metadata": {},
   "outputs": [
    {
     "data": {
      "text/plain": [
       "{'apple': 1500, 'banana': 3000}"
      ]
     },
     "execution_count": 10,
     "metadata": {},
     "output_type": "execute_result"
    }
   ],
   "source": [
    "data = {\"apple\": 1500, \"banana\": 3000}\n",
    "s = pd.Series(data)\n",
    "s.to_dict()"
   ]
  },
  {
   "cell_type": "markdown",
   "id": "236abd18",
   "metadata": {},
   "source": [
    "### 066. 인덱스 이름"
   ]
  },
  {
   "cell_type": "markdown",
   "id": "57493f6a",
   "metadata": {},
   "source": [
    "다음 시리즈의 인덱스의 이름을 'icecream'으로 변경하세요.\n",
    "\n",
    "import pandas as pd\n",
    "\n",
    "data = {\"apple\": 1500, \"banana\": 3000}  \n",
    "s = pd.Series(data)  \n",
    "s"
   ]
  },
  {
   "cell_type": "code",
   "execution_count": 13,
   "id": "fb3412a6",
   "metadata": {},
   "outputs": [],
   "source": [
    "import pandas as pd\n",
    "\n",
    "data = {\"apple\": 1500, \"banana\": 3000}\n",
    "s = pd.Series(data)\n",
    "\n",
    "s.index.name = 'icecream'\n",
    "# s.index.rename('icecream')"
   ]
  },
  {
   "cell_type": "markdown",
   "id": "bb4f70e3",
   "metadata": {},
   "source": [
    "### 067. 시리즈 이름"
   ]
  },
  {
   "cell_type": "markdown",
   "id": "6221146b",
   "metadata": {},
   "source": [
    "다음 시리즈 객체의 이름을 'number'로 지정하세요.\n",
    "\n",
    "import pandas as pd\n",
    "\n",
    "s = pd.Series(data=[1, 2, 3])"
   ]
  },
  {
   "cell_type": "code",
   "execution_count": 14,
   "id": "e27b5a76",
   "metadata": {},
   "outputs": [],
   "source": [
    "import pandas as pd\n",
    "\n",
    "s = pd.Series(data=[1, 2, 3])\n",
    "s.name = 'number'"
   ]
  },
  {
   "cell_type": "markdown",
   "id": "04b05706",
   "metadata": {},
   "source": [
    "### 068. NaN"
   ]
  },
  {
   "cell_type": "markdown",
   "id": "d47e57f1",
   "metadata": {},
   "source": [
    "다음 시리즈 객체를 생성하세요.\n",
    "\n",
    "0    1.0  \n",
    "1    2.0  \n",
    "2    NaN  \n",
    "dtype: float64"
   ]
  },
  {
   "cell_type": "code",
   "execution_count": 16,
   "id": "366fd225",
   "metadata": {},
   "outputs": [
    {
     "data": {
      "text/plain": [
       "0    1.0\n",
       "1    2.0\n",
       "2    NaN\n",
       "dtype: float64"
      ]
     },
     "execution_count": 16,
     "metadata": {},
     "output_type": "execute_result"
    }
   ],
   "source": [
    "data = [1.0, 2.0, None]\n",
    "index = [0, 1, 2]\n",
    "\n",
    "Series(data=data, index=index)"
   ]
  },
  {
   "cell_type": "markdown",
   "id": "82a2c009",
   "metadata": {},
   "source": [
    "### 069. Index.to_numpy"
   ]
  },
  {
   "cell_type": "markdown",
   "id": "4b9f25dc",
   "metadata": {},
   "source": [
    "다음 시리즈 객체의 인덱스를 넘파이 배열로 변경하세요.\n",
    "\n",
    "import pandas as pd\n",
    "\n",
    "s = pd.Series([1, 2, 3])"
   ]
  },
  {
   "cell_type": "code",
   "execution_count": 18,
   "id": "91762b3c",
   "metadata": {},
   "outputs": [
    {
     "data": {
      "text/plain": [
       "<bound method IndexOpsMixin.to_numpy of RangeIndex(start=0, stop=3, step=1)>"
      ]
     },
     "execution_count": 18,
     "metadata": {},
     "output_type": "execute_result"
    }
   ],
   "source": [
    "s = pd.Series([1, 2, 3])\n",
    "\n",
    "s.index.to_numpy"
   ]
  },
  {
   "cell_type": "markdown",
   "id": "52d071a2",
   "metadata": {},
   "source": [
    "### 070. Series.array"
   ]
  },
  {
   "cell_type": "markdown",
   "id": "a19200b8",
   "metadata": {},
   "source": [
    "다음 시리즈 객체의 array 속성을 사용해보세요.\n",
    "\n",
    "import pandas as pd\n",
    "\n",
    "s = pd.Series([1, 2, 3])"
   ]
  },
  {
   "cell_type": "code",
   "execution_count": 19,
   "id": "1c6578ad",
   "metadata": {},
   "outputs": [
    {
     "data": {
      "text/plain": [
       "<PandasArray>\n",
       "[1, 2, 3]\n",
       "Length: 3, dtype: int64"
      ]
     },
     "execution_count": 19,
     "metadata": {},
     "output_type": "execute_result"
    }
   ],
   "source": [
    "s = pd.Series([1, 2, 3])\n",
    "s.array"
   ]
  }
 ],
 "metadata": {
  "kernelspec": {
   "display_name": "Python 3 (ipykernel)",
   "language": "python",
   "name": "python3"
  },
  "language_info": {
   "codemirror_mode": {
    "name": "ipython",
    "version": 3
   },
   "file_extension": ".py",
   "mimetype": "text/x-python",
   "name": "python",
   "nbconvert_exporter": "python",
   "pygments_lexer": "ipython3",
   "version": "3.10.9"
  }
 },
 "nbformat": 4,
 "nbformat_minor": 5
}
